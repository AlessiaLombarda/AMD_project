{
  "nbformat": 4,
  "nbformat_minor": 0,
  "metadata": {
    "colab": {
      "name": "AMD_Link_analysis.ipynb",
      "provenance": [],
      "collapsed_sections": [
        "UU3XZhMHUsF2",
        "ONVq7Mv4SK1U",
        "h-A8QXBEU8ZF",
        "-SLNCklWVZmc"
      ],
      "include_colab_link": true
    },
    "kernelspec": {
      "display_name": "Python 3",
      "name": "python3"
    },
    "language_info": {
      "name": "python"
    }
  },
  "cells": [
    {
      "cell_type": "markdown",
      "metadata": {
        "id": "view-in-github",
        "colab_type": "text"
      },
      "source": [
        "<a href=\"https://colab.research.google.com/github/AlessiaLombarda/AMD_project/blob/main/AMD_Link_analysis.ipynb\" target=\"_parent\"><img src=\"https://colab.research.google.com/assets/colab-badge.svg\" alt=\"Open In Colab\"/></a>"
      ]
    },
    {
      "cell_type": "markdown",
      "metadata": {
        "id": "YJM3599TsgHc"
      },
      "source": [
        "# **Link Analysis on IMDb Dataset**"
      ]
    },
    {
      "cell_type": "markdown",
      "metadata": {
        "id": "UU3XZhMHUsF2"
      },
      "source": [
        "# Environnment setup"
      ]
    },
    {
      "cell_type": "code",
      "metadata": {
        "id": "J3poLbjy0sNR"
      },
      "source": [
        "import os\n",
        "import time\n",
        "from google.colab import files\n",
        "import pandas as pd\n",
        "from pandas.core.common import flatten\n",
        "import numpy as np\n",
        "import networkx as nx\n",
        "import matplotlib.pyplot as plt\n",
        "import itertools\n",
        "import logging"
      ],
      "execution_count": 1,
      "outputs": []
    },
    {
      "cell_type": "code",
      "metadata": {
        "id": "71ByVL8RE0D5",
        "colab": {
          "base_uri": "https://localhost:8080/"
        },
        "outputId": "2d6467a0-9afd-4e74-ab4f-16ad23ad54b0"
      },
      "source": [
        "!pip install ipython-autotime\n",
        "\n",
        "%load_ext autotime"
      ],
      "execution_count": 2,
      "outputs": [
        {
          "output_type": "stream",
          "text": [
            "Requirement already satisfied: ipython-autotime in /usr/local/lib/python3.7/dist-packages (0.3.1)\n",
            "Requirement already satisfied: ipython in /usr/local/lib/python3.7/dist-packages (from ipython-autotime) (5.5.0)\n",
            "Requirement already satisfied: pygments in /usr/local/lib/python3.7/dist-packages (from ipython->ipython-autotime) (2.6.1)\n",
            "Requirement already satisfied: decorator in /usr/local/lib/python3.7/dist-packages (from ipython->ipython-autotime) (4.4.2)\n",
            "Requirement already satisfied: simplegeneric>0.8 in /usr/local/lib/python3.7/dist-packages (from ipython->ipython-autotime) (0.8.1)\n",
            "Requirement already satisfied: prompt-toolkit<2.0.0,>=1.0.4 in /usr/local/lib/python3.7/dist-packages (from ipython->ipython-autotime) (1.0.18)\n",
            "Requirement already satisfied: pexpect; sys_platform != \"win32\" in /usr/local/lib/python3.7/dist-packages (from ipython->ipython-autotime) (4.8.0)\n",
            "Requirement already satisfied: pickleshare in /usr/local/lib/python3.7/dist-packages (from ipython->ipython-autotime) (0.7.5)\n",
            "Requirement already satisfied: setuptools>=18.5 in /usr/local/lib/python3.7/dist-packages (from ipython->ipython-autotime) (57.0.0)\n",
            "Requirement already satisfied: traitlets>=4.2 in /usr/local/lib/python3.7/dist-packages (from ipython->ipython-autotime) (5.0.5)\n",
            "Requirement already satisfied: six>=1.9.0 in /usr/local/lib/python3.7/dist-packages (from prompt-toolkit<2.0.0,>=1.0.4->ipython->ipython-autotime) (1.15.0)\n",
            "Requirement already satisfied: wcwidth in /usr/local/lib/python3.7/dist-packages (from prompt-toolkit<2.0.0,>=1.0.4->ipython->ipython-autotime) (0.2.5)\n",
            "Requirement already satisfied: ptyprocess>=0.5 in /usr/local/lib/python3.7/dist-packages (from pexpect; sys_platform != \"win32\"->ipython->ipython-autotime) (0.7.0)\n",
            "Requirement already satisfied: ipython-genutils in /usr/local/lib/python3.7/dist-packages (from traitlets>=4.2->ipython->ipython-autotime) (0.2.0)\n",
            "time: 207 µs (started: 2021-07-16 13:43:02 +00:00)\n"
          ],
          "name": "stdout"
        }
      ]
    },
    {
      "cell_type": "code",
      "metadata": {
        "id": "pijRpHJi4wRx",
        "colab": {
          "base_uri": "https://localhost:8080/"
        },
        "outputId": "cd35d830-b741-4567-c231-2dc586a3197b"
      },
      "source": [
        "!apt-get install openjdk-8-jdk-headless -qq > /dev/null\n",
        "!wget -q http://www-eu.apache.org/dist/spark/spark-2.4.8/spark-2.4.8-bin-hadoop2.7.tgz\n",
        "!tar xf spark-2.4.8-bin-hadoop2.7.tgz\n",
        "!pip install -q findspark"
      ],
      "execution_count": 3,
      "outputs": [
        {
          "output_type": "stream",
          "text": [
            "time: 22.7 s (started: 2021-07-16 13:43:02 +00:00)\n"
          ],
          "name": "stdout"
        }
      ]
    },
    {
      "cell_type": "code",
      "metadata": {
        "id": "t7DV8dkRbqY6",
        "colab": {
          "base_uri": "https://localhost:8080/"
        },
        "outputId": "fb89cae7-8dbc-4102-8941-ced527b1c9ee"
      },
      "source": [
        "os.environ[\"JAVA_HOME\"] = \"/usr/lib/jvm/java-8-openjdk-amd64\"\n",
        "os.environ[\"SPARK_HOME\"] = \"/content/spark-2.4.8-bin-hadoop2.7\""
      ],
      "execution_count": 4,
      "outputs": [
        {
          "output_type": "stream",
          "text": [
            "time: 2.56 ms (started: 2021-07-16 13:43:25 +00:00)\n"
          ],
          "name": "stdout"
        }
      ]
    },
    {
      "cell_type": "code",
      "metadata": {
        "id": "hnKPXOI2btsA",
        "colab": {
          "base_uri": "https://localhost:8080/"
        },
        "outputId": "4406a763-4583-460a-d192-321d28da782e"
      },
      "source": [
        "import findspark\n",
        "findspark.init(\"spark-2.4.8-bin-hadoop2.7\")# SPARK_HOME\n",
        "from pyspark.sql import SparkSession\n",
        "spark = SparkSession.builder.master(\"local[*]\").getOrCreate()\n",
        "\n",
        "sc = spark.sparkContext"
      ],
      "execution_count": 5,
      "outputs": [
        {
          "output_type": "stream",
          "text": [
            "time: 5.05 s (started: 2021-07-16 13:43:25 +00:00)\n"
          ],
          "name": "stdout"
        }
      ]
    },
    {
      "cell_type": "markdown",
      "metadata": {
        "id": "ONVq7Mv4SK1U"
      },
      "source": [
        "# Loading data"
      ]
    },
    {
      "cell_type": "code",
      "metadata": {
        "colab": {
          "resources": {
            "http://localhost:8080/nbextensions/google.colab/files.js": {
              "data": "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",
              "ok": true,
              "headers": [
                [
                  "content-type",
                  "application/javascript"
                ]
              ],
              "status": 200,
              "status_text": ""
            }
          },
          "base_uri": "https://localhost:8080/",
          "height": 0
        },
        "id": "jewrHlS94Jy-",
        "outputId": "8695aad5-0459-4ae8-803a-81467f5bd83c"
      },
      "source": [
        "files.upload()\n",
        "os.environ['KAGGLE_CONFIG_DIR'] = '/content'"
      ],
      "execution_count": 6,
      "outputs": [
        {
          "output_type": "display_data",
          "data": {
            "text/html": [
              "\n",
              "     <input type=\"file\" id=\"files-b4daa857-6dfd-4832-be32-acdb463116c4\" name=\"files[]\" multiple disabled\n",
              "        style=\"border:none\" />\n",
              "     <output id=\"result-b4daa857-6dfd-4832-be32-acdb463116c4\">\n",
              "      Upload widget is only available when the cell has been executed in the\n",
              "      current browser session. Please rerun this cell to enable.\n",
              "      </output>\n",
              "      <script src=\"/nbextensions/google.colab/files.js\"></script> "
            ],
            "text/plain": [
              "<IPython.core.display.HTML object>"
            ]
          },
          "metadata": {
            "tags": []
          }
        },
        {
          "output_type": "stream",
          "text": [
            "Saving kaggle.json to kaggle (2).json\n",
            "time: 8.93 s (started: 2021-07-16 13:43:30 +00:00)\n"
          ],
          "name": "stdout"
        }
      ]
    },
    {
      "cell_type": "code",
      "metadata": {
        "colab": {
          "base_uri": "https://localhost:8080/"
        },
        "id": "Gk7esr562QAf",
        "outputId": "bfd46ba4-b9ac-4038-cae1-0d7350d76f4b"
      },
      "source": [
        "!kaggle datasets download -d ashirwadsangwan/imdb-dataset\n",
        "!unzip ./imdb-dataset.zip && rm ./imdb-dataset.zip"
      ],
      "execution_count": 7,
      "outputs": [
        {
          "output_type": "stream",
          "text": [
            "Warning: Your Kaggle API key is readable by other users on this system! To fix this, you can run 'chmod 600 /content/kaggle.json'\n",
            "imdb-dataset.zip: Skipping, found more recently modified local copy (use --force to force download)\n",
            "Archive:  ./imdb-dataset.zip\n",
            "  End-of-central-directory signature not found.  Either this file is not\n",
            "  a zipfile, or it constitutes one disk of a multi-part archive.  In the\n",
            "  latter case the central directory and zipfile comment will be found on\n",
            "  the last disk(s) of this archive.\n",
            "unzip:  cannot find zipfile directory in one of ./imdb-dataset.zip or\n",
            "        ./imdb-dataset.zip.zip, and cannot find ./imdb-dataset.zip.ZIP, period.\n",
            "time: 841 ms (started: 2021-07-16 13:43:39 +00:00)\n"
          ],
          "name": "stdout"
        }
      ]
    },
    {
      "cell_type": "code",
      "metadata": {
        "id": "FmnddA444dJm",
        "colab": {
          "base_uri": "https://localhost:8080/",
          "height": 0
        },
        "outputId": "95e61d0d-3a5b-4a1b-f8c3-cf302a7c7430"
      },
      "source": [
        "df_principals = pd.read_csv('./title.principals.tsv/title.principals.tsv',  \n",
        "                        usecols= ['tconst','nconst','category'], \n",
        "                        sep='\\t',\n",
        "                        na_values = ['\\\\N']).sort_values(by=['tconst'])\n",
        "df_principals.head()"
      ],
      "execution_count": 8,
      "outputs": [
        {
          "output_type": "execute_result",
          "data": {
            "text/html": [
              "<div>\n",
              "<style scoped>\n",
              "    .dataframe tbody tr th:only-of-type {\n",
              "        vertical-align: middle;\n",
              "    }\n",
              "\n",
              "    .dataframe tbody tr th {\n",
              "        vertical-align: top;\n",
              "    }\n",
              "\n",
              "    .dataframe thead th {\n",
              "        text-align: right;\n",
              "    }\n",
              "</style>\n",
              "<table border=\"1\" class=\"dataframe\">\n",
              "  <thead>\n",
              "    <tr style=\"text-align: right;\">\n",
              "      <th></th>\n",
              "      <th>tconst</th>\n",
              "      <th>nconst</th>\n",
              "      <th>category</th>\n",
              "    </tr>\n",
              "  </thead>\n",
              "  <tbody>\n",
              "    <tr>\n",
              "      <th>0</th>\n",
              "      <td>tt0000001</td>\n",
              "      <td>nm1588970</td>\n",
              "      <td>self</td>\n",
              "    </tr>\n",
              "    <tr>\n",
              "      <th>1</th>\n",
              "      <td>tt0000001</td>\n",
              "      <td>nm0005690</td>\n",
              "      <td>director</td>\n",
              "    </tr>\n",
              "    <tr>\n",
              "      <th>2</th>\n",
              "      <td>tt0000001</td>\n",
              "      <td>nm0374658</td>\n",
              "      <td>cinematographer</td>\n",
              "    </tr>\n",
              "    <tr>\n",
              "      <th>3</th>\n",
              "      <td>tt0000002</td>\n",
              "      <td>nm0721526</td>\n",
              "      <td>director</td>\n",
              "    </tr>\n",
              "    <tr>\n",
              "      <th>4</th>\n",
              "      <td>tt0000002</td>\n",
              "      <td>nm1335271</td>\n",
              "      <td>composer</td>\n",
              "    </tr>\n",
              "  </tbody>\n",
              "</table>\n",
              "</div>"
            ],
            "text/plain": [
              "      tconst     nconst         category\n",
              "0  tt0000001  nm1588970             self\n",
              "1  tt0000001  nm0005690         director\n",
              "2  tt0000001  nm0374658  cinematographer\n",
              "3  tt0000002  nm0721526         director\n",
              "4  tt0000002  nm1335271         composer"
            ]
          },
          "metadata": {
            "tags": []
          },
          "execution_count": 8
        },
        {
          "output_type": "stream",
          "text": [
            "time: 1min 3s (started: 2021-07-16 13:43:40 +00:00)\n"
          ],
          "name": "stdout"
        }
      ]
    },
    {
      "cell_type": "code",
      "metadata": {
        "id": "M2Udvo2VKWkW",
        "colab": {
          "base_uri": "https://localhost:8080/",
          "height": 0
        },
        "outputId": "03449af0-0529-468e-8774-e48a2518288b"
      },
      "source": [
        "df_title_basics = pd.read_csv('./title.basics.tsv/title.basics.tsv',  \n",
        "                        usecols= ['tconst', 'genres'], \n",
        "                        sep='\\t',\n",
        "                        na_values = ['\\\\N']).sort_values(by=['tconst'])\n",
        "\n",
        "df_title_basics.head()                 "
      ],
      "execution_count": 9,
      "outputs": [
        {
          "output_type": "execute_result",
          "data": {
            "text/html": [
              "<div>\n",
              "<style scoped>\n",
              "    .dataframe tbody tr th:only-of-type {\n",
              "        vertical-align: middle;\n",
              "    }\n",
              "\n",
              "    .dataframe tbody tr th {\n",
              "        vertical-align: top;\n",
              "    }\n",
              "\n",
              "    .dataframe thead th {\n",
              "        text-align: right;\n",
              "    }\n",
              "</style>\n",
              "<table border=\"1\" class=\"dataframe\">\n",
              "  <thead>\n",
              "    <tr style=\"text-align: right;\">\n",
              "      <th></th>\n",
              "      <th>tconst</th>\n",
              "      <th>genres</th>\n",
              "    </tr>\n",
              "  </thead>\n",
              "  <tbody>\n",
              "    <tr>\n",
              "      <th>0</th>\n",
              "      <td>tt0000001</td>\n",
              "      <td>Documentary,Short</td>\n",
              "    </tr>\n",
              "    <tr>\n",
              "      <th>1</th>\n",
              "      <td>tt0000002</td>\n",
              "      <td>Animation,Short</td>\n",
              "    </tr>\n",
              "    <tr>\n",
              "      <th>2</th>\n",
              "      <td>tt0000003</td>\n",
              "      <td>Animation,Comedy,Romance</td>\n",
              "    </tr>\n",
              "    <tr>\n",
              "      <th>3</th>\n",
              "      <td>tt0000004</td>\n",
              "      <td>Animation,Short</td>\n",
              "    </tr>\n",
              "    <tr>\n",
              "      <th>4</th>\n",
              "      <td>tt0000005</td>\n",
              "      <td>Comedy,Short</td>\n",
              "    </tr>\n",
              "  </tbody>\n",
              "</table>\n",
              "</div>"
            ],
            "text/plain": [
              "      tconst                    genres\n",
              "0  tt0000001         Documentary,Short\n",
              "1  tt0000002           Animation,Short\n",
              "2  tt0000003  Animation,Comedy,Romance\n",
              "3  tt0000004           Animation,Short\n",
              "4  tt0000005              Comedy,Short"
            ]
          },
          "metadata": {
            "tags": []
          },
          "execution_count": 9
        },
        {
          "output_type": "stream",
          "text": [
            "time: 15.3 s (started: 2021-07-16 13:44:43 +00:00)\n"
          ],
          "name": "stdout"
        }
      ]
    },
    {
      "cell_type": "code",
      "metadata": {
        "id": "ZPlYBDd06FvZ",
        "colab": {
          "base_uri": "https://localhost:8080/",
          "height": 0
        },
        "outputId": "2af2d576-bee0-4907-815f-c3cbbd6236f7"
      },
      "source": [
        "df_name_basics= pd.read_csv('./name.basics.tsv/name.basics.tsv',  \n",
        "                        usecols= ['nconst','primaryName'],\n",
        "                        sep='\\t',\n",
        "                        na_values = ['\\\\N']).sort_values(by=['nconst'])\n",
        "df_name_basics.head()"
      ],
      "execution_count": 10,
      "outputs": [
        {
          "output_type": "execute_result",
          "data": {
            "text/html": [
              "<div>\n",
              "<style scoped>\n",
              "    .dataframe tbody tr th:only-of-type {\n",
              "        vertical-align: middle;\n",
              "    }\n",
              "\n",
              "    .dataframe tbody tr th {\n",
              "        vertical-align: top;\n",
              "    }\n",
              "\n",
              "    .dataframe thead th {\n",
              "        text-align: right;\n",
              "    }\n",
              "</style>\n",
              "<table border=\"1\" class=\"dataframe\">\n",
              "  <thead>\n",
              "    <tr style=\"text-align: right;\">\n",
              "      <th></th>\n",
              "      <th>nconst</th>\n",
              "      <th>primaryName</th>\n",
              "    </tr>\n",
              "  </thead>\n",
              "  <tbody>\n",
              "    <tr>\n",
              "      <th>0</th>\n",
              "      <td>nm0000001</td>\n",
              "      <td>Fred Astaire</td>\n",
              "    </tr>\n",
              "    <tr>\n",
              "      <th>1</th>\n",
              "      <td>nm0000002</td>\n",
              "      <td>Lauren Bacall</td>\n",
              "    </tr>\n",
              "    <tr>\n",
              "      <th>2</th>\n",
              "      <td>nm0000003</td>\n",
              "      <td>Brigitte Bardot</td>\n",
              "    </tr>\n",
              "    <tr>\n",
              "      <th>3</th>\n",
              "      <td>nm0000004</td>\n",
              "      <td>John Belushi</td>\n",
              "    </tr>\n",
              "    <tr>\n",
              "      <th>4</th>\n",
              "      <td>nm0000005</td>\n",
              "      <td>Ingmar Bergman</td>\n",
              "    </tr>\n",
              "  </tbody>\n",
              "</table>\n",
              "</div>"
            ],
            "text/plain": [
              "      nconst      primaryName\n",
              "0  nm0000001     Fred Astaire\n",
              "1  nm0000002    Lauren Bacall\n",
              "2  nm0000003  Brigitte Bardot\n",
              "3  nm0000004     John Belushi\n",
              "4  nm0000005   Ingmar Bergman"
            ]
          },
          "metadata": {
            "tags": []
          },
          "execution_count": 10
        },
        {
          "output_type": "stream",
          "text": [
            "time: 24 s (started: 2021-07-16 13:44:58 +00:00)\n"
          ],
          "name": "stdout"
        }
      ]
    },
    {
      "cell_type": "code",
      "metadata": {
        "id": "r6i3byq6Nm7o",
        "colab": {
          "base_uri": "https://localhost:8080/",
          "height": 0
        },
        "outputId": "6ccef7ff-4c45-4769-91e8-28dfafbadc35"
      },
      "source": [
        "df_ratings = pd.read_csv('./title.ratings.tsv/title.ratings.tsv',\n",
        "                        sep='\\t',\n",
        "                        usecols = ['tconst', 'averageRating'],\n",
        "                        na_values = ['\\\\N']).sort_values(by=['tconst'])\n",
        "df_ratings.head()"
      ],
      "execution_count": 11,
      "outputs": [
        {
          "output_type": "execute_result",
          "data": {
            "text/html": [
              "<div>\n",
              "<style scoped>\n",
              "    .dataframe tbody tr th:only-of-type {\n",
              "        vertical-align: middle;\n",
              "    }\n",
              "\n",
              "    .dataframe tbody tr th {\n",
              "        vertical-align: top;\n",
              "    }\n",
              "\n",
              "    .dataframe thead th {\n",
              "        text-align: right;\n",
              "    }\n",
              "</style>\n",
              "<table border=\"1\" class=\"dataframe\">\n",
              "  <thead>\n",
              "    <tr style=\"text-align: right;\">\n",
              "      <th></th>\n",
              "      <th>tconst</th>\n",
              "      <th>averageRating</th>\n",
              "    </tr>\n",
              "  </thead>\n",
              "  <tbody>\n",
              "    <tr>\n",
              "      <th>0</th>\n",
              "      <td>tt0000001</td>\n",
              "      <td>5.6</td>\n",
              "    </tr>\n",
              "    <tr>\n",
              "      <th>1</th>\n",
              "      <td>tt0000002</td>\n",
              "      <td>6.1</td>\n",
              "    </tr>\n",
              "    <tr>\n",
              "      <th>2</th>\n",
              "      <td>tt0000003</td>\n",
              "      <td>6.5</td>\n",
              "    </tr>\n",
              "    <tr>\n",
              "      <th>3</th>\n",
              "      <td>tt0000004</td>\n",
              "      <td>6.2</td>\n",
              "    </tr>\n",
              "    <tr>\n",
              "      <th>4</th>\n",
              "      <td>tt0000005</td>\n",
              "      <td>6.1</td>\n",
              "    </tr>\n",
              "  </tbody>\n",
              "</table>\n",
              "</div>"
            ],
            "text/plain": [
              "      tconst  averageRating\n",
              "0  tt0000001            5.6\n",
              "1  tt0000002            6.1\n",
              "2  tt0000003            6.5\n",
              "3  tt0000004            6.2\n",
              "4  tt0000005            6.1"
            ]
          },
          "metadata": {
            "tags": []
          },
          "execution_count": 11
        },
        {
          "output_type": "stream",
          "text": [
            "time: 1.3 s (started: 2021-07-16 13:45:22 +00:00)\n"
          ],
          "name": "stdout"
        }
      ]
    },
    {
      "cell_type": "code",
      "metadata": {
        "id": "tftM9rNg95kz",
        "colab": {
          "base_uri": "https://localhost:8080/"
        },
        "outputId": "fedaaee3-98c0-4e04-9e66-be8732f0bcc2"
      },
      "source": [
        "print(f'Rows in df_principals: {len(df_principals)} \\n\\\n",
        "Rows in df_title_basics: {len(df_title_basics)} \\n\\\n",
        "Rows in df_name_basics: {len(df_name_basics)} \\n\\\n",
        "Rows in df_ratings: {len(df_ratings)}')"
      ],
      "execution_count": 12,
      "outputs": [
        {
          "output_type": "stream",
          "text": [
            "Rows in df_principals: 36468817 \n",
            "Rows in df_title_basics: 6321302 \n",
            "Rows in df_name_basics: 9706922 \n",
            "Rows in df_ratings: 993153\n",
            "time: 3.38 ms (started: 2021-07-16 13:45:24 +00:00)\n"
          ],
          "name": "stdout"
        }
      ]
    },
    {
      "cell_type": "markdown",
      "metadata": {
        "id": "5uMgQd4X-Iby"
      },
      "source": [
        "We now copy the variables in whic the dataset is stored: in the forst part of the notebook we show how the dataset is preprocessed but this process is then automated. The copies allow us to avoid to download again the dataset."
      ]
    },
    {
      "cell_type": "code",
      "metadata": {
        "id": "tlGXi2he9qhO",
        "colab": {
          "base_uri": "https://localhost:8080/"
        },
        "outputId": "05a20162-9367-4ce6-e802-9d9057e624a4"
      },
      "source": [
        "df_principals_copy = df_principals\n",
        "df_title_basics_copy = df_title_basics\n",
        "df_name_basics_copy = df_name_basics\n",
        "df_ratings_copy = df_ratings\n"
      ],
      "execution_count": 13,
      "outputs": [
        {
          "output_type": "stream",
          "text": [
            "time: 2.27 ms (started: 2021-07-16 13:45:24 +00:00)\n"
          ],
          "name": "stdout"
        }
      ]
    },
    {
      "cell_type": "markdown",
      "metadata": {
        "id": "h-A8QXBEU8ZF"
      },
      "source": [
        "# Data preprocessing"
      ]
    },
    {
      "cell_type": "markdown",
      "metadata": {
        "id": "nahEfs4X199b"
      },
      "source": [
        "List of possible roles of peolple in the dataset"
      ]
    },
    {
      "cell_type": "code",
      "metadata": {
        "id": "CZ3RoLU8_F0B",
        "colab": {
          "base_uri": "https://localhost:8080/"
        },
        "outputId": "b0d78e6d-35a0-464c-c6a4-f93b885c19b3"
      },
      "source": [
        "print(f'Possible roles: \\n{df_principals[\"category\"].unique()}')"
      ],
      "execution_count": 14,
      "outputs": [
        {
          "output_type": "stream",
          "text": [
            "Possible roles: \n",
            "['self' 'director' 'cinematographer' 'composer' 'editor' 'producer'\n",
            " 'actor' 'actress' 'writer' 'production_designer' 'archive_footage'\n",
            " 'archive_sound']\n",
            "time: 2 s (started: 2021-07-16 13:45:24 +00:00)\n"
          ],
          "name": "stdout"
        }
      ]
    },
    {
      "cell_type": "markdown",
      "metadata": {
        "id": "aP7EjpO61gx3"
      },
      "source": [
        "Elimination of Nan values (Nan in IMDb are intended as \"\\N\")"
      ]
    },
    {
      "cell_type": "code",
      "metadata": {
        "id": "ED762YV-dAe6",
        "colab": {
          "base_uri": "https://localhost:8080/"
        },
        "outputId": "646c6783-b219-4d46-dd8d-86ed40c46d1f"
      },
      "source": [
        "print(f'Length of df_title_basics before dropna: {len(df_title_basics)}')\n",
        "df_title_basics.dropna(subset=[\"genres\"], inplace=True)\n",
        "print(f'Length of df_title_basics after dropna: {len(df_title_basics)}')"
      ],
      "execution_count": 15,
      "outputs": [
        {
          "output_type": "stream",
          "text": [
            "Length of df_title_basics before dropna: 6321302\n",
            "Length of df_title_basics after dropna: 5819979\n",
            "time: 583 ms (started: 2021-07-16 13:45:26 +00:00)\n"
          ],
          "name": "stdout"
        }
      ]
    },
    {
      "cell_type": "markdown",
      "metadata": {
        "id": "bSVqDwZW2DKd"
      },
      "source": [
        "List of genres of products in the dataset: we want to filter out only actors"
      ]
    },
    {
      "cell_type": "code",
      "metadata": {
        "id": "bTjRzR_TsMay",
        "colab": {
          "base_uri": "https://localhost:8080/"
        },
        "outputId": "4a2d1892-872d-4675-933f-02dd804d16b9"
      },
      "source": [
        "genres = []\n",
        "for el in df_title_basics[\"genres\"]:\n",
        "  genres.append(el.split(\",\"))\n",
        "\n",
        "genres = list(set(flatten(genres))) #we flatten and then convert it to set to avoid duplicates\n",
        "print(f'Possible genres: \\n{genres}')\n"
      ],
      "execution_count": 16,
      "outputs": [
        {
          "output_type": "stream",
          "text": [
            "Possible genres: \n",
            "['Animation', 'Action', 'Comedy', 'Biography', 'Talk-Show', 'Mystery', 'Sport', 'Game-Show', 'Film-Noir', 'Fantasy', 'Family', 'History', 'Adventure', 'Adult', 'News', 'Romance', 'War', 'Musical', 'Music', 'Reality-TV', 'Crime', 'Short', 'Western', 'Horror', 'Thriller', 'Documentary', 'Drama', 'Sci-Fi']\n",
            "time: 22.1 s (started: 2021-07-16 13:45:26 +00:00)\n"
          ],
          "name": "stdout"
        }
      ]
    },
    {
      "cell_type": "code",
      "metadata": {
        "id": "rL0rVbl6_PSD",
        "colab": {
          "base_uri": "https://localhost:8080/",
          "height": 0
        },
        "outputId": "26585e13-6a2d-45b0-b131-b6f5a63fc111"
      },
      "source": [
        "df_principals = df_principals[df_principals[\"category\"].isin([\"actor\", \"actress\"])]\n",
        "df_principals = df_principals[[\"tconst\", \"nconst\"]]\n",
        "df_principals.head()"
      ],
      "execution_count": 17,
      "outputs": [
        {
          "output_type": "execute_result",
          "data": {
            "text/html": [
              "<div>\n",
              "<style scoped>\n",
              "    .dataframe tbody tr th:only-of-type {\n",
              "        vertical-align: middle;\n",
              "    }\n",
              "\n",
              "    .dataframe tbody tr th {\n",
              "        vertical-align: top;\n",
              "    }\n",
              "\n",
              "    .dataframe thead th {\n",
              "        text-align: right;\n",
              "    }\n",
              "</style>\n",
              "<table border=\"1\" class=\"dataframe\">\n",
              "  <thead>\n",
              "    <tr style=\"text-align: right;\">\n",
              "      <th></th>\n",
              "      <th>tconst</th>\n",
              "      <th>nconst</th>\n",
              "    </tr>\n",
              "  </thead>\n",
              "  <tbody>\n",
              "    <tr>\n",
              "      <th>11</th>\n",
              "      <td>tt0000005</td>\n",
              "      <td>nm0443482</td>\n",
              "    </tr>\n",
              "    <tr>\n",
              "      <th>12</th>\n",
              "      <td>tt0000005</td>\n",
              "      <td>nm0653042</td>\n",
              "    </tr>\n",
              "    <tr>\n",
              "      <th>17</th>\n",
              "      <td>tt0000007</td>\n",
              "      <td>nm0183947</td>\n",
              "    </tr>\n",
              "    <tr>\n",
              "      <th>16</th>\n",
              "      <td>tt0000007</td>\n",
              "      <td>nm0179163</td>\n",
              "    </tr>\n",
              "    <tr>\n",
              "      <th>21</th>\n",
              "      <td>tt0000008</td>\n",
              "      <td>nm0653028</td>\n",
              "    </tr>\n",
              "  </tbody>\n",
              "</table>\n",
              "</div>"
            ],
            "text/plain": [
              "       tconst     nconst\n",
              "11  tt0000005  nm0443482\n",
              "12  tt0000005  nm0653042\n",
              "17  tt0000007  nm0183947\n",
              "16  tt0000007  nm0179163\n",
              "21  tt0000008  nm0653028"
            ]
          },
          "metadata": {
            "tags": []
          },
          "execution_count": 17
        },
        {
          "output_type": "stream",
          "text": [
            "time: 2.73 s (started: 2021-07-16 13:45:48 +00:00)\n"
          ],
          "name": "stdout"
        }
      ]
    },
    {
      "cell_type": "markdown",
      "metadata": {
        "id": "CsPlLWmA2le9"
      },
      "source": [
        "Inner join between the dataframes to obtain a compact dataset (we use the inner join to keep only tuples with common key values)"
      ]
    },
    {
      "cell_type": "code",
      "metadata": {
        "id": "T-8iPo23DEJi",
        "colab": {
          "base_uri": "https://localhost:8080/",
          "height": 0
        },
        "outputId": "bcab3734-d8dd-4890-d176-1fa881d74753"
      },
      "source": [
        "df_join = df_principals.merge(df_name_basics, on=\"nconst\")\n",
        "df_join = df_join.merge(df_title_basics, on=\"tconst\")\n",
        "df_join = df_join.merge(df_ratings, on=\"tconst\")\n",
        "df_join.head()"
      ],
      "execution_count": 18,
      "outputs": [
        {
          "output_type": "execute_result",
          "data": {
            "text/html": [
              "<div>\n",
              "<style scoped>\n",
              "    .dataframe tbody tr th:only-of-type {\n",
              "        vertical-align: middle;\n",
              "    }\n",
              "\n",
              "    .dataframe tbody tr th {\n",
              "        vertical-align: top;\n",
              "    }\n",
              "\n",
              "    .dataframe thead th {\n",
              "        text-align: right;\n",
              "    }\n",
              "</style>\n",
              "<table border=\"1\" class=\"dataframe\">\n",
              "  <thead>\n",
              "    <tr style=\"text-align: right;\">\n",
              "      <th></th>\n",
              "      <th>tconst</th>\n",
              "      <th>nconst</th>\n",
              "      <th>primaryName</th>\n",
              "      <th>genres</th>\n",
              "      <th>averageRating</th>\n",
              "    </tr>\n",
              "  </thead>\n",
              "  <tbody>\n",
              "    <tr>\n",
              "      <th>0</th>\n",
              "      <td>tt0000005</td>\n",
              "      <td>nm0443482</td>\n",
              "      <td>Charles Kayser</td>\n",
              "      <td>Comedy,Short</td>\n",
              "      <td>6.1</td>\n",
              "    </tr>\n",
              "    <tr>\n",
              "      <th>1</th>\n",
              "      <td>tt0000005</td>\n",
              "      <td>nm0653042</td>\n",
              "      <td>John Ott</td>\n",
              "      <td>Comedy,Short</td>\n",
              "      <td>6.1</td>\n",
              "    </tr>\n",
              "    <tr>\n",
              "      <th>2</th>\n",
              "      <td>tt0000007</td>\n",
              "      <td>nm0183947</td>\n",
              "      <td>Peter Courtney</td>\n",
              "      <td>Short,Sport</td>\n",
              "      <td>5.5</td>\n",
              "    </tr>\n",
              "    <tr>\n",
              "      <th>3</th>\n",
              "      <td>tt0000007</td>\n",
              "      <td>nm0179163</td>\n",
              "      <td>James J. Corbett</td>\n",
              "      <td>Short,Sport</td>\n",
              "      <td>5.5</td>\n",
              "    </tr>\n",
              "    <tr>\n",
              "      <th>4</th>\n",
              "      <td>tt0011603</td>\n",
              "      <td>nm0179163</td>\n",
              "      <td>James J. Corbett</td>\n",
              "      <td>Drama</td>\n",
              "      <td>3.0</td>\n",
              "    </tr>\n",
              "  </tbody>\n",
              "</table>\n",
              "</div>"
            ],
            "text/plain": [
              "      tconst     nconst       primaryName        genres  averageRating\n",
              "0  tt0000005  nm0443482    Charles Kayser  Comedy,Short            6.1\n",
              "1  tt0000005  nm0653042          John Ott  Comedy,Short            6.1\n",
              "2  tt0000007  nm0183947    Peter Courtney   Short,Sport            5.5\n",
              "3  tt0000007  nm0179163  James J. Corbett   Short,Sport            5.5\n",
              "4  tt0011603  nm0179163  James J. Corbett         Drama            3.0"
            ]
          },
          "metadata": {
            "tags": []
          },
          "execution_count": 18
        },
        {
          "output_type": "stream",
          "text": [
            "time: 58.4 s (started: 2021-07-16 13:45:51 +00:00)\n"
          ],
          "name": "stdout"
        }
      ]
    },
    {
      "cell_type": "markdown",
      "metadata": {
        "id": "Fx97QbwO2daR"
      },
      "source": [
        "Dataset uniform sampling: the default value is 0.1"
      ]
    },
    {
      "cell_type": "code",
      "metadata": {
        "id": "g-CO-GE9V-14",
        "colab": {
          "base_uri": "https://localhost:8080/",
          "height": 0
        },
        "outputId": "cae44f69-3d5e-4dc8-c635-e5edad6929c8"
      },
      "source": [
        "sampling_rate = 0.1\n",
        "df_sample = df_join.sample(frac = sampling_rate).reset_index(drop=True) #vedi come fare sample\n",
        "df_sample.head()"
      ],
      "execution_count": 19,
      "outputs": [
        {
          "output_type": "execute_result",
          "data": {
            "text/html": [
              "<div>\n",
              "<style scoped>\n",
              "    .dataframe tbody tr th:only-of-type {\n",
              "        vertical-align: middle;\n",
              "    }\n",
              "\n",
              "    .dataframe tbody tr th {\n",
              "        vertical-align: top;\n",
              "    }\n",
              "\n",
              "    .dataframe thead th {\n",
              "        text-align: right;\n",
              "    }\n",
              "</style>\n",
              "<table border=\"1\" class=\"dataframe\">\n",
              "  <thead>\n",
              "    <tr style=\"text-align: right;\">\n",
              "      <th></th>\n",
              "      <th>tconst</th>\n",
              "      <th>nconst</th>\n",
              "      <th>primaryName</th>\n",
              "      <th>genres</th>\n",
              "      <th>averageRating</th>\n",
              "    </tr>\n",
              "  </thead>\n",
              "  <tbody>\n",
              "    <tr>\n",
              "      <th>0</th>\n",
              "      <td>tt2627842</td>\n",
              "      <td>nm5464157</td>\n",
              "      <td>Sami Tikkanen</td>\n",
              "      <td>Action,Sci-Fi</td>\n",
              "      <td>6.0</td>\n",
              "    </tr>\n",
              "    <tr>\n",
              "      <th>1</th>\n",
              "      <td>tt0120756</td>\n",
              "      <td>nm0117412</td>\n",
              "      <td>Hugh Keays-Byrne</td>\n",
              "      <td>Adventure,Drama,Thriller</td>\n",
              "      <td>6.4</td>\n",
              "    </tr>\n",
              "    <tr>\n",
              "      <th>2</th>\n",
              "      <td>tt1291563</td>\n",
              "      <td>nm0199701</td>\n",
              "      <td>Morgan Daniel</td>\n",
              "      <td>Action,Drama,Thriller</td>\n",
              "      <td>4.4</td>\n",
              "    </tr>\n",
              "    <tr>\n",
              "      <th>3</th>\n",
              "      <td>tt3176582</td>\n",
              "      <td>nm3715867</td>\n",
              "      <td>Stephanie Beatriz</td>\n",
              "      <td>Comedy,Crime</td>\n",
              "      <td>8.5</td>\n",
              "    </tr>\n",
              "    <tr>\n",
              "      <th>4</th>\n",
              "      <td>tt1520211</td>\n",
              "      <td>nm0005342</td>\n",
              "      <td>Norman Reedus</td>\n",
              "      <td>Drama,Horror,Thriller</td>\n",
              "      <td>8.3</td>\n",
              "    </tr>\n",
              "  </tbody>\n",
              "</table>\n",
              "</div>"
            ],
            "text/plain": [
              "      tconst     nconst  ...                    genres averageRating\n",
              "0  tt2627842  nm5464157  ...             Action,Sci-Fi           6.0\n",
              "1  tt0120756  nm0117412  ...  Adventure,Drama,Thriller           6.4\n",
              "2  tt1291563  nm0199701  ...     Action,Drama,Thriller           4.4\n",
              "3  tt3176582  nm3715867  ...              Comedy,Crime           8.5\n",
              "4  tt1520211  nm0005342  ...     Drama,Horror,Thriller           8.3\n",
              "\n",
              "[5 rows x 5 columns]"
            ]
          },
          "metadata": {
            "tags": []
          },
          "execution_count": 19
        },
        {
          "output_type": "stream",
          "text": [
            "time: 1.3 s (started: 2021-07-16 13:46:50 +00:00)\n"
          ],
          "name": "stdout"
        }
      ]
    },
    {
      "cell_type": "code",
      "metadata": {
        "id": "STbP1UELXJ1y",
        "colab": {
          "base_uri": "https://localhost:8080/"
        },
        "outputId": "bca3ead7-b653-42a7-beea-911519eb9ac9"
      },
      "source": [
        "print(f'Length of the original dataset: {len(df_join)} \\n\\\n",
        "Length of the sampling dataset: {len(df_sample)}')"
      ],
      "execution_count": 20,
      "outputs": [
        {
          "output_type": "stream",
          "text": [
            "Length of the original dataset: 3404433 \n",
            "Length of the sampling dataset: 340443\n",
            "time: 2.49 ms (started: 2021-07-16 13:46:51 +00:00)\n"
          ],
          "name": "stdout"
        }
      ]
    },
    {
      "cell_type": "markdown",
      "metadata": {
        "id": "kf3G7ymf25ZZ"
      },
      "source": [
        "We put together all the operations done before in a function, *preprocess_dataset*"
      ]
    },
    {
      "cell_type": "code",
      "metadata": {
        "id": "A0DANXD0LMHe",
        "colab": {
          "base_uri": "https://localhost:8080/"
        },
        "outputId": "cb46702c-4f7b-4600-e8a0-d70097d6b53d"
      },
      "source": [
        "def preprocess_dataset(df_title_basics, df_principals, df_name_basics, df_ratings, sampling_rate = 0.1):\n",
        "  \"\"\"\n",
        "  This function preprocess the dataset dropping NaN values, merging the different dataframes and sampling it\n",
        "  \n",
        "  Args:\n",
        "    df_title_basics : the dataset containing movies/Tv series/...\n",
        "    df_principals : the dataset containing the association between actors and movies\n",
        "    df_name_basics: the dataset containing the association between actors id and names \n",
        "    df_ratings: the dataset containing the ratings\n",
        "    sampling_rate : the sampling rate, default = 0.1\n",
        "\n",
        "  Returns:\n",
        "    The preprocessed and sampled version of the dataset\n",
        "\n",
        "  \"\"\"\n",
        "  #dropna per vedere se true o false (?)\n",
        "  df_title_basics.dropna(subset=[\"genres\"], inplace=True)\n",
        "  #select only actors\n",
        "  df_principals = df_principals[df_principals[\"category\"].isin([\"actor\", \"actress\"])]\n",
        "  df_principals = df_principals[[\"tconst\", \"nconst\"]]\n",
        "  #join\n",
        "  df_join = df_principals.merge(df_name_basics, on=\"nconst\")\n",
        "  df_join = df_join.merge(df_title_basics, on=\"tconst\")\n",
        "  df_join = df_join.merge(df_ratings, on=\"tconst\")\n",
        "  #sampling\n",
        "  df_sample = df_join.sample(frac = sampling_rate).reset_index(drop=True)\n",
        "  print(f'Sample size: {len(df_sample)}')\n",
        "  return df_sample"
      ],
      "execution_count": 21,
      "outputs": [
        {
          "output_type": "stream",
          "text": [
            "time: 12.9 ms (started: 2021-07-16 13:46:51 +00:00)\n"
          ],
          "name": "stdout"
        }
      ]
    },
    {
      "cell_type": "markdown",
      "metadata": {
        "id": "crwh6tjO3KAm"
      },
      "source": [
        "Creation of dictionaries to keep track of actors acting in a given movie and movies in which an actor have performed.\n",
        "All this operations are then synthetized in functions, to easily run the algorithms"
      ]
    },
    {
      "cell_type": "code",
      "metadata": {
        "id": "NJnTnXHSNYOs",
        "colab": {
          "base_uri": "https://localhost:8080/"
        },
        "outputId": "a9eefa0b-8980-4254-ce24-3e9ac87787a1"
      },
      "source": [
        " actors_enum = df_sample[\"nconst\"].unique()\n",
        " movies_dict = {movie : [] for movie in df_sample[\"tconst\"].unique()}\n",
        " actors_dict = {actor : [[], i] for actor, i in zip(actors_enum, range(len(actors_enum)))} #the value is composed by the list of movies and the id of the actor\n",
        "\n",
        "for i in range(len(df_sample[\"tconst\"])) :\n",
        "   movies_dict[df_sample[\"tconst\"][i]].append(df_sample[\"nconst\"][i])\n",
        "   actors_dict[df_sample[\"nconst\"][i]][0].append(df_sample[\"tconst\"][i])"
      ],
      "execution_count": 22,
      "outputs": [
        {
          "output_type": "stream",
          "text": [
            "time: 11.2 s (started: 2021-07-16 13:46:51 +00:00)\n"
          ],
          "name": "stdout"
        }
      ]
    },
    {
      "cell_type": "code",
      "metadata": {
        "id": "SLoExKR7QSrQ",
        "colab": {
          "base_uri": "https://localhost:8080/"
        },
        "outputId": "02d2ffa9-6012-47b5-b8e1-8dbe023dcd84"
      },
      "source": [
        "print(f'Example from movies_dict: {next(iter(movies_dict.values()))}')"
      ],
      "execution_count": 23,
      "outputs": [
        {
          "output_type": "stream",
          "text": [
            "Example from movies_dict: ['nm5464157']\n",
            "time: 2.29 ms (started: 2021-07-16 13:47:02 +00:00)\n"
          ],
          "name": "stdout"
        }
      ]
    },
    {
      "cell_type": "code",
      "metadata": {
        "id": "NaAy8AE5QmoM",
        "colab": {
          "base_uri": "https://localhost:8080/"
        },
        "outputId": "37dbe2f2-a69e-43ef-97bb-bb462cbdef0d"
      },
      "source": [
        "print(f'Example from actors_dict: {next(iter(actors_dict.values()))}')"
      ],
      "execution_count": 24,
      "outputs": [
        {
          "output_type": "stream",
          "text": [
            "Example from actors_dict: [['tt2627842'], 0]\n",
            "time: 2.24 ms (started: 2021-07-16 13:47:02 +00:00)\n"
          ],
          "name": "stdout"
        }
      ]
    },
    {
      "cell_type": "markdown",
      "metadata": {
        "id": "6d3pm4fT3uui"
      },
      "source": [
        "Creation of a dictionary to keep track of the correspondance between movies and genres"
      ]
    },
    {
      "cell_type": "code",
      "metadata": {
        "id": "fjjd3nkXS3ly",
        "colab": {
          "base_uri": "https://localhost:8080/"
        },
        "outputId": "14314ed1-7771-457f-e6b7-f139009f5e86"
      },
      "source": [
        "genres_dict = {genre : [] for genre in genres}\n",
        "\n",
        "for _, row in df_sample.iterrows():\n",
        "  for el in row[\"genres\"].split(\",\"): \n",
        "    genres_dict [el].append(row[\"nconst\"])\n",
        "\n",
        "for el in genres_dict: \n",
        "  genres_dict [el] = list(set(genres_dict [el]))"
      ],
      "execution_count": 25,
      "outputs": [
        {
          "output_type": "stream",
          "text": [
            "time: 31.8 s (started: 2021-07-16 13:47:02 +00:00)\n"
          ],
          "name": "stdout"
        }
      ]
    },
    {
      "cell_type": "code",
      "metadata": {
        "id": "noICRZZlZq8e",
        "colab": {
          "base_uri": "https://localhost:8080/"
        },
        "outputId": "789c4545-93ef-4a70-ad45-6af780b0cb2c"
      },
      "source": [
        "print(f'Example from genres_dict: {next(iter(genres_dict.values()))}')"
      ],
      "execution_count": 26,
      "outputs": [
        {
          "output_type": "stream",
          "text": [
            "Example from genres_dict: ['nm0330298', 'nm0047633', 'nm1097364', 'nm0477449', 'nm3141508', 'nm7886643', 'nm0228396', 'nm9715261', 'nm1970854', 'nm0607516', 'nm4791884', 'nm4535080', 'nm2715538', 'nm0010027', 'nm0011882', 'nm3119972', 'nm0779423', 'nm4419934', 'nm1505370', 'nm0000017', 'nm0001787', 'nm2326353', 'nm1702385', 'nm2796745', 'nm0440551', 'nm3546031', 'nm0334561', 'nm0001857', 'nm0488198', 'nm0458981', 'nm2857145', 'nm0001975', 'nm9187109', 'nm6268432', 'nm1463652', 'nm0283594', 'nm0449905', 'nm0182345', 'nm0001783', 'nm3005613', 'nm0742095', 'nm0862331', 'nm3111065', 'nm0213648', 'nm0482452', 'nm5267430', 'nm0551065', 'nm0068709', 'nm0005552', 'nm0431139', 'nm0611898', 'nm1022263', 'nm4986321', 'nm1336619', 'nm0740500', 'nm3061546', 'nm1943794', 'nm3266506', 'nm0687029', 'nm0807575', 'nm0532986', 'nm2356003', 'nm0945326', 'nm1833661', 'nm3224868', 'nm0849054', 'nm0413996', 'nm4081588', 'nm1555635', 'nm2025140', 'nm1403169', 'nm0919798', 'nm0692874', 'nm0837523', 'nm2870578', 'nm1028218', 'nm1778869', 'nm5598750', 'nm0357794', 'nm1028466', 'nm0789478', 'nm9513420', 'nm0239261', 'nm7058841', 'nm0083089', 'nm3065809', 'nm2767970', 'nm0057254', 'nm0352625', 'nm10408629', 'nm9047360', 'nm0818111', 'nm0231942', 'nm0539082', 'nm0239561', 'nm1190771', 'nm0089116', 'nm1532034', 'nm0958888', 'nm7029412', 'nm8200234', 'nm0222175', 'nm8804563', 'nm1218907', 'nm0183417', 'nm0447695', 'nm3472934', 'nm8809619', 'nm0064015', 'nm0369981', 'nm4684804', 'nm0220997', 'nm0205174', 'nm0318027', 'nm0000744', 'nm4056101', 'nm0115539', 'nm1404109', 'nm0625334', 'nm1265850', 'nm0642522', 'nm2790374', 'nm0474420', 'nm0067149', 'nm4009492', 'nm1235395', 'nm0993704', 'nm1942207', 'nm1154821', 'nm3190307', 'nm0077126', 'nm0031824', 'nm0914953', 'nm0644527', 'nm2168883', 'nm0047257', 'nm2509262', 'nm4000636', 'nm2319871', 'nm0515106', 'nm0507852', 'nm0648780', 'nm0996651', 'nm5828294', 'nm6857571', 'nm2240513', 'nm0962559', 'nm3851090', 'nm7209664', 'nm1041023', 'nm10244251', 'nm0126559', 'nm1554206', 'nm8109684', 'nm0598826', 'nm1328245', 'nm0279786', 'nm1161949', 'nm4082764', 'nm8000029', 'nm2945994', 'nm3568062', 'nm0113194', 'nm0129106', 'nm2059479', 'nm2092990', 'nm1551598', 'nm8000264', 'nm6092929', 'nm1050977', 'nm1775807', 'nm1581095', 'nm0005288', 'nm6393915', 'nm2591579', 'nm0992184', 'nm0113632', 'nm1854465', 'nm8003565', 'nm0459074', 'nm1926028', 'nm8943148', 'nm0102380', 'nm0767929', 'nm0875194', 'nm0098168', 'nm10341348', 'nm0000228', 'nm10189313', 'nm10529402', 'nm8220451', 'nm0459252', 'nm4107371', 'nm7572002', 'nm0354826', 'nm0000318', 'nm0593209', 'nm0005352', 'nm0362041', 'nm8343928', 'nm4312668', 'nm7451160', 'nm0347435', 'nm0788340', 'nm0879925', 'nm2246598', 'nm0338569', 'nm6775151', 'nm4614278', 'nm1908560', 'nm0607666', 'nm0875363', 'nm10589733', 'nm10589883', 'nm0253528', 'nm0000932', 'nm0951912', 'nm6929969', 'nm0001394', 'nm0271165', 'nm3299616', 'nm5893121', 'nm1408034', 'nm4162560', 'nm1827167', 'nm1179529', 'nm5714271', 'nm1381649', 'nm3431889', 'nm0205629', 'nm3515732', 'nm0448186', 'nm6315968', 'nm1146347', 'nm2456723', 'nm3646959', 'nm0770026', 'nm0525921', 'nm6039871', 'nm0570898', 'nm0410273', 'nm0000293', 'nm2724682', 'nm1243577', 'nm7341694', 'nm2051996', 'nm0172558', 'nm0645200', 'nm0386768', 'nm0050924', 'nm0027487', 'nm0521229', 'nm0687924', 'nm0347888', 'nm0697069', 'nm1484353', 'nm0993507', 'nm2409331', 'nm1976541', 'nm1138398', 'nm0001757', 'nm3455831', 'nm0430912', 'nm4244369', 'nm0507046', 'nm6218992', 'nm6442558', 'nm0847697', 'nm0411167', 'nm3047938', 'nm1334296', 'nm0038308', 'nm6343419', 'nm1225475', 'nm1172318', 'nm2066018', 'nm0307442', 'nm2728334', 'nm3628686', 'nm2677529', 'nm1229591', 'nm0286925', 'nm2171400', 'nm0932832', 'nm0549815', 'nm0000434', 'nm5578678', 'nm1716941', 'nm0326728', 'nm9513421', 'nm0351336', 'nm0447211', 'nm0287092', 'nm0389826', 'nm0299213', 'nm8421187', 'nm1297428', 'nm0281788', 'nm0831008', 'nm0342207', 'nm9600003', 'nm0415066', 'nm0107306', 'nm0569337', 'nm0268259', 'nm0006810', 'nm0740436', 'nm1989012', 'nm0538683', 'nm0229668', 'nm4613423', 'nm1397895', 'nm0621454', 'nm0561391', 'nm1063296', 'nm1286071', 'nm0039051', 'nm0536739', 'nm0001424', 'nm0447480', 'nm0929790', 'nm2103038', 'nm0837744', 'nm0451318', 'nm0590166', 'nm10810354', 'nm0459470', 'nm7259943', 'nm9639224', 'nm9181425', 'nm7308169', 'nm3597590', 'nm2890209', 'nm1699186', 'nm6539802', 'nm1192347', 'nm0471829', 'nm9513417', 'nm5703019', 'nm0880318', 'nm0254344', 'nm0117641', 'nm0001435', 'nm0286175', 'nm9828019', 'nm0557291', 'nm0000154', 'nm0383603', 'nm1389413', 'nm0902059', 'nm0368561', 'nm0023749', 'nm0615328', 'nm0514848', 'nm0054057', 'nm1665895', 'nm5640928', 'nm1142220', 'nm9004555', 'nm6427536', 'nm2585959', 'nm1921636', 'nm0383094', 'nm2495343', 'nm6386918', 'nm0661519', 'nm0731821', 'nm4303311', 'nm0730558', 'nm0946263', 'nm2744266', 'nm1708199', 'nm0928181', 'nm1664293', 'nm8778318', 'nm0339778', 'nm1378444', 'nm0001562', 'nm0844002', 'nm0736994', 'nm0005565', 'nm4583591', 'nm1510033', 'nm4962379', 'nm0183822', 'nm4416364', 'nm3878880', 'nm0574068', 'nm1229511', 'nm0886745', 'nm0000245', 'nm0732480', 'nm0407557', 'nm1890720', 'nm0266802', 'nm0001728', 'nm7139974', 'nm2605843', 'nm0765815', 'nm1891310', 'nm10313305', 'nm0437038', 'nm0723584', 'nm1052583', 'nm1800919', 'nm1449794', 'nm0005408', 'nm0050468', 'nm3355329', 'nm0850061', 'nm6954164', 'nm3554150', 'nm2612279', 'nm0564206', 'nm1213995', 'nm0405165', 'nm0185214', 'nm3858556', 'nm4274866', 'nm2763373', 'nm0391351', 'nm5328168', 'nm2762027', 'nm1085573', 'nm3567622', 'nm0604908', 'nm0407901', 'nm1327639', 'nm11040115', 'nm0442622', 'nm1967053', 'nm0355093', 'nm3319478', 'nm0058178', 'nm7991772', 'nm6858336', 'nm0403828', 'nm2254110', 'nm0379114', 'nm0460609', 'nm0461455', 'nm0756482', 'nm6369495', 'nm0100262', 'nm0139669', 'nm0829912', 'nm1536649', 'nm1178201', 'nm1107254', 'nm3096205', 'nm4755526', 'nm1620787', 'nm0000274', 'nm1906966', 'nm6897576', 'nm2719774', 'nm4890712', 'nm0453440', 'nm1794748', 'nm0491048', 'nm0238328', 'nm6562457', 'nm10589735', 'nm0073101', 'nm0121103', 'nm9301064', 'nm0634176', 'nm9854075', 'nm0314926', 'nm2306933', 'nm10661591', 'nm1767359', 'nm0793403', 'nm9827277', 'nm2948025', 'nm0948445', 'nm0342578', 'nm1345393', 'nm0846070', 'nm0476223', 'nm0343447', 'nm2055160', 'nm0619999', 'nm2069547', 'nm1877123', 'nm0915845', 'nm0031325', 'nm0669363', 'nm2438761', 'nm0461981', 'nm0074834', 'nm0083641', 'nm1453891', 'nm0043052', 'nm1041608', 'nm2870059', 'nm0091262', 'nm1948682', 'nm0237847', 'nm1253325', 'nm1989245', 'nm9513419', 'nm0579596', 'nm0848408', 'nm1483166', 'nm1906634', 'nm7829931', 'nm0247929', 'nm0924918', 'nm2145482', 'nm6752954', 'nm0435369', 'nm0444438', 'nm0172089', 'nm0081644', 'nm0171754', 'nm4147429', 'nm0875386', 'nm0881710', 'nm1394022', 'nm1253273', 'nm0015342', 'nm0004875', 'nm0001682', 'nm1489335', 'nm3138801', 'nm0104596', 'nm0195821', 'nm0313813', 'nm10173720', 'nm0073539', 'nm1237116', 'nm5694659', 'nm1741998', 'nm1042232', 'nm0201688', 'nm0401406', 'nm4030194', 'nm1283545', 'nm0000413', 'nm0934265', 'nm5257564', 'nm0359322', 'nm0406708', 'nm7568965', 'nm10030720', 'nm0441561', 'nm2089814', 'nm7404934', 'nm3246301', 'nm0043498', 'nm2777147', 'nm5034049', 'nm0178890', 'nm6291039', 'nm0000980', 'nm0180404', 'nm1559315', 'nm4398845', 'nm0545622', 'nm0411059', 'nm1585728', 'nm0510950', 'nm0879933', 'nm0066999', 'nm0012738', 'nm3320566', 'nm3302754', 'nm5242354', 'nm0029327', 'nm3844789', 'nm1111384', 'nm2508768', 'nm0831921', 'nm0806912', 'nm0366389', 'nm1410114', 'nm6806421', 'nm0338746', 'nm0431957', 'nm0667512', 'nm0001067', 'nm0735773', 'nm0001960', 'nm1478697', 'nm1039872', 'nm6612573', 'nm3189883', 'nm9638242', 'nm0193359', 'nm8165602', 'nm3931572', 'nm1386660', 'nm0508093', 'nm1451932', 'nm1729471', 'nm0031816', 'nm1687498', 'nm1050267', 'nm0476186', 'nm0000615', 'nm4000947', 'nm0772859', 'nm6695982', 'nm10033513', 'nm0097446', 'nm6393913', 'nm6579510', 'nm6160385', 'nm0506405', 'nm8966085', 'nm0254176', 'nm2342402', 'nm0662214', 'nm1997069', 'nm1873054', 'nm8973221', 'nm1699409', 'nm1014554', 'nm1075459', 'nm0620657', 'nm2115179', 'nm1503539', 'nm1245404', 'nm0000330', 'nm1188405', 'nm0031791', 'nm0455702', 'nm0224565', 'nm0077082', 'nm0005143', 'nm0444339', 'nm0663506', 'nm1785325', 'nm2283121', 'nm1999275', 'nm0000110', 'nm0510168', 'nm3350232', 'nm0048169', 'nm2903067', 'nm3735338', 'nm0168594', 'nm0829181', 'nm0569095', 'nm5416420', 'nm3937090', 'nm0050210', 'nm6572053', 'nm0004730', 'nm1670129', 'nm0395649', 'nm10148018', 'nm3949346', 'nm0897333', 'nm1015546', 'nm2147696', 'nm9844080', 'nm2807652', 'nm0911589', 'nm0185643', 'nm0655212', 'nm5497325', 'nm0730232', 'nm5556777', 'nm7006098', 'nm0004931', 'nm0141446', 'nm2016157', 'nm5521949', 'nm0498271', 'nm0717150', 'nm3992675', 'nm2244843', 'nm1277125', 'nm1051369', 'nm0707357', 'nm6696752', 'nm0005125', 'nm4679086', 'nm4105646', 'nm1778526', 'nm0199236', 'nm7250984', 'nm0416850', 'nm4565599', 'nm0183044', 'nm0394588', 'nm1802209', 'nm9272750', 'nm0815071', 'nm0297847', 'nm6593837', 'nm0420765', 'nm0005246', 'nm0000640', 'nm0820109', 'nm6369187', 'nm3138961', 'nm5957228', 'nm7651350', 'nm2413841', 'nm1480095', 'nm0827341', 'nm0440487', 'nm0000337', 'nm4439231', 'nm0323177', 'nm0017167', 'nm2770404', 'nm1020040', 'nm0241257', 'nm0357194', 'nm0998211', 'nm1481547', 'nm3514770', 'nm0478009', 'nm3436464', 'nm0058261', 'nm1344977', 'nm1976439', 'nm0137965', 'nm0468708', 'nm0005439', 'nm0000552', 'nm0443562', 'nm0945232', 'nm7024063', 'nm6066522', 'nm4679124', 'nm0593911', 'nm0510032', 'nm0758150', 'nm0740629', 'nm3204815', 'nm3151437', 'nm6113231', 'nm0153719', 'nm2828515', 'nm0679539', 'nm0458133', 'nm0540134', 'nm0945290', 'nm3265752', 'nm0058692', 'nm10204334', 'nm7568473', 'nm0321597', 'nm2233310', 'nm0059934', 'nm2482007', 'nm0648866', 'nm6494648', 'nm8375248', 'nm0688913', 'nm0841604', 'nm0419677', 'nm0632704', 'nm0452835', 'nm1525717', 'nm0292885', 'nm5119628', 'nm3369069', 'nm4125441', 'nm4657181', 'nm0784818', 'nm0695497', 'nm7006097', 'nm0672080', 'nm0118368', 'nm3434305', 'nm0639091', 'nm0063710', 'nm1437776', 'nm0412322', 'nm0969712', 'nm1802814', 'nm0434724', 'nm4763663', 'nm0720265', 'nm2172001', 'nm0531355', 'nm0646955', 'nm8481754', 'nm0254933', 'nm0787825', 'nm0628649', 'nm1798265', 'nm1845401', 'nm0813889', 'nm0599019', 'nm5715938', 'nm0033843', 'nm0541730', 'nm0164950', 'nm0915487', 'nm7731049', 'nm1787616', 'nm4466861', 'nm0016085', 'nm5739368', 'nm3414249', 'nm1770129', 'nm2642131', 'nm0303330', 'nm2007707', 'nm2456440', 'nm7891157', 'nm0542699', 'nm0299319', 'nm1249885', 'nm1145982', 'nm6595785', 'nm1055302', 'nm0609635', 'nm0821282', 'nm0001014', 'nm2038170', 'nm0619952', 'nm0063094', 'nm0439103', 'nm0494945', 'nm0765783', 'nm1365359', 'nm0879936', 'nm5168315', 'nm1122635', 'nm0000568', 'nm0469674', 'nm1456390', 'nm0171162', 'nm1173809', 'nm1795365', 'nm2794650', 'nm2685520', 'nm0305261', 'nm9858508', 'nm1115439', 'nm2613064', 'nm2427002', 'nm3833084', 'nm3093754', 'nm9197489', 'nm4435016', 'nm1501823', 'nm0087055', 'nm0419089', 'nm1425173', 'nm0648962', 'nm3670298', 'nm0146297', 'nm4060244', 'nm7835021', 'nm4411324', 'nm0302502', 'nm6532163', 'nm10589734', 'nm5032161', 'nm1309787', 'nm0397990', 'nm0150058', 'nm0457243', 'nm6316631', 'nm8448362', 'nm2161052', 'nm0909602', 'nm0647698', 'nm0039229', 'nm9379615', 'nm5687714', 'nm3938513', 'nm0500187', 'nm0364814', 'nm0675432', 'nm1349676', 'nm2718151', 'nm0269542', 'nm0001212', 'nm7827604', 'nm3513532', 'nm9048379', 'nm5407452', 'nm8940902', 'nm4010439', 'nm0001650', 'nm0436517', 'nm9532107', 'nm9373159', 'nm3052390', 'nm8073938', 'nm0710244', 'nm4204968', 'nm0672032', 'nm2337899', 'nm2163190', 'nm1265525', 'nm1372586', 'nm2912860', 'nm6136090', 'nm0290075', 'nm2763698', 'nm1796270', 'nm0443221', 'nm1368643', 'nm5841342', 'nm5011475', 'nm2335252', 'nm6049419', 'nm4232585', 'nm6004741', 'nm0755133', 'nm0971731', 'nm0005218', 'nm0009032', 'nm4789062', 'nm2241099', 'nm6728134', 'nm0419962', 'nm3866483', 'nm0458342', 'nm3950939', 'nm3369389', 'nm2512132', 'nm2738592', 'nm2386242', 'nm0192889', 'nm1596139', 'nm0963023', 'nm0942969', 'nm6807758', 'nm1926427', 'nm0738863', 'nm9164272', 'nm0920729', 'nm1134461', 'nm1328326', 'nm1465001', 'nm2547958', 'nm0101752', 'nm0083311', 'nm4002419', 'nm5131116', 'nm3929163', 'nm2741657', 'nm1517496', 'nm0931493', 'nm0005019', 'nm0018485', 'nm1024973', 'nm0418708', 'nm1179634', 'nm0563505', 'nm8391228', 'nm7570854', 'nm0005261', 'nm0320006', 'nm4244986', 'nm0218914', 'nm1933722', 'nm7986506', 'nm2228374', 'nm9610887', 'nm0297921', 'nm1072611', 'nm0228073', 'nm3095099', 'nm2264553', 'nm3630665', 'nm2922572', 'nm0072066', 'nm8000657', 'nm1269094', 'nm0394690', 'nm1560525', 'nm0932637', 'nm0223384', 'nm1814328', 'nm1352809', 'nm1116368', 'nm0004735', 'nm7765085', 'nm9214423', 'nm1208879', 'nm2611797', 'nm1101946', 'nm0019226', 'nm0838875', 'nm0633791', 'nm0815375', 'nm0362862', 'nm7740556', 'nm4881877', 'nm5497593', 'nm1738264', 'nm0491796', 'nm3516167', 'nm1840747', 'nm3444668', 'nm0368202', 'nm1042279', 'nm2986039', 'nm2858437', 'nm1059148', 'nm4941269', 'nm1679625', 'nm0289249', 'nm2225270', 'nm0620090', 'nm0031193', 'nm1965552', 'nm1041650', 'nm1376372', 'nm0297998', 'nm7490473', 'nm0254862', 'nm0550694', 'nm0002649', 'nm0372423', 'nm0849949', 'nm0209246', 'nm0927692', 'nm5120390', 'nm2700390', 'nm0630464', 'nm1755972', 'nm2617902', 'nm0560529', 'nm0046559', 'nm1053924', 'nm1651242', 'nm0688292', 'nm2235310', 'nm0001710', 'nm0517787', 'nm7395332', 'nm3916351', 'nm0276819', 'nm0863622', 'nm0117339', 'nm2063513', 'nm6587345', 'nm6806061', 'nm1040419', 'nm0818920', 'nm0494835', 'nm6572949', 'nm6818035', 'nm0234236', 'nm0873051', 'nm0001274', 'nm0175670', 'nm0669629', 'nm7443254', 'nm1833706', 'nm0802280', 'nm0101525', 'nm7869341', 'nm0175427', 'nm7053726', 'nm4895241', 'nm1195582', 'nm11100586', 'nm4251180', 'nm10040998', 'nm0057070', 'nm1048007', 'nm0074204', 'nm4211570', 'nm1959800', 'nm0276818', 'nm1765574', 'nm0071818', 'nm0015130', 'nm1169501', 'nm1287202', 'nm0454070', 'nm0689318', 'nm7104992', 'nm0214856', 'nm3143470', 'nm0693436', 'nm6193362', 'nm9044271', 'nm0700072', 'nm2278844', 'nm0256607', 'nm4868981', 'nm6928992', 'nm1432439', 'nm2355656', 'nm8879791', 'nm2944838', 'nm4113383', 'nm3003737', 'nm4808080', 'nm0200324', 'nm5910672', 'nm0429115', 'nm0827680', 'nm1311329', 'nm1398362', 'nm0488104', 'nm5202715', 'nm1014417', 'nm3160674', 'nm4223266', 'nm0891903', 'nm1327832', 'nm0001426', 'nm0769445', 'nm1070753', 'nm6399343', 'nm1757368', 'nm0171846', 'nm0890609', 'nm1053169', 'nm1404660', 'nm1927343', 'nm0956544', 'nm1370449', 'nm0850337', 'nm1727087', 'nm0571741', 'nm3419958', 'nm0062168', 'nm4439668', 'nm0298412', 'nm1384623', 'nm9844265', 'nm3426117', 'nm0349962', 'nm1120569', 'nm5877942', 'nm6728133', 'nm0346895', 'nm3313135', 'nm0757327', 'nm1827939', 'nm0303128', 'nm6303888', 'nm1126484', 'nm8603218', 'nm0741227', 'nm1014528', 'nm0083640', 'nm3726011', 'nm0584470', 'nm1524537', 'nm2146022', 'nm0005521', 'nm0278877', 'nm2246504', 'nm0519043', 'nm1778495', 'nm0000926', 'nm1821102', 'nm0229102', 'nm0968589', 'nm0763640', 'nm0657139', 'nm0806766', 'nm9373359', 'nm0000256', 'nm0023924', 'nm1352170', 'nm1433999', 'nm0733667', 'nm1827526', 'nm0925930', 'nm4171388', 'nm6932824', 'nm2063353', 'nm0418440', 'nm7336696', 'nm0479764', 'nm4111737', 'nm6619250', 'nm3993221', 'nm2924346', 'nm0954702', 'nm0474224', 'nm0256697', 'nm8104687', 'nm0676370', 'nm0189561', 'nm5259192', 'nm10048329', 'nm2171329', 'nm1441760', 'nm1154301', 'nm4529651', 'nm1660584', 'nm0117087', 'nm1574776', 'nm5941822', 'nm4342678', 'nm5098656', 'nm1202654', 'nm3721841', 'nm0654340', 'nm0219305', 'nm1143354', 'nm3644706', 'nm2880706', 'nm0878940', 'nm0301316', 'nm0289710', 'nm3112508', 'nm5093323', 'nm0367636', 'nm0201282', 'nm0154882', 'nm0417068', 'nm0970996', 'nm0972828', 'nm0001598', 'nm0041089', 'nm0701500', 'nm0752826', 'nm0815040', 'nm0147738', 'nm9008629', 'nm0325628', 'nm2522795', 'nm0366270', 'nm0394886', 'nm0000107', 'nm0639782', 'nm3447971', 'nm0100407', 'nm1097610', 'nm3263858', 'nm1753422', 'nm0050584', 'nm10079577', 'nm0355097', 'nm0565319', 'nm0001802', 'nm0440382', 'nm9715265', 'nm4518777', 'nm6353521', 'nm2304722', 'nm2719247', 'nm0258268', 'nm0261363', 'nm6396815', 'nm0638706', 'nm1166576', 'nm1266101', 'nm0098352', 'nm0265217', 'nm0341659', 'nm0771479', 'nm0863999', 'nm4588329', 'nm0755179', 'nm1459169', 'nm0119876', 'nm0235250', 'nm0299855', 'nm0956126', 'nm0029132', 'nm0877681', 'nm0081310', 'nm3264860', 'nm0750179', 'nm1888244', 'nm0601982', 'nm7133386', 'nm5490688', 'nm0015253', 'nm0157120', 'nm3060088', 'nm4415731', 'nm1107863', 'nm0596948', 'nm0249456', 'nm3338130', 'nm0875335', 'nm0426056', 'nm0820319', 'nm0219171', 'nm6601582', 'nm0557287', 'nm4393727', 'nm5406580', 'nm0148418', 'nm1130931', 'nm0504700', 'nm0496899', 'nm0807092', 'nm3068317', 'nm0776287', 'nm0099268', 'nm2762308', 'nm0707476', 'nm0763052', 'nm2885122', 'nm0959936', 'nm3151522', 'nm0407769', 'nm0411696', 'nm0352758', 'nm0566902', 'nm0923909', 'nm0588777', 'nm0333612', 'nm0578877', 'nm2876104', 'nm8814816', 'nm0797653', 'nm0707369', 'nm1621864', 'nm3674386', 'nm0002935', 'nm0809762', 'nm0922706', 'nm4133207', 'nm0224075', 'nm0182627', 'nm1503776', 'nm6083551', 'nm6027509', 'nm0778926', 'nm2426215', 'nm0314754', 'nm2413994', 'nm3989541', 'nm1723159', 'nm2962801', 'nm0967493', 'nm8503590', 'nm0481841', 'nm0001954', 'nm1889520', 'nm9441821', 'nm4798406', 'nm1480625', 'nm0114371', 'nm0144252', 'nm1697090', 'nm7095565', 'nm6644901', 'nm9780467', 'nm2744506', 'nm1144176', 'nm0946670', 'nm9790618', 'nm0000821', 'nm1952808', 'nm6403210', 'nm0001278', 'nm0016968', 'nm1623469', 'nm4124251', 'nm5467763', 'nm1589180', 'nm1386659', 'nm3538589', 'nm2478012', 'nm0023017', 'nm0122053', 'nm1821342', 'nm1961252', 'nm0436566', 'nm1617410', 'nm0788617', 'nm0428089', 'nm2233733', 'nm0047587', 'nm0725047', 'nm0385695', 'nm0265067', 'nm7617524', 'nm6233872', 'nm0137627', 'nm0395777', 'nm0420841', 'nm1547964', 'nm1115088', 'nm2971968', 'nm3654365', 'nm0000515', 'nm0830799', 'nm2057312', 'nm1911958', 'nm7262174', 'nm2953428', 'nm6506266', 'nm0136797', 'nm7658461', 'nm4115120', 'nm0837064', 'nm0354069', 'nm0162274', 'nm5529178', 'nm1368634', 'nm0470306', 'nm0122050', 'nm1703388', 'nm0130843', 'nm0840695', 'nm0744451', 'nm4541107', 'nm0005516', 'nm0658244', 'nm5365861', 'nm0405729', 'nm0587680', 'nm3670870', 'nm0711725', 'nm0000329', 'nm1244491', 'nm6442282', 'nm2356347', 'nm0659573', 'nm0285892', 'nm2209355', 'nm6005985', 'nm0001097', 'nm5278209', 'nm2065813', 'nm0403514', 'nm1906102', 'nm5187619', 'nm0821041', 'nm4516939', 'nm6014536', 'nm4611611', 'nm0829537', 'nm9824541', 'nm0041281', 'nm1169622', 'nm0461095', 'nm1489855', 'nm0078954', 'nm0457952', 'nm2573928', 'nm4522374', 'nm1988695', 'nm0238581', 'nm1693846', 'nm0507315', 'nm0239927', 'nm1020018', 'nm0059704', 'nm2716438', 'nm3509829', 'nm2943295', 'nm0084969', 'nm0000452', 'nm0314119', 'nm0318656', 'nm0711857', 'nm0608757', 'nm0562770', 'nm1009595', 'nm2570580', 'nm0174883', 'nm5152585', 'nm0125651', 'nm9345797', 'nm0649035', 'nm0358452', 'nm6090225', 'nm0281486', 'nm0197461', 'nm5982630', 'nm2551683', 'nm3671857', 'nm1178104', 'nm0577608', 'nm2120918', 'nm7205520', 'nm0765789', 'nm0659717', 'nm7676242', 'nm0005295', 'nm4973531', 'nm0295579', 'nm0157385', 'nm1508383', 'nm0678424', 'nm0742146', 'nm2829900', 'nm0128911', 'nm0295103', 'nm1996852', 'nm0847074', 'nm4077566', 'nm0498621', 'nm2789974', 'nm2455055', 'nm7291327', 'nm1256261', 'nm2111860', 'nm2177232', 'nm0175828', 'nm6350297', 'nm2459822', 'nm6929994', 'nm3557250', 'nm6503935', 'nm1584992', 'nm9653284', 'nm9101190', 'nm0875114', 'nm3328736', 'nm5775645', 'nm0005562', 'nm2554352', 'nm0408733', 'nm1178639', 'nm0476226', 'nm0436608', 'nm8187824', 'nm0739224', 'nm1053635', 'nm0738751', 'nm2189046', 'nm1587188', 'nm0122987', 'nm3292923', 'nm3759199', 'nm0010097', 'nm8924222', 'nm0070444', 'nm3527523', 'nm0001609', 'nm0469555', 'nm3865937', 'nm0339117', 'nm0543884', 'nm0431918', 'nm0352864', 'nm1396611', 'nm3660627', 'nm0498181', 'nm3053352', 'nm0827267', 'nm5655601', 'nm7481469', 'nm0082507', 'nm0591115', 'nm0276872', 'nm3588972', 'nm1440263', 'nm0171983', 'nm0058011', 'nm0945085', 'nm0341830', 'nm0943849', 'nm4776797', 'nm3099884', 'nm6933807', 'nm0971401', 'nm1200431', 'nm0034861', 'nm1446770', 'nm1943661', 'nm0778880', 'nm0001420', 'nm7097857', 'nm0089508', 'nm0022817', 'nm0645781', 'nm6207728', 'nm0914531', 'nm6215773', 'nm5106831', 'nm3061061', 'nm0248322', 'nm1766055', 'nm0849028', 'nm0409956', 'nm3982894', 'nm0047486', 'nm0798152', 'nm0386193', 'nm0672043', 'nm4623514', 'nm1576205', 'nm1502417', 'nm6603449', 'nm0001564', 'nm0120111', 'nm0066976', 'nm1918654', 'nm0407021', 'nm0037037', 'nm1353053', 'nm0504336', 'nm5713187', 'nm3157720', 'nm0166681', 'nm1203846', 'nm0419894', 'nm0868139', 'nm0850166', 'nm0565815', 'nm0091878', 'nm1542420', 'nm1102087', 'nm0220035', 'nm3573932', 'nm0568616', 'nm0088650', 'nm2686598', 'nm4259564', 'nm0487237', 'nm0297048', 'nm8153568', 'nm0176908', 'nm1089489', 'nm7611367', 'nm0000547', 'nm0628704', 'nm1355723', 'nm1324981', 'nm0021428', 'nm9496869', 'nm0099839', 'nm3907200', 'nm0353796', 'nm0012523', 'nm0750468', 'nm0864997', 'nm6233871', 'nm0949775', 'nm2752050', 'nm0515849', 'nm0593175', 'nm1812685', 'nm5929885', 'nm0578903', 'nm3277945', 'nm0412917', 'nm0835319', 'nm0663177', 'nm0135151', 'nm0848193', 'nm0005190', 'nm9341543', 'nm1617747', 'nm0610970', 'nm2066988', 'nm0650207', 'nm1464502', 'nm0408340', 'nm6073946', 'nm0249020', 'nm8047904', 'nm1063535', 'nm3930854', 'nm0669326', 'nm0192505', 'nm7103309', 'nm0208530', 'nm0574540', 'nm0117688', 'nm2482835', 'nm0001085', 'nm0074289', 'nm2624923', 'nm2654928', 'nm1842196', 'nm0447966', 'nm1469236', 'nm0005211', 'nm1042912', 'nm4272233', 'nm0997477', 'nm0588922', 'nm0749160', 'nm0537559', 'nm1894067', 'nm3937983', 'nm1369445', 'nm0671886', 'nm2534558', 'nm4526642', 'nm0005499', 'nm2539060', 'nm0323889', 'nm1559468', 'nm0067405', 'nm0158030', 'nm5775503', 'nm0331319', 'nm0337020', 'nm2919398', 'nm1752221', 'nm4730995', 'nm1513684', 'nm0305958', 'nm3817601', 'nm5858716', 'nm5032683', 'nm5690434', 'nm2882225', 'nm0196950', 'nm10548915', 'nm7981185', 'nm0593057', 'nm0039603', 'nm7829930', 'nm0004813', 'nm0571941', 'nm1035500', 'nm0226583', 'nm0227224', 'nm1355103', 'nm1478623', 'nm0765798', 'nm0308881', 'nm0197855', 'nm6566179', 'nm0918351', 'nm0445089', 'nm0632770', 'nm2934657', 'nm0061361', 'nm1954447', 'nm6828278', 'nm9195686', 'nm4220266', 'nm0946628', 'nm0250436', 'nm0341267', 'nm1543351', 'nm0156849', 'nm0241208', 'nm4880644', 'nm1965302', 'nm0840959', 'nm0156737', 'nm4445658', 'nm1741007', 'nm0923852', 'nm0569883', 'nm3129067', 'nm2259477', 'nm0000234', 'nm0006939', 'nm0524998', 'nm1886746', 'nm0352063', 'nm7295647', 'nm0600668', 'nm0001332', 'nm0635157', 'nm4779703', 'nm0572659', 'nm8486716', 'nm6719998', 'nm4477261', 'nm0129163', 'nm1720779', 'nm2837894', 'nm2368544', 'nm10632076', 'nm8726842', 'nm1631578', 'nm0331497', 'nm0840660', 'nm0315792', 'nm0319308', 'nm0328879', 'nm0001127', 'nm0080758', 'nm0039602', 'nm0427079', 'nm9768950', 'nm8592601', 'nm2305325', 'nm1551852', 'nm0102597', 'nm5336333', 'nm8533242', 'nm0002091', 'nm0419760', 'nm1203943', 'nm0944164', 'nm0458804', 'nm5474037', 'nm1452442', 'nm3451009', 'nm0632641', 'nm0293981', 'nm0810197', 'nm0805807', 'nm2910997', 'nm4532795', 'nm3513999', 'nm2397405', 'nm0168710', 'nm3195824', 'nm1543229', 'nm0004755', 'nm4751364', 'nm0649849', 'nm2778640', 'nm0593348', 'nm0828674', 'nm1242758', 'nm7098961', 'nm7164831', 'nm6076291', 'nm4058898', 'nm10587618', 'nm0698681', 'nm0848275', 'nm0031075', 'nm0399400', 'nm0393222', 'nm9549868', 'nm0765126', 'nm0424643', 'nm8617753', 'nm0004997', 'nm3793647', 'nm7461641', 'nm6504081', 'nm0692634', 'nm0408846', 'nm0104886', 'nm4050725', 'nm0001101', 'nm1906130', 'nm0361772', 'nm1380070', 'nm0000139', 'nm1090090', 'nm5807995', 'nm1675917', 'nm3262742', 'nm1921632', 'nm0856197', 'nm1560772', 'nm2825159', 'nm0622414', 'nm3542835', 'nm1747013', 'nm2875091', 'nm0000603', 'nm1102039', 'nm0529384', 'nm1732470', 'nm2822495', 'nm0926923', 'nm5219831', 'nm4255749', 'nm1556300', 'nm0018093', 'nm1090596', 'nm8506367', 'nm1665105', 'nm0594730', 'nm0292674', 'nm4857862', 'nm5681033', 'nm0060002', 'nm4298934', 'nm0051313', 'nm1427677', 'nm0822092', 'nm1447142', 'nm0073418', 'nm0484553', 'nm0184621', 'nm7782778', 'nm0296483', 'nm0000664', 'nm0932053', 'nm1082477', 'nm0651692', 'nm0858429', 'nm0946692', 'nm4336138', 'nm1833341', 'nm2138100', 'nm2754614', 'nm1780029', 'nm1143491', 'nm0464945', 'nm0015320', 'nm9879585', 'nm6212970', 'nm0257821', 'nm0318360', 'nm7338719', 'nm0471601', 'nm5877027', 'nm0103195', 'nm6415109', 'nm3364779', 'nm0619077', 'nm0219601', 'nm0692927', 'nm0497563', 'nm0425137', 'nm0174394', 'nm1466221', 'nm0846164', 'nm10856499', 'nm3069800', 'nm0698585', 'nm3114820', 'nm0371684', 'nm2123142', 'nm6159178', 'nm4761131', 'nm2419128', 'nm0306888', 'nm0584367', 'nm2570606', 'nm0110893', 'nm5396712', 'nm1792899', 'nm2728762', 'nm1284009', 'nm10310634', 'nm2944637', 'nm10273437', 'nm10100634', 'nm0621994', 'nm2604112', 'nm0594094', 'nm0029962', 'nm1454681', 'nm0407516', 'nm3577254', 'nm0085636', 'nm0300712', 'nm9665790', 'nm0237065', 'nm2438219', 'nm7653955', 'nm3572712', 'nm3431375', 'nm1492428', 'nm0606688', 'nm2242399', 'nm4331196', 'nm0998394', 'nm1712028', 'nm6044557', 'nm8564487', 'nm0735465', 'nm2804503', 'nm9844470', 'nm0246787', 'nm6181291', 'nm0250752', 'nm0532736', 'nm1814356', 'nm0406592', 'nm0091286', 'nm2187603', 'nm1482825', 'nm4028562', 'nm0770742', 'nm2690956', 'nm1275382', 'nm5211041', 'nm3041885', 'nm0204797', 'nm1096612', 'nm4345215', 'nm6393914', 'nm9505977', 'nm10519011', 'nm3768523', 'nm1977316', 'nm0414595', 'nm6049239', 'nm4896230', 'nm6113005', 'nm10853841', 'nm3754999', 'nm1853544', 'nm3093676', 'nm0652783', 'nm0351534', 'nm2558181', 'nm0645464', 'nm0520525', 'nm3513509', 'nm3701406', 'nm0175185', 'nm0052218', 'nm2067669', 'nm0612621', 'nm0810581', 'nm3908806', 'nm0750379', 'nm5012861', 'nm2536453', 'nm1460733', 'nm0005254', 'nm0535933', 'nm7783750', 'nm0553317', 'nm0410076', 'nm0578911', 'nm0050547', 'nm2168927', 'nm0617246', 'nm4909523', 'nm2516299', 'nm0889846', 'nm0403947', 'nm4916038', 'nm0607727', 'nm5092426', 'nm0427665', 'nm0033893', 'nm6421259', 'nm1217251', 'nm0609096', 'nm0299713', 'nm2010209', 'nm0398002', 'nm2325865', 'nm7771817', 'nm0278097', 'nm2341838', 'nm0404809', 'nm0827565', 'nm0847594', 'nm8184420', 'nm1533716', 'nm0902618', 'nm0137999', 'nm0935664', 'nm8665743', 'nm1054043', 'nm0620138', 'nm5614661', 'nm1007740', 'nm4422202', 'nm0849910', 'nm0609137', 'nm0034854', 'nm1079863', 'nm2103271', 'nm1144903', 'nm4922876', 'nm0386286', 'nm0513860', 'nm0709917', 'nm4430507', 'nm0077849', 'nm1960207', 'nm1289042', 'nm0176376', 'nm1167392', 'nm0862595', 'nm4491210', 'nm5897949', 'nm7761997', 'nm2969812', 'nm7261217', 'nm1050524', 'nm1091798', 'nm7370587', 'nm0847439', 'nm1001404', 'nm1218545', 'nm0949049', 'nm0120180', 'nm1197229', 'nm0061214', 'nm7225161', 'nm0052992', 'nm0493327', 'nm8092064', 'nm1983401', 'nm0391125', 'nm0810379', 'nm2058950', 'nm0996783', 'nm0119867', 'nm0195702', 'nm9410549', 'nm0688516', 'nm4300021', 'nm2773600', 'nm1747669', 'nm0652523', 'nm1076728', 'nm0125579', 'nm0793634', 'nm2270848', 'nm0346415', 'nm5778363', 'nm0824102', 'nm3081259', 'nm0153738', 'nm1874163', 'nm0906945', 'nm0688257', 'nm6603550', 'nm10268094', 'nm0645483', 'nm3287449', 'nm1071795', 'nm6334628', 'nm0812307', 'nm0621008', 'nm2962719', 'nm0767194', 'nm2568575', 'nm0929609', 'nm0505949', 'nm0436496', 'nm0095982', 'nm0279545', 'nm0448962', 'nm1273148', 'nm0291896', 'nm1051316', 'nm1116126', 'nm1131557', 'nm0378685', 'nm2944622', 'nm2590280', 'nm1039753', 'nm0874113', 'nm0882298', 'nm2520174', 'nm3073428', 'nm0185310', 'nm1139350', 'nm1146315', 'nm0259074', 'nm4289479', 'nm1099085', 'nm0241173', 'nm0935042', 'nm4896139', 'nm0004801', 'nm0157115', 'nm3783235', 'nm0483818', 'nm0289943', 'nm0594659', 'nm5204912', 'nm0587711', 'nm0411731', 'nm0336517', 'nm2856681', 'nm1388958', 'nm5835987', 'nm1888997', 'nm0748843', 'nm0109889', 'nm7489975', 'nm1483134', 'nm4383476', 'nm0486776', 'nm1540371', 'nm0550318', 'nm0900525', 'nm0496805', 'nm10087885', 'nm5643883', 'nm1460749', 'nm3019095', 'nm0032875', 'nm1591151', 'nm0000370', 'nm1378320', 'nm0000119', 'nm0247353', 'nm0358996', 'nm0717702', 'nm5422605', 'nm0409361', 'nm4684269', 'nm4097540', 'nm5096329', 'nm4989047', 'nm8414199', 'nm0605453', 'nm3628491', 'nm6521551', 'nm4526557', 'nm1469295', 'nm0216937', 'nm0734859', 'nm0213148', 'nm0393202', 'nm8238695', 'nm5577692', 'nm2195473', 'nm9152632', 'nm0000902', 'nm1873641', 'nm2132616', 'nm2133021', 'nm0710195', 'nm1032853', 'nm0732274', 'nm0024404', 'nm0460974', 'nm0431741', 'nm0566332', 'nm0247891', 'nm3408189', 'nm0957157', 'nm0863784', 'nm1682451', 'nm0915299', 'nm2106619', 'nm0365631', 'nm3880165', 'nm0757076', 'nm0284455', 'nm1745052', 'nm2057168', 'nm0866937', 'nm6031813', 'nm3620549', 'nm6059426', 'nm3632183', 'nm9248709', 'nm2825765', 'nm0655452', 'nm2216378', 'nm0103980', 'nm8383404', 'nm1071252', 'nm0188483', 'nm0606593', 'nm4029749', 'nm0167029', 'nm4226964', 'nm0506249', 'nm0903985', 'nm2268056', 'nm1022505', 'nm0847651', 'nm0289343', 'nm4064518', 'nm2995527', 'nm0463813', 'nm5710179', 'nm4045170', 'nm7965373', 'nm0310890', 'nm0474119', 'nm0000404', 'nm1036205', 'nm0542471', 'nm2731273', 'nm0815718', 'nm1456484', 'nm0154074', 'nm6541201', 'nm0041226', 'nm0014873', 'nm3536915', 'nm0864438', 'nm0000970', 'nm6473335', 'nm0855039', 'nm0933232', 'nm0000835', 'nm1176898', 'nm0054718', 'nm0974536', 'nm4612207', 'nm1451944', 'nm0001883', 'nm0931477', 'nm3394865', 'nm1387948', 'nm1934618', 'nm1137246', 'nm0383675', 'nm0111588', 'nm0863827', 'nm0020289', 'nm0696559', 'nm0859063', 'nm2978008', 'nm0005448', 'nm0807649', 'nm1466054', 'nm0292098', 'nm0551271', 'nm0055742', 'nm0510418', 'nm1523588', 'nm0249528', 'nm3092660', 'nm0724084', 'nm0610573', 'nm0907885', 'nm0095651', 'nm0446082', 'nm1365137', 'nm0641840', 'nm6802576', 'nm0385644', 'nm0267724', 'nm1035952', 'nm0193657', 'nm5397842', 'nm1438448', 'nm0256920', 'nm7740470', 'nm0280230', 'nm0683227', 'nm0462712', 'nm0875244', 'nm1678063', 'nm2473884', 'nm1529042', 'nm7202658', 'nm2985494', 'nm0560205', 'nm2838530', 'nm0934816', 'nm3718364', 'nm1671551', 'nm0428319', 'nm0035664', 'nm0641729', 'nm0636011', 'nm1137209', 'nm0257702', 'nm0749406', 'nm4658641', 'nm1443845', 'nm0517456', 'nm3608564', 'nm1140791', 'nm1508032', 'nm0101724', 'nm0012128', 'nm2756833', 'nm0005581', 'nm4041725', 'nm2982227', 'nm5134876', 'nm4941772', 'nm5529573', 'nm0425144', 'nm1748634', 'nm1600662', 'nm2572938', 'nm2434449', 'nm0674721', 'nm0471984', 'nm11112753', 'nm1622615', 'nm1785238', 'nm5209463', 'nm7038798', 'nm1103040', 'nm2403111', 'nm0172170', 'nm0555336', 'nm0564878', 'nm1599769', 'nm0559604', 'nm3972092', 'nm1332434', 'nm2020751', 'nm0579084', 'nm9897521', 'nm2460460', 'nm4415666', 'nm0227139', 'nm1327737', 'nm0000133', 'nm0307012', 'nm0149218', 'nm2150007', 'nm0685091', 'nm0259797', 'nm1187952', 'nm2806723', 'nm0705880', 'nm0224366', 'nm0026379', 'nm0382718', 'nm0743595', 'nm0734668', 'nm0869301', 'nm8630499', 'nm2149245', 'nm0080900', 'nm0634366', 'nm1176985', 'nm2361973', 'nm0512278', 'nm0992408', 'nm0283439', 'nm0688100', 'nm1042062', 'nm0637276', 'nm0783879', 'nm3426658', 'nm2440413', 'nm5329879', 'nm2371603', 'nm0302555', 'nm6366586', 'nm0092067', 'nm0926747', 'nm0698413', 'nm1336699', 'nm0002119', 'nm3362333', 'nm0621788', 'nm3620265', 'nm0499082', 'nm2051934', 'nm1046236', 'nm0455133', 'nm0001642', 'nm0436788', 'nm0197682', 'nm9023068', 'nm0800190', 'nm3527497', 'nm0549566', 'nm0002097', 'nm0437097', 'nm0237922', 'nm1388437', 'nm9587581', 'nm1443368', 'nm3434689', 'nm5877026', 'nm0404993', 'nm2783023', 'nm3494276', 'nm0333100', 'nm0470031', 'nm0293362', 'nm0199475', 'nm0969153', 'nm0906374', 'nm0084370', 'nm9499175', 'nm1631269', 'nm2714578', 'nm0145723', 'nm6049376', 'nm0000126', 'nm0754781', 'nm0829638', 'nm1041699', 'nm6952364', 'nm2519517', 'nm1489267', 'nm4320950', 'nm2050215', 'nm0268901', 'nm1862473', 'nm0649178', 'nm0897141', 'nm5613977', 'nm10514197', 'nm1566165', 'nm1074526', 'nm0832314', 'nm0136482', 'nm2600404', 'nm0191142', 'nm0294170', 'nm0699524', 'nm0335674', 'nm0334035', 'nm0682066', 'nm1140865', 'nm8271583', 'nm0029048', 'nm0452851', 'nm0558080', 'nm9550017', 'nm3572488', 'nm5448187', 'nm0120309', 'nm3780754', 'nm0606862', 'nm3740247', 'nm0004941', 'nm0693879', 'nm0498751', 'nm0406754', 'nm3071392', 'nm6895940', 'nm0442844', 'nm0719321', 'nm0645219', 'nm1777471', 'nm1271583', 'nm0104721', 'nm4366656', 'nm0395975', 'nm1365271', 'nm0050994', 'nm5494257', 'nm9003270', 'nm0057466', 'nm0322064', 'nm1456406', 'nm0725052', 'nm3040274', 'nm0675383', 'nm0143168', 'nm0210875', 'nm0518862', 'nm0945372', 'nm4405731', 'nm3105598', 'nm7961189', 'nm1689435', 'nm1453797', 'nm9504144', 'nm0002016', 'nm4703025', 'nm2770523', 'nm3081796', 'nm6050501', 'nm0718572', 'nm0939451', 'nm6470662', 'nm0605662', 'nm1789985', 'nm0432228', 'nm0329904', 'nm2711442', 'nm0279576', 'nm0194571', 'nm0163583', 'nm1956468', 'nm0621572', 'nm1740159', 'nm6704577', 'nm6055284', 'nm8034028', 'nm0434679', 'nm7845582', 'nm1731973', 'nm0973974', 'nm0567852', 'nm3060054', 'nm0065451', 'nm2651529', 'nm0712562', 'nm8275833', 'nm0177522', 'nm6160361', 'nm1387237', 'nm3366907', 'nm0962607', 'nm8047212', 'nm0358679', 'nm0703775', 'nm0000335', 'nm0704644', 'nm0455162', 'nm2267196', 'nm2272556', 'nm3241788', 'nm5566366', 'nm2063807', 'nm0575416', 'nm0472355', 'nm0841799', 'nm1792148', 'nm3284780', 'nm2323489', 'nm1843026', 'nm3983428', 'nm1426894', 'nm5105990', 'nm4626842', 'nm6204442', 'nm0477329', 'nm3987108', 'nm10335253', 'nm2868110', 'nm0793619', 'nm0186845', 'nm6280477', 'nm0060694', 'nm0620124', 'nm0028671', 'nm0632551', 'nm0198408', 'nm7514377', 'nm3527986', 'nm1758108', 'nm0585034', 'nm0654464', 'nm0807898', 'nm0200605', 'nm1812329', 'nm0005134', 'nm0361753', 'nm2562106', 'nm1807425', 'nm2276137', 'nm9340642', 'nm0110518', 'nm8486717', 'nm0619969', 'nm3299784', 'nm1218669', 'nm1345076', 'nm3739226', 'nm4264380', 'nm9230104', 'nm2185462', 'nm0040129', 'nm7468918', 'nm0244296', 'nm4003963', 'nm5933650', 'nm0633732', 'nm1550948', 'nm1651395', 'nm0163806', 'nm0533886', 'nm0436778', 'nm2785808', 'nm1033215', 'nm0841748', 'nm0410400', 'nm1146183', 'nm0882581', 'nm5870567', 'nm0158166', 'nm0122600', 'nm3690576', 'nm5508538', 'nm0684456', 'nm0796045', 'nm0552483', 'nm5796026', 'nm2599038', 'nm4413584', 'nm4778115', 'nm10262074', 'nm1509613', 'nm10098069', 'nm7012706', 'nm2874650', 'nm0028877', 'nm6839810', 'nm0272244', 'nm4718361', 'nm10642275', 'nm5251544', 'nm1315434', 'nm9082946', 'nm0277080', 'nm0005405', 'nm6950688', 'nm4788725', 'nm0065583', 'nm2921935', 'nm0905102', 'nm4646262', 'nm1541944', 'nm0184526', 'nm2953588', 'nm4230952', 'nm0295370', 'nm9073126', 'nm4006123', 'nm1476348', 'nm4225966', 'nm0199717', 'nm1668442', 'nm7760164', 'nm9450710', 'nm0569784', 'nm0553186', 'nm1770476', 'nm0270268', 'nm0052548', 'nm0437032', 'nm0291217', 'nm1981894', 'nm5208874', 'nm3813525', 'nm0631623', 'nm1739800', 'nm0292716', 'nm1543018', 'nm1825214', 'nm8500499', 'nm3186552', 'nm0482936', 'nm1960489', 'nm5305536', 'nm7486936', 'nm5324405', 'nm1484134', 'nm9098312', 'nm0542847', 'nm2862547', 'nm1335714', 'nm5223215', 'nm2739785', 'nm0136927', 'nm0766497', 'nm1977134', 'nm1813653', 'nm0899642', 'nm1603148', 'nm3727237', 'nm2428206', 'nm1399741', 'nm0916075', 'nm1468412', 'nm0160364', 'nm2254074', 'nm0544448', 'nm0632769', 'nm6688991', 'nm1345177', 'nm2048940', 'nm2079911', 'nm0297983', 'nm0602496', 'nm0000179', 'nm3772243', 'nm0351758', 'nm0609356', 'nm5617021', 'nm9233727', 'nm2433736', 'nm0354490', 'nm2261023', 'nm5913800', 'nm1094068', 'nm1535254', 'nm0015935', 'nm2873549', 'nm4115112', 'nm0619287', 'nm0297635', 'nm0297167', 'nm3321401', 'nm4138349', 'nm9768035', 'nm8642573', 'nm0407222', 'nm0124703', 'nm0170550', 'nm0559447', 'nm0142000', 'nm1230286', 'nm0566608', 'nm3982251', 'nm0000529', 'nm0864875', 'nm4737933', 'nm3892914', 'nm0552311', 'nm2213461', 'nm3241020', 'nm1680087', 'nm1279513', 'nm0386472', 'nm0631490', 'nm2377760', 'nm0248725', 'nm0912403', 'nm3155085', 'nm0454064', 'nm0458936', 'nm0559598', 'nm0836055', 'nm2175570', 'nm7786325', 'nm3444806', 'nm0001743', 'nm0590922', 'nm0001378', 'nm0643919', 'nm1974736', 'nm6727723', 'nm0655585', 'nm9309053', 'nm0436624', 'nm0810987', 'nm4489369', 'nm1840504', 'nm0258402', 'nm0607984', 'nm0959993', 'nm3017331', 'nm8713514', 'nm0527341', 'nm1087627', 'nm0494892', 'nm0001185', 'nm0014326', 'nm0004851', 'nm0853995', 'nm10562494', 'nm1818151', 'nm3112957', 'nm0005079', 'nm0464985', 'nm3236733', 'nm7440265', 'nm0292823', 'nm4788664', 'nm0233982', 'nm2259596', 'nm0530771', 'nm0670424', 'nm1568793', 'nm0945697', 'nm5533901', 'nm0884419', 'nm0470029', 'nm0961129', 'nm0867004', 'nm0628170', 'nm0450975', 'nm0798316', 'nm0344892', 'nm0564530', 'nm0906476', 'nm0382859', 'nm6833050', 'nm0848968', 'nm1145592', 'nm0847085', 'nm0419290', 'nm0945312', 'nm1071765', 'nm2663665', 'nm3673463', 'nm8266928', 'nm3003473', 'nm5865313', 'nm0003944', 'nm3881740', 'nm0299210', 'nm1438408', 'nm1694073', 'nm2689910', 'nm6981965', 'nm10261028', 'nm1726566', 'nm0623400', 'nm0131985', 'nm0426365', 'nm2597463', 'nm6292371', 'nm1392637', 'nm0008754', 'nm1575619', 'nm2385935', 'nm0104064', 'nm0743719', 'nm0146181', 'nm0847032', 'nm0783139', 'nm7918125', 'nm1433549', 'nm0841422', 'nm0434250', 'nm3704794', 'nm2340507', 'nm0954900', 'nm2284418', 'nm2846621', 'nm0799777', 'nm5750587', 'nm7498031', 'nm0229923', 'nm7124128', 'nm3852116', 'nm0925045', 'nm4445305', 'nm0299122', 'nm7118506', 'nm0169351', 'nm0881672', 'nm0482397', 'nm3771471', 'nm1039941', 'nm8093081', 'nm0323809', 'nm2791615', 'nm7414534', 'nm0006479', 'nm8179601', 'nm1321026', 'nm0562110', 'nm0001356', 'nm2125540', 'nm1851352', 'nm3369078', 'nm10274726', 'nm0856533', 'nm0379607', 'nm5442863', 'nm0232953', 'nm0542706', 'nm7997459', 'nm5943997', 'nm0352886', 'nm4481399', 'nm1782215', 'nm2765391', 'nm0570523', 'nm0010689', 'nm0646021', 'nm0711110', 'nm0741103', 'nm1159260', 'nm0072476', 'nm0042403', 'nm2435736', 'nm0954224', 'nm0108861', 'nm0715284', 'nm4544739', 'nm0316515', 'nm0227831', 'nm2415834', 'nm0312656', 'nm1129383', 'nm3976653', 'nm0436555', 'nm0451454', 'nm0050298', 'nm0359279', 'nm0059666', 'nm0675442', 'nm0815017', 'nm4725141', 'nm0747865', 'nm0143801', 'nm3961562', 'nm3275985', 'nm0621200', 'nm1408464', 'nm3853842', 'nm2202521', 'nm2841995', 'nm3121545', 'nm2326304', 'nm2636265', 'nm0011609', 'nm2681647', 'nm3936617', 'nm2105137', 'nm0078046', 'nm0501265', 'nm10441655', 'nm6662487', 'nm0457755', 'nm1124112', 'nm0134622', 'nm0586535', 'nm0000642', 'nm0694767', 'nm0028319', 'nm1931994', 'nm0494043', 'nm1166199', 'nm10422079', 'nm0409171', 'nm0186276', 'nm9487427', 'nm3591603', 'nm7042322', 'nm0637588', 'nm6393155', 'nm2608689', 'nm3897655', 'nm0074185', 'nm1444610', 'nm0642688', 'nm0620017', 'nm0319698', 'nm0319530', 'nm1678741', 'nm0297785', 'nm9928113', 'nm0925943', 'nm2041173', 'nm0059123', 'nm0523180', 'nm0386249', 'nm0469095', 'nm1307735', 'nm4630949', 'nm8795253', 'nm0855206', 'nm2494015', 'nm0337338', 'nm8615262', 'nm1829004', 'nm0277139', 'nm10065361', 'nm1262729', 'nm1445490', 'nm0409275', 'nm1789365', 'nm1543633', 'nm1874642', 'nm0768022', 'nm0812440', 'nm1412818', 'nm3114649', 'nm9310100', 'nm10074926', 'nm5101566', 'nm3445989', 'nm1081836', 'nm1563349', 'nm4993677', 'nm4586425', 'nm0451473', 'nm1746882', 'nm2426043', 'nm0909117', 'nm0563307', 'nm5666084', 'nm4130523', 'nm0079354', 'nm10635060', 'nm1699356', 'nm0000928', 'nm0534018', 'nm8966082', 'nm3631965', 'nm5709592', 'nm0437703', 'nm1361610', 'nm0041413', 'nm1111656', 'nm1356967', 'nm0001073', 'nm0310884', 'nm0498994', 'nm1234565', 'nm1062186', 'nm0576851', 'nm0134205', 'nm0804218', 'nm0107748', 'nm0052433', 'nm0061799', 'nm2413617', 'nm0157136', 'nm0376314', 'nm0004770', 'nm1113042', 'nm0412140', 'nm2128249', 'nm7412537', 'nm1387582', 'nm1521605', 'nm9267888', 'nm0612020', 'nm7499762', 'nm5912604', 'nm0001251', 'nm0573926', 'nm0847345', 'nm2738825', 'nm4614211', 'nm0587989', 'nm0957990', 'nm0647961', 'nm0123221', 'nm0947662', 'nm0436776', 'nm0832187', 'nm5481013', 'nm0240513', 'nm1902432', 'nm0854900', 'nm0376588', 'nm1682855', 'nm0848801', 'nm0381302', 'nm0000558', 'nm0000469', 'nm0228537', 'nm1558595', 'nm7140021', 'nm6701408', 'nm0494608', 'nm0864397', 'nm1043338', 'nm5645941', 'nm0195120', 'nm1336848', 'nm4032903', 'nm0076700', 'nm0235877', 'nm5573477', 'nm0438712', 'nm0809448', 'nm1286149', 'nm0241498', 'nm7871918', 'nm6720331', 'nm0016365', 'nm1735127', 'nm9435149', 'nm0255172', 'nm3470960', 'nm0409901', 'nm8648415', 'nm1044899', 'nm0519077', 'nm0378262', 'nm4429511', 'nm0001811', 'nm10090399', 'nm4416788', 'nm1313665', 'nm9797971', 'nm0076342', 'nm0005547', 'nm1047305', 'nm1015118', 'nm2235461', 'nm0179173', 'nm2936993', 'nm9833088', 'nm0009393', 'nm0794232', 'nm0103468', 'nm0504489', 'nm0362327', 'nm4743849', 'nm0960020', 'nm0041940', 'nm8801539', 'nm5307340', 'nm5016878', 'nm0040545', 'nm0000461', 'nm4742563', 'nm1365209', 'nm8235011', 'nm3683843', 'nm1149372', 'nm1435774', 'nm4650119', 'nm0603144', 'nm5881923', 'nm1854386', 'nm0749570', 'nm0416450', 'nm0004724', 'nm1139580', 'nm1107107', 'nm2975490', 'nm0144921', 'nm9312832', 'nm3782888', 'nm1328859', 'nm0793324', 'nm0066972', 'nm1742320', 'nm2520926', 'nm0136789', 'nm0402460', 'nm2867765', 'nm1855380', 'nm4960794', 'nm3124739', 'nm0999117', 'nm0384214', 'nm0047189', 'nm0270214', 'nm8741671', 'nm4358279', 'nm1462031', 'nm0203345', 'nm0501692', 'nm1888447', 'nm3615298', 'nm0003741', 'nm4634881', 'nm1102243', 'nm0390350', 'nm2105079', 'nm0173416', 'nm0648758', 'nm10633854', 'nm3842768', 'nm0000996', 'nm7222514', 'nm0410451', 'nm0021251', 'nm5454693', 'nm0517087', 'nm2356026', 'nm10862143', 'nm0163581', 'nm0916432', 'nm7963643', 'nm0375959', 'nm0804460', 'nm0698018', 'nm8612288', 'nm0095081', 'nm1374680', 'nm1078598', 'nm3729637', 'nm0451917', 'nm6713306', 'nm8618570', 'nm3143083', 'nm0649707', 'nm0002389', 'nm0755984', 'nm0350589', 'nm7856521', 'nm0277965', 'nm2558008', 'nm0000632', 'nm8155642', 'nm2770345', 'nm0569769', 'nm0048687', 'nm0028037', 'nm1811747', 'nm0864946', 'nm0122797', 'nm0277213', 'nm0558750', 'nm6008054', 'nm1235266', 'nm0249931', 'nm2673432', 'nm2676147', 'nm0707431', 'nm0367907', 'nm0393365', 'nm1546196', 'nm1594248', 'nm7121595', 'nm1157048', 'nm0005003', 'nm0051552', 'nm0065323', 'nm0000714', 'nm3414040', 'nm0142145', 'nm5030222', 'nm1105334', 'nm0146455', 'nm0935659', 'nm3974748', 'nm3035728', 'nm0707506', 'nm0000225', 'nm4069613', 'nm3681726', 'nm5021400', 'nm5760637', 'nm0004138', 'nm0411208', 'nm0497190', 'nm8193988', 'nm0629050', 'nm1263635', 'nm0475597', 'nm1751917', 'nm0009002', 'nm2397866', 'nm7514614', 'nm0004715', 'nm2496315', 'nm0626914', 'nm1131775', 'nm0945377', 'nm0422490', 'nm0010808', 'nm10100631', 'nm0000347', 'nm0934724', 'nm0409296', 'nm0539503', 'nm1489689', 'nm1846338', 'nm0699703', 'nm8966071', 'nm0232897', 'nm0336205', 'nm2008156', 'nm2914886', 'nm8419182', 'nm0014858', 'nm3557799', 'nm1713120', 'nm0440374', 'nm3534471', 'nm4295590', 'nm0273033', 'nm0258909', 'nm0895089', 'nm0564669', 'nm2657904', 'nm1418843', 'nm0511429', 'nm2002607', 'nm0036109', 'nm7878021', 'nm0613663', 'nm0802897', 'nm0283565', 'nm0139999', 'nm2122338', 'nm0004929', 'nm4356347', 'nm0234013', 'nm5576756', 'nm0031840', 'nm2631416', 'nm0901833', 'nm6232036', 'nm0340816', 'nm3423873', 'nm0018236', 'nm0388706', 'nm0725274', 'nm0188871', 'nm0084042', 'nm7954502', 'nm5687119', 'nm1107024', 'nm2105276', 'nm0568772', 'nm1284939', 'nm1272533', 'nm1505509', 'nm3329293', 'nm0006610', 'nm6885443', 'nm0000644', 'nm3973010', 'nm0865808', 'nm0163192', 'nm0724757', 'nm0695835', 'nm10025796', 'nm0151105', 'nm0142010', 'nm2091146', 'nm2276951', 'nm0004371', 'nm5822149', 'nm1431747', 'nm1115778', 'nm0818049', 'nm2616820', 'nm0829695', 'nm2237380', 'nm2580291', 'nm6548466', 'nm2318236', 'nm1507978', 'nm2151486', 'nm0476276', 'nm0990972', 'nm0794052', 'nm0416673', 'nm1796083', 'nm0718578', 'nm1711631', 'nm0202966', 'nm0095238', 'nm1355336', 'nm0123030', 'nm1270819', 'nm0084225', 'nm1443341', 'nm1390793', 'nm0590481', 'nm7464339', 'nm4133072', 'nm0000215', 'nm3501519', 'nm1859590', 'nm5705377', 'nm2784764', 'nm10098056', 'nm0165250', 'nm3406760', 'nm0504515', 'nm0698251', 'nm4223610', 'nm0793884', 'nm0001691', 'nm0068160', 'nm0827228', 'nm0804636', 'nm5300015', 'nm0426678', 'nm7995146', 'nm0376234', 'nm4227061', 'nm2619894', 'nm9644942', 'nm0376316', 'nm0928708', 'nm0453447', 'nm0768558', 'nm2563542', 'nm0840720', 'nm0477880', 'nm0000281', 'nm5306798', 'nm0153100', 'nm1159706', 'nm1271019', 'nm1538095', 'nm2291108', 'nm0082700', 'nm0200946', 'nm6400369', 'nm1847232', 'nm7877936', 'nm0879482', 'nm8176507', 'nm0177639', 'nm0851189', 'nm0851311', 'nm1404237', 'nm6770906', 'nm0636020', 'nm6150272', 'nm0130983', 'nm4487793', 'nm4146310', 'nm0178430', 'nm0080524', 'nm0321122', 'nm8162571', 'nm0246152', 'nm0748796', 'nm6261738', 'nm9135974', 'nm3491015', 'nm2738991', 'nm0692255', 'nm1517013', 'nm9533350', 'nm5802332', 'nm6728095', 'nm0295115', 'nm0410907', 'nm2648485', 'nm0741398', 'nm0841214', 'nm0001673', 'nm0401977', 'nm0614045', 'nm3992619', 'nm0000497', 'nm0233499', 'nm9457128', 'nm1792900', 'nm1715371', 'nm0628542', 'nm5405153', 'nm0263945', 'nm0050627', 'nm5143532', 'nm0126260', 'nm4720991', 'nm7411433', 'nm1483349', 'nm0900376', 'nm3874476', 'nm3916153', 'nm0082685', 'nm0445044', 'nm0401502', 'nm9076795', 'nm7781187', 'nm7048131', 'nm0394653', 'nm0928415', 'nm5274994', 'nm1855014', 'nm0974743', 'nm0721772', 'nm0005442', 'nm0240061', 'nm0448587', 'nm0012670', 'nm1565160', 'nm0261413', 'nm0321482', 'nm4552923', 'nm4991796', 'nm2590986', 'nm4471003', 'nm2967701', 'nm2064295', 'nm2691278', 'nm0603485', 'nm1104618', 'nm4648256', 'nm9969750', 'nm2954651', 'nm0737008', 'nm0083487', 'nm0582195', 'nm0085116', 'nm1215750', 'nm1985998', 'nm0160615', 'nm1534770', 'nm0329947', 'nm6162831', 'nm6167472', 'nm2093027', 'nm0493013', 'nm9305290', 'nm0266545', 'nm0453115', 'nm3669989', 'nm0339352', 'nm0829263', 'nm0972979', 'nm10522117', 'nm0547462', 'nm2424938', 'nm0017694', 'nm0416523', 'nm1418935', 'nm0000316', 'nm2842820', 'nm0549826', 'nm3921078', 'nm7190684', 'nm4823334', 'nm9399328', 'nm1000977', 'nm0517016', 'nm9801352', 'nm0269923', 'nm1394381', 'nm0214430', 'nm1966960', 'nm11106541', 'nm6741358', 'nm2882358', 'nm0396183', 'nm1415226', 'nm0701383', 'nm1051247', 'nm1327764', 'nm0569891', 'nm0001413', 'nm0228327', 'nm0137278', 'nm0376157', 'nm0086881', 'nm0155487', 'nm5266769', 'nm0124920', 'nm0387033', 'nm4836118', 'nm0058246', 'nm4730585', 'nm1020835', 'nm0364813', 'nm0494649', 'nm0949016', 'nm5778362', 'nm3023064', 'nm2277114', 'nm0058557', 'nm5045078', 'nm4354811', 'nm1433588', 'nm2847604', 'nm5694871', 'nm0001653', 'nm6835961', 'nm0282310', 'nm0020327', 'nm2316571', 'nm9142695', 'nm0265621', 'nm0729574', 'nm0435682', 'nm0473376', 'nm2088977', 'nm0137262', 'nm0312454', 'nm2174227', 'nm5755187', 'nm0410452', 'nm1064655', 'nm0441747', 'nm0402901', 'nm0001882', 'nm0132491', 'nm5550514', 'nm2556904', 'nm7683830', 'nm2690094', 'nm1238386', 'nm0050106', 'nm1516108', 'nm0001459', 'nm0132301', 'nm10073233', 'nm0050250', 'nm0460843', 'nm3172016', 'nm1066807', 'nm0037309', 'nm4990427', 'nm1900925', 'nm0835688', 'nm6004728', 'nm7142951', 'nm1890822', 'nm0916492', 'nm0911320', 'nm0001217', 'nm2018986', 'nm1605108', 'nm6801212', 'nm0528173', 'nm2995162', 'nm2143884', 'nm0202197', 'nm0840642', 'nm0808606', 'nm0442515', 'nm0112606', 'nm0362534', 'nm0005189', 'nm5693865', 'nm0995783', 'nm3426369', 'nm8696430', 'nm0603586', 'nm9526001', 'nm1894655', 'nm7754045', 'nm4888313', 'nm0684187', 'nm0345050', 'nm3142576', 'nm1229738', 'nm5704020', 'nm0413263', 'nm1305522', 'nm8730822', 'nm0132225', 'nm5100067', 'nm2842869', 'nm3146893', 'nm1508585', 'nm1756131', 'nm4662712', 'nm3642988', 'nm1316418', 'nm0309670', 'nm3150446', 'nm0469107', 'nm0376640', 'nm0637122', 'nm4729535', 'nm0121423', 'nm2500669', 'nm4857461', 'nm0352932', 'nm0304679', 'nm5062484', 'nm5877930', 'nm0680272', 'nm0608994', 'nm0441528', 'nm0074212', 'nm6334661', 'nm0594644', 'nm0765837', 'nm0066028', 'nm0781268', 'nm0240188', 'nm0001786', 'nm1732553', 'nm1648504', 'nm1425155', 'nm0457219', 'nm5597033', 'nm3947193', 'nm1647539', 'nm0353462', 'nm0395196', 'nm0859892', 'nm0113002', 'nm0193408', 'nm1689318', 'nm4048321', 'nm4233597', 'nm1480179', 'nm0728883', 'nm0559640', 'nm1487625', 'nm0008336', 'nm0888654', 'nm0770763', 'nm3888409', 'nm2402639', 'nm2173608', 'nm0675490', 'nm0925508', 'nm1166844', 'nm0921335', 'nm7644798', 'nm4496621', 'nm2799457', 'nm0001513', 'nm0648153', 'nm3206585', 'nm10519639', 'nm4944354', 'nm3262403', 'nm1472156', 'nm2519977', 'nm0415421', 'nm0004850', 'nm0170809', 'nm3081715', 'nm0005093', 'nm0535070', 'nm1699351', 'nm2183882', 'nm0757290', 'nm2574038', 'nm4203625', 'nm0132103', 'nm2184281', 'nm0046400', 'nm0771790', 'nm0781300', 'nm1225250', 'nm0883875', 'nm0376200', 'nm0414255', 'nm0070931', 'nm0323597', 'nm0168187', 'nm0422849', 'nm0004936', 'nm1074245', 'nm2831717', 'nm6180129', 'nm0892941', 'nm0997689', 'nm0833836', 'nm2897891', 'nm2976492', 'nm0726180', 'nm1709030', 'nm0339829', 'nm0407529', 'nm0498278', 'nm0451985', 'nm1767094', 'nm1326307', 'nm0293196', 'nm0365617', 'nm0001079', 'nm2173713', 'nm0278374', 'nm4571370', 'nm2000023', 'nm0069691', 'nm6842705', 'nm1306753', 'nm6167443', 'nm0240564', 'nm0397603', 'nm1185051', 'nm0233449', 'nm0331459', 'nm0833385', 'nm1653243', 'nm0913780', 'nm3529685', 'nm4582537', 'nm8565810', 'nm1591949', 'nm1724747', 'nm0130590', 'nm1452155', 'nm3850525', 'nm1141522', 'nm3449658', 'nm0046133', 'nm0708293', 'nm0408042', 'nm0291819', 'nm1943221', 'nm4532146', 'nm1111560', 'nm0946473', 'nm5835989', 'nm5517956', 'nm5518120', 'nm3673070', 'nm0001002', 'nm8616864', 'nm3118888', 'nm3735485', 'nm0393812', 'nm3469812', 'nm1753818', 'nm1863549', 'nm0005574', 'nm1203648', 'nm4458188', 'nm0215099', 'nm0476678', 'nm2812744', 'nm1271959', 'nm0307732', 'nm3094019', 'nm9428759', 'nm0462882', 'nm2554208', 'nm0005579', 'nm5118077', 'nm2751805', 'nm0333191', 'nm0557281', 'nm1976942', 'nm1370144', 'nm2819240', 'nm4012512', 'nm7656237', 'nm0006670', 'nm4013314', 'nm0924508', 'nm0422045', 'nm0945194', 'nm1441895', 'nm0397006', 'nm0627612', 'nm2544842', 'nm2822213', 'nm5620534', 'nm1308335', 'nm0084113', 'nm0354122', 'nm0472152', 'nm0552756', 'nm0092009', 'nm1441697', 'nm1799050', 'nm0104960', 'nm3679171', 'nm0046411', 'nm0434444', 'nm7455719', 'nm0152059', 'nm0559444', 'nm0547570', 'nm0005513', 'nm0689685', 'nm2226321', 'nm0569598', 'nm2586644', 'nm10498911', 'nm3488775', 'nm2829220', 'nm0008533', 'nm4065615', 'nm1501009', 'nm0116252', 'nm0522877', 'nm0037750', 'nm10738395', 'nm5409800', 'nm0621699', 'nm0182250', 'nm1727206', 'nm7227409', 'nm1620744', 'nm9483183', 'nm2956445', 'nm1446916', 'nm0579696', 'nm7537492', 'nm1268354', 'nm0922590', 'nm0051103', 'nm0059431', 'nm0325146', 'nm6124638', 'nm1727317', 'nm0149950', 'nm1505157', 'nm0531327', 'nm6762787', 'nm0179479', 'nm0137506', 'nm0443058', 'nm0452860', 'nm0566393', 'nm5365832', 'nm0542560', 'nm1512166', 'nm1150155', 'nm0714236', 'nm1408690', 'nm0172198', 'nm5451826', 'nm4953382', 'nm2226659', 'nm1635193', 'nm0946382', 'nm0050908', 'nm1249256', 'nm4978139', 'nm1440402', 'nm6179510', 'nm7815831', 'nm0199965', 'nm0648449', 'nm0193631', 'nm4726568', 'nm2499064', 'nm3866364', 'nm0828213', 'nm0152120', 'nm1554650', 'nm8942319', 'nm0189661', 'nm3287818', 'nm0619200', 'nm1932598', 'nm0224614', 'nm8693852', 'nm2455320', 'nm0840022', 'nm5460920', 'nm0540416', 'nm1783343', 'nm0642601', 'nm9560810', 'nm0270250', 'nm1601080', 'nm0001626', 'nm0222732', 'nm0367846', 'nm0726223', 'nm5979973', 'nm1071585', 'nm0002269', 'nm5620096', 'nm1631608', 'nm0353750', 'nm2367277', 'nm4231714', 'nm0513057', 'nm0500246', 'nm3402816', 'nm0080212', 'nm2932530', 'nm0044837', 'nm1176037', 'nm1221047', 'nm3115443', 'nm2977151', 'nm3080304', 'nm0737248', 'nm5372912', 'nm9698931', 'nm0000113', 'nm0407495', 'nm1879644', 'nm7440201', 'nm1245403', 'nm10100630', 'nm2540995', 'nm1167373', 'nm0414279', 'nm0177320', 'nm11095493', 'nm6209228', 'nm0722676', 'nm2583829', 'nm1883210', 'nm2396034', 'nm0300047', 'nm0918396', 'nm0586528', 'nm7941703', 'nm4288874', 'nm0001240', 'nm0865059', 'nm0000306', 'nm1454359', 'nm0922743', 'nm8717875', 'nm1350566', 'nm8993181', 'nm0594074', 'nm6506265', 'nm7901359', 'nm0677037', 'nm1679934', 'nm0756964', 'nm7035582', 'nm4851077', 'nm0258551', 'nm0708381', 'nm0000553', 'nm6752429', 'nm6998012', 'nm1866529', 'nm0465827', 'nm0522275', 'nm3332347', 'nm9052276', 'nm3335332', 'nm3164835', 'nm3487701', 'nm0059935', 'nm8193575', 'nm0216594', 'nm0363641', 'nm0388273', 'nm5805496', 'nm4893056', 'nm0564167', 'nm0005119', 'nm1465921', 'nm0000813', 'nm0435365', 'nm0088144', 'nm2396133', 'nm0881631', 'nm1040968', 'nm0622412', 'nm6929959', 'nm6472049', 'nm3204147', 'nm1035511', 'nm1177914', 'nm6179511', 'nm2403063', 'nm0951216', 'nm4535071', 'nm0853301', 'nm0455404', 'nm3340306', 'nm1632482', 'nm5213224', 'nm0421822', 'nm0514643', 'nm0252485', 'nm3596941', 'nm0668362', 'nm6450743', 'nm0926165', 'nm4178624', 'nm0004562', 'nm0113983', 'nm0312064', 'nm1684869', 'nm0383422', 'nm2184218', 'nm6996234', 'nm1517123', 'nm8268750', 'nm8246857', 'nm0747346', 'nm0455009', 'nm0393088', 'nm0157534', 'nm0741648', 'nm5950716', 'nm0139026', 'nm0556343', 'nm5169992', 'nm4514080', 'nm9203117', 'nm0455745', 'nm0445954', 'nm0501837', 'nm2138080', 'nm0012183', 'nm4354775', 'nm0926209', 'nm4392718', 'nm0934902', 'nm1708798', 'nm3458979', 'nm0589767', 'nm0001182', 'nm3006131', 'nm0042897', 'nm0343672', 'nm1988150', 'nm0440377', 'nm0015944', 'nm2377684', 'nm0670408', 'nm7233292', 'nm1663325', 'nm0846192', 'nm1027050', 'nm2900314', 'nm0267506', 'nm0819791', 'nm0066127', 'nm5926386', 'nm0780585', 'nm1423990', 'nm4714260', 'nm0004914', 'nm0417645', 'nm0879649', 'nm2228622', 'nm0846961', 'nm6476896', 'nm0875693', 'nm2735290', 'nm4360764', 'nm0498447', 'nm3201611', 'nm0605079', 'nm4770670', 'nm0238546', 'nm4428014', 'nm1047445', 'nm6721038', 'nm1056623', 'nm1728847', 'nm1854222', 'nm6049099', 'nm2450492', 'nm1368509', 'nm0234731', 'nm0441109', 'nm0451712', 'nm1384240', 'nm1716724', 'nm0026700', 'nm0743501', 'nm0509523', 'nm1430154', 'nm5665803', 'nm10440671', 'nm1921406', 'nm5011859', 'nm0602445', 'nm0932831', 'nm0202081', 'nm0308744', 'nm0110359', 'nm2670679', 'nm2594781', 'nm0048389', 'nm3907105', 'nm5260806', 'nm2800391', 'nm1105762', 'nm0784523', 'nm2760504', 'nm0214699', 'nm5976288', 'nm8298041', 'nm1523309', 'nm0131781', 'nm0152839', 'nm0680073', 'nm1105436', 'nm3811125', 'nm4987686', 'nm1488849', 'nm1365213', 'nm1489733', 'nm4802218', 'nm0461498', 'nm0729556', 'nm1968493', 'nm1678630', 'nm2125377', 'nm6981978', 'nm8138347', 'nm1132505', 'nm1415698', 'nm1458897', 'nm10018745', 'nm0677840', 'nm2646450', 'nm0457110', 'nm3377358', 'nm1192719', 'nm0840501', 'nm0455058', 'nm9507419', 'nm4209518', 'nm2950682', 'nm0675354', 'nm4648426', 'nm0261805', 'nm0758608', 'nm1724323', 'nm0277116', 'nm3975783', 'nm1439524', 'nm5713144', 'nm8108902', 'nm6343162', 'nm8834265', 'nm4918711', 'nm0783734', 'nm1177103', 'nm2917046', 'nm0600886', 'nm0848964', 'nm0501949', 'nm0034309', 'nm5484779', 'nm1051100', 'nm2656869', 'nm4963042', 'nm1982040', 'nm1663491', 'nm0456909', 'nm0041083', 'nm0479527', 'nm1345890', 'nm2569233', 'nm3096402', 'nm4877001', 'nm3362329', 'nm0325761', 'nm0116897', 'nm0067503', 'nm0387319', 'nm4180162', 'nm4209908', 'nm2914258', 'nm1992886', 'nm1364922', 'nm1254084', 'nm2135954', 'nm0794493', 'nm2216743', 'nm0693933', 'nm0998995', 'nm0620383', 'nm3592166', 'nm1441556', 'nm0958262', 'nm1868320', 'nm5183859', 'nm9151913', 'nm1046048', 'nm1058720', 'nm2976693', 'nm8781367', 'nm0468295', 'nm1770301', 'nm0271658', 'nm0586850', 'nm7124125', 'nm0948917', 'nm5836557', 'nm1230837', 'nm0685527', 'nm1682741', 'nm0000422', 'nm0723589', 'nm1307432', 'nm3940521', 'nm4974834', 'nm0068407', 'nm1445143', 'nm0175758', 'nm0001738', 'nm0296087', 'nm0009811', 'nm0372176', 'nm0001652', 'nm7786317', 'nm1074596', 'nm7250205', 'nm2616557', 'nm2033736', 'nm3220568', 'nm0000531', 'nm7437576', 'nm1533429', 'nm0088227', 'nm1376171', 'nm0010806', 'nm6705101', 'nm0339034', 'nm1443837', 'nm7995761', 'nm1322261', 'nm0022771', 'nm5315337', 'nm0218012', 'nm0793195', 'nm0484968', 'nm8708705', 'nm0405545', 'nm2564211', 'nm0233209', 'nm9715264', 'nm0347163', 'nm0279896', 'nm0237486', 'nm2894082', 'nm0000140', 'nm7429490', 'nm1130970', 'nm2348494', 'nm0712570', 'nm0463403', 'nm6629914', 'nm5406554', 'nm0376860', 'nm8396937', 'nm0235115', 'nm1429242', 'nm6898202', 'nm0636044', 'nm6665877', 'nm1056471', 'nm0085428', 'nm0482141', 'nm10298461', 'nm0644406', 'nm3407176', 'nm0971348', 'nm3532853', 'nm0214661', 'nm3526440', 'nm2706831', 'nm0822752', 'nm4733696', 'nm0103208', 'nm7501863', 'nm1403974', 'nm0565561', 'nm1150356', 'nm1997225', 'nm5411297', 'nm0408189', 'nm0726492', 'nm0105632', 'nm0253068', 'nm1290102', 'nm0027882', 'nm8621968', 'nm0330719', 'nm0641932', 'nm0000638', 'nm7770751', 'nm10853838', 'nm0855377', 'nm6016511', 'nm1465764', 'nm0922026', 'nm1655719', 'nm2429499', 'nm0503567', 'nm0458350', 'nm3017448', 'nm0571259', 'nm10611487', 'nm6052388', 'nm1732501', 'nm0058799', 'nm2467428', 'nm0025900', 'nm0000357', 'nm2344361', 'nm0222426', 'nm0263458', 'nm0002071', 'nm0015961', 'nm0761848', 'nm0945514', 'nm7848990', 'nm2657171', 'nm0446287', 'nm0328917', 'nm0072124', 'nm2763613', 'nm1059664', 'nm0568168', 'nm3229215', 'nm0679984', 'nm0454236', 'nm0220388', 'nm0001778', 'nm4333921', 'nm0946474', 'nm4691377', 'nm0477145', 'nm0945443', 'nm1533894', 'nm1603129', 'nm1248714', 'nm1039377', 'nm0054677', 'nm5076257', 'nm5389637', 'nm0111756', 'nm1478745', 'nm0900710', 'nm0452834', 'nm0571405', 'nm0913828', 'nm0476415', 'nm9748551', 'nm0111887', 'nm7498029', 'nm0577935', 'nm1365210', 'nm1835936', 'nm4995707', 'nm1972695', 'nm4312431', 'nm1705486', 'nm1413724', 'nm8632962', 'nm0313364', 'nm1179714', 'nm0281487', 'nm6810309', 'nm0215980', 'nm0390775', 'nm1311884', 'nm1123750', 'nm0441534', 'nm0685603', 'nm4218361', 'nm1435382', 'nm7588660', 'nm0325843', 'nm0103299', 'nm0386208', 'nm6048951', 'nm0475986', 'nm2293748', 'nm2919822', 'nm0714083', 'nm1336952', 'nm1036449', 'nm8862093', 'nm0620662', 'nm2734119', 'nm6947281', 'nm0692986', 'nm1052596', 'nm1048128', 'nm3273758', 'nm0471136', 'nm1163308', 'nm0559551', 'nm0005069', 'nm0304265', 'nm0249470', 'nm7453184', 'nm0320760', 'nm2947154', 'nm0915818', 'nm7741900', 'nm5600708', 'nm7012707', 'nm2763514', 'nm1875718', 'nm0478345', 'nm0319019', 'nm5233329', 'nm0076899', 'nm0862071', 'nm0337945', 'nm0594364', 'nm0293342', 'nm10901406', 'nm4996199', 'nm7233971', 'nm1365013', 'nm9289201', 'nm1923166', 'nm4522923', 'nm4871503', 'nm0783936', 'nm0005176', 'nm0204919', 'nm0449398', 'nm2212022', 'nm0609182', 'nm0000379', 'nm6268350', 'nm0959972', 'nm1617276', 'nm6630920', 'nm5410860', 'nm0004951', 'nm8226248', 'nm0451547', 'nm0580351', 'nm1833838', 'nm1123877', 'nm0174766', 'nm9904148', 'nm2182941', 'nm6429056', 'nm3154005', 'nm0407965', 'nm0025309', 'nm0391736', 'nm2452799', 'nm0006851', 'nm3022096', 'nm0000551', 'nm2975382', 'nm3137355', 'nm0397928', 'nm0794365', 'nm7227799', 'nm0924964', 'nm0135201', 'nm1477060', 'nm1011745', 'nm0110134', 'nm0087504', 'nm6049392', 'nm0346886', 'nm5232246', 'nm0997115', 'nm0121386', 'nm1232712', 'nm0655455', 'nm1283586', 'nm0633027', 'nm3633702', 'nm7653956', 'nm1799492', 'nm4015241', 'nm1782667', 'nm0594712', 'nm0913585', 'nm0005008', 'nm0282492', 'nm1247279', 'nm2284315', 'nm0900120', 'nm5281460', 'nm1684451', 'nm5081074', 'nm1585273', 'nm0000678', 'nm3009315', 'nm2623915', 'nm3509465', 'nm0445420', 'nm0051761', 'nm3080987', 'nm4444484', 'nm0590195', 'nm3729774', 'nm8937545', 'nm1536605', 'nm0098013', 'nm0063999', 'nm0596056', 'nm0001773', 'nm5056213', 'nm1455699', 'nm0569593', 'nm0791774', 'nm1152733', 'nm0752539', 'nm5813285', 'nm8002676', 'nm5827389', 'nm1495754', 'nm3695191', 'nm2100109', 'nm0841448', 'nm0257944', 'nm0946148', 'nm5719834', 'nm0001849', 'nm0750276', 'nm0104476', 'nm0822783', 'nm0591576', 'nm4508511', 'nm1706767', 'nm8616862', 'nm0594420', 'nm0221013', 'nm1316067', 'nm0633788', 'nm2611263', 'nm1795934', 'nm0160572', 'nm0569048', 'nm2742529', 'nm0329060', 'nm6057077', 'nm0480971', 'nm2801835', 'nm1564222', 'nm0001001', 'nm3068383', 'nm0235960', 'nm2332844', 'nm7925435', 'nm1141558', 'nm1565014', 'nm0465532', 'nm0833405', 'nm1065229', 'nm0394054', 'nm5176753', 'nm0430107', 'nm0310788', 'nm1055362', 'nm0933759', 'nm0636046', 'nm2780278', 'nm9721906', 'nm0732900', 'nm8165244', 'nm0895417', 'nm0354937', 'nm0170306', 'nm0424527', 'nm0875620', 'nm0788577', 'nm1123840', 'nm7500354', 'nm0216867', 'nm10237256', 'nm7018752', 'nm0477975', 'nm4110159', 'nm7918124', 'nm6692714', 'nm0628236', 'nm0071855', 'nm0362735', 'nm1776621', 'nm5822027', 'nm0021993', 'nm1930273', 'nm0005474', 'nm0479745', 'nm0599437', 'nm0664499', 'nm0004517', 'nm4830183', 'nm1232282', 'nm0042524', 'nm0856799', 'nm2152705', 'nm0848678', 'nm0864394', 'nm3545872', 'nm0867657', 'nm1179677', 'nm0151963', 'nm0128377', 'nm0443373', 'nm0870439', 'nm9407525', 'nm0186488', 'nm1689615', 'nm0000518', 'nm2081019', 'nm0559567', 'nm3370158', 'nm7269131', 'nm0065081', 'nm1107172', 'nm0726284', 'nm2214913', 'nm1273719', 'nm0511051', 'nm0212061', 'nm6150274', 'nm1708346', 'nm0071680', 'nm2518469', 'nm0585640', 'nm0869088', 'nm1205183', 'nm2848016', 'nm8746260', 'nm0096721', 'nm0449554', 'nm0369617', 'nm3354156', 'nm9228288', 'nm7886645', 'nm1050523', 'nm0725956', 'nm0822812', 'nm3070140', 'nm1622063', 'nm1122077', 'nm0899062', 'nm2504175', 'nm1845347', 'nm3695548', 'nm4023073', 'nm1523727', 'nm9820452', 'nm3134438', 'nm5597253', 'nm7659217', 'nm0895548', 'nm3377114', 'nm4715422', 'nm5389489', 'nm1655305', 'nm1758915', 'nm0107528', 'nm1106954', 'nm5383129', 'nm1185734', 'nm0923610', 'nm0785108', 'nm1057933', 'nm7663764', 'nm1775664', 'nm0311473', 'nm0837358', 'nm10419149', 'nm1243009', 'nm2593155', 'nm0937930', 'nm4415642', 'nm0516496', 'nm2480407', 'nm6046332', 'nm4785118', 'nm1824246', 'nm8057967', 'nm0003214', 'nm10529485', 'nm7135632', 'nm0234162', 'nm5821081', 'nm0001419', 'nm0528717', 'nm0945830', 'nm4891474', 'nm0066020', 'nm2898087', 'nm9081106', 'nm4203413', 'nm1626268', 'nm1866268', 'nm3191505', 'nm0748189', 'nm0409287', 'nm0814070', 'nm0442953', 'nm0005277', 'nm0019997', 'nm2385262', 'nm4589246', 'nm0808401', 'nm0005452', 'nm0638361', 'nm1851676', 'nm0669681', 'nm0033400', 'nm0088285', 'nm0146903', 'nm4146013', 'nm0535329', 'nm1944501', 'nm1289171', 'nm1543110', 'nm0297873', 'nm0945280', 'nm1291806', 'nm1495107', 'nm2167665', 'nm8034423', 'nm0570487', 'nm8023917', 'nm4865756', 'nm2995691', 'nm0077139', 'nm1223990', 'nm0016432', 'nm0940158', 'nm7585753', 'nm2055898', 'nm1388851', 'nm0005202', 'nm0865811', 'nm4282004', 'nm6213191', 'nm1175262', 'nm0005169', 'nm0751086', 'nm0637543', 'nm4335476', 'nm5181418', 'nm1807222', 'nm0000100', 'nm0324397', 'nm8870815', 'nm7751235', 'nm0689088', 'nm0011095', 'nm0134449', 'nm1009233', 'nm0852848', 'nm0369184', 'nm0221839', 'nm0281068', 'nm0400673', 'nm1779362', 'nm6232765', 'nm0840721', 'nm1310685', 'nm0726184', 'nm0146915', 'nm0990448', 'nm7105286', 'nm0408834', 'nm0871876', 'nm5617712', 'nm0760816', 'nm3674939', 'nm0058175', 'nm5109009', 'nm2440143', 'nm0001772', 'nm2792984', 'nm0175262', 'nm0680108', 'nm8394011', 'nm7905027', 'nm0150140', 'nm0232357', 'nm1328988', 'nm1215197', 'nm0462086', 'nm0125511', 'nm1785499', 'nm0016141', 'nm0373388', 'nm1057696', 'nm0035514', 'nm1234046', 'nm0168339', 'nm7586185', 'nm1040716', 'nm5110348', 'nm1232416', 'nm2187949', 'nm0407454', 'nm4652186', 'nm5137121', 'nm0960022', 'nm2605338', 'nm7444133', 'nm1499974', 'nm1216945', 'nm0033639', 'nm2450899', 'nm9067616', 'nm1047968', 'nm2445570', 'nm0605714', 'nm0412124', 'nm4042509', 'nm1272082', 'nm2419392', 'nm0356891', 'nm2437267', 'nm0341043', 'nm2055544', 'nm2597741', 'nm1305020', 'nm9860515', 'nm0238665', 'nm4574190', 'nm10148875', 'nm0561189', 'nm2239139', 'nm0901346', 'nm0945359', 'nm0118313', 'nm0782143', 'nm1197839', 'nm1773182', 'nm0492200', 'nm9033281', 'nm2048749', 'nm4727372', 'nm0000535', 'nm4231230', 'nm0767991', 'nm1382812', 'nm0130774', 'nm0761911', 'nm0816950', 'nm0120905', 'nm0407433', 'nm1203697', 'nm1073433', 'nm4048190', 'nm0005120', 'nm2433321', 'nm0477127', 'nm0090464', 'nm3560109', 'nm8984285', 'nm0012948', 'nm1533630', 'nm0278096', 'nm1095672', 'nm0734236', 'nm0053392', 'nm0047375', 'nm0241885', 'nm4658807', 'nm0465116', 'nm0562857', 'nm0949440', 'nm0860117', 'nm0161075', 'nm0001116', 'nm2324451', 'nm6952226', 'nm2612728', 'nm6484816', 'nm1168503', 'nm0487010', 'nm1871866', 'nm0337751', 'nm1545471', 'nm0643703', 'nm2183806', 'nm0048667', 'nm0303900', 'nm0745186', 'nm4740113', 'nm0004802', 'nm3014649', 'nm2867434', 'nm0001368', 'nm2647681', 'nm0091493', 'nm8432350', 'nm5658931', 'nm0515741', 'nm2924241', 'nm1891168', 'nm6746394', 'nm10352735', 'nm5335162', 'nm1758883', 'nm0625372', 'nm1597011', 'nm0352374', 'nm0723982', 'nm4906333', 'nm6476879', 'nm0806798', 'nm0605284', 'nm4153415', 'nm0168604', 'nm0667326', 'nm0735743', 'nm3110296', 'nm2964162', 'nm0992527', 'nm0432617', 'nm2545353', 'nm0005294', 'nm1854102', 'nm0191708', 'nm0449215', 'nm0945650', 'nm0476117', 'nm0429069', 'nm2790462', 'nm0806430', 'nm1379850', 'nm4325181', 'nm0076453', 'nm3333977', 'nm9303481', 'nm1465240', 'nm9398937', 'nm0365201', 'nm1380272', 'nm0788009', 'nm4649669', 'nm0904641', 'nm0526581', 'nm2353731', 'nm0620936', 'nm3511192', 'nm1936792', 'nm0584409', 'nm0070153', 'nm4940082', 'nm0004805', 'nm8934294', 'nm0535854', 'nm0565366', 'nm3602913', 'nm3646875', 'nm2659858', 'nm2086197', 'nm0055549', 'nm1363595', 'nm0793474', 'nm7962819', 'nm0592756', 'nm8347096', 'nm0334897', 'nm0620964', 'nm10098528', 'nm4994640', 'nm0001842', 'nm1467263', 'nm4468244', 'nm5246666', 'nm0443856', 'nm1322843', 'nm0497891', 'nm0172636', 'nm2289594', 'nm6446676', 'nm1072555', 'nm2161135', 'nm0925768', 'nm0000032', 'nm4572611', 'nm0536281', 'nm3117369', 'nm0785055', 'nm0064749', 'nm0707816', 'nm8358946', 'nm1246831', 'nm10029349', 'nm4612727', 'nm0083671', 'nm9373367', 'nm0795985', 'nm8639658', 'nm0821786', 'nm0659811', 'nm6004732', 'nm1154922', 'nm1143264', 'nm0448322', 'nm7111066', 'nm0947073', 'nm0571066', 'nm0946179', 'nm0051351', 'nm6757268', 'nm0245359', 'nm1683003', 'nm1399925', 'nm1058713', 'nm3277599', 'nm0184308', 'nm5544769', 'nm2456357', 'nm0520248', 'nm4858403', 'nm0564389', 'nm6587845', 'nm0868039', 'nm0101614', 'nm0160049', 'nm4873659', 'nm1201337', 'nm0470121', 'nm0125795', 'nm0001748', 'nm0817287', 'nm0991600', 'nm0371190', 'nm0340485', 'nm1521639', 'nm7633505', 'nm2949805', 'nm0351992', 'nm0001037', 'nm0452844', 'nm3524318', 'nm0476889', 'nm1169179', 'nm1545196', 'nm0866697', 'nm0408771', 'nm0256258', 'nm4871754', 'nm1879428', 'nm1002867', 'nm0796150', 'nm0348965', 'nm0443509', 'nm6588736', 'nm0591528', 'nm1402248', 'nm2423302', 'nm7304687', 'nm0040844', 'nm1129388', 'nm0410884', 'nm0177802', 'nm0327097', 'nm2402375', 'nm1517688', 'nm0122886', 'nm1426797', 'nm1057195', 'nm2854756', 'nm4723445', 'nm3007529', 'nm4071639', 'nm0502073', 'nm0651540', 'nm9463150', 'nm0149942', 'nm0297994', 'nm2593317', 'nm1959716', 'nm3254401', 'nm2453309', 'nm3930199', 'nm4629875', 'nm0443286', 'nm3905650', 'nm1049682', 'nm1477053', 'nm8692130', 'nm10273089', 'nm1152620', 'nm0129492', 'nm1039515', 'nm2960081', 'nm6639617', 'nm1034076', 'nm1351987', 'nm0685305', 'nm6793644', 'nm1465020', 'nm1027986', 'nm0645500', 'nm0620384', 'nm3117835', 'nm0653780', 'nm1641251', 'nm0790551', 'nm1525574', 'nm0519680', 'nm1031237', 'nm1086483', 'nm1328775', 'nm9715269', 'nm0828186', 'nm6665695', 'nm0297804', 'nm2102798', 'nm5280810', 'nm4272103', 'nm0885891', 'nm1463040', 'nm2913549', 'nm0034339', 'nm2428969', 'nm0071916', 'nm4438173', 'nm1711418', 'nm0503921', 'nm0588096', 'nm0824364', 'nm5093623', 'nm1581081', 'nm8095190', 'nm0032749', 'nm10324523', 'nm0467690', 'nm0850096', 'nm1767946', 'nm0353810', 'nm0281212', 'nm0321775', 'nm1982047', 'nm0065159', 'nm4831993', 'nm0959933', 'nm1222794', 'nm1860337', 'nm2781153', 'nm1549488', 'nm0632793', 'nm2765191', 'nm0594246', 'nm3435683', 'nm3163952', 'nm2623692', 'nm0355910', 'nm0141348', 'nm4475603', 'nm7763820', 'nm0355663', 'nm0340973', 'nm0004706', 'nm0043041', 'nm0561019', 'nm8804562', 'nm9148618', 'nm0374991', 'nm0029617', 'nm1216541', 'nm0507451', 'nm1903485', 'nm0329029', 'nm8454490', 'nm1563697', 'nm0842812', 'nm2953752', 'nm10655861', 'nm1140416', 'nm0293509', 'nm3305444', 'nm0517770', 'nm4950448', 'nm1063029', 'nm0834626', 'nm0299956', 'nm0130536', 'nm0920272', 'nm0000618', 'nm1740127', 'nm0191270', 'nm2589866', 'nm3293819', 'nm0701746', 'nm1218739', 'nm0849050', 'nm0642145', 'nm1486726', 'nm0970786', 'nm0138354', 'nm0266996', 'nm2794747', 'nm6193712', 'nm6370684', 'nm0575728', 'nm0005571', 'nm3827460', 'nm6966251', 'nm2395586', 'nm0501889', 'nm3265539', 'nm0883169', 'nm0750184', 'nm0403628', 'nm0407970', 'nm0728776', 'nm0050563', 'nm8175696', 'nm1918017', 'nm0840632', 'nm7847615', 'nm2428462', 'nm8200235', 'nm8638689', 'nm0463158', 'nm0071900', 'nm3921765', 'nm6916518', 'nm4275012', 'nm5694997', 'nm3550466', 'nm1695985', 'nm2921481', 'nm1134445', 'nm0001345', 'nm7109195', 'nm0619938', 'nm0583376', 'nm5684787', 'nm0123553', 'nm0394662', 'nm0001548', 'nm10226685', 'nm1043272', 'nm3818521', 'nm11079161', 'nm0334179', 'nm2268818', 'nm0394251', 'nm0407007', 'nm0818934', 'nm8794833', 'nm0016304', 'nm4857717', 'nm0171660', 'nm3471967', 'nm3475450', 'nm8651353', 'nm0768620', 'nm0002033', 'nm6013929', 'nm0956757', 'nm0335328', 'nm1139297', 'nm0424666', 'nm0339460', 'nm4219134', 'nm0105284', 'nm6078525', 'nm1677708', 'nm1031611', 'nm0465994', 'nm4987820', 'nm3683970', 'nm0086840', 'nm9692860', 'nm10056755', 'nm2509609', 'nm0733500', 'nm0236952', 'nm3242564', 'nm3596867', 'nm1790890', 'nm2699093', 'nm8337120', 'nm0566787', 'nm0370582', 'nm0514648', 'nm4624046', 'nm0288944', 'nm1966493', 'nm3454095', 'nm1011131', 'nm0952801', 'nm1599813', 'nm1375717', 'nm0409291', 'nm3883778', 'nm0248267', 'nm0004815', 'nm5694766', 'nm0167995', 'nm0113900', 'nm0000526', 'nm0387752', 'nm1666124', 'nm3055854', 'nm0049280', 'nm4632308', 'nm1898126', 'nm4871053', 'nm4641340', 'nm1332470', 'nm0846488', 'nm0272191', 'nm6984185', 'nm0074220', 'nm2893431', 'nm4228345', 'nm0424203', 'nm0230004', 'nm1074164', 'nm1894391', 'nm0189468', 'nm0743605', 'nm2252390', 'nm10295186', 'nm3453830', 'nm0136547', 'nm2506728', 'nm0072829', 'nm2467883', 'nm7054110', 'nm8019227', 'nm0938893', 'nm10650063', 'nm0505044', 'nm1080077', 'nm0236983', 'nm0270786', 'nm0457213', 'nm0794060', 'nm0041828', 'nm1783075', 'nm3372967', 'nm2296408', 'nm0419403', 'nm0485333', 'nm2332749', 'nm0168642', 'nm0793987', 'nm2932165', 'nm0510022', 'nm0223227', 'nm4358820', 'nm0367277', 'nm9606756', 'nm0001855', 'nm7858309', 'nm3108706', 'nm0575974', 'nm4690291', 'nm7359799', 'nm1240448', 'nm0677139', 'nm0643449', 'nm3297518', 'nm0489834', 'nm0865058', 'nm1292126', 'nm0684442', 'nm1254082', 'nm2308096', 'nm0881408', 'nm1144516', 'nm3678024', 'nm2536801', 'nm0643799', 'nm5020857', 'nm1099016', 'nm4275455', 'nm0868064', 'nm0435742', 'nm0004825', 'nm3941112', 'nm0001458', 'nm1091445', 'nm0220635', 'nm0020436', 'nm0228356', 'nm1779278', 'nm7153536', 'nm1840656', 'nm0825401', 'nm1873559', 'nm1196625', 'nm2322192', 'nm0245945', 'nm0757058', 'nm0550578', 'nm0377243', 'nm0874887', 'nm0230064', 'nm10148819', 'nm2350084', 'nm1040874', 'nm0959935', 'nm0001444', 'nm0299149', 'nm0666547', 'nm3315369', 'nm1226909', 'nm0104787', 'nm5097979', 'nm4900218', 'nm0573172', 'nm0012215', 'nm0473873', 'nm0675730', 'nm5312818', 'nm1679994', 'nm1087164', 'nm0095368', 'nm4270854', 'nm1355776', 'nm2274825', 'nm5996881', 'nm3282319', 'nm0004487', 'nm6205681', 'nm2569832', 'nm0765331', 'nm0005500', 'nm1019671', 'nm0110068', 'nm0809174', 'nm0145817', 'nm2875143', 'nm0122634', 'nm3344723', 'nm0544650', 'nm0336125', 'nm1034266', 'nm2173078', 'nm1372565', 'nm4800564', 'nm3238976', 'nm0838735', 'nm3448169', 'nm3062187', 'nm0878760', 'nm3014645', 'nm9906329', 'nm0697633', 'nm0073765', 'nm2026827', 'nm0068166', 'nm5616234', 'nm4909099', 'nm0476922', 'nm0408029', 'nm6197372', 'nm2303981', 'nm0181703', 'nm7412345', 'nm0605252', 'nm5022193', 'nm0058023', 'nm5628972', 'nm2874420', 'nm4564958', 'nm2454912', 'nm0594276', 'nm7438708', 'nm1930672', 'nm1535043', 'nm0419645', 'nm1197519', 'nm0071928', 'nm1247660', 'nm5001430', 'nm8973222', 'nm0089310', 'nm7811111', 'nm7280341', 'nm9663910', 'nm4446467', 'nm0040014', 'nm4582985', 'nm8015925', 'nm0172382', 'nm0296546', 'nm2864438', 'nm4515899', 'nm0276360', 'nm0553014', 'nm1069584', 'nm3852876', 'nm3774587', 'nm4685345', 'nm3617620', 'nm6765141', 'nm0159594', 'nm0177528', 'nm2999868', 'nm0033977', 'nm0000327', 'nm0900638', 'nm2106637', 'nm0537410', 'nm0940974', 'nm0857849', 'nm0001672', 'nm0000532', 'nm3373900', 'nm1695662', 'nm1686152', 'nm3393222', 'nm0004857', 'nm2808016', 'nm1294836', 'nm3453773', 'nm0646185', 'nm3943846', 'nm6137580', 'nm0533489', 'nm1495675', 'nm3306276', 'nm0280222', 'nm1254499', 'nm1364905', 'nm4748352', 'nm1029439', 'nm3544656', 'nm0165159', 'nm5906711', 'nm1572307', 'nm1148951', 'nm7502119', 'nm1376019', 'nm0367737', 'nm5212533', 'nm0796732', 'nm0555225', 'nm1728099', 'nm2802945', 'nm2144137', 'nm2454496', 'nm1330648', 'nm1945594', 'nm0018510', 'nm0866181', 'nm0557956', 'nm7774729', 'nm0600531', 'nm1337719', 'nm0002364', 'nm9233009', 'nm0034843', 'nm0813015', 'nm0738951', 'nm0731195', 'nm0000594', 'nm0580271', 'nm0396467', 'nm0613440', 'nm4204744', 'nm2579494', 'nm0916530', 'nm0945726', 'nm1120705', 'nm0000836', 'nm0621176', 'nm0230674', 'nm0913739', 'nm1240482', 'nm0105011', 'nm8943147', 'nm2796032', 'nm0106319', 'nm7736530', 'nm0415476', 'nm3495920', 'nm0860443', 'nm0424534', 'nm2559754', 'nm0477568', 'nm1226817', 'nm0010111', 'nm2400035', 'nm0532247', 'nm0659544', 'nm0794054', 'nm3738790', 'nm0767254', 'nm1211536', 'nm0693556', 'nm1775251', 'nm0001431', 'nm0562429', 'nm1170524', 'nm0702833', 'nm0564724', 'nm0644524', 'nm0853122', 'nm3470487', 'nm0631723', 'nm2056026', 'nm0387582', 'nm1821497', 'nm0452692', 'nm0302108', 'nm0600421', 'nm3811339', 'nm1360441', 'nm3403693', 'nm0625456', 'nm3861581', 'nm0260846', 'nm0054655', 'nm3583993', 'nm3272917', 'nm0330349', 'nm1385099', 'nm4410840', 'nm0001856', 'nm0656215', 'nm0714356', 'nm0946295', 'nm5034903', 'nm0651067', 'nm0213912', 'nm5100250', 'nm2192344', 'nm3691741', 'nm0216739', 'nm6819153', 'nm2241090', 'nm6701319', 'nm0003688', 'nm4399227', 'nm2371742', 'nm1065012', 'nm0546359', 'nm0018099', 'nm5778358', 'nm8859126', 'nm0001293', 'nm5667305', 'nm2701791', 'nm1468425', 'nm0754512', 'nm1570048', 'nm0218555', 'nm0990902', 'nm0809571', 'nm0253502', 'nm0539347', 'nm5575694', 'nm3405228', 'nm0209496', 'nm7134754', 'nm8912065', 'nm9257486', 'nm0768784', 'nm1697560', 'nm2244793', 'nm0693243', 'nm0002073', 'nm0172314', 'nm6376080', 'nm0165664', 'nm1764070', 'nm1648492', 'nm0716387', 'nm9311309', 'nm0559690', 'nm0477197', 'nm2332594', 'nm0162233', 'nm0250743', 'nm0653071', 'nm2968782', 'nm7232332', 'nm0097504', 'nm5236476', 'nm0123160', 'nm0360231', 'nm0992251', 'nm0361957', 'nm4273882', 'nm8295720', 'nm0852301', 'nm5779501', 'nm8476421', 'nm8016280', 'nm7764124', 'nm0113789', 'nm0407527', 'nm1213362', 'nm2051751', 'nm6605824', 'nm0118176', 'nm0660228', 'nm5267162', 'nm0411384', 'nm3915784', 'nm2567228', 'nm3302520', 'nm0249550', 'nm9051432', 'nm0442716', 'nm0078329', 'nm0773791', 'nm2195388', 'nm7537516', 'nm1219018', 'nm0781238', 'nm3203886', 'nm0159947', 'nm1176685', 'nm2583046', 'nm0509672', 'nm2655388', 'nm0130319', 'nm0499537', 'nm2079032', 'nm0078798', 'nm1558405', 'nm0368646', 'nm6534268', 'nm3238576', 'nm0005355', 'nm0025234', 'nm1135869', 'nm0003925', 'nm0916893', 'nm3288499', 'nm0081976', 'nm2935824', 'nm2210042', 'nm6521291', 'nm1219023', 'nm0170055', 'nm0974318', 'nm2316151', 'nm1113539', 'nm0993428', 'nm0252006', 'nm6058237', 'nm2584936', 'nm0169528', 'nm0336579', 'nm0852517', 'nm0278348', 'nm0950870', 'nm6671881', 'nm0488306', 'nm0960037', 'nm0585476', 'nm0001359', 'nm8309625', 'nm2940487', 'nm4238844', 'nm0180941', 'nm8226249', 'nm0563810', 'nm0851218', 'nm0000410', 'nm9824542', 'nm0635560', 'nm0406966', 'nm6521490', 'nm1101887', 'nm0002129', 'nm0123967', 'nm5092029', 'nm0399015', 'nm0156067', 'nm2939253', 'nm1894575', 'nm0823048', 'nm0183019', 'nm0740076', 'nm0278142', 'nm0104036', 'nm0855023', 'nm0381538', 'nm0793097', 'nm4901123', 'nm8337121', 'nm0756985', 'nm2387679', 'nm2553985', 'nm2183650', 'nm0711438', 'nm0370677', 'nm4087750', 'nm1204201', 'nm9005582', 'nm0395671', 'nm0124438', 'nm5303080', 'nm2009056', 'nm7118230', 'nm1318600', 'nm0191526', 'nm0667328', 'nm7445268', 'nm2404064', 'nm0233868', 'nm5866992', 'nm4451324', 'nm4504955', 'nm0219062', 'nm1452221', 'nm0033841', 'nm1050086', 'nm1063066', 'nm0001618', 'nm0299228', 'nm1336965', 'nm0620398', 'nm1694348', 'nm0246373', 'nm8998055', 'nm5631465', 'nm5578419', 'nm9222531', 'nm0001429', 'nm0080966', 'nm1143700', 'nm2671076', 'nm0035796', 'nm1137144', 'nm10071204', 'nm1022450', 'nm1046347', 'nm1251040', 'nm2816963', 'nm10400089', 'nm0178875', 'nm6587350', 'nm0188709', 'nm0206090', 'nm6301672', 'nm5473782', 'nm0290475', 'nm0026610', 'nm0874249', 'nm0503095', 'nm1382035', 'nm0686470', 'nm0140752', 'nm0345527', 'nm4664920', 'nm2302024', 'nm0005278', 'nm0854742', 'nm0685396', 'nm2718637', 'nm0453022', 'nm0614921', 'nm1988111', 'nm6719860', 'nm7924165', 'nm0798938', 'nm0875442', 'nm0705680', 'nm8653533', 'nm0122359', 'nm2418653', 'nm4845135', 'nm6221688', 'nm4545813', 'nm0000534', 'nm1770556', 'nm0189080', 'nm0005519', 'nm3571757', 'nm1847587', 'nm0568858', 'nm0321835', 'nm0004754', 'nm0051550', 'nm1020099', 'nm0042006', 'nm4566772', 'nm0528013', 'nm1376179', 'nm0609400', 'nm0156385', 'nm1998103', 'nm9665791', 'nm0657676', 'nm4623626', 'nm0739103', 'nm2474808', 'nm1336595', 'nm7569154', 'nm0731619', 'nm0431508', 'nm4636637', 'nm1375164', 'nm0336797', 'nm10285740', 'nm1624327', 'nm0522944', 'nm3543122', 'nm2657974', 'nm2022559', 'nm0951084', 'nm2539461', 'nm0354126', 'nm1030539', 'nm0068935', 'nm1619152', 'nm0490383', 'nm0157366', 'nm0001529', 'nm0223740', 'nm0585028', 'nm0130747', 'nm0307531', 'nm4808444', 'nm0299864', 'nm3041258', 'nm3838781', 'nm1052894', 'nm9935302', 'nm1555688', 'nm0138612', 'nm0945881', 'nm0945248', 'nm1690589', 'nm0743533', 'nm0567143', 'nm3422299', 'nm0106062', 'nm0001683', 'nm1508974', 'nm4581108', 'nm0947238', 'nm0551908', 'nm1370269', 'nm4835900', 'nm0442120', 'nm0680237', 'nm1512920', 'nm1327319', 'nm3231906', 'nm0759525', 'nm9599024', 'nm10639946', 'nm3420365', 'nm2747538', 'nm1346713', 'nm1727020', 'nm0205749', 'nm0538642', 'nm0179478', 'nm1200650', 'nm1929864', 'nm8380946', 'nm0318185', 'nm0118904', 'nm1901182', 'nm0597815', 'nm0437211', 'nm0000191', 'nm0021473', 'nm1332451', 'nm1614770', 'nm0446392', 'nm0720418', 'nm1090351', 'nm0102035', 'nm0449725', 'nm1194676', 'nm1186716', 'nm1384023', 'nm1534715', 'nm0070779', 'nm4535835', 'nm1575654', 'nm2743770', 'nm0489457', 'nm0661050', 'nm1417647', 'nm0793654', 'nm0004310', 'nm6482529', 'nm0189832', 'nm0054697', 'nm2323572', 'nm0313676', 'nm1109926', 'nm0807506', 'nm1889119', 'nm10141917', 'nm0449667', 'nm5375244', 'nm2067941', 'nm7356252', 'nm0668568', 'nm1019821', 'nm2151550', 'nm7252191', 'nm0561818', 'nm0393441', 'nm2107127', 'nm0001694', 'nm0362910', 'nm1905135', 'nm9169964', 'nm4437189', 'nm0913844', 'nm0623214', 'nm0909391', 'nm0331906', 'nm3572923', 'nm0182223', 'nm2971370', 'nm0188287', 'nm0005109', 'nm0333304', 'nm0201089', 'nm0227790', 'nm0225191', 'nm0002546', 'nm1054090', 'nm3830140', 'nm1855677', 'nm1996635', 'nm0710330', 'nm0000448', 'nm3382133', 'nm0668372', 'nm0557965', 'nm2441762', 'nm2552034', 'nm0386388', 'nm2221039', 'nm0091779', 'nm0534132', 'nm0182456', 'nm0559650', 'nm0670591', 'nm0000432', 'nm1132005', 'nm0123354', 'nm1655076', 'nm0329015', 'nm0557968', 'nm5976287', 'nm0916305', 'nm0354158', 'nm6728132', 'nm0891674', 'nm0410101', 'nm0303379', 'nm0268659', 'nm1824783', 'nm0674280', 'nm2500617', 'nm1372703', 'nm0111319', 'nm8745718', 'nm0132285', 'nm1036211', 'nm0637586', 'nm0101402', 'nm0194829', 'nm1275101', 'nm3279249', 'nm2468968', 'nm1831194', 'nm0299360', 'nm0958106', 'nm4377526', 'nm0712744', 'nm2548402', 'nm0335273', 'nm1433144', 'nm0291685', 'nm0551976', 'nm0645636', 'nm5667822', 'nm2436722', 'nm2837934', 'nm0058879', 'nm0542118', 'nm4914684', 'nm3735450', 'nm0005137', 'nm0607403', 'nm0055952', 'nm5408447', 'nm0002438', 'nm0358669', 'nm0397599', 'nm0815636', 'nm0601553', 'nm0001288', 'nm2159926', 'nm9227686', 'nm2492939', 'nm0217936', 'nm2415559', 'nm0479610', 'nm0388845', 'nm0443733', 'nm2325965', 'nm0208407', 'nm10180508', 'nm0183804', 'nm0835722', 'nm0352778', 'nm5205699', 'nm5204895', 'nm0876138', 'nm0805331', 'nm3227835', 'nm5900712', 'nm0527861', 'nm2105149', 'nm4556941', 'nm0441592', 'nm2889245', 'nm0394649', 'nm0129724', 'nm3428439', 'nm1262847', 'nm1073536', 'nm0119805', 'nm0001296', 'nm0661864', 'nm0652089', 'nm2094731', 'nm8685836', 'nm0353246', 'nm2579542', 'nm1931870', 'nm0779839', 'nm0297049', 'nm6883803', 'nm4766268', 'nm0532235', 'nm6604876', 'nm4077635', 'nm3124741', 'nm0866729', 'nm0083109', 'nm0001448', 'nm0060692', 'nm1189073', 'nm0960024', 'nm2015979', 'nm0236543', 'nm0360223', 'nm0358585', 'nm0202203', 'nm0896801', 'nm0346963', 'nm1236503', 'nm1186794', 'nm1273957', 'nm0221787', 'nm1594406', 'nm0411009', 'nm0552517', 'nm0265314', 'nm10853839', 'nm0620333', 'nm0547603', 'nm0103913', 'nm0200892', 'nm0075359', 'nm0805801', 'nm1748526', 'nm1187011', 'nm3758633', 'nm0840691', 'nm6587349', 'nm0647316', 'nm1832901', 'nm2098133', 'nm3014750', 'nm0857252', 'nm1265802', 'nm1408115', 'nm0394723', 'nm0468711', 'nm5690885', 'nm1290828', 'nm0384931', 'nm0883996', 'nm4894630', 'nm2039990', 'nm0442815', 'nm0346950', 'nm2994513', 'nm0568056', 'nm0409050', 'nm0835045', 'nm0103750', 'nm0947835', 'nm2263555', 'nm5689762', 'nm0076704', 'nm2206365', 'nm2941947', 'nm0031290', 'nm0400816', 'nm0007124', 'nm5149820', 'nm0043966', 'nm3458968', 'nm0860094', 'nm1428827', 'nm1278376', 'nm0038277', 'nm1396048', 'nm0098739', 'nm4152735', 'nm1487668', 'nm0249283', 'nm0438322', 'nm0097079', 'nm0376716', 'nm2681548', 'nm6097488', 'nm4790444', 'nm0384503', 'nm4057101', 'nm0448325', 'nm3811238', 'nm2563808', 'nm8194085', 'nm1955317', 'nm2474849', 'nm4511842', 'nm0053532', 'nm0032375', 'nm7494592', 'nm9185055', 'nm0320774', 'nm0682481', 'nm1502383', 'nm1138942', 'nm1060341', 'nm0851113', 'nm0459459', 'nm1268375', 'nm0776239', 'nm0205984', 'nm1175665', 'nm0256297', 'nm1535594', 'nm0454020', 'nm3435770', 'nm2276741', 'nm1492228', 'nm0411097', 'nm9316725', 'nm3840085', 'nm1594832', 'nm0793073', 'nm7483913', 'nm7634817', 'nm2757256', 'nm0005450', 'nm2923447', 'nm1812836', 'nm8576094', 'nm0462017', 'nm0848191', 'nm1789251', 'nm1898479', 'nm0450417', 'nm0026460', 'nm8625754', 'nm0589077', 'nm0457514', 'nm0002039', 'nm2323443', 'nm2136753', 'nm1493992', 'nm5568304', 'nm2318699', 'nm0619172', 'nm5650563', 'nm4613033', 'nm0328914', 'nm0636694', 'nm1760272', 'nm1708767', 'nm0000230', 'nm0473393', 'nm2680947', 'nm0339188', 'nm1602660', 'nm2594314', 'nm0717299', 'nm1368363', 'nm1384151', 'nm0847078', 'nm4090882', 'nm0238004', 'nm0052445', 'nm8637478', 'nm0617852', 'nm1268478', 'nm8450764', 'nm0074388', 'nm0621879', 'nm0209553', 'nm0000149', 'nm7840403', 'nm0231152', 'nm1735042', 'nm0063210', 'nm0445444', 'nm0414365', 'nm2979780', 'nm1327299', 'nm0000507', 'nm9505978', 'nm0110301', 'nm9689697', 'nm0761836', 'nm0712996', 'nm9022677', 'nm0170555', 'nm0138421', 'nm1066116', 'nm2955927', 'nm3449599', 'nm1970816', 'nm0000792', 'nm6542981', 'nm0114356', 'nm1405910', 'nm0837540', 'nm0408829', 'nm0000498', 'nm6132004', 'nm1120614', 'nm6444033', 'nm0465631', 'nm0586003', 'nm0219206', 'nm0160652', 'nm0823575', 'nm9352307', 'nm0041297', 'nm1244802', 'nm1899530', 'nm2915150', 'nm3241461', 'nm2668842', 'nm0273178', 'nm1312191', 'nm0003115', 'nm0261464', 'nm8383409', 'nm9208582', 'nm0888717', 'nm0620734', 'nm5211370', 'nm1211537', 'nm1042068', 'nm2055870', 'nm5539175', 'nm0205061', 'nm0607632', 'nm0371877', 'nm2845816', 'nm0700909', 'nm0031720', 'nm3269070', 'nm0001604', 'nm6711748', 'nm0761452', 'nm2212031', 'nm0754971', 'nm6097685', 'nm8654815', 'nm0089801', 'nm1699244', 'nm0362552', 'nm0931437', 'nm11112752', 'nm2524126', 'nm3333006', 'nm0452684', 'nm0833246', 'nm2105886', 'nm5390656', 'nm1037430', 'nm0880872', 'nm5189296', 'nm0314867', 'nm1483369', 'nm2444270', 'nm6964654', 'nm0443568', 'nm2821488', 'nm1851981', 'nm2731980', 'nm1117598', 'nm8657041', 'nm0861558', 'nm2219114', 'nm4831630', 'nm2068832', 'nm8183843', 'nm0018478', 'nm0286245', 'nm5681403', 'nm2848903', 'nm3453613', 'nm1506667', 'nm2290872', 'nm0274919', 'nm1311068', 'nm6800178', 'nm0236519', 'nm0001719', 'nm0572001', 'nm6003724', 'nm1319050', 'nm1754210', 'nm8932583', 'nm2766549', 'nm0284667', 'nm0378130', 'nm0035602', 'nm0730662', 'nm0293749', 'nm4551294', 'nm0527038', 'nm4207386', 'nm0000288', 'nm10810213', 'nm1675381', 'nm4766105', 'nm2513177', 'nm1328893', 'nm1878161', 'nm0479612', 'nm0001191', 'nm1496365', 'nm7050386', 'nm0656187', 'nm0006893', 'nm2099549', 'nm3214562', 'nm0000867', 'nm0376909', 'nm0564277', 'nm8547376', 'nm7683186', 'nm1958115', 'nm1554706', 'nm0637038', 'nm1328148', 'nm1742119', 'nm0051720', 'nm6932821', 'nm0005186', 'nm0132655', 'nm0888035', 'nm0917976', 'nm0944985', 'nm0079353', 'nm0949825', 'nm3615728', 'nm0128397', 'nm7274786', 'nm8277051', 'nm1555340', 'nm0131117', 'nm8118377', 'nm0457512', 'nm0026016', 'nm0293448', 'nm1342749', 'nm7741064', 'nm0363066', 'nm0599188', 'nm6259860', 'nm1016424', 'nm0073088', 'nm0868219', 'nm0079451', 'nm0167030', 'nm0056295', 'nm2522447', 'nm0049827', 'nm7391746', 'nm2012594', 'nm0323288', 'nm0816868', 'nm0287702', 'nm6078715', 'nm1690630', 'nm0435394', 'nm7442275', 'nm0088513', 'nm0382506', 'nm0265620', 'nm7741066', 'nm4511391', 'nm2402752', 'nm5916028', 'nm0955891', 'nm0251646', 'nm0287265', 'nm0435358', 'nm1758681', 'nm1763491', 'nm0956053', 'nm0877203', 'nm0544053', 'nm0365336', 'nm4406213', 'nm5816152', 'nm1467955', 'nm0490418', 'nm4594458', 'nm0919498', 'nm0449363', 'nm0896554', 'nm7645092', 'nm1472589', 'nm8043784', 'nm0792003', 'nm5425945', 'nm0795723', 'nm2295100', 'nm0200104', 'nm3429367', 'nm0188554', 'nm0526019', 'nm6093590', 'nm0475836', 'nm8094657', 'nm3663344', 'nm0460932', 'nm0776711', 'nm2525350', 'nm6445791', 'nm0001815', 'nm0000502', 'nm8301449', 'nm2345104', 'nm0560257', 'nm5058824', 'nm0474492', 'nm4779461', 'nm9340724', 'nm4763704', 'nm0390161', 'nm5188252', 'nm6347755', 'nm1301391', 'nm0746617', 'nm1648752', 'nm1079018', 'nm9135982', 'nm3257502', 'nm0191858', 'nm4273797', 'nm2958957', 'nm0065292', 'nm1867910', 'nm0253126', 'nm0605682', 'nm0760218', 'nm3086712', 'nm0441588', 'nm2291623', 'nm0838588', 'nm0727290', 'nm8812411', 'nm8966652', 'nm7429639', 'nm0631659', 'nm0183750', 'nm0008314', 'nm2969903', 'nm1159094', 'nm4044900', 'nm0292021', 'nm1017994', 'nm5673618', 'nm0208363', 'nm1053923', 'nm9159426', 'nm0405289', 'nm8043783', 'nm2851530', 'nm0704933', 'nm0400529', 'nm2620426', 'nm5608192', 'nm0186286', 'nm4492923', 'nm2944821', 'nm1495627', 'nm0097662', 'nm5948997', 'nm0444786', 'nm0421004', 'nm0295506', 'nm9020500', 'nm0705717', 'nm0492657', 'nm3857034', 'nm9311912', 'nm3877657', 'nm6132001', 'nm0012081', 'nm7703695', 'nm0447040', 'nm1092338', 'nm0547755', 'nm4851557', 'nm8696428', 'nm1779239', 'nm1002289', 'nm0492620', 'nm6808447', 'nm0225515', 'nm0565971', 'nm0600882', 'nm1315809', 'nm0465157', 'nm3053333', 'nm3866131', 'nm0215363', 'nm4206804', 'nm0193972', 'nm7456071', 'nm0494128', 'nm0613655', 'nm0276626', 'nm0314611', 'nm8200232', 'nm1229947', 'nm2267585', 'nm0767396', 'nm0337266', 'nm0826823', 'nm0725894', 'nm0847664', 'nm0879181', 'nm0411879', 'nm0383926', 'nm0778918', 'nm4037810', 'nm0377286', 'nm0267505', 'nm3005709', 'nm0001836', 'nm0420308', 'nm2009890', 'nm3875596', 'nm0653484', 'nm1664154', 'nm0017644', 'nm0772065', 'nm0002127', 'nm5261299', 'nm1563619', 'nm2655752', 'nm1766837', 'nm1518602', 'nm0018173', 'nm5130663', 'nm0930335', 'nm7229089', 'nm9033908', 'nm3657679', 'nm0750312', 'nm5432755', 'nm0448486', 'nm1967442', 'nm1393246', 'nm0693066', 'nm0865092', 'nm0095897', 'nm0570570', 'nm0179521', 'nm2079901', 'nm2018237', 'nm1890990', 'nm0301162', 'nm10114131', 'nm0001475', 'nm10170343', 'nm2997985', 'nm0659857', 'nm0054636', 'nm3908585', 'nm0056532', 'nm0594646', 'nm0465160', 'nm1468944', 'nm2958580', 'nm0492951', 'nm0795127', 'nm2432881', 'nm0962123', 'nm5256487', 'nm0005606', 'nm0461860', 'nm3008045', 'nm0534701', 'nm0838607', 'nm0005327', 'nm0340162', 'nm2250056', 'nm6603506', 'nm4284529', 'nm4629874', 'nm5262028', 'nm3244480', 'nm0492932', 'nm1696497', 'nm0127315', 'nm0959984', 'nm3412857', 'nm0014292', 'nm2087116', 'nm7268836', 'nm0044449', 'nm5441016', 'nm2976349', 'nm5270247', 'nm4308020', 'nm0097765', 'nm5479457', 'nm0033368', 'nm0206317', 'nm0000105', 'nm2962109', 'nm0860380', 'nm2647223', 'nm0244514', 'nm0234869', 'nm1469013', 'nm0063735', 'nm8589036', 'nm0754676', 'nm9779117', 'nm1591979', 'nm3454011', 'nm2469016', 'nm0528936', 'nm5702197', 'nm1971627', 'nm6871540', 'nm0310428', 'nm3141048', 'nm0726903', 'nm1101606', 'nm1317863', 'nm5417878', 'nm4343759', 'nm4641166', 'nm0000308', 'nm1169495', 'nm0200484', 'nm7631338', 'nm0713367', 'nm5067227', 'nm2156031', 'nm0500615', 'nm0072344', 'nm0013660', 'nm1285155', 'nm1410190', 'nm2418450', 'nm1390833', 'nm9778529', 'nm0191906', 'nm0018746', 'nm0729032', 'nm0496587', 'nm1014695', 'nm3032046', 'nm2237723', 'nm5481344', 'nm1261186', 'nm6225541', 'nm4247413', 'nm0713148', 'nm0812220', 'nm0038310', 'nm1919629', 'nm5772224', 'nm0390847', 'nm1584455', 'nm6903068', 'nm0934593', 'nm3633301', 'nm0163332', 'nm3315278', 'nm2811218', 'nm3211049', 'nm1411125', 'nm0005172', 'nm2435009', 'nm0830665', 'nm5981712', 'nm3922466', 'nm8166995', 'nm3685041', 'nm0736169', 'nm3294429', 'nm0236481', 'nm0940040', 'nm4489288', 'nm4913970', 'nm0356722', 'nm0164682', 'nm1847478', 'nm0098597', 'nm0457532', 'nm4533533', 'nm0610298', 'nm0002054', 'nm0611212', 'nm0244167', 'nm1031193', 'nm0507097', 'nm3743192', 'nm0088504', 'nm2445666', 'nm0001132', 'nm7274489', 'nm0058180', 'nm2886110', 'nm1510062', 'nm0436298', 'nm1065166', 'nm0031529', 'nm0214385', 'nm0394677', 'nm3060770', 'nm5022968', 'nm0016474', 'nm0094976', 'nm3343597', 'nm0573093', 'nm0840646', 'nm4224446', 'nm1764727', 'nm0010915', 'nm0498757', 'nm1708986', 'nm0048998', 'nm7702016', 'nm0133566', 'nm0871546', 'nm7966385', 'nm4837054', 'nm0750775', 'nm1056767', 'nm2270669', 'nm0990808', 'nm8702921', 'nm4776767', 'nm0842303', 'nm8821760', 'nm0658371', 'nm0075724', 'nm0004028', 'nm0297112', 'nm0032334', 'nm0578510', 'nm0218925', 'nm2208582', 'nm1779615', 'nm2526774', 'nm2633560', 'nm1775014', 'nm0442948', 'nm0606422', 'nm0175788', 'nm0158150', 'nm0558244', 'nm4943077', 'nm0552575', 'nm5104287', 'nm1019776', 'nm2429688', 'nm4024158', 'nm7732550', 'nm10148814', 'nm4705215', 'nm5353084', 'nm0561752', 'nm4268437', 'nm0774243', 'nm0683253', 'nm0462089', 'nm0229405', 'nm0364797', 'nm0593047', 'nm0593570', 'nm1116229', 'nm1369605', 'nm10369417', 'nm2316240', 'nm1429956', 'nm2209536', 'nm0034335', 'nm1850967', 'nm0926235', 'nm8787094', 'nm4231040', 'nm0893464', 'nm0639294', 'nm0082502', 'nm2811893', 'nm0367005', 'nm0007225', 'nm3847848', 'nm0000973', 'nm0194387', 'nm0660311', 'nm3293702', 'nm10558279', 'nm1336892', 'nm0001456', 'nm8333295', 'nm3521766', 'nm1679769', 'nm0590482', 'nm0350453', 'nm8149418', 'nm0213354', 'nm2968347', 'nm8118739', 'nm0355036', 'nm9548730', 'nm7570009', 'nm0054191', 'nm1041245', 'nm0599727', 'nm4458666', 'nm2383250', 'nm4831375', 'nm0206257', 'nm8966651', 'nm0143295', 'nm0159867', 'nm0000303', 'nm0230406', 'nm7951030', 'nm4837171', 'nm1971499', 'nm0000491', 'nm0782840', 'nm0171441', 'nm0559414', 'nm1102891', 'nm0000511', 'nm7577807', 'nm0001372', 'nm3944762', 'nm2063945', 'nm0636098', 'nm0971178', 'nm4464117', 'nm0000604', 'nm7659282', 'nm5617944', 'nm4176291', 'nm0005002', 'nm0093976', 'nm0631301', 'nm4991786', 'nm0864113', 'nm0071304', 'nm0849003', 'nm1717227', 'nm3710832', 'nm0860873', 'nm0314775', 'nm5535333', 'nm0333986', 'nm0594682', 'nm0641197', 'nm1563431', 'nm1703032', 'nm1229568', 'nm5841723', 'nm6616259', 'nm0448489', 'nm0001065', 'nm1198945', 'nm10483212', 'nm4517846', 'nm0583487', 'nm0117834', 'nm0916267', 'nm1988540', 'nm6641791', 'nm0002262', 'nm2966078', 'nm2825613', 'nm5015779', 'nm2407919', 'nm8292523', 'nm5107622', 'nm8921063', 'nm0396039', 'nm0387805', 'nm8234332', 'nm0333073', 'nm0931060', 'nm0151822', 'nm0837753', 'nm0221260', 'nm1669597', 'nm8857098', 'nm4019848', 'nm1135060', 'nm1016362', 'nm0683379', 'nm0770617', 'nm0224955', 'nm10223006', 'nm9063427', 'nm0971017', 'nm0004852', 'nm2945137', 'nm2624336', 'nm4212310', 'nm0258791', 'nm0731552', 'nm10146998', 'nm0425318', 'nm0385029', 'nm0293659', 'nm0246612', 'nm0766339', 'nm2549163', 'nm0517358', 'nm0265673', 'nm0366946', 'nm0564841', 'nm7325686', 'nm1319094', 'nm0029460', 'nm0439024', 'nm9027514', 'nm10853843', 'nm0585895', 'nm1563502', 'nm2080557', 'nm4534906', 'nm2535852', 'nm7352418', 'nm0682063', 'nm4285722', 'nm0921942', 'nm0568180', 'nm2909851', 'nm2718083', 'nm0383492', 'nm6044514', 'nm6359236', 'nm3635105', 'nm0128691', 'nm3311160', 'nm0485094', 'nm1408751', 'nm6793636', 'nm0794387', 'nm2750372', 'nm4950946', 'nm1426904', 'nm0004912', 'nm3354206', 'nm0273888', 'nm0005160', 'nm5408751', 'nm0251744', 'nm5849107', 'nm0311165', 'nm6829691', 'nm0386405', 'nm8537946', 'nm2791337', 'nm0000096', 'nm3283491', 'nm3401959', 'nm0497570', 'nm1514495', 'nm0466368', 'nm0592437', 'nm1208316', 'nm0021596', 'nm1043186', 'nm0792198', 'nm0005227', 'nm3857217', 'nm0574615', 'nm0051469', 'nm3586035', 'nm1938624', 'nm1677782', 'nm0757087', 'nm10478402', 'nm0000310', 'nm8722075', 'nm1088052', 'nm1534131', 'nm2786502', 'nm0098559', 'nm0727850', 'nm1789187', 'nm0227074', 'nm0771352', 'nm4404083', 'nm9479673', 'nm1933398', 'nm1090206', 'nm0474738', 'nm0138428', 'nm0092288', 'nm2253174', 'nm0568657', 'nm0633391', 'nm3782945', 'nm2321767', 'nm7980622', 'nm1840659', 'nm1320243', 'nm0094520', 'nm6807759', 'nm0248237', 'nm1937848', 'nm8693535', 'nm0707174', 'nm0435695', 'nm0071275', 'nm0074036', 'nm0100581', 'nm0470731', 'nm0389524', 'nm0030052', 'nm6525575', 'nm2095800', 'nm1124068', 'nm3727637', 'nm1201415', 'nm0861027', 'nm1674692', 'nm0848987', 'nm0292677', 'nm0000224', 'nm0913842', 'nm0774119', 'nm5337679', 'nm0002350', 'nm2323225', 'nm2822346', 'nm3315878', 'nm1008557', 'nm1821503', 'nm1215188', 'nm7597004', 'nm3474053', 'nm3264013', 'nm2061727', 'nm0619828', 'nm2127497', 'nm0684521', 'nm2078211', 'nm7714124', 'nm2277937', 'nm0712603', 'nm0273371', 'nm0671216', 'nm3070914', 'nm2765682', 'nm0875332', 'nm1089476', 'nm0712189', 'nm9729704', 'nm0476004', 'nm0167235', 'nm0386380', 'nm10297145', 'nm0001070', 'nm7867854', 'nm6616759', 'nm1389444', 'nm0059489', 'nm0622668', 'nm0307309', 'nm10264849', 'nm0761416', 'nm0555483', 'nm2066228', 'nm4523855', 'nm8941559', 'nm0444828', 'nm3842466', 'nm0508038', 'nm3604605', 'nm5848982', 'nm8076587', 'nm0864308', 'nm1154161', 'nm0793580', 'nm9547401', 'nm1439137', 'nm1000385', 'nm4032297', 'nm0920164', 'nm0627624', 'nm1035593', 'nm1865151', 'nm0590912', 'nm0392335', 'nm1388927', 'nm0076702', 'nm3609729', 'nm1145515', 'nm0739223', 'nm5211886', 'nm4303115', 'nm6930449', 'nm1849172', 'nm6634280', 'nm2904301', 'nm0821507', 'nm1045823', 'nm1470322', 'nm3417385', 'nm2324191', 'nm0590875', 'nm1937314', 'nm0171243', 'nm8377140', 'nm0334563', 'nm0055235', 'nm4986657', 'nm7583837', 'nm9683024', 'nm0842893', 'nm2334751', 'nm0072761', 'nm1796216', 'nm3950075', 'nm0730045', 'nm0769446', 'nm1549192', 'nm0435932', 'nm2974376', 'nm4264993', 'nm1191618', 'nm7165415', 'nm6843974', 'nm8471774', 'nm0388038', 'nm4717664', 'nm4530845', 'nm1534183', 'nm1700972', 'nm0466859', 'nm7419075', 'nm0567129', 'nm0043552', 'nm0515104', 'nm3861876', 'nm0204771', 'nm7173545', 'nm1999800', 'nm0732436', 'nm0397364', 'nm0165328', 'nm1444561', 'nm0251708', 'nm0942787', 'nm8032125', 'nm0432213', 'nm0815753', 'nm9758439', 'nm0634595', 'nm1497049', 'nm0810640', 'nm3237772', 'nm0068338', 'nm3271949', 'nm1749042', 'nm0000579', 'nm7649677', 'nm1661064', 'nm1404488', 'nm2560043', 'nm0001131', 'nm0000439', 'nm5425039', 'nm4954157', 'nm0891287', 'nm0013378', 'nm0875364', 'nm0331724', 'nm0147230', 'nm0001003', 'nm2031358', 'nm0858573', 'nm8200231', 'nm7267651', 'nm0035488', 'nm5693918', 'nm0235232', 'nm8396038', 'nm6708435', 'nm0014472', 'nm3032909', 'nm1336827', 'nm0297926', 'nm2939318', 'nm3491818', 'nm4754519', 'nm0954658', 'nm1477356', 'nm0424678', 'nm1799368', 'nm0786958', 'nm0951300', 'nm1732046', 'nm8672417', 'nm0442781', 'nm1460359', 'nm5996880', 'nm7953716', 'nm0290036', 'nm1400933', 'nm0172806', 'nm8638864', 'nm2915527', 'nm0811875', 'nm0001282', 'nm0436548', 'nm0420052', 'nm2038422', 'nm8162572', 'nm0402611', 'nm1428821', 'nm0448686', 'nm1682852', 'nm9738999', 'nm0630021', 'nm1214716', 'nm1678505', 'nm3762876', 'nm3124572', 'nm0767975', 'nm3994407', 'nm1455287', 'nm0620718', 'nm1476424', 'nm3741362', 'nm2740462', 'nm0010399', 'nm6905894', 'nm8810412', 'nm0728762', 'nm2123367', 'nm10334449', 'nm1315378', 'nm0632475', 'nm1103468', 'nm7372075', 'nm6569624', 'nm0234853', 'nm5745964', 'nm4332874', 'nm1927360', 'nm7449247', 'nm0463410', 'nm0633579', 'nm4803145', 'nm7582418', 'nm1896082', 'nm6587342', 'nm6113361', 'nm0654559', 'nm0453964', 'nm0894682', 'nm1689638', 'nm5906920', 'nm0782841', 'nm0294967', 'nm0050648', 'nm9977658', 'nm2652716', 'nm0861657', 'nm0161540', 'nm0582106', 'nm9185136', 'nm2417670', 'nm3917328', 'nm0425061', 'nm2850257', 'nm1778686', 'nm0229250', 'nm8809189', 'nm0590888', 'nm1867502', 'nm1812653', 'nm0327636', 'nm0416893', 'nm0150514', 'nm0544150', 'nm0960021', 'nm0688132', 'nm1719673', 'nm0760221', 'nm0942959', 'nm0802063', 'nm0004996', 'nm2023050', 'nm0063143', 'nm0133284', 'nm0667515', 'nm0146097', 'nm0153589', 'nm0035485', 'nm0738999', 'nm4190721', 'nm0008041', 'nm0847540', 'nm0700416', 'nm1988873', 'nm7809528', 'nm0854418', 'nm0221727', 'nm3913317', 'nm2430998', 'nm0120362', 'nm1097137', 'nm0039685', 'nm3283711', 'nm0793579', 'nm0880407', 'nm7489386', 'nm7922868', 'nm1670451', 'nm2675477', 'nm1475594', 'nm0287182', 'nm0242750', 'nm2355635', 'nm2862643', 'nm0243809', 'nm7083517', 'nm6943021', 'nm1043215', 'nm1708983', 'nm0089454', 'nm1616619', 'nm7203069', 'nm1205420', 'nm0409130', 'nm0865078', 'nm0000285', 'nm8819536', 'nm0666257', 'nm4439854', 'nm9152974', 'nm0442933', 'nm0808216', 'nm6597610', 'nm3788003', 'nm0507741', 'nm8213173', 'nm0256681', 'nm0292417', 'nm0508877', 'nm0197638', 'nm0279137', 'nm0591089', 'nm3854956', 'nm0845941', 'nm0935719', 'nm0391797', 'nm0678107', 'nm5426666', 'nm0662630', 'nm0000741', 'nm1605198', 'nm8509137', 'nm1712181', 'nm0668802', 'nm0454966', 'nm2801133', 'nm0670332', 'nm4406744', 'nm0247720', 'nm0209035', 'nm3819565', 'nm9682675', 'nm0199809', 'nm0582418', 'nm0333393', 'nm0522356', 'nm1380405', 'nm0645522', 'nm0125217', 'nm0001868', 'nm1736745', 'nm0206359', 'nm0364629', 'nm0361719', 'nm1937321', 'nm1807645', 'nm0481812', 'nm0373136', 'nm0001447', 'nm0484589', 'nm2640672', 'nm0001493', 'nm8692972', 'nm1797140', 'nm0948377', 'nm3850365', 'nm7136488', 'nm0334159', 'nm5021407', 'nm0485670', 'nm3502061', 'nm4895843', 'nm0000284', 'nm7970056', 'nm1564172', 'nm4082527', 'nm0993168', 'nm2695782', 'nm0298009', 'nm0195378', 'nm0133852', 'nm0456662', 'nm0866300', 'nm1752885', 'nm0348562', 'nm0157915', 'nm0068029', 'nm1349864', 'nm0499469', 'nm0730083', 'nm1423843', 'nm6399344', 'nm3143838', 'nm1254072', 'nm0016332', 'nm5202012', 'nm0287313', 'nm2567894', 'nm0005287', 'nm2017155', 'nm0569410', 'nm0607334', 'nm5696205', 'nm4346369', 'nm0241690', 'nm0250252', 'nm1760963', 'nm1183203', 'nm0441972', 'nm1616774', 'nm0410175', 'nm2687410', 'nm0366625', 'nm0080282', 'nm1824427', 'nm0948417', 'nm0918612', 'nm3198469', 'nm2299578', 'nm0222643', 'nm3881758', 'nm3908751', 'nm0001011', 'nm0998888', 'nm0574768', 'nm0005051', 'nm1055248', 'nm2963540', 'nm1966128', 'nm5494092', 'nm0851963', 'nm0190497', 'nm0000661', 'nm0125426', 'nm1137414', 'nm4891771', 'nm1923917', 'nm5837999', 'nm0299192', 'nm0460155', 'nm0295976', 'nm0269085', 'nm8426933', 'nm7321059', 'nm1179216', 'nm0297300', 'nm0229889', 'nm0646818', 'nm0395950', 'nm7416190', 'nm6739779', 'nm0625660', 'nm1145661', 'nm0190691', 'nm1265239', 'nm0932602', 'nm8721347', 'nm0809204', 'nm0159717', 'nm1510047', 'nm0330249', 'nm0005177', 'nm9081010', 'nm0710258', 'nm0001484', 'nm2322827', 'nm0842563', 'nm0575216', 'nm0615718', 'nm6897528', 'nm0486095', 'nm0843100', 'nm0224659', 'nm2596214', 'nm10203818', 'nm0654365', 'nm9128112', 'nm0038324', 'nm1033562', 'nm0032890', 'nm0846727', 'nm7137353', 'nm0641314', 'nm0364224', 'nm0168262', 'nm8427541', 'nm5994371', 'nm1426165', 'nm3042755', 'nm0412585', 'nm1622694', 'nm5199679', 'nm0410879', 'nm0916140', 'nm0000580', 'nm1623635', 'nm4755883', 'nm3810025', 'nm1133720', 'nm0551171', 'nm3321746', 'nm10491048', 'nm0160309', 'nm0761073', 'nm0781899', 'nm0587003', 'nm0110734', 'nm0234791', 'nm2047821', 'nm0436751', 'nm0906722', 'nm0392529', 'nm0527518', 'nm3034367', 'nm1859539', 'nm0179571', 'nm2370952', 'nm0443632', 'nm0756813', 'nm1111574', 'nm3132805', 'nm7856523', 'nm0650541', 'nm0440596', 'nm0033911', 'nm0994337', 'nm5210839', 'nm2315947', 'nm7285503', 'nm0340359', 'nm10017584', 'nm0346410', 'nm4622191', 'nm0001402', 'nm1795650', 'nm2812610', 'nm0301122', 'nm4423658', 'nm0001491', 'nm0384032', 'nm0549505', 'nm4466156', 'nm3467958', 'nm0592498', 'nm5579561', 'nm0397171', 'nm0000718', 'nm0001573', 'nm0662088', 'nm3430854', 'nm0370630', 'nm1130893', 'nm3283540', 'nm0674711', 'nm0083910', 'nm0191520', 'nm8662177', 'nm0001902', 'nm6578345', 'nm0005049', 'nm0001184', 'nm0451961', 'nm0221337', 'nm0002143', 'nm0044479', 'nm0427174', 'nm0265628', 'nm4678619', 'nm0057969', 'nm2641523', 'nm1555425', 'nm5091006', 'nm5835985', 'nm2971661', 'nm0632695', 'nm1577319', 'nm2357301', 'nm0542933', 'nm0027810', 'nm1705074', 'nm8302733', 'nm2023672', 'nm1754270', 'nm6148739', 'nm0344959', 'nm1115899', 'nm0191701', 'nm1141501', 'nm0508786', 'nm0223305', 'nm0296410', 'nm3100064', 'nm0492740', 'nm4017242', 'nm0329361', 'nm0333009', 'nm0666556', 'nm0729729', 'nm7460727', 'nm1061520', 'nm0905295', 'nm2434666', 'nm0947338', 'nm1456471', 'nm0413168', 'nm0058346', 'nm1717849', 'nm5628030', 'nm2141715', 'nm0069692', 'nm3549794', 'nm2435060', 'nm0091072', 'nm5993940', 'nm0311434', 'nm0360028', 'nm2255973', 'nm2274847', 'nm0901624', 'nm0256917', 'nm1219336', 'nm1394531', 'nm0702723', 'nm0651184', 'nm0847672', 'nm0026364', 'nm1160233', 'nm0141659', 'nm0360200', 'nm0042158', 'nm0921699', 'nm0591473', 'nm1985453', 'nm2879915', 'nm0038351', 'nm0443287', 'nm0236381', 'nm0437454', 'nm0573481', 'nm3588483', 'nm8648423', 'nm0468802', 'nm0031407', 'nm0703362', 'nm0753447', 'nm1080019', 'nm0551223', 'nm0291633', 'nm2428987', 'nm2797152', 'nm0784614', 'nm0248129', 'nm2304106', 'nm0237386', 'nm8717917', 'nm0000333', 'nm5616247', 'nm0172872', 'nm0329843', 'nm2169078', 'nm4861965', 'nm1824247', 'nm6002006', 'nm0230507', 'nm2284099', 'nm0960030', 'nm3351936', 'nm0224007', 'nm9876597', 'nm5473055', 'nm2730460', 'nm4608158', 'nm0603268', 'nm0465959', 'nm1664168', 'nm0148025', 'nm1996838', 'nm4942929', 'nm0220888', 'nm1579987', 'nm0124873', 'nm1955206', 'nm4716053', 'nm6216744', 'nm0005399', 'nm3788571', 'nm3506064', 'nm0044747', 'nm4556210', 'nm1837474', 'nm10382319', 'nm2159995', 'nm0269176', 'nm1641089', 'nm0319737', 'nm0931657', 'nm0497080', 'nm1028496', 'nm0451918', 'nm0484961', 'nm0882853', 'nm10298464', 'nm0849431', 'nm0247300', 'nm1483861', 'nm0040440', 'nm4675650', 'nm8050341', 'nm6489309', 'nm1528334', 'nm9002396', 'nm0588712', 'nm0118653', 'nm0367025', 'nm0082506', 'nm0338296', 'nm0668427', 'nm4303140', 'nm6049186', 'nm6571236', 'nm0557805', 'nm0478287', 'nm0054276', 'nm0458534', 'nm2349726', 'nm0511409', 'nm0193541', 'nm0334431', 'nm0000968', 'nm2873572', 'nm3436490', 'nm0765847', 'nm3335969', 'nm5674149', 'nm4855857', 'nm0252473', 'nm0310881', 'nm6571727', 'nm5744118', 'nm1269825', 'nm2202862', 'nm5488464', 'nm2920586', 'nm0827663', 'nm10847191', 'nm8003682', 'nm3139597', 'nm2532332', 'nm1462646', 'nm0586743', 'nm0186505', 'nm1443344', 'nm0533111', 'nm0094156', 'nm1345123', 'nm0676925', 'nm0198988', 'nm0485487', 'nm9724339', 'nm1327324', 'nm0724224', 'nm2410776', 'nm4272012', 'nm0001957', 'nm0750749', 'nm0099660', 'nm1322246', 'nm0240482', 'nm2084853', 'nm0004983', 'nm1751276', 'nm0666739', 'nm1775770', 'nm0299401', 'nm1066079', 'nm0766073', 'nm0394533', 'nm8174428', 'nm1327264', 'nm0956311', 'nm0440576', 'nm0005013', 'nm5517023', 'nm0671356', 'nm11034766', 'nm0841923', 'nm1345171', 'nm0788548', 'nm0160676', 'nm1139614', 'nm8380949', 'nm0644947', 'nm0848154', 'nm0357725', 'nm0842848', 'nm1143742', 'nm5120522', 'nm2483045', 'nm1012519', 'nm0095151', 'nm0499441', 'nm3250696', 'nm3125466', 'nm10808020', 'nm3269739', 'nm0040734', 'nm2177545', 'nm2159240', 'nm3702629', 'nm0155238', 'nm9770078', 'nm0384162', 'nm9312830', 'nm9513415', 'nm1063287', 'nm2944513', 'nm3789480', 'nm6994351', 'nm0865522', 'nm1517535', 'nm0440885', 'nm2914592', 'nm1243271', 'nm0874428', 'nm4747267', 'nm0176869', 'nm1816136', 'nm5568891', 'nm0293466', 'nm0440126', 'nm0063527', 'nm2209821', 'nm4465348', 'nm3334706', 'nm1154279', 'nm0035635', 'nm7322887', 'nm0090720', 'nm0138327', 'nm1378615', 'nm0204095', 'nm8180056', 'nm0411903', 'nm0400335', 'nm0540980', 'nm0038337', 'nm0006984', 'nm2381718', 'nm7717519', 'nm0708174', 'nm1200517', 'nm0012121', 'nm1579335', 'nm0696395', 'nm0801347', 'nm2899228', 'nm0770225', 'nm1067368', 'nm4311871', 'nm0919729', 'nm0930637', 'nm0072297', 'nm1827404', 'nm0718555', 'nm0038290', 'nm0600639', 'nm0475686', 'nm1137391', 'nm0472563', 'nm0913243', 'nm1321017', 'nm9278652', 'nm3999319', 'nm1530297', 'nm0717021', 'nm0710699', 'nm6564423', 'nm0498103', 'nm0649026', 'nm5152633', 'nm0071589', 'nm0866496', 'nm2676923', 'nm0281502', 'nm1919164', 'nm0485764', 'nm3570555', 'nm0642470', 'nm1050751', 'nm0446222', 'nm0443560', 'nm3677958', 'nm0015124', 'nm4184003', 'nm0353434', 'nm4646711', 'nm0620548', 'nm1782508', 'nm0235006', 'nm2854393', 'nm3419284', 'nm2453113', 'nm1070837', 'nm2440473', 'nm5693218', 'nm0383022', 'nm5206237', 'nm5267363', 'nm2143282', 'nm4826458', 'nm5813286', 'nm3452764', 'nm1182327', 'nm4509208', 'nm1483278', 'nm2805467', 'nm3248252', 'nm3327786', 'nm0308556', 'nm2200650', 'nm0576366', 'nm1140783', 'nm8666943', 'nm1694008', 'nm0000913', 'nm0194201', 'nm0701035', 'nm0571897', 'nm1078436', 'nm0461311', 'nm0437546', 'nm0934053', 'nm1210403', 'nm1362521', 'nm1361762', 'nm0260008', 'nm0334447', 'nm0000222', 'nm0051281', 'nm0081495', 'nm2424757', 'nm0046033', 'nm1951984', 'nm0619904', 'nm5415922', 'nm2577076', 'nm0000155', 'nm3230833', 'nm0560050', 'nm1204639', 'nm7123570', 'nm0185163', 'nm0770832', 'nm0709334', 'nm1152624', 'nm10338970', 'nm0840012', 'nm1333574', 'nm0431334', 'nm0318821', 'nm5650977', 'nm0800737', 'nm0794887', 'nm0597810', 'nm0370199', 'nm0605451', 'nm0001884', 'nm0862186', 'nm1261587', 'nm0271136', 'nm10344071', 'nm2928438', 'nm1007177', 'nm5062504', 'nm0004988', 'nm0457847', 'nm1925154', 'nm0267880', 'nm0072719', 'nm0096556', 'nm0005265', 'nm0142620', 'nm5589828', 'nm0045886', 'nm0794211', 'nm0015370', 'nm0117907', 'nm0331466', 'nm0014557', 'nm3110155', 'nm4784839', 'nm2177528', 'nm1973342', 'nm0001795', 'nm1720249', 'nm1510880', 'nm0557355', 'nm0297786', 'nm0527877', 'nm1660179', 'nm4731251', 'nm0343361', 'nm0942127', 'nm0000001', 'nm3174760', 'nm1534084', 'nm0802903', 'nm1050068', 'nm5046045', 'nm6327727', 'nm0070801', 'nm0359972', 'nm0799014', 'nm0653554', 'nm1238485', 'nm0006092', 'nm0277145', 'nm0750412', 'nm7055849', 'nm2885728', 'nm2306657', 'nm0005310', 'nm0108028', 'nm10451907', 'nm1726171', 'nm8021706', 'nm0297820', 'nm1191200', 'nm0588929', 'nm0730435', 'nm4033885', 'nm0592490', 'nm1525194', 'nm0822205', 'nm10047523', 'nm2959841', 'nm1226278', 'nm9641932', 'nm0725200', 'nm0473969', 'nm0564215', 'nm0426449', 'nm0039601', 'nm0703438', 'nm1065656', 'nm4678744', 'nm0562008', 'nm0770222', 'nm2924462', 'nm3878148', 'nm2699362', 'nm0261435', 'nm4085514', 'nm1134428', 'nm1235617', 'nm2219739', 'nm0482851', 'nm0125909', 'nm3703825', 'nm0275244', 'nm0253479', 'nm0659721', 'nm1390045', 'nm0588364', 'nm2217792', 'nm0148061', 'nm0546203', 'nm0186116', 'nm0384312', 'nm0895256', 'nm6949652', 'nm0370085', 'nm2514348', 'nm1426512', 'nm0636595', 'nm0802325', 'nm0155340', 'nm3033454', 'nm0007211', 'nm3237949', 'nm4219001', 'nm1372495', 'nm9526107', 'nm5489754', 'nm0806041', 'nm0415395', 'nm0000158', 'nm0046428', 'nm0363196', 'nm4375194', 'nm1047006', 'nm0323511', 'nm0386235', 'nm2440777', 'nm0203382', 'nm0001525', 'nm10128863', 'nm0619178', 'nm2932868', 'nm1260407', 'nm9352012', 'nm0228944', 'nm2803725', 'nm0584983', 'nm4369241', 'nm7074735', 'nm7265373', 'nm4393346', 'nm0069496', 'nm6781149', 'nm0880045', 'nm0411160', 'nm5597946', 'nm2555508', 'nm0000373', 'nm1374980', 'nm5347561', 'nm0571362', 'nm4911194', 'nm0547045', 'nm0334935', 'nm2593763', 'nm7763819', 'nm4326043', 'nm0577579', 'nm0312589', 'nm4902724', 'nm0620235', 'nm3348541', 'nm0458817', 'nm0569355', 'nm0814470', 'nm0364893', 'nm10236957', 'nm1697606', 'nm1000969', 'nm0645212', 'nm1175822', 'nm3009388', 'nm3877473', 'nm2002649', 'nm1948581', 'nm2789712', 'nm0000496', 'nm7899982', 'nm2942658', 'nm3648969', 'nm11126742', 'nm9806447', 'nm1964186', 'nm1147831', 'nm0382735', 'nm3533727', 'nm0994488', 'nm3549573', 'nm0110336', 'nm0420799', 'nm0125956', 'nm0247456', 'nm0234308', 'nm0642797', 'nm5629856', 'nm0934589', 'nm0351343', 'nm4138490', 'nm0234237', 'nm1754239', 'nm5771189', 'nm0445389', 'nm0864980', 'nm0195742', 'nm5870249', 'nm0315196', 'nm8854275', 'nm0950830', 'nm0233807', 'nm0566052', 'nm8208511', 'nm3262224', 'nm1432796', 'nm1952819', 'nm0610218', 'nm0283700', 'nm0246150', 'nm0141858', 'nm9463156', 'nm10155128', 'nm3825671', 'nm1907767', 'nm7357362', 'nm1497460', 'nm4319716', 'nm5202987', 'nm7822565', 'nm7304680', 'nm1406554', 'nm1050289', 'nm0307485', 'nm1446619', 'nm0042848', 'nm6025009', 'nm1845965', 'nm0001056', 'nm0535327', 'nm0616196', 'nm0553329', 'nm0914491', 'nm0001242', 'nm3283331', 'nm0493148', 'nm0088520', 'nm1045051', 'nm0777461', 'nm0452091', 'nm4246878', 'nm3125992', 'nm0754526', 'nm7254444', 'nm0645634', 'nm4646101', 'nm0904638', 'nm5745975', 'nm0130711', 'nm1853731', 'nm0819711', 'nm5263129', 'nm0676349', 'nm0901284', 'nm1746383', 'nm0810847', 'nm1950086', 'nm7634905', 'nm2571848', 'nm0127228', 'nm2575945', 'nm1027678', 'nm6069871', 'nm0445285', 'nm1310066', 'nm0568463', 'nm2373278', 'nm1817586', 'nm0745310', 'nm1659668', 'nm0750714', 'nm0368060', 'nm2921309', 'nm0840539', 'nm1190283', 'nm4439702', 'nm2720748', 'nm0101668', 'nm4874651', 'nm0640837', 'nm1153072', 'nm0475610', 'nm0661132', 'nm0582586', 'nm5049177', 'nm7229273', 'nm2193022', 'nm10684349', 'nm0340582', 'nm2181589', 'nm1670150', 'nm5157463', 'nm1042226', 'nm7100633', 'nm0198359', 'nm0716462', 'nm0093032', 'nm8070991', 'nm1721081', 'nm0798025', 'nm0337493', 'nm0183960', 'nm1965178', 'nm2778915', 'nm2120336', 'nm6367111', 'nm2169367', 'nm3611939', 'nm3240771', 'nm0452288', 'nm0515968', 'nm1002981', 'nm1154828', 'nm1690044', 'nm0368225', 'nm1429102', 'nm8301460', 'nm0873603', 'nm2955462', 'nm0446465', 'nm9407527', 'nm8795796', 'nm0235103', 'nm9380387', 'nm0392952', 'nm6480519', 'nm0620284', 'nm6049375', 'nm0515002', 'nm0371328', 'nm0428963', 'nm3578428', 'nm0280553', 'nm0882802', 'nm0949493', 'nm7871968', 'nm1622028', 'nm2605836', 'nm9063426', 'nm5025353', 'nm0632744', 'nm0197354', 'nm2296101', 'nm0216881', 'nm3854845', 'nm1637637', 'nm0411394', 'nm1041594', 'nm0867545', 'nm0847356', 'nm0790071', 'nm2003229', 'nm2692867', 'nm2651723', 'nm0917285', 'nm0942038', 'nm5423804', 'nm0044335', 'nm0580878', 'nm6093799', 'nm1313264', 'nm1694019', 'nm0617065', 'nm0437549', 'nm0399126', 'nm5866993', 'nm1838187', 'nm0217246', 'nm7450280', 'nm0306660', 'nm0427574', 'nm0056520', 'nm0001134', 'nm1840556', 'nm2638126', 'nm0586994', 'nm1776820', 'nm0229200', 'nm4987620', 'nm0227771', 'nm0411794', 'nm8315285', 'nm0005259', 'nm6978713', 'nm0486047', 'nm0005558', 'nm0031552', 'nm0588616', 'nm0615063', 'nm0131436', 'nm0393109', 'nm4742939', 'nm0283627', 'nm0501306', 'nm0250479', 'nm0403914', 'nm2938481', 'nm1701642', 'nm2184951', 'nm1375384', 'nm0342241', 'nm9618612', 'nm7338381', 'nm4044675', 'nm0793519', 'nm6393071', 'nm0459823', 'nm0370652', 'nm1798734', 'nm1280974', 'nm0417983', 'nm0879486', 'nm1521848', 'nm1675359', 'nm1960315', 'nm0348741', 'nm0188592', 'nm1559831', 'nm2836674', 'nm0785938', 'nm0895963', 'nm0005192', 'nm1797216', 'nm0000854', 'nm2284098', 'nm10256848', 'nm1000638', 'nm0388113', 'nm6919532', 'nm5252319', 'nm0160311', 'nm0489644', 'nm0422415', 'nm2346983', 'nm2438954', 'nm0115414', 'nm5644044', 'nm4739645', 'nm0386998', 'nm0000317', 'nm9309987', 'nm0768686', 'nm1396676', 'nm1274032', 'nm0000276', 'nm8218346', 'nm5262775', 'nm1617954', 'nm0285429', 'nm0960033', 'nm0998489', 'nm1209923', 'nm0004880', 'nm3382016', 'nm0172472', 'nm0188471', 'nm3581149', 'nm4262853', 'nm1390709', 'nm0517738', 'nm0780514', 'nm2628783', 'nm0405859', 'nm5853769', 'nm1417704', 'nm0496155', 'nm0270718', 'nm6802852', 'nm0361570', 'nm4202462', 'nm0001804', 'nm0610297', 'nm4793131', 'nm1592054', 'nm0003061', 'nm0244630', 'nm9411956', 'nm4108775', 'nm0634678', 'nm10487311', 'nm2437373', 'nm2080185', 'nm0264404', 'nm6441957', 'nm0270681', 'nm2717881', 'nm0847491', 'nm0353219', 'nm0572689', 'nm2586309', 'nm0559471', 'nm1026538', 'nm8230516', 'nm2589867', 'nm7854630', 'nm0648768', 'nm0528331', 'nm0347423', 'nm0297789', 'nm0918292', 'nm5739495', 'nm0594436', 'nm0383213', 'nm11018207', 'nm0001655', 'nm4740016', 'nm4493520', 'nm0439739', 'nm1442113', 'nm0709711', 'nm0235169', 'nm3057349', 'nm4795482', 'nm1406139', 'nm2200866', 'nm0506024', 'nm0151258', 'nm0001528', 'nm1438522', 'nm2969210', 'nm3405964', 'nm0822972', 'nm0998439', 'nm4413987', 'nm0265192', 'nm2857751', 'nm7029415', 'nm0959149', 'nm9002689', 'nm10004129', 'nm3118732', 'nm2969203', 'nm1501050', 'nm0999118', 'nm0865064', 'nm1428867', 'nm1011790', 'nm0319760', 'nm0193191', 'nm2977461', 'nm1320772', 'nm0237881', 'nm0838202', 'nm2568906', 'nm2992859', 'nm3124293', 'nm1678878', 'nm3857142', 'nm3269949', 'nm3401643', 'nm0880735', 'nm2737532', 'nm0141027', 'nm0441351', 'nm0787715', 'nm0889623', 'nm0124889', 'nm0790318', 'nm2275706', 'nm0291404', 'nm1157225', 'nm0074797', 'nm0054291', 'nm0352914', 'nm8023766', 'nm0364680', 'nm2624689', 'nm0014277', 'nm0559544', 'nm4178557', 'nm0066604', 'nm4051119', 'nm0789716', 'nm4533629', 'nm6930446', 'nm0536479', 'nm10418114', 'nm1832530', 'nm4302977', 'nm0414055', 'nm0671597', 'nm2948274', 'nm7400788', 'nm0297306', 'nm0558898', 'nm0711014', 'nm1501613', 'nm1835107', 'nm0001621', 'nm3676593', 'nm3425786', 'nm1041479', 'nm2809577', 'nm7295648', 'nm0005154', 'nm0004380', 'nm0590430', 'nm0823766', 'nm7498461', 'nm0254602', 'nm4722418', 'nm1675167', 'nm0000279', 'nm0796365', 'nm10709039', 'nm1143882', 'nm0141333', 'nm2977243', 'nm8136918', 'nm4964567', 'nm6393916', 'nm0464495', 'nm0667177', 'nm0555423', 'nm2501633', 'nm0021519', 'nm3884132', 'nm1172322', 'nm0754513', 'nm1908573', 'nm1131161', 'nm2875237', 'nm0132465', 'nm0095326', 'nm0395398', 'nm0656248', 'nm0065270', 'nm0350393', 'nm0489632', 'nm0831254', 'nm2362980', 'nm0256960', 'nm5190250', 'nm2131965', 'nm2671586', 'nm1244091', 'nm0399321', 'nm0774735', 'nm6728149', 'nm2746504', 'nm0538137', 'nm0724656', 'nm5236687', 'nm0879881', 'nm0116178', 'nm0847388', 'nm7012703', 'nm6965831', 'nm0770535', 'nm3225523', 'nm0627586', 'nm8792229', 'nm0005377', 'nm0674775', 'nm0337854', 'nm1438535', 'nm0283568', 'nm0288929', 'nm0015287', 'nm0052186', 'nm0089710', 'nm0199118', 'nm0001258', 'nm6745438', 'nm4491241', 'nm0731927', 'nm0969901', 'nm4188987', 'nm0574716', 'nm0268428', 'nm2052069', 'nm0001147', 'nm1543296', 'nm0507051', 'nm0491402', 'nm0152313', 'nm6506497', 'nm0005085', 'nm5720883', 'nm3517154', 'nm4012176', 'nm2973788', 'nm2969595', 'nm4407924', 'nm0175834', 'nm0419248', 'nm8853792', 'nm0921237', 'nm6001847', 'nm1133446', 'nm5618514', 'nm0652663', 'nm1556825', 'nm0730895', 'nm0714100', 'nm0149719', 'nm7567700', 'nm0947807', 'nm1033553', 'nm2501460', 'nm9211758', 'nm1220133', 'nm0915812', 'nm2331390', 'nm1740829', 'nm1206687', 'nm0073638', 'nm0002150', 'nm0167500', 'nm1230875', 'nm1361499', 'nm1169217', 'nm0104526', 'nm0283253', 'nm0000430', 'nm0953065', 'nm1235558', 'nm0000080', 'nm0907228', 'nm0142273', 'nm9188963', 'nm0001592', 'nm0845867', 'nm0250249', 'nm7262464', 'nm5860154', 'nm5373238', 'nm1293885', 'nm2115111', 'nm1966791', 'nm1824236', 'nm0791282', 'nm0000120', 'nm11126731', 'nm0926679', 'nm0203508', 'nm0790228', 'nm0799237', 'nm1489683', 'nm1559927', 'nm0216466', 'nm0504320', 'nm2274541', 'nm2173021', 'nm1078434', 'nm0099909', 'nm0959991', 'nm0855395', 'nm0051362', 'nm3225407', 'nm2284214', 'nm1019583', 'nm3853603', 'nm0237244', 'nm7472732', 'nm1063500', 'nm1304328', 'nm3932421', 'nm4489385', 'nm3419832', 'nm2624602', 'nm1312566', 'nm1489118', 'nm1504507', 'nm1374590', 'nm2422454', 'nm0753754', 'nm0120737', 'nm0455441', 'nm0015924', 'nm6101454', 'nm2805156', 'nm1252517', 'nm1397023', 'nm5229761', 'nm0961563', 'nm6382461', 'nm5001292', 'nm0608090', 'nm0525601', 'nm0708613', 'nm0110654', 'nm2938326', 'nm6872220', 'nm3061042', 'nm2745845', 'nm6257719', 'nm2642305', 'nm1018488', 'nm6819812', 'nm3701010', 'nm5741861', 'nm0209396', 'nm0375813', 'nm0020248', 'nm3654796', 'nm0174581', 'nm1147420', 'nm0528677', 'nm0536748', 'nm2180398', 'nm0095531', 'nm0069191', 'nm0005512', 'nm2044600', 'nm1372583', 'nm1004336', 'nm4857882', 'nm1001030', 'nm2933043', 'nm3224006', 'nm0146681', 'nm0233036', 'nm0775201', 'nm0748014', 'nm2288332', 'nm5456618', 'nm0028924', 'nm0001290', 'nm0029988', 'nm0942476', 'nm0334057', 'nm8067617', 'nm1101677', 'nm0002095', 'nm5240345', 'nm2309997', 'nm6204444', 'nm4943431', 'nm3899473', 'nm9025010', 'nm3629001', 'nm2711773', 'nm4796309', 'nm6042670', 'nm0167073', 'nm0672539', 'nm9832143', 'nm0467558', 'nm0832415', 'nm0000555', 'nm2980968', 'nm1316796', 'nm0967944', 'nm6150785', 'nm0020459', 'nm0001123', 'nm0690570', 'nm0620028', 'nm0781823', 'nm0157131', 'nm1503904', 'nm7498046', 'nm0005380', 'nm1679217', 'nm7705222', 'nm0309430', 'nm5017850', 'nm0937018', 'nm0343031', 'nm0360684', 'nm0492856', 'nm1291227', 'nm0468729', 'nm1505599', 'nm0123201', 'nm1012570', 'nm0437131', 'nm2641113', 'nm5274475', 'nm2514387', 'nm4649638', 'nm3211484', 'nm1235109', 'nm2340922', 'nm0934750', 'nm2531572', 'nm1368788', 'nm3667955', 'nm0427358', 'nm2001750', 'nm0639649', 'nm0945322', 'nm1817430', 'nm1056101', 'nm0325974', 'nm5465590', 'nm0442808', 'nm0732896', 'nm0228183', 'nm1736769', 'nm0792189', 'nm3092220', 'nm0815825', 'nm3009719', 'nm0367911', 'nm9756918', 'nm8839152', 'nm0072533', 'nm7631273', 'nm0004910', 'nm0363528', 'nm0644564', 'nm5007481', 'nm0695831', 'nm4534997', 'nm0030615', 'nm0000513', 'nm3592261', 'nm7488988', 'nm0271965', 'nm0521561', 'nm3059506', 'nm3741194', 'nm0612818', 'nm1438799', 'nm0780748', 'nm3255459', 'nm4610634', 'nm5001722', 'nm0170347', 'nm3990734', 'nm1727367', 'nm0299447', 'nm6616990', 'nm0153164', 'nm1430139', 'nm0161023', 'nm2168032', 'nm6589611', 'nm0793336', 'nm0717650', 'nm2237198', 'nm0001058', 'nm0447221', 'nm0542759', 'nm5146785', 'nm0358460', 'nm5520572', 'nm1123476', 'nm3002919', 'nm2121667', 'nm0612480', 'nm6779030', 'nm0197715', 'nm2832037', 'nm4483353', 'nm0075846', 'nm0793585', 'nm5642103', 'nm1775141', 'nm0574160', 'nm0378056', 'nm1559903', 'nm0064170', 'nm1686981', 'nm2425120', 'nm5285568', 'nm1289414', 'nm5689839', 'nm10179700', 'nm1169428', 'nm10174284', 'nm0371731', 'nm2376869', 'nm1465121', 'nm0323304', 'nm0889120', 'nm0791561', 'nm0498014', 'nm0120286', 'nm5621902', 'nm0560444', 'nm0142655', 'nm3453370', 'nm0002064', 'nm0570364', 'nm0475526', 'nm0715950', 'nm0840555', 'nm1659741', 'nm1846596', 'nm7974094', 'nm0233539', 'nm1142452', 'nm0757328', 'nm1721914', 'nm0001520', 'nm0939723', 'nm2943240', 'nm7795236', 'nm0317513', 'nm2974582', 'nm2007163', 'nm0717383', 'nm0323163', 'nm0165429', 'nm3275156', 'nm3236949', 'nm1543455', 'nm2442408', 'nm0124257', 'nm0628448', 'nm7752615', 'nm0107003', 'nm1032473', 'nm0023030', 'nm6262744', 'nm0157133', 'nm1821327', 'nm5100685', 'nm0412628', 'nm0000307', 'nm0623220', 'nm0628669', 'nm0949241', 'nm3430194', 'nm3629004', 'nm0173126', 'nm5629554', 'nm3137804', 'nm4680692', 'nm0847313', 'nm2934941', 'nm0408476', 'nm0129350', 'nm0566147', 'nm0085438', 'nm5107327', 'nm0559540', 'nm1982901', 'nm0814857', 'nm0243805', 'nm0532714', 'nm1995671', 'nm2474452', 'nm0113427', 'nm0068150', 'nm0180094', 'nm1297033', 'nm1364903', 'nm0000368', 'nm1728141', 'nm6929960', 'nm0180895', 'nm1419534', 'nm0409186', 'nm0020218', 'nm0757053', 'nm0721216', 'nm6839875', 'nm0553409', 'nm0852412', 'nm6878893', 'nm0536239', 'nm1133955', 'nm0932302', 'nm10036065', 'nm7535371', 'nm0171494', 'nm0169934', 'nm4048274', 'nm6285625', 'nm2762758', 'nm0741242', 'nm7646140', 'nm0409465', 'nm9025097', 'nm0282409', 'nm0477408', 'nm0217454', 'nm1631893', 'nm6942141', 'nm10385311', 'nm0034230', 'nm1177016', 'nm0184691', 'nm0411112', 'nm1153203', 'nm1120432', 'nm7024065', 'nm1310763', 'nm6204345', 'nm0696034', 'nm1105416', 'nm10018748', 'nm1328076', 'nm9631734', 'nm1289399', 'nm0108295', 'nm0338425', 'nm8741253', 'nm2275921', 'nm0399955', 'nm1703269', 'nm0126021', 'nm8847657', 'nm0370443', 'nm0141268', 'nm0160640', 'nm0156068', 'nm0687200', 'nm1597107', 'nm0569479', 'nm0005575', 'nm0451092', 'nm0539678', 'nm3461408', 'nm0229970', 'nm8285589', 'nm9591069', 'nm0005052', 'nm0103688', 'nm1560226', 'nm0668534', 'nm1869029', 'nm4041980', 'nm0438927', 'nm0000163', 'nm0250239', 'nm3248532', 'nm9621552', 'nm1988715', 'nm0241049', 'nm1900276', 'nm6216739', 'nm0130198', 'nm3191194', 'nm0001951', 'nm0833185', 'nm0823592', 'nm0601814', 'nm0141953', 'nm0243103', 'nm1281932', 'nm0441975', 'nm0844464', 'nm3892770', 'nm8685424', 'nm5663920', 'nm1614546', 'nm0569501', 'nm0992172', 'nm3473591', 'nm4986852', 'nm2090049', 'nm1063517', 'nm0118312', 'nm0659363', 'nm0476402', 'nm4833636', 'nm0579914', 'nm9973078', 'nm0000559', 'nm0002138', 'nm0689009', 'nm0331478', 'nm1315346', 'nm4346225', 'nm0943557', 'nm2557831', 'nm1640173', 'nm3195654', 'nm0336644', 'nm0052350', 'nm9152973', 'nm0000387', 'nm1075468', 'nm0174537', 'nm4248775', 'nm0690557', 'nm0396623', 'nm0876938', 'nm3783481', 'nm1076667', 'nm0689168', 'nm2342179', 'nm4734522', 'nm0176792', 'nm0053390', 'nm3907809', 'nm0875320', 'nm0047358', 'nm1461038', 'nm1539186', 'nm0089141', 'nm1993167', 'nm0594488', 'nm0185281', 'nm7019425', 'nm0519101', 'nm0454049', 'nm0845310', 'nm0521782', 'nm0828980', 'nm0634589', 'nm0620327', 'nm2936988', 'nm5435198', 'nm0804026', 'nm1553445', 'nm3049632', 'nm3009254', 'nm0205063', 'nm1733587', 'nm0329765', 'nm0358953', 'nm0824264', 'nm0001464', 'nm0581258', 'nm3082341', 'nm0946646', 'nm0000794', 'nm4035204', 'nm0463233', 'nm1716735', 'nm0353893', 'nm1290090', 'nm3603277', 'nm4843780', 'nm0638762', 'nm4011936', 'nm0485964', 'nm0605687', 'nm0416532', 'nm1929609', 'nm0772116', 'nm0808107', 'nm1402100', 'nm0048370', 'nm0762875', 'nm0001724', 'nm0457238', 'nm0947833', 'nm0619201', 'nm0638907', 'nm3186312', 'nm2558885', 'nm0818973', 'nm2927306', 'nm0214114', 'nm0803238', 'nm0019885', 'nm2310147', 'nm4708797', 'nm0075925', 'nm5536223', 'nm0187408', 'nm0531763', 'nm0290969', 'nm7057541', 'nm0831550', 'nm0220660', 'nm0866753', 'nm0160417', 'nm1425287', 'nm2273195', 'nm4577806', 'nm4138346', 'nm0387539', 'nm1337113', 'nm0452380', 'nm0558905', 'nm0044691', 'nm0187570', 'nm3163249', 'nm8274872', 'nm1018572', 'nm0249893', 'nm1114715', 'nm0756509', 'nm5642855', 'nm3210921', 'nm8762079', 'nm0025440', 'nm3611976', 'nm0847123', 'nm8200233', 'nm0412520', 'nm0757286', 'nm0146219', 'nm0261390', 'nm4230206', 'nm0851317', 'nm0829390', 'nm0866214', 'nm0751089', 'nm1527706', 'nm6745380', 'nm4544708', 'nm0297004', 'nm1685408', 'nm0134690', 'nm2230803', 'nm6800318', 'nm2177852', 'nm5735243', 'nm7442348', 'nm2869887', 'nm1598782', 'nm1551906', 'nm5680789', 'nm3211555', 'nm0619179', 'nm1008854', 'nm3388768', 'nm1361758', 'nm2921248', 'nm0441980', 'nm0201387', 'nm0269463', 'nm6513236', 'nm0653222', 'nm1270009', 'nm10386201', 'nm3870544', 'nm5556086', 'nm1966471', 'nm0000489', 'nm0787532', 'nm5382914', 'nm1271946', 'nm1503494', 'nm3035058', 'nm1005262', 'nm1482079', 'nm1835943', 'nm0091225', 'nm1553090', 'nm3053337', 'nm0005232', 'nm4711067', 'nm4291103', 'nm0000144', 'nm7265037', 'nm2366164', 'nm3350424', 'nm0909274', 'nm0008346', 'nm1831483', 'nm2859825', 'nm0131626', 'nm0849004', 'nm0001208', 'nm1727356', 'nm0882199', 'nm0317074', 'nm6175477', 'nm1042624', 'nm2156569', 'nm3735486', 'nm0227793', 'nm1316689', 'nm3856671', 'nm4986056', 'nm0558314', 'nm4143170', 'nm1028049', 'nm1920556', 'nm1827148', 'nm3033337', 'nm0181425', 'nm0945339', 'nm0831753', 'nm0315933', 'nm0347039', 'nm1189565', 'nm9658214', 'nm0063601', 'nm0840580', 'nm0434632', 'nm0316954', 'nm0912528', 'nm0250080', 'nm0000704', 'nm3109348', 'nm0200402', 'nm1682767', 'nm3723165', 'nm1518101', 'nm0503926', 'nm0001404', 'nm3698531', 'nm1036511', 'nm0608508', 'nm0514775', 'nm0178838', 'nm3414507', 'nm5338858', 'nm0055825', 'nm1381566', 'nm0009319', 'nm0618565', 'nm0339884', 'nm0004301', 'nm10720287', 'nm2696897', 'nm0135044', 'nm1488941', 'nm0058279', 'nm0281498', 'nm0488451', 'nm6569827', 'nm7251897', 'nm1508189', 'nm3961240', 'nm3243400', 'nm0500317', 'nm4334345', 'nm0435303', 'nm1125479', 'nm0376436', 'nm0382534', 'nm2416968', 'nm7303554', 'nm2055652', 'nm7261840', 'nm7542851', 'nm0605174', 'nm0993483', 'nm2071899', 'nm0526545', 'nm0482027', 'nm0391327', 'nm1983843', 'nm0000998', 'nm0367541', 'nm1518150', 'nm0170927', 'nm1090186', 'nm2124143', 'nm0140438', 'nm7315177', 'nm0662730', 'nm0000623', 'nm2762361', 'nm1377139', 'nm1050409', 'nm0033507', 'nm0031844', 'nm0566572', 'nm5414978', 'nm1186819', 'nm0364977', 'nm4573718', 'nm1183241', 'nm4860037', 'nm0220016', 'nm1350859', 'nm0761761', 'nm0839726', 'nm4478199', 'nm0004847', 'nm0554178', 'nm1325419', 'nm8558750', 'nm10596690', 'nm1512156', 'nm0100807', 'nm3020847', 'nm1483716', 'nm1688408', 'nm0335744', 'nm0824763', 'nm7264614', 'nm4173335', 'nm0746811', 'nm4169122', 'nm0865686', 'nm0386752', 'nm8585842', 'nm0846615', 'nm2309336', 'nm6207681', 'nm4033859', 'nm0228324', 'nm6306311', 'nm9607396', 'nm0031495', 'nm0370650', 'nm7477145', 'nm0322510', 'nm0790611', 'nm3936139', 'nm0001734', 'nm0058772', 'nm0172259', 'nm0000634', 'nm1551597', 'nm0929330', 'nm0079007', 'nm0866374', 'nm0387940', 'nm1561210', 'nm0286138', 'nm3161916', 'nm0000688', 'nm0927770', 'nm2545121', 'nm7641430', 'nm4241965', 'nm3016048', 'nm0211482', 'nm7508758', 'nm1211596', 'nm2649401', 'nm2417896', 'nm1401989', 'nm7644217', 'nm0488167', 'nm0114982', 'nm1584075', 'nm10330010', 'nm1004294', 'nm0431895', 'nm1453396', 'nm0314210', 'nm0815885', 'nm0434169', 'nm0299951', 'nm0761498', 'nm9063282', 'nm3488289', 'nm1395408', 'nm0922652', 'nm0067754', 'nm4818678', 'nm0258408', 'nm3286146', 'nm1507138', 'nm0457561', 'nm0407196', 'nm1759527', 'nm0109329', 'nm0631577', 'nm0021656', 'nm0101508', 'nm0231053', 'nm0811345', 'nm2981935', 'nm0124487', 'nm1078574', 'nm3414402', 'nm0149667', 'nm1085045', 'nm0641298', 'nm0443000', 'nm7661187', 'nm1044905', 'nm0795505', 'nm0109956', 'nm0102462', 'nm1306686', 'nm2257312', 'nm0026789', 'nm6594588', 'nm0611889', 'nm0005460', 'nm1800793', 'nm2600314', 'nm0809727', 'nm0318989', 'nm0556089', 'nm0419747', 'nm2625609', 'nm0452700', 'nm5110327', 'nm6952576', 'nm0386252', 'nm0411168', 'nm8101777', 'nm0117458', 'nm4653753', 'nm1972605', 'nm0532464', 'nm0000385', 'nm0823173', 'nm0004883', 'nm4530613', 'nm1897007', 'nm0110688', 'nm0443371', 'nm0829781', 'nm5046187', 'nm5650936', 'nm4314317', 'nm3883906', 'nm1125347', 'nm0020150', 'nm8128381', 'nm2299231', 'nm1508405', 'nm5337109', 'nm9853864', 'nm1319002', 'nm0881585', 'nm2875422', 'nm3739305', 'nm0951008', 'nm2134328', 'nm0539022', 'nm3329362', 'nm1489841', 'nm6823317', 'nm0609592', 'nm0351338', 'nm0182358', 'nm0299208', 'nm0877599', 'nm0878768', 'nm0956603', 'nm0010075', 'nm1434644', 'nm0000408', 'nm1468061', 'nm2316607', 'nm0058724', 'nm0217221', 'nm0329481', 'nm5144376', 'nm1154603', 'nm10247511', 'nm0355024', 'nm1772577', 'nm0411123', 'nm0465342', 'nm0507793', 'nm0542558', 'nm0477583', 'nm2831024', 'nm0412602', 'nm2084618', 'nm4339455', 'nm0404454', 'nm5735245', 'nm3481374', 'nm0793554', 'nm1211453', 'nm3372141', 'nm3071084', 'nm6303323', 'nm0000213', 'nm0429197', 'nm0125518', 'nm0544718', 'nm8808008', 'nm0598528', 'nm1517649', 'nm0307435', 'nm6101362', 'nm0364195', 'nm0004977', 'nm0190828', 'nm0334318', 'nm7397445', 'nm0915989', 'nm3840880', 'nm0355112', 'nm0611452', 'nm1501642', 'nm0650945', 'nm2873574', 'nm0430604', 'nm0369545', 'nm6203265', 'nm6801363', 'nm0148498', 'nm0945208', 'nm10583190', 'nm9013169', 'nm1668456', 'nm0727051', 'nm0593729', 'nm1681374', 'nm0094853', 'nm2770525', 'nm0330015', 'nm8837589', 'nm0659118', 'nm0267677', 'nm0790799', 'nm0344151', 'nm0713557', 'nm0048284', 'nm0094221', 'nm0310370', 'nm0139725', 'nm0000799', 'nm0000049', 'nm3937111', 'nm1078851', 'nm1040208', 'nm3501247', 'nm0063944', 'nm1252685', 'nm0189877', 'nm0048589', 'nm2094033', 'nm1246394', 'nm4004883', 'nm0757329', 'nm4259353', 'nm0448620', 'nm2986425', 'nm5876524', 'nm0634578', 'nm0791105', 'nm7795082', 'nm6119738', 'nm0582920', 'nm5018629', 'nm0573830', 'nm0411050', 'nm0544139', 'nm0440514', 'nm1029346', 'nm1740122', 'nm0434668', 'nm7301563', 'nm7202654', 'nm0000355', 'nm0001646', 'nm8214099', 'nm0361662', 'nm0930582', 'nm0768885', 'nm8680799', 'nm0049190', 'nm0915375', 'nm2016582', 'nm0849776', 'nm0594057', 'nm9788067', 'nm1664562', 'nm2430421', 'nm0135131', 'nm0220735', 'nm10481003', 'nm0631668', 'nm7417378', 'nm0534321', 'nm5393330', 'nm0179069', 'nm1060258', 'nm0445962', 'nm0000447', 'nm0002126', 'nm1324897', 'nm6343418', 'nm1546367', 'nm0534134', 'nm0201373', 'nm1866115', 'nm0322467', 'nm1690312', 'nm0672330', 'nm0250616', 'nm8637477', 'nm0841910', 'nm6974206', 'nm0561975', 'nm0694989', 'nm0001489', 'nm10631700', 'nm6820390', 'nm2738522', 'nm1786732', 'nm0392420', 'nm0220438', 'nm0419743', 'nm0085316', 'nm0528802', 'nm7337065', 'nm0475737', 'nm1460601', 'nm1754353', 'nm1340355', 'nm0378619', 'nm1142722', 'nm0752900', 'nm0047962', 'nm0908102', 'nm3535085', 'nm0001281', 'nm0003249', 'nm0464720', 'nm6997609', 'nm7786316', 'nm0005239', 'nm0113508', 'nm7287048', 'nm0323140', 'nm3726899', 'nm0644740', 'nm0496980', 'nm0700875', 'nm0126023', 'nm0769292', 'nm4134328', 'nm1120563', 'nm0079042', 'nm3460306', 'nm4545868', 'nm0063872', 'nm3358475', 'nm9242088', 'nm0120658', 'nm0629667', 'nm2110060', 'nm1621555', 'nm4641517', 'nm0009675', 'nm0734924', 'nm7468916', 'nm10720885', 'nm0130370', 'nm0002058', 'nm1487136', 'nm5109128', 'nm0603600', 'nm0004979', 'nm0491229', 'nm4516447', 'nm2226880', 'nm1254865', 'nm2081817', 'nm0687443', 'nm0390604', 'nm0295419', 'nm0000157', 'nm4445381', 'nm2435676', 'nm0386391', 'nm0945094', 'nm5668055', 'nm9233005', 'nm0884852', 'nm0639667', 'nm1797891', 'nm7417988', 'nm0867297', 'nm2596019', 'nm9719897', 'nm0140806', 'nm2045884', 'nm1546181', 'nm0371874', 'nm0396558', 'nm0237222', 'nm9761571', 'nm4847835', 'nm0847347', 'nm1056913', 'nm0424458', 'nm0428901', 'nm0921131', 'nm1661282', 'nm1144472', 'nm0280146', 'nm2550198', 'nm0319980', 'nm0000305', 'nm0766493', 'nm0361672', 'nm2857655', 'nm1020036', 'nm2584203', 'nm6587351', 'nm5665571', 'nm0757929', 'nm0416349', 'nm0277070', 'nm0108782', 'nm0517288', 'nm0448020', 'nm1152509', 'nm3091777', 'nm1594089', 'nm5867280', 'nm10240679', 'nm8422988', 'nm0126325', 'nm0076835', 'nm7709192', 'nm4439760', 'nm0456589', 'nm1920701', 'nm6411071', 'nm6953521', 'nm0949424', 'nm0174768', 'nm0401242', 'nm2413160', 'nm5513650', 'nm9461320', 'nm0561987', 'nm0444917', 'nm0665002', 'nm0469584', 'nm3332257', 'nm2985278', 'nm6582294', 'nm3039665', 'nm0808709', 'nm2821789', 'nm9692866', 'nm1584609', 'nm0290102', 'nm7835016', 'nm1521145', 'nm0748644', 'nm0833076', 'nm0001062', 'nm2733861', 'nm2569958', 'nm0001737', 'nm0294203', 'nm0359168', 'nm0445206', 'nm0451574', 'nm1125560', 'nm2641070', 'nm5202925', 'nm2349366', 'nm0414130', 'nm0179786', 'nm7304681', 'nm0000550', 'nm1280924', 'nm2549697', 'nm4962008', 'nm0000153', 'nm1008415', 'nm1959535', 'nm1932274', 'nm1796239', 'nm5673777', 'nm4515194', 'nm0918334', 'nm1470683', 'nm3874157', 'nm0844284', 'nm0955069', 'nm2313330', 'nm0391641', 'nm0386841', 'nm3003678', 'nm0936762', 'nm1767671', 'nm9072464', 'nm0547128', 'nm3391690', 'nm0615730', 'nm4480120', 'nm0557951', 'nm0202940', 'nm0589900', 'nm3193285', 'nm2704324', 'nm0333572', 'nm1370627', 'nm1142613', 'nm0062370', 'nm5610974', 'nm0651845', 'nm0711292', 'nm0579663', 'nm0753508', 'nm2016895', 'nm1004585', 'nm0854836', 'nm3915901', 'nm6570716', 'nm6660742', 'nm5804925', 'nm0001370', 'nm0144657', 'nm1426576', 'nm0358922', 'nm1936833', 'nm0229928', 'nm0493541', 'nm8591554', 'nm1742621', 'nm6145345', 'nm3140577', 'nm3770713', 'nm0744870', 'nm0931302', 'nm1880243', 'nm0927952', 'nm9841072', 'nm0758825', 'nm6765142', 'nm0794027', 'nm0960690', 'nm7255559', 'nm0289038', 'nm0001792', 'nm0731451', 'nm3502090', 'nm0361742', 'nm0542133', 'nm0687983', 'nm5202978', 'nm9327440', 'nm7534064', 'nm0446425', 'nm0757116', 'nm0910738', 'nm0795344', 'nm10082631', 'nm2491814', 'nm0885219', 'nm2580617', 'nm6021348', 'nm0000145', 'nm0738433', 'nm1274864', 'nm0740535', 'nm0779325', 'nm0525855', 'nm0474958', 'nm0030516', 'nm1146051', 'nm6801215', 'nm0382273', 'nm5443773', 'nm0290435', 'nm0420383', 'nm0229528', 'nm0993426', 'nm0461479', 'nm2462004', 'nm4985148', 'nm3424196', 'nm0618955', 'nm0640918', 'nm2481494', 'nm0608152', 'nm0000822', 'nm3851843', 'nm0252049', 'nm0946344', 'nm0488953', 'nm1717104', 'nm2087026', 'nm2348295', 'nm2944424', 'nm0230032', 'nm1350556', 'nm3085384', 'nm8715317', 'nm0093697', 'nm1969831', 'nm0394679', 'nm1893074', 'nm0253024', 'nm9034367', 'nm1896066', 'nm0197405', 'nm0468718', 'nm6257948', 'nm0281359', 'nm4181314', 'nm0191918', 'nm0254043', 'nm0100615', 'nm1395420', 'nm2371148', 'nm0001651', 'nm0792262', 'nm0466936', 'nm0049320', 'nm2361166', 'nm0277882', 'nm0078355', 'nm4795904', 'nm0719115', 'nm0134269', 'nm10603155', 'nm0286742', 'nm0633989', 'nm0477738', 'nm0117786', 'nm0001383', 'nm0713498', 'nm4534899', 'nm0001086', 'nm1456952', 'nm0113518', 'nm0683467', 'nm3820860', 'nm2438616', 'nm0562201', 'nm9518335', 'nm0357090', 'nm0438593', 'nm1411540', 'nm0961243', 'nm5725027', 'nm0363252', 'nm0564885', 'nm0566560', 'nm0945436', 'nm2706829', 'nm0806500', 'nm0068908', 'nm1702759', 'nm7476590', 'nm7034552', 'nm1029883', 'nm0001840', 'nm0225549', 'nm0613748', 'nm10051372', 'nm4072722', 'nm0184963', 'nm1225406', 'nm2246840', 'nm1355792', 'nm10390955', 'nm0674735', 'nm0296545', 'nm0514166', 'nm2442290', 'nm1387071', 'nm2172053', 'nm1135905', 'nm3899785', 'nm1392955', 'nm8748872', 'nm3120004', 'nm1325951', 'nm0596959', 'nm0466811', 'nm0199961', 'nm6004737', 'nm4559922', 'nm5602074', 'nm2807396', 'nm0367741', 'nm2193008', 'nm0897112', 'nm2489925', 'nm0311081', 'nm1517462', 'nm7250985', 'nm1076294', 'nm3805437', 'nm0267551', 'nm0406099', 'nm1105006', 'nm0135752', 'nm0001817', 'nm6278577', 'nm0410336', 'nm0018755', 'nm1022077', 'nm0139732', 'nm2574155', 'nm0330070', 'nm8060551', 'nm0787307', 'nm0225703', 'nm0004258', 'nm0359305', 'nm1883261', 'nm3562961', 'nm0286938', 'nm2449290', 'nm5367939', 'nm2984957', 'nm1348102', 'nm6030457', 'nm0618022', 'nm0277156', 'nm0436516', 'nm0380092', 'nm0614855', 'nm0613592', 'nm1670250', 'nm4722826', 'nm0086732', 'nm0790031', 'nm0186528', 'nm0849042', 'nm0230315', 'nm0005348', 'nm5139937', 'nm6707031', 'nm0574882', 'nm3437895', 'nm0768016', 'nm0155693', 'nm0000589', 'nm4645694', 'nm1715628', 'nm2088158', 'nm2405918', 'nm1859968', 'nm0002032', 'nm3168669', 'nm8454012', 'nm5468989', 'nm2766439', 'nm10057750', 'nm0723819', 'nm0584017', 'nm1061038', 'nm0992354', 'nm0077380', 'nm7659257', 'nm6927959', 'nm0325221', 'nm8104685', 'nm6179964', 'nm0419005', 'nm3045630', 'nm1461912', 'nm1254849', 'nm3033069', 'nm0394652', 'nm2074315', 'nm0291985', 'nm6580936', 'nm5779681', 'nm0383525', 'nm5125909', 'nm0317519', 'nm10198953', 'nm0146410', 'nm0824238', 'nm5108357', 'nm1362496', 'nm2605356', 'nm0906696', 'nm0914771', 'nm1082823', 'nm2081791', 'nm0563884', 'nm6735397', 'nm8214475', 'nm1539385', 'nm1098038', 'nm3982827', 'nm0764445', 'nm0806284', 'nm0275835', 'nm0017491', 'nm0488323', 'nm1000963', 'nm0000104', 'nm0000407', 'nm2986974', 'nm4211189', 'nm3205085', 'nm0911389', 'nm2069528', 'nm0378309', 'nm0236329', 'nm0463201', 'nm0126154', 'nm3194762', 'nm3830257', 'nm2803399', 'nm6035232', 'nm4405757', 'nm0698756', 'nm3203837', 'nm0551010', 'nm2049893', 'nm0254402', 'nm0050372', 'nm0137986', 'nm4677867', 'nm0192291', 'nm1807897', 'nm1827445', 'nm1947858']\n",
            "time: 7.34 ms (started: 2021-07-16 13:47:34 +00:00)\n"
          ],
          "name": "stdout"
        }
      ]
    },
    {
      "cell_type": "markdown",
      "metadata": {
        "id": "vR4zTb1R66MY"
      },
      "source": [
        "Creation of a dictionary that links actors that performed in the same project"
      ]
    },
    {
      "cell_type": "code",
      "metadata": {
        "id": "E1C0M1ywT_Vo",
        "colab": {
          "base_uri": "https://localhost:8080/"
        },
        "outputId": "5167ebeb-13c6-457a-b04a-9853aa84fe91"
      },
      "source": [
        "links = {actor : [] for actor in actors_enum}\n",
        "\n",
        "for actor in actors_enum:\n",
        "  for movie in actors_dict[actor][0] :\n",
        "    links[actor].append(movies_dict[movie])\n",
        "  links[actor] = list(set(flatten(links[actor]))) "
      ],
      "execution_count": 27,
      "outputs": [
        {
          "output_type": "stream",
          "text": [
            "time: 1.8 s (started: 2021-07-16 13:47:34 +00:00)\n"
          ],
          "name": "stdout"
        }
      ]
    },
    {
      "cell_type": "code",
      "metadata": {
        "id": "kcWjNrNNVwh-",
        "colab": {
          "base_uri": "https://localhost:8080/"
        },
        "outputId": "72f8865e-6807-4f18-8d77-ab31da3543f6"
      },
      "source": [
        "print(f'Example from links: {next(iter(links.values()))}')"
      ],
      "execution_count": 28,
      "outputs": [
        {
          "output_type": "stream",
          "text": [
            "Example from links: ['nm5464157']\n",
            "time: 1.73 ms (started: 2021-07-16 13:47:36 +00:00)\n"
          ],
          "name": "stdout"
        }
      ]
    },
    {
      "cell_type": "code",
      "metadata": {
        "id": "IY30hI-iaBeA",
        "colab": {
          "base_uri": "https://localhost:8080/"
        },
        "outputId": "c5bcb8fd-b203-49d1-c95e-c32e11f5cad8"
      },
      "source": [
        "print(f'Total number of actors: {len(df_sample[\"nconst\"].unique())}')"
      ],
      "execution_count": 29,
      "outputs": [
        {
          "output_type": "stream",
          "text": [
            "Total number of actors: 153215\n",
            "time: 221 ms (started: 2021-07-16 13:47:36 +00:00)\n"
          ],
          "name": "stdout"
        }
      ]
    },
    {
      "cell_type": "markdown",
      "metadata": {
        "id": "KTRWBmjJ7GdC"
      },
      "source": [
        "Creation of a dictionary that associate to each actor the average rating obatained by the movies in which he performed"
      ]
    },
    {
      "cell_type": "code",
      "metadata": {
        "id": "1nZT6CJvZ2tw",
        "colab": {
          "base_uri": "https://localhost:8080/"
        },
        "outputId": "6c3c031b-1c98-46f0-d3db-efa94a00e661"
      },
      "source": [
        "avg_ratings = {actor : 0 for actor in actors_enum}\n",
        "\n",
        "for i in range(len(df_sample)):\n",
        "  avg_ratings[df_sample[\"nconst\"][i]] += df_sample[\"averageRating\"][i]\n",
        "\n",
        "for el in avg_ratings:\n",
        "  avg_ratings[el] /= 10 * len(actors_dict[el][0])\n"
      ],
      "execution_count": 30,
      "outputs": [
        {
          "output_type": "stream",
          "text": [
            "time: 5.74 s (started: 2021-07-16 13:47:36 +00:00)\n"
          ],
          "name": "stdout"
        }
      ]
    },
    {
      "cell_type": "code",
      "metadata": {
        "id": "kaGFhwaSbULP",
        "colab": {
          "base_uri": "https://localhost:8080/"
        },
        "outputId": "bc5145ed-af27-4244-bb07-79b817ba2f02"
      },
      "source": [
        "print(f'Example from avg_ratings: {next(iter(avg_ratings.values())):.2f}')"
      ],
      "execution_count": 31,
      "outputs": [
        {
          "output_type": "stream",
          "text": [
            "Example from avg_ratings: 0.60\n",
            "time: 1.82 ms (started: 2021-07-16 13:47:42 +00:00)\n"
          ],
          "name": "stdout"
        }
      ]
    },
    {
      "cell_type": "markdown",
      "metadata": {
        "id": "a1HE52zX7utA"
      },
      "source": [
        "The following is a toy example that show a subgraph obtained by the original dataset"
      ]
    },
    {
      "cell_type": "code",
      "metadata": {
        "id": "dfvsSRQ21CtY",
        "colab": {
          "base_uri": "https://localhost:8080/"
        },
        "outputId": "a0f7dc9b-b139-4a21-f9dd-e35206c6fb36"
      },
      "source": [
        "def get_subgraph(df_sample, links, out_degree):\n",
        "  \"\"\"\n",
        "    This function create and visualize a subgraph extracted from the sampled version of the merged dataset\n",
        "    \n",
        "    Args:\n",
        "      df_sample : the considered dataset\n",
        "      links : the dictionary that keeps the correspondance between each actor and the actors he/she worked with\n",
        "      out_degree : the minimum numer of outer links a node has to have to be chosen \n",
        "      \n",
        "    Returns:\n",
        "      the visualization of the subgraph \n",
        "  \"\"\"\n",
        "  plt.rcParams[\"figure.figsize\"] = (10,10)\n",
        "  g = nx.DiGraph()\n",
        "\n",
        "  for actor in links:\n",
        "    if len(links[actor])>=out_degree:\n",
        "      first_actor = actor\n",
        "\n",
        "  for actor in links[first_actor]:\n",
        "    g.add_node(actor)\n",
        "\n",
        "  for actor in links[first_actor]:\n",
        "    if (first_actor != actor) :\n",
        "      g.add_edge(first_actor, actor)\n",
        "\n",
        "  for actor in g.nodes:\n",
        "    if(first_actor != actor):\n",
        "      for actor2 in links[actor]:\n",
        "        if actor2 in g.nodes:\n",
        "          g.add_edge(actor, actor2)\n",
        "\n",
        "  name_dict = {actor : \"\" for actor in g.nodes}\n",
        "  for actor in name_dict:\n",
        "    name_dict[actor] = df_sample[df_sample[\"nconst\"] == actor][\"primaryName\"].unique()[0]\n",
        "\n",
        "  opts = {'node_size': 1800, \n",
        "        'font_color': 'black',\n",
        "        'font_size': 15,\n",
        "        'font_weight': 'bold',\n",
        "        'edge_color':'b',\n",
        "        'arrowsize': 20}\n",
        "\n",
        "\n",
        "  nx.draw(g, node_color='#AAAAEE', with_labels=True, labels=name_dict, **opts)\n",
        "  \n",
        "  plt.show()"
      ],
      "execution_count": 32,
      "outputs": [
        {
          "output_type": "stream",
          "text": [
            "time: 66.4 ms (started: 2021-07-16 13:47:42 +00:00)\n"
          ],
          "name": "stdout"
        }
      ]
    },
    {
      "cell_type": "code",
      "metadata": {
        "id": "GphohoyX6PAH",
        "colab": {
          "base_uri": "https://localhost:8080/",
          "height": 0
        },
        "outputId": "f5f28f06-815e-4c16-cc0f-ae72cf0331b1"
      },
      "source": [
        "get_subgraph(df_sample, links, 9)"
      ],
      "execution_count": 33,
      "outputs": [
        {
          "output_type": "display_data",
          "data": {
            "image/png": "[encoded data removed]",
            "text/plain": [
              "<Figure size 720x720 with 1 Axes>"
            ]
          },
          "metadata": {
            "tags": []
          }
        },
        {
          "output_type": "stream",
          "text": [
            "time: 1.91 s (started: 2021-07-16 13:47:42 +00:00)\n"
          ],
          "name": "stdout"
        }
      ]
    },
    {
      "cell_type": "markdown",
      "metadata": {
        "id": "e4lxi3WuaSy2"
      },
      "source": [
        "# PageRank"
      ]
    },
    {
      "cell_type": "markdown",
      "metadata": {
        "id": "HFj5Wao0xnY3"
      },
      "source": [
        "##Functions"
      ]
    },
    {
      "cell_type": "code",
      "metadata": {
        "id": "eI5JN3hBLEIt",
        "colab": {
          "base_uri": "https://localhost:8080/"
        },
        "outputId": "af46fb1c-e209-4a7b-c37a-8e99d5e4f003"
      },
      "source": [
        "def get_genres(df_title_basics):\n",
        "  \"\"\"\n",
        "    This function extract all possible genres from the IMDb movies dataset\n",
        "\n",
        "    Args:\n",
        "      df_title_basics : the dataset from which we want to extract the genres\n",
        "    \n",
        "    Returns:\n",
        "      the list of possible genres of the products in the dataset\n",
        "  \"\"\"\n",
        "  genres = []\n",
        "  for el in df_title_basics[\"genres\"]:\n",
        "    genres.append(el.split(\",\"))\n",
        "\n",
        "  genres = list(set(flatten(genres)))\n",
        "  return genres\n",
        "\n",
        "def get_actors(df_sample):\n",
        "  \"\"\"\n",
        "    This function extract all possible actors from the IMDb movies dataset\n",
        "\n",
        "    Args:\n",
        "      df_sample : the dataset from which we want to extract the actors\n",
        "    \n",
        "    Returns:\n",
        "      the list of all the actors in the dataset\n",
        "  \"\"\"\n",
        "  return  df_sample[\"nconst\"].unique()"
      ],
      "execution_count": 34,
      "outputs": [
        {
          "output_type": "stream",
          "text": [
            "time: 7.84 ms (started: 2021-07-16 13:47:44 +00:00)\n"
          ],
          "name": "stdout"
        }
      ]
    },
    {
      "cell_type": "code",
      "metadata": {
        "id": "IoiAnXR2LdmH",
        "colab": {
          "base_uri": "https://localhost:8080/"
        },
        "outputId": "84de2f50-e52a-4696-dcfb-39081948b86e"
      },
      "source": [
        "def create_dicts(df_sample, actors_enum):\n",
        "  \"\"\"\n",
        "    This function create two dictionaries that associate each actor to the movies he/she performed in and each product with the cast that worked in it\n",
        "\n",
        "    Args:\n",
        "      df_sample : the dataset we want to extract informations from\n",
        "      actors_enum : the list of all considered actors\n",
        "\n",
        "    Returns:\n",
        "      a dictionary containing for each product the cast that performed in it, dictionary containing for each actor the movies in which he/she performed and an ID to univoquely identify him/her\n",
        "  \"\"\"\n",
        "  movies_dict = {movie : [] for movie in df_sample[\"tconst\"].unique()}\n",
        "  actors_dict = {actor : [[], i] for actor, i in zip(actors_enum, range(len(actors_enum)))}\n",
        "\n",
        "  for i in range(len(df_sample[\"tconst\"])) :\n",
        "    movies_dict[df_sample[\"tconst\"][i]].append(df_sample[\"nconst\"][i])\n",
        "    actors_dict[df_sample[\"nconst\"][i]][0].append(df_sample[\"tconst\"][i])\n",
        "\n",
        "  return movies_dict, actors_dict\n",
        "\n",
        "def create_genres_dict(df_sample, genres):\n",
        "  \"\"\"\n",
        "    This function create a dictionary that associate each genre to the actors related to it\n",
        "\n",
        "    Args:\n",
        "      df_sample : the dataset we want to extract informations from\n",
        "      genres : the list of all possible genres in the dataset\n",
        "\n",
        "    Returns:\n",
        "      a dictionary containing for each genre the actors related to it\n",
        "  \"\"\"\n",
        "  genres_dict = {genre : [] for genre in genres}\n",
        "\n",
        "  for _, row in df_sample.iterrows():\n",
        "    for el in row[\"genres\"].split(\",\"): \n",
        "      genres_dict [el].append(row[\"nconst\"])\n",
        "\n",
        "  for el in genres_dict: \n",
        "    genres_dict [el] = list(set(genres_dict[el]))\n",
        "\n",
        "  return genres_dict\n",
        "\n",
        "def create_ratings_dict(df_sample, actors_enum, actors_dict):\n",
        "  \"\"\"\n",
        "    This function create a dictionary that associate each actor to the average rating of the movies he/she performed in\n",
        "\n",
        "    Args:\n",
        "      df_sample : the dataset we want to extract informations from\n",
        "      actors_enum : the list of all considered actors\n",
        "      actors_dict : a dictionary containing for each actor the movies in which he/she performed and an ID to univoquely identify him/her\n",
        "\n",
        "    Returns:\n",
        "      a dictionary containing for each actor the average rating of the movies he/she performed in\n",
        "  \"\"\"\n",
        "  avg_ratings = {actor : 0 for actor in actors_enum}\n",
        "  \n",
        "  for i in range(len(df_sample)):\n",
        "    avg_ratings[df_sample[\"nconst\"][i]] += df_sample[\"averageRating\"][i]\n",
        "\n",
        "  for el in avg_ratings:\n",
        "    avg_ratings[el] /= 10 * len(actors_dict[el][0])\n",
        "\n",
        "  return avg_ratings  \n",
        "\n",
        "def get_links(actors_enum, movies_dict, actors_dict):\n",
        "  \"\"\"\n",
        "    This function create a dictionary that associate each actor to the actors he/she performed with\n",
        "\n",
        "    Args:\n",
        "      df_sample : the dataset we want to extract informations from\n",
        "      actors_enum : the list of all considered actors\n",
        "      movies_dict : a dictionary containing for each product the cast that performed in it\n",
        "      actors_dict : a dictionary containing for each actor the movies in which he/she performed and an ID to univoquely identify him/her\n",
        "\n",
        "    Returns:\n",
        "      a dictionary containing for each actor the actors he/she performed with\n",
        "  \"\"\"\n",
        "  links = {actor : [] for actor in actors_enum}\n",
        "\n",
        "  for actor in actors_enum:\n",
        "    for movie in actors_dict[actor][0] :\n",
        "      links[actor].append(movies_dict[movie])\n",
        "    links[actor] = list(set(flatten(links[actor]))) \n",
        "\n",
        "  return links"
      ],
      "execution_count": 35,
      "outputs": [
        {
          "output_type": "stream",
          "text": [
            "time: 47.8 ms (started: 2021-07-16 13:47:44 +00:00)\n"
          ],
          "name": "stdout"
        }
      ]
    },
    {
      "cell_type": "code",
      "metadata": {
        "id": "_LdlEy12xylV",
        "colab": {
          "base_uri": "https://localhost:8080/"
        },
        "outputId": "fb1107a8-af88-4324-b6e6-8414e03c23c6"
      },
      "source": [
        "def create_connection_matrix(links):\n",
        "    \"\"\"\n",
        "    This function create the connection matrix\n",
        "\n",
        "    Args:\n",
        "      links : a dictionary containing for each actor the actors he/she performed with\n",
        "\n",
        "    Returns:\n",
        "      a connection matrix  whose entries are in the form (act2, act1, 1/num_outerlinks_act1)\n",
        "    \"\"\"\n",
        "    connection_matrix = []\n",
        "    for a in links:\n",
        "      for b in links[a]:\n",
        "        connection_matrix.append((b, a, 1./len(links[a])))\n",
        "    \n",
        "    return connection_matrix"
      ],
      "execution_count": 36,
      "outputs": [
        {
          "output_type": "stream",
          "text": [
            "time: 4.4 ms (started: 2021-07-16 13:47:44 +00:00)\n"
          ],
          "name": "stdout"
        }
      ]
    },
    {
      "cell_type": "code",
      "metadata": {
        "id": "EuJqFStjzKsW",
        "colab": {
          "base_uri": "https://localhost:8080/"
        },
        "outputId": "5ef729a5-4454-4dc8-8d20-869ab2365d69"
      },
      "source": [
        "def get_page_rank(actors_enum, links, actors_dict, logger, beta=0.8,\n",
        "                  max_iterations=400, tolerance=1.e-5, verbose=False):\n",
        "    \"\"\"\n",
        "      Page Rank algorithm\n",
        "      \n",
        "      Args:\n",
        "        actors_enum : list of all possible actors\n",
        "        links : the association between actors that worked in the same project\n",
        "        actors_dict : the association between actors and projects in which they took part\n",
        "        logger : the logger used to write to the correspondent log file\n",
        "        beta : the parameter regulating teleporting, if equals 1 it leads to the basic version of pagerank without taxation (default = 0.8)\n",
        "        max_iterations : the maximum number of iteration allowed (default = 400)\n",
        "        tolerance : the minimum difference between actual and old page rank (default = 1.e-5)\n",
        "        verbose : boolean, if True at each iteration print computed pagerank \n",
        "\n",
        "      Returns: \n",
        "        the computed page rank for each actor\n",
        "    \"\"\"\n",
        "\n",
        "    connection_matrix = create_connection_matrix(links)\n",
        "    rdd = sc.parallelize(connection_matrix).cache()\n",
        "\n",
        "    n = len(actors_enum)\n",
        "    page_rank = np.ones(n)/n\n",
        "    old_page_rank = np.ones(n)\n",
        "    \n",
        "    iteration = 0\n",
        "    while np.linalg.norm(old_page_rank - page_rank) and iteration < max_iterations:\n",
        "        old_page_rank = page_rank\n",
        "        page_rank_values = (rdd.map(lambda t: (actors_dict[t[0]][1], t[2]*page_rank[actors_dict[t[1]][1]]))\n",
        "                            .reduceByKey(lambda a, b: a+b)\n",
        "                            .sortByKey()\n",
        "                            .collect()\n",
        "                           )\n",
        "        page_rank = np.array([beta*c + (1-beta)/n\n",
        "                              for (i, c) in page_rank_values])\n",
        "            \n",
        "        if verbose:\n",
        "            print(page_rank)\n",
        "\n",
        "        iteration += 1\n",
        "        \n",
        "    print('{} iterations'.format(iteration))\n",
        "    logger.info(f'Iterations: {iteration}')\n",
        "    \n",
        "    return page_rank"
      ],
      "execution_count": 37,
      "outputs": [
        {
          "output_type": "stream",
          "text": [
            "time: 21.2 ms (started: 2021-07-16 13:47:44 +00:00)\n"
          ],
          "name": "stdout"
        }
      ]
    },
    {
      "cell_type": "code",
      "metadata": {
        "id": "1ehJX04UiX8r",
        "colab": {
          "base_uri": "https://localhost:8080/"
        },
        "outputId": "54ed6d33-9783-40bd-807f-8d4f6417100c"
      },
      "source": [
        "def get_topic_page_rank(actors_enum, links, actors_dict, topics, genres_dict, logger, trustrank = False, beta=0.8,\n",
        "                  max_iterations=400, tolerance=1.e-5, verbose=False):\n",
        "  \n",
        "    \"\"\"\n",
        "      Topic Sensitive Page Rank algorithm\n",
        "\n",
        "      Args:\n",
        "        actors_enum : list of all possible actors\n",
        "        links : the association between actors that worked in the same project\n",
        "        actors_dict : the association between actors and projects in which they took part\n",
        "        topics : the list of preferred topics (or the trusted pages if trustrank = True)\n",
        "        genres_dict : a dictionary containing for each genre the products related to it\n",
        "        logger : the logger used to write to the correspondent log file\n",
        "        trustrank : if True we're computing the Trustrank variant of the algorithm\n",
        "        beta : the parameter regulating teleporting, if equals 1 it leads to the basic version of pagerank without taxation (default = 0.8)\n",
        "        max_iterations : the maximum number of iteration allowed (default = 400)\n",
        "        tolerance : the minimum difference between actual and old page rank (default = 1.e-5)\n",
        "        verbose : boolean, if True at each iteration print computed pagerank \n",
        "\n",
        "      Returns: \n",
        "        the computed page rank for each actor\n",
        "    \"\"\"\n",
        "\n",
        "    connection_matrix = create_connection_matrix(links)\n",
        "    rdd = sc.parallelize(connection_matrix).cache()\n",
        "\n",
        "    n = len(actors_enum)\n",
        "    page_rank = np.ones(n)/n\n",
        "    old_page_rank = np.ones(n)\n",
        "\n",
        "    if (not trustrank):\n",
        "      s = 0\n",
        "      for el in topics: \n",
        "        s += len(genres_dict[el])\n",
        "    else:\n",
        "      s = np.sum(topics)\n",
        "\n",
        "    iteration = 0\n",
        "    while np.linalg.norm(old_page_rank - page_rank) and iteration < max_iterations:\n",
        "        old_page_rank = page_rank\n",
        "        page_rank_values = (rdd.map(lambda t: (actors_dict[t[0]][1], t[2]*page_rank[actors_dict[t[1]][1]]))\n",
        "                            .reduceByKey(lambda a, b: a+b)\n",
        "                            .sortByKey()\n",
        "                            .collect()\n",
        "                           )\n",
        "        page_rank = np.array([beta*c + (1-beta)/s\n",
        "                              for (i, c) in page_rank_values])\n",
        "            \n",
        "        if verbose:\n",
        "            print(page_rank)\n",
        "\n",
        "        iteration += 1\n",
        "        \n",
        "    print('{} iterations'.format(iteration))\n",
        "    logger.info(f'Iterations: {iteration}')\n",
        "    \n",
        "    return page_rank"
      ],
      "execution_count": 38,
      "outputs": [
        {
          "output_type": "stream",
          "text": [
            "time: 43.4 ms (started: 2021-07-16 13:47:44 +00:00)\n"
          ],
          "name": "stdout"
        }
      ]
    },
    {
      "cell_type": "code",
      "metadata": {
        "id": "fOSOWldLlG8J",
        "colab": {
          "base_uri": "https://localhost:8080/"
        },
        "outputId": "496acef1-f238-4094-e757-21bb495f1ed9"
      },
      "source": [
        "def get_spam_mass(actors_enum, links, actors_dict, logger, beta=0.8,\n",
        "                  max_iterations=400, tolerance=1.e-5, verbose=False):\n",
        "  \"\"\"\n",
        "    Trust Rank algorithm\n",
        "    The Trust Rank is obtained as the ratio between the number of projects in which the actor took part divided by the maximum number of projects in which an actor took part\n",
        "    TrustRank is like topic-sensitive PageRank, where the “topic” is a set of nodes believed to be trustworthy (not spam)\n",
        "    \n",
        "    Input:\n",
        "    actors_enum: list of all possible actors\n",
        "    links: the association between actors that worked in the same project\n",
        "    actors_dict: the association between actors and projects in which they took part\n",
        "    logger : the logger used to write to the correspondent log file\n",
        "    beta: the parameter regulating teleporting, if equals 1 it leads to the basic version of pagerank without taxation (default = 0.8)\n",
        "    max_iterations: the maximum number of iteration allowed (default = 400)\n",
        "    tolerance: the minimum difference between actual and old page rank (default = 1.e-5)\n",
        "    verbose: boolean, if True at each iteration print computed pagerank \n",
        "    \n",
        "    Returns:\n",
        "      the computed spam mass for each actor; the spam mass is obtained as the ratio between the difference of Page Rank and Trust Rank and the Trust Rank itself\n",
        "  \"\"\"\n",
        "    \n",
        "  page_rank = get_page_rank(actors_enum, links, actors_dict, logger, beta, max_iterations, tolerance, verbose)\n",
        "\n",
        "  mean = np.mean(np.array([len(actors_dict[actor][0]) for actor in actors_enum]))\n",
        "\n",
        "  trust_topics = np.array([1 if len(actors_dict[actor][0]) >= mean else 0 for actor in actors_enum])\n",
        "  trust_rank = get_topic_page_rank(actors_enum, links, actors_dict, trust_topics, _, logger, trustrank=True, max_iterations=max_iterations) \n",
        "\n",
        "  spam_mass = (page_rank - trust_rank)/trust_rank\n",
        "\n",
        "  return spam_mass"
      ],
      "execution_count": 39,
      "outputs": [
        {
          "output_type": "stream",
          "text": [
            "time: 13.3 ms (started: 2021-07-16 13:47:44 +00:00)\n"
          ],
          "name": "stdout"
        }
      ]
    },
    {
      "cell_type": "code",
      "metadata": {
        "id": "5SJsvKoVYdv2",
        "colab": {
          "base_uri": "https://localhost:8080/"
        },
        "outputId": "7c655759-36cd-41c6-a0a1-6a6383817ad8"
      },
      "source": [
        "def get_spam_mass_ratings(actors_enum, links, actors_dict, avg_ratings, logger, beta=0.8,\n",
        "                  max_iterations=400, tolerance=1.e-5, verbose=False):\n",
        "  '''\n",
        "    Trust Rank algorithm\n",
        "    The Trust Rank is obtained as the the average rating given to the products in which an actor took part\n",
        "    \n",
        "    Args:\n",
        "      actors_enum : list of all possible actors\n",
        "      links : the association between actors that worked in the same project\n",
        "      actors_dict : the association between actors and projects in which they took part\n",
        "      avg_ratings : the association between actors and their average rating on projects in which they have taken part\n",
        "      logger : the logger used to write to the correspondent log file\n",
        "      beta : the parameter regulating teleporting, if equals 1 it leads to the basic version of pagerank without taxation (default = 0.8)\n",
        "      max_iterations : the maximum number of iteration allowed (default = 400)\n",
        "      tolerance : the minimum difference between actual and old page rank (default = 1.e-5)\n",
        "      verbose : boolean, if True at each iteration print computed pagerank \n",
        "    \n",
        "    Returns: \n",
        "      the computed spam mass for each actor; the spam mass is obtained as the ratio between the difference of Page Rank and Trust Rank and the Trust Rank itself\n",
        "  '''\n",
        "    \n",
        "  page_rank = get_page_rank(actors_enum, links, actors_dict, logger, beta, max_iterations, tolerance, verbose)\n",
        "\n",
        "  mean = np.mean(np.array([avg_ratings[actor] for actor in avg_ratings]))\n",
        "  trust_topics = np.array([1 if avg_ratings[actor] >= mean else 0 for actor in avg_ratings])\n",
        "\n",
        "  trust_rank = get_topic_page_rank(actors_enum, links, actors_dict, trust_topics, _, logger, trustrank= True, max_iterations=max_iterations) \n",
        "\n",
        "  spam_mass = (page_rank - trust_rank)/trust_rank\n",
        "\n",
        "  return spam_mass"
      ],
      "execution_count": 40,
      "outputs": [
        {
          "output_type": "stream",
          "text": [
            "time: 16.9 ms (started: 2021-07-16 13:47:44 +00:00)\n"
          ],
          "name": "stdout"
        }
      ]
    },
    {
      "cell_type": "code",
      "metadata": {
        "id": "IvI46OVJZoGl",
        "colab": {
          "base_uri": "https://localhost:8080/"
        },
        "outputId": "f642bad6-8e70-4940-cdab-3cac7c29cef1"
      },
      "source": [
        "def setup_logger(name, log_file, level=logging.INFO):\n",
        "    '''\n",
        "      To setup as many loggers as you want\n",
        "      Args:\n",
        "      name : name of the logger\n",
        "      log_file : name of the correspondent log fileprint computed pagerank \n",
        "      level = level of the log (info, warning, ...)\n",
        "\n",
        "    Returns: \n",
        "      the created logger\n",
        "    '''    \n",
        "\n",
        "    formatter = logging.Formatter('%(asctime)s - %(message)s', datefmt='%d-%b-%y %H:%M:%S')\n",
        "    handler = logging.FileHandler(log_file)        \n",
        "    handler.setFormatter(formatter)\n",
        "\n",
        "    logger = logging.getLogger(name)\n",
        "    logger.setLevel(level)\n",
        "    logger.addHandler(handler)\n",
        "\n",
        "    return logger"
      ],
      "execution_count": 41,
      "outputs": [
        {
          "output_type": "stream",
          "text": [
            "time: 8.29 ms (started: 2021-07-16 13:47:44 +00:00)\n"
          ],
          "name": "stdout"
        }
      ]
    },
    {
      "cell_type": "markdown",
      "metadata": {
        "id": "zGe3PcWQVlg_"
      },
      "source": [
        "## Basic implementation"
      ]
    },
    {
      "cell_type": "markdown",
      "metadata": {
        "id": "Ng3wgkXB8YAt"
      },
      "source": [
        "*n* is the number of times you want to repeat the experiment"
      ]
    },
    {
      "cell_type": "code",
      "metadata": {
        "id": "e21MtnU3B_Xj",
        "colab": {
          "base_uri": "https://localhost:8080/"
        },
        "outputId": "ff9912f5-815d-496b-b0c1-edf39c58df2f"
      },
      "source": [
        "n = 5\n",
        "\n",
        "logger_pagerank = setup_logger('experiments_pagerank', 'experiments_pagerank.log')\n",
        "for iter in range(n):\n",
        "  logger_pagerank.info('This experiment implements PageRank')\n",
        "\n",
        "  s_rates = [0.00001, 0.0001, 0.001, 0.01, 0.1]\n",
        "  time_basic = np.zeros(len(s_rates))\n",
        "\n",
        "  for i in range(len(s_rates)):\n",
        "    df_sample = preprocess_dataset(df_title_basics_copy, df_principals_copy, df_name_basics_copy, df_ratings_copy, sampling_rate = s_rates[i])\n",
        "    actors_enum = get_actors(df_sample)\n",
        "  \n",
        "    movies_dict, actors_dict = create_dicts(df_sample, actors_enum)\n",
        "    links = get_links(actors_enum, movies_dict, actors_dict)\n",
        "\n",
        "    tic = time.time()\n",
        "    get_page_rank(actors_enum, links, actors_dict, logger_pagerank, beta=1, max_iterations = 150)\n",
        "    toc = time.time()\n",
        "    time_basic[i] = toc-tic\n",
        "    logger_pagerank.info(f'Sampling: {s_rates[i]}, Time: {time_basic[i]}')\n",
        "    print(time_basic[i]) "
      ],
      "execution_count": 42,
      "outputs": [
        {
          "output_type": "stream",
          "text": [
            "Sample size: 34\n",
            "1 iterations\n",
            "3.544386625289917\n",
            "Sample size: 340\n",
            "1 iterations\n",
            "0.5794167518615723\n",
            "Sample size: 3404\n",
            "1 iterations\n",
            "0.8892350196838379\n",
            "Sample size: 34044\n",
            "120 iterations\n",
            "202.59213423728943\n",
            "Sample size: 340443\n",
            "150 iterations\n",
            "1453.2743821144104\n",
            "time: 32min 58s (started: 2021-07-16 13:47:44 +00:00)\n"
          ],
          "name": "stdout"
        }
      ]
    },
    {
      "cell_type": "code",
      "metadata": {
        "id": "mY2U5KvmrTSY",
        "colab": {
          "base_uri": "https://localhost:8080/",
          "height": 34
        },
        "outputId": "f448e6b1-10e6-4979-e505-d1d21da21c48"
      },
      "source": [
        "files.download('experiments_pagerank.log')\n",
        "file = open('experiments_pagerank.log', 'r')\n",
        "experiments_pagerank = file.read().splitlines()\n",
        "file.close()"
      ],
      "execution_count": 43,
      "outputs": [
        {
          "output_type": "display_data",
          "data": {
            "application/javascript": [
              "\n",
              "    async function download(id, filename, size) {\n",
              "      if (!google.colab.kernel.accessAllowed) {\n",
              "        return;\n",
              "      }\n",
              "      const div = document.createElement('div');\n",
              "      const label = document.createElement('label');\n",
              "      label.textContent = `Downloading \"${filename}\": `;\n",
              "      div.appendChild(label);\n",
              "      const progress = document.createElement('progress');\n",
              "      progress.max = size;\n",
              "      div.appendChild(progress);\n",
              "      document.body.appendChild(div);\n",
              "\n",
              "      const buffers = [];\n",
              "      let downloaded = 0;\n",
              "\n",
              "      const channel = await google.colab.kernel.comms.open(id);\n",
              "      // Send a message to notify the kernel that we're ready.\n",
              "      channel.send({})\n",
              "\n",
              "      for await (const message of channel.messages) {\n",
              "        // Send a message to notify the kernel that we're ready.\n",
              "        channel.send({})\n",
              "        if (message.buffers) {\n",
              "          for (const buffer of message.buffers) {\n",
              "            buffers.push(buffer);\n",
              "            downloaded += buffer.byteLength;\n",
              "            progress.value = downloaded;\n",
              "          }\n",
              "        }\n",
              "      }\n",
              "      const blob = new Blob(buffers, {type: 'application/binary'});\n",
              "      const a = document.createElement('a');\n",
              "      a.href = window.URL.createObjectURL(blob);\n",
              "      a.download = filename;\n",
              "      div.appendChild(a);\n",
              "      a.click();\n",
              "      div.remove();\n",
              "    }\n",
              "  "
            ],
            "text/plain": [
              "<IPython.core.display.Javascript object>"
            ]
          },
          "metadata": {
            "tags": []
          }
        },
        {
          "output_type": "display_data",
          "data": {
            "application/javascript": [
              "download(\"download_e4bb0d82-a98f-426c-882a-6cab6fc3930c\", \"experiments_pagerank.log\", 548)"
            ],
            "text/plain": [
              "<IPython.core.display.Javascript object>"
            ]
          },
          "metadata": {
            "tags": []
          }
        },
        {
          "output_type": "stream",
          "text": [
            "time: 11.2 ms (started: 2021-07-16 14:20:42 +00:00)\n"
          ],
          "name": "stdout"
        }
      ]
    },
    {
      "cell_type": "markdown",
      "metadata": {
        "id": "-SLNCklWVZmc"
      },
      "source": [
        "## Pagerank with taxation"
      ]
    },
    {
      "cell_type": "code",
      "metadata": {
        "colab": {
          "base_uri": "https://localhost:8080/"
        },
        "id": "EYBX8AoBOXWx",
        "outputId": "233f8bd8-1b5c-423a-88b2-96e474f9fd18"
      },
      "source": [
        "n = 1\n",
        "\n",
        "logger_taxation = setup_logger('experiments_taxation', 'experiments_taxation.log')\n",
        "for iter in range(n):\n",
        "  logger_taxation.info('This experiment implements PageRank with taxation')\n",
        "\n",
        "  s_rates = [0.00001, 0.0001, 0.001, 0.01, 0.1]\n",
        "  time_taxation =  np.zeros(len(s_rates))\n",
        "\n",
        "  for i in range(len(s_rates)):\n",
        "    df_sample = preprocess_dataset(df_title_basics_copy, df_principals_copy, df_name_basics_copy, df_ratings_copy, sampling_rate = s_rates[i])\n",
        "    actors_enum = get_actors(df_sample)\n",
        "  \n",
        "    movies_dict, actors_dict = create_dicts(df_sample, actors_enum)\n",
        "    links = get_links(actors_enum, movies_dict, actors_dict)\n",
        "\n",
        "    tic = time.time()\n",
        "    get_page_rank(actors_enum, links, actors_dict, logger_taxation, max_iterations = 150)\n",
        "    toc = time.time()\n",
        "    time_taxation[i] = toc-tic\n",
        "    logger_taxation.info(f'Sampling: {s_rates[i]}, Time: {time_taxation[i]}')\n",
        "    print(time_taxation[i]) "
      ],
      "execution_count": 44,
      "outputs": [
        {
          "output_type": "stream",
          "text": [
            "Sample size: 34\n",
            "1 iterations\n",
            "0.2586073875427246\n",
            "Sample size: 340\n",
            "1 iterations\n",
            "0.3037548065185547\n",
            "Sample size: 3404\n",
            "1 iterations\n",
            "0.43696165084838867\n",
            "Sample size: 34044\n",
            "24 iterations\n",
            "38.032129764556885\n",
            "Sample size: 340443\n",
            "150 iterations\n",
            "1427.7856419086456\n",
            "time: 29min 34s (started: 2021-07-16 14:26:39 +00:00)\n"
          ],
          "name": "stdout"
        }
      ]
    },
    {
      "cell_type": "code",
      "metadata": {
        "id": "ctktfadxUHmT",
        "colab": {
          "base_uri": "https://localhost:8080/",
          "height": 0
        },
        "outputId": "f84bad26-2cb8-45b5-b964-17aa35393e55"
      },
      "source": [
        "files.download('experiments_taxation.log')\n",
        "file = open('experiments_taxation.log', 'r')\n",
        "experiments_taxation = file.read().splitlines()\n",
        "file.close()"
      ],
      "execution_count": 45,
      "outputs": [
        {
          "output_type": "display_data",
          "data": {
            "application/javascript": [
              "\n",
              "    async function download(id, filename, size) {\n",
              "      if (!google.colab.kernel.accessAllowed) {\n",
              "        return;\n",
              "      }\n",
              "      const div = document.createElement('div');\n",
              "      const label = document.createElement('label');\n",
              "      label.textContent = `Downloading \"${filename}\": `;\n",
              "      div.appendChild(label);\n",
              "      const progress = document.createElement('progress');\n",
              "      progress.max = size;\n",
              "      div.appendChild(progress);\n",
              "      document.body.appendChild(div);\n",
              "\n",
              "      const buffers = [];\n",
              "      let downloaded = 0;\n",
              "\n",
              "      const channel = await google.colab.kernel.comms.open(id);\n",
              "      // Send a message to notify the kernel that we're ready.\n",
              "      channel.send({})\n",
              "\n",
              "      for await (const message of channel.messages) {\n",
              "        // Send a message to notify the kernel that we're ready.\n",
              "        channel.send({})\n",
              "        if (message.buffers) {\n",
              "          for (const buffer of message.buffers) {\n",
              "            buffers.push(buffer);\n",
              "            downloaded += buffer.byteLength;\n",
              "            progress.value = downloaded;\n",
              "          }\n",
              "        }\n",
              "      }\n",
              "      const blob = new Blob(buffers, {type: 'application/binary'});\n",
              "      const a = document.createElement('a');\n",
              "      a.href = window.URL.createObjectURL(blob);\n",
              "      a.download = filename;\n",
              "      div.appendChild(a);\n",
              "      a.click();\n",
              "      div.remove();\n",
              "    }\n",
              "  "
            ],
            "text/plain": [
              "<IPython.core.display.Javascript object>"
            ]
          },
          "metadata": {
            "tags": []
          }
        },
        {
          "output_type": "display_data",
          "data": {
            "application/javascript": [
              "download(\"download_ce695359-636a-4f4f-ab81-0d0979d57e4d\", \"experiments_taxation.log\", 563)"
            ],
            "text/plain": [
              "<IPython.core.display.Javascript object>"
            ]
          },
          "metadata": {
            "tags": []
          }
        },
        {
          "output_type": "stream",
          "text": [
            "time: 15.1 ms (started: 2021-07-16 14:56:14 +00:00)\n"
          ],
          "name": "stdout"
        }
      ]
    },
    {
      "cell_type": "markdown",
      "metadata": {
        "id": "teW_bhJLJuus"
      },
      "source": [
        "## Topic-sensitive pagerank"
      ]
    },
    {
      "cell_type": "code",
      "metadata": {
        "id": "M9iOzVuHJ6AB",
        "colab": {
          "base_uri": "https://localhost:8080/"
        },
        "outputId": "2a99e014-c392-42ed-a711-10b80ef7b3c4"
      },
      "source": [
        "n = 5\n",
        "\n",
        "logger_topic_pagerank = setup_logger('experiments_topic_pagerank', 'experiments_topic_pagerank.log')\n",
        "\n",
        "for iter in range(n):\n",
        "  logger_topic_pagerank.info('This experiment implements Topic-Sensitive PageRank')\n",
        "\n",
        "  s_rates = [0.00001, 0.0001, 0.001, 0.01, 0.1]\n",
        "  time_topic = np.zeros(len(s_rates))\n",
        "\n",
        "  for i in range(len(s_rates)):\n",
        "    df_sample = preprocess_dataset(df_title_basics_copy, df_principals_copy, df_name_basics_copy, df_ratings_copy, sampling_rate = s_rates[i])\n",
        "    actors_enum = get_actors(df_sample)\n",
        "    genres = get_genres(df_title_basics_copy)\n",
        "  \n",
        "    movies_dict, actors_dict = create_dicts(df_sample, actors_enum)\n",
        "    genres_dict = create_genres_dict(df_sample, genres)\n",
        "    links = get_links(actors_enum, movies_dict, actors_dict)\n",
        "\n",
        "    tic = time.time()\n",
        "    get_topic_page_rank(actors_enum, links, actors_dict, ['Western', 'Fantasy', 'Horror'], genres_dict, logger_topic_pagerank, max_iterations = 150)\n",
        "    toc = time.time()\n",
        "    time_topic[i] = toc-tic\n",
        "    logger_topic_pagerank.info(f'Sampling: {s_rates[i]}, Time: {time_topic[i]}')\n",
        "    print(time_topic[i]) "
      ],
      "execution_count": 46,
      "outputs": [
        {
          "output_type": "stream",
          "text": [
            "Sample size: 34\n",
            "150 iterations\n",
            "41.778738021850586\n",
            "Sample size: 340\n",
            "150 iterations\n",
            "36.48508310317993\n",
            "Sample size: 3404\n",
            "150 iterations\n",
            "58.38608455657959\n",
            "Sample size: 34044\n",
            "150 iterations\n",
            "228.97546768188477\n",
            "Sample size: 340443\n",
            "150 iterations\n",
            "1421.1763916015625\n",
            "time: 37min 9s (started: 2021-07-16 14:56:14 +00:00)\n"
          ],
          "name": "stdout"
        }
      ]
    },
    {
      "cell_type": "code",
      "metadata": {
        "id": "av6LwFp1UNnu",
        "colab": {
          "base_uri": "https://localhost:8080/",
          "height": 51
        },
        "outputId": "bf131cef-ba46-404b-cea8-24841ea54d37"
      },
      "source": [
        "files.download('experiments_topic_pagerank.log')\n",
        "file = open('experiments_topic_pagerank.log', 'r')\n",
        "experiments_topic_pagerank = file.read().splitlines()\n",
        "file.close()"
      ],
      "execution_count": 47,
      "outputs": [
        {
          "output_type": "display_data",
          "data": {
            "application/javascript": [
              "\n",
              "    async function download(id, filename, size) {\n",
              "      if (!google.colab.kernel.accessAllowed) {\n",
              "        return;\n",
              "      }\n",
              "      const div = document.createElement('div');\n",
              "      const label = document.createElement('label');\n",
              "      label.textContent = `Downloading \"${filename}\": `;\n",
              "      div.appendChild(label);\n",
              "      const progress = document.createElement('progress');\n",
              "      progress.max = size;\n",
              "      div.appendChild(progress);\n",
              "      document.body.appendChild(div);\n",
              "\n",
              "      const buffers = [];\n",
              "      let downloaded = 0;\n",
              "\n",
              "      const channel = await google.colab.kernel.comms.open(id);\n",
              "      // Send a message to notify the kernel that we're ready.\n",
              "      channel.send({})\n",
              "\n",
              "      for await (const message of channel.messages) {\n",
              "        // Send a message to notify the kernel that we're ready.\n",
              "        channel.send({})\n",
              "        if (message.buffers) {\n",
              "          for (const buffer of message.buffers) {\n",
              "            buffers.push(buffer);\n",
              "            downloaded += buffer.byteLength;\n",
              "            progress.value = downloaded;\n",
              "          }\n",
              "        }\n",
              "      }\n",
              "      const blob = new Blob(buffers, {type: 'application/binary'});\n",
              "      const a = document.createElement('a');\n",
              "      a.href = window.URL.createObjectURL(blob);\n",
              "      a.download = filename;\n",
              "      div.appendChild(a);\n",
              "      a.click();\n",
              "      div.remove();\n",
              "    }\n",
              "  "
            ],
            "text/plain": [
              "<IPython.core.display.Javascript object>"
            ]
          },
          "metadata": {
            "tags": []
          }
        },
        {
          "output_type": "display_data",
          "data": {
            "application/javascript": [
              "download(\"download_2182f908-f027-4309-8fd4-9f7c09befece\", \"experiments_topic_pagerank.log\", 569)"
            ],
            "text/plain": [
              "<IPython.core.display.Javascript object>"
            ]
          },
          "metadata": {
            "tags": []
          }
        },
        {
          "output_type": "stream",
          "text": [
            "time: 15.2 ms (started: 2021-07-16 15:33:23 +00:00)\n"
          ],
          "name": "stdout"
        }
      ]
    },
    {
      "cell_type": "markdown",
      "metadata": {
        "id": "5EREjDvjJ6nq"
      },
      "source": [
        "##Trust-rank variant "
      ]
    },
    {
      "cell_type": "code",
      "metadata": {
        "id": "-oO6GiFMKDtA",
        "colab": {
          "base_uri": "https://localhost:8080/"
        },
        "outputId": "4043a20f-6c37-48b3-fa6d-899a51c15f0e"
      },
      "source": [
        "n = 5\n",
        "\n",
        "logger_trust_rank = setup_logger('experiments_trust_rank', 'experiments_trust_rank.log')\n",
        "\n",
        "for iter in range(n):\n",
        "  logger_trust_rank.info('This experiment implements TrustRank variant with numbers of movies')\n",
        "\n",
        "  s_rates = [0.00001, 0.0001, 0.001, 0.01, 0.1]\n",
        "  time_trust =  np.zeros(len(s_rates))\n",
        "\n",
        "  for i in range(len(s_rates)):\n",
        "    df_sample = preprocess_dataset(df_title_basics_copy, df_principals_copy, df_name_basics_copy, df_ratings_copy, sampling_rate = s_rates[i])\n",
        "    actors_enum = get_actors(df_sample)\n",
        "  \n",
        "    movies_dict, actors_dict = create_dicts(df_sample, actors_enum)\n",
        "    links = get_links(actors_enum, movies_dict, actors_dict)\n",
        "\n",
        "    tic = time.time()\n",
        "    get_spam_mass(actors_enum, links, actors_dict, logger_trust_rank, max_iterations = 150)\n",
        "    toc = time.time()\n",
        "    time_trust[i] = toc-tic\n",
        "    logger_trust_rank.info(f'Sampling: {s_rates[i]}, Time: {time_trust[i]}')\n",
        "    print(time_trust[i])"
      ],
      "execution_count": 48,
      "outputs": [
        {
          "output_type": "stream",
          "text": [
            "Sample size: 34\n",
            "1 iterations\n",
            "1 iterations\n",
            "0.5374817848205566\n",
            "Sample size: 340\n",
            "1 iterations\n",
            "1 iterations\n",
            "0.4767024517059326\n",
            "Sample size: 3404\n",
            "2 iterations\n",
            "150 iterations\n",
            "61.05098295211792\n",
            "Sample size: 34044\n",
            "19 iterations\n",
            "150 iterations\n",
            "272.870867729187\n",
            "Sample size: 340443\n",
            "150 iterations\n",
            "150 iterations\n",
            "2897.5121533870697\n",
            "time: 58min 40s (started: 2021-07-16 15:33:23 +00:00)\n"
          ],
          "name": "stdout"
        }
      ]
    },
    {
      "cell_type": "code",
      "metadata": {
        "id": "buxABv5eUS1q",
        "colab": {
          "base_uri": "https://localhost:8080/",
          "height": 52
        },
        "outputId": "b8222e97-667e-4296-8a77-60701bec7665"
      },
      "source": [
        "files.download('experiments_trust_rank.log')\n",
        "file = open('experiments_trust_rank.log', 'r')\n",
        "experiments_trust_rank = file.read().splitlines()\n",
        "file.close()"
      ],
      "execution_count": 49,
      "outputs": [
        {
          "output_type": "display_data",
          "data": {
            "application/javascript": [
              "\n",
              "    async function download(id, filename, size) {\n",
              "      if (!google.colab.kernel.accessAllowed) {\n",
              "        return;\n",
              "      }\n",
              "      const div = document.createElement('div');\n",
              "      const label = document.createElement('label');\n",
              "      label.textContent = `Downloading \"${filename}\": `;\n",
              "      div.appendChild(label);\n",
              "      const progress = document.createElement('progress');\n",
              "      progress.max = size;\n",
              "      div.appendChild(progress);\n",
              "      document.body.appendChild(div);\n",
              "\n",
              "      const buffers = [];\n",
              "      let downloaded = 0;\n",
              "\n",
              "      const channel = await google.colab.kernel.comms.open(id);\n",
              "      // Send a message to notify the kernel that we're ready.\n",
              "      channel.send({})\n",
              "\n",
              "      for await (const message of channel.messages) {\n",
              "        // Send a message to notify the kernel that we're ready.\n",
              "        channel.send({})\n",
              "        if (message.buffers) {\n",
              "          for (const buffer of message.buffers) {\n",
              "            buffers.push(buffer);\n",
              "            downloaded += buffer.byteLength;\n",
              "            progress.value = downloaded;\n",
              "          }\n",
              "        }\n",
              "      }\n",
              "      const blob = new Blob(buffers, {type: 'application/binary'});\n",
              "      const a = document.createElement('a');\n",
              "      a.href = window.URL.createObjectURL(blob);\n",
              "      a.download = filename;\n",
              "      div.appendChild(a);\n",
              "      a.click();\n",
              "      div.remove();\n",
              "    }\n",
              "  "
            ],
            "text/plain": [
              "<IPython.core.display.Javascript object>"
            ]
          },
          "metadata": {
            "tags": []
          }
        },
        {
          "output_type": "display_data",
          "data": {
            "application/javascript": [
              "download(\"download_49097a67-bd7b-430f-9734-c3e005191689\", \"experiments_trust_rank.log\", 758)"
            ],
            "text/plain": [
              "<IPython.core.display.Javascript object>"
            ]
          },
          "metadata": {
            "tags": []
          }
        },
        {
          "output_type": "stream",
          "text": [
            "time: 11.6 ms (started: 2021-07-16 16:32:04 +00:00)\n"
          ],
          "name": "stdout"
        }
      ]
    },
    {
      "cell_type": "code",
      "metadata": {
        "id": "5R5bsx7SCwHb",
        "colab": {
          "base_uri": "https://localhost:8080/"
        },
        "outputId": "26161398-da9e-4b4c-c93a-7b19428de8a2"
      },
      "source": [
        "n = 5\n",
        "\n",
        "logger_trust_rank_2 = setup_logger('experiments_trust_rank_2', 'experiments_trust_rank_2'.log')\n",
        "\n",
        "for iter in range(n):\n",
        "  logger_trust_rank_2.info('This experiment implements TrustRank variant with ratings')\n",
        "\n",
        "  s_rates = [0.00001, 0.0001, 0.001, 0.01, 0.1]\n",
        "  time_trust =  np.zeros(len(s_rates))\n",
        "\n",
        "  for i in range(len(s_rates)):\n",
        "    df_sample = preprocess_dataset(df_title_basics_copy, df_principals_copy, df_name_basics_copy, df_ratings_copy, sampling_rate = s_rates[i])\n",
        "    actors_enum = get_actors(df_sample)\n",
        "  \n",
        "    movies_dict, actors_dict = create_dicts(df_sample, actors_enum)\n",
        "    avg_ratings = create_ratings_dict(df_sample, actors_enum, actors_dict)\n",
        "    links = get_links(actors_enum, movies_dict, actors_dict)\n",
        "\n",
        "    tic = time.time()\n",
        "    get_spam_mass_ratings(actors_enum, links, actors_dict, avg_ratings, logger_trust_rank_2, max_iterations = 150)\n",
        "    toc = time.time()\n",
        "    time_trust[i] = toc-tic\n",
        "    logger_trust_rank_2.info(f'Sampling: {s_rates[i]}, Time: {time_trust[i]}')\n",
        "    print(time_trust[i])"
      ],
      "execution_count": 50,
      "outputs": [
        {
          "output_type": "stream",
          "text": [
            "Sample size: 34\n",
            "1 iterations\n",
            "150 iterations\n",
            "33.35688352584839\n",
            "Sample size: 340\n",
            "1 iterations\n",
            "150 iterations\n",
            "35.787102699279785\n",
            "Sample size: 3404\n",
            "1 iterations\n",
            "150 iterations\n",
            "60.60299468040466\n",
            "Sample size: 34044\n",
            "67 iterations\n",
            "150 iterations\n",
            "348.9218249320984\n",
            "Sample size: 340443\n",
            "150 iterations\n",
            "150 iterations\n",
            "2905.7422235012054\n",
            "time: 1h 1min 30s (started: 2021-07-16 16:32:04 +00:00)\n"
          ],
          "name": "stdout"
        }
      ]
    },
    {
      "cell_type": "code",
      "metadata": {
        "id": "i0UOc-M0UWNf",
        "colab": {
          "base_uri": "https://localhost:8080/",
          "height": 35
        },
        "outputId": "bdec067d-f63f-45c5-9488-5db13ebd9061"
      },
      "source": [
        "files.download('experiments_trust_rank_2.log')\n",
        "file = open('experiments_trust_rank_2.log', 'r')\n",
        "experiments_trust_rank_2 = file.read().splitlines()\n",
        "file.close()"
      ],
      "execution_count": 53,
      "outputs": [
        {
          "output_type": "display_data",
          "data": {
            "application/javascript": [
              "\n",
              "    async function download(id, filename, size) {\n",
              "      if (!google.colab.kernel.accessAllowed) {\n",
              "        return;\n",
              "      }\n",
              "      const div = document.createElement('div');\n",
              "      const label = document.createElement('label');\n",
              "      label.textContent = `Downloading \"${filename}\": `;\n",
              "      div.appendChild(label);\n",
              "      const progress = document.createElement('progress');\n",
              "      progress.max = size;\n",
              "      div.appendChild(progress);\n",
              "      document.body.appendChild(div);\n",
              "\n",
              "      const buffers = [];\n",
              "      let downloaded = 0;\n",
              "\n",
              "      const channel = await google.colab.kernel.comms.open(id);\n",
              "      // Send a message to notify the kernel that we're ready.\n",
              "      channel.send({})\n",
              "\n",
              "      for await (const message of channel.messages) {\n",
              "        // Send a message to notify the kernel that we're ready.\n",
              "        channel.send({})\n",
              "        if (message.buffers) {\n",
              "          for (const buffer of message.buffers) {\n",
              "            buffers.push(buffer);\n",
              "            downloaded += buffer.byteLength;\n",
              "            progress.value = downloaded;\n",
              "          }\n",
              "        }\n",
              "      }\n",
              "      const blob = new Blob(buffers, {type: 'application/binary'});\n",
              "      const a = document.createElement('a');\n",
              "      a.href = window.URL.createObjectURL(blob);\n",
              "      a.download = filename;\n",
              "      div.appendChild(a);\n",
              "      a.click();\n",
              "      div.remove();\n",
              "    }\n",
              "  "
            ],
            "text/plain": [
              "<IPython.core.display.Javascript object>"
            ]
          },
          "metadata": {
            "tags": []
          }
        },
        {
          "output_type": "display_data",
          "data": {
            "application/javascript": [
              "download(\"download_d4e55a9b-3060-4741-96e2-c40d76ac9d0a\", \"experiments_trust_rank_2.log\", 389)"
            ],
            "text/plain": [
              "<IPython.core.display.Javascript object>"
            ]
          },
          "metadata": {
            "tags": []
          }
        },
        {
          "output_type": "stream",
          "text": [
            "time: 13.1 ms (started: 2021-07-16 17:55:33 +00:00)\n"
          ],
          "name": "stdout"
        }
      ]
    },
    {
      "cell_type": "markdown",
      "metadata": {
        "id": "iJiGESBdUhSn"
      },
      "source": [
        "# Results "
      ]
    },
    {
      "cell_type": "code",
      "metadata": {
        "id": "uaWyI4HBSRpV",
        "colab": {
          "base_uri": "https://localhost:8080/"
        },
        "outputId": "d2637ff7-19fc-4c9a-dbf6-a30e2c42e278"
      },
      "source": [
        "files = ['experiments_pagerank.log', 'experiments_taxation.log', 'experiments_topic_pagerank.log',\n",
        "         'experiments_trust_rank.log', 'experiments_trust_rank_2.log']\n",
        "M = []\n",
        "\n",
        "for f in files: \n",
        "  file = open(f, 'r')\n",
        "  lines = file.read().splitlines()\n",
        "  file.close()\n",
        "  \n",
        "  x = []\n",
        "\n",
        "  for i in lines: \n",
        "    pos = i.find(\"Time: \")\n",
        "    if pos != -1: \n",
        "      x.append(float(i[pos + len(\"Time: \"):]))\n",
        "  M.append(x)\n",
        "\n",
        "mean = [[0 for x in range(n)] for y in range(len(files))] \n",
        "\n",
        "for i in range(len(files)):\n",
        "  for j in range(len(M[i])):  \n",
        "    mean[i][j%n] += M[i][j]\n",
        "\n",
        "mean = np.array(mean)\n",
        "print(mean)\n",
        "for i in range(len(files)): \n",
        "  mean[i] = mean [i] / n \n",
        "\n",
        "print(f'Time mean: \\n {mean}')  "
      ],
      "execution_count": 72,
      "outputs": [
        {
          "output_type": "stream",
          "text": [
            "[[5.87679362e+00 1.72592854e+00 2.71197486e+00 6.90478453e+02\n",
            "  7.36327846e+03]\n",
            " [4.15929413e+00 1.62421370e+00 2.21398211e+00 2.64899388e+02\n",
            "  6.81985996e+03]\n",
            " [2.19534711e+02 1.96238854e+02 3.00257056e+02 1.17651176e+03\n",
            "  7.38011095e+03]\n",
            " [1.06206720e+01 1.64101323e+02 3.21964872e+02 1.58148103e+03\n",
            "  1.49443037e+04]\n",
            " [1.95041986e+02 1.84438994e+02 3.02105934e+02 1.47593964e+03\n",
            "  1.52714151e+04]]\n",
            "Time mean: \n",
            " [[1.17535872e+00 3.45185709e-01 5.42394972e-01 1.38095691e+02\n",
            "  1.47265569e+03]\n",
            " [8.31858826e-01 3.24842739e-01 4.42796421e-01 5.29798777e+01\n",
            "  1.36397199e+03]\n",
            " [4.39069422e+01 3.92477707e+01 6.00514112e+01 2.35302352e+02\n",
            "  1.47602219e+03]\n",
            " [2.12413440e+00 3.28202645e+01 6.43929744e+01 3.16296207e+02\n",
            "  2.98886073e+03]\n",
            " [3.90083972e+01 3.68877988e+01 6.04211869e+01 2.95187928e+02\n",
            "  3.05428301e+03]]\n",
            "time: 25.5 ms (started: 2021-07-16 18:04:52 +00:00)\n"
          ],
          "name": "stdout"
        }
      ]
    },
    {
      "cell_type": "code",
      "metadata": {
        "id": "okbj1oTYSbAw",
        "colab": {
          "base_uri": "https://localhost:8080/",
          "height": 352
        },
        "outputId": "41b4261f-4e44-4f35-d65d-8f731a891307"
      },
      "source": [
        "plt.figure(figsize=[10, 5])\n",
        "s_rate = ['0.00001', '0.0001', '0.001', '0.01', '0.1']\n",
        "\n",
        "X = np.arange(len(s_rate))\n",
        "plt.bar(X, mean[0], color = 'r', edgecolor = 'black', width = 0.13)\n",
        "plt.bar(X + 0.15, mean[1], color = 'g', edgecolor = 'black', width = 0.13)\n",
        "plt.bar(X + 2 * 0.15, mean[2], color = 'b', edgecolor = 'black', width = 0.13)\n",
        "plt.bar(X + 3 * 0.15, mean[3], color = 'yellow',edgecolor = 'black', width = 0.13)\n",
        "plt.bar(X + 4 * 0.15, mean[4], color = 'purple', edgecolor = 'black', width = 0.13)\n",
        "\n",
        "plt.xticks([i + 0.35 for i in range(n)], s_rate)\n",
        "plt.yscale('log')\n",
        "\n",
        "plt.ylabel('Time (s)')\n",
        "plt.xlabel('Sampling Rate')\n",
        "\n",
        "plt.legend(['PageRank', 'PageRank with Taxation','Topic Sensitive', 'TrustRank', 'TrustRank2'])\n",
        "plt.savefig('time_algorithms.png')\n",
        "plt.show()"
      ],
      "execution_count": 73,
      "outputs": [
        {
          "output_type": "display_data",
          "data": {
            "image/png": "[encoded data removed]",
            "text/plain": [
              "<Figure size 720x360 with 1 Axes>"
            ]
          },
          "metadata": {
            "tags": [],
            "needs_background": "light"
          }
        },
        {
          "output_type": "stream",
          "text": [
            "time: 686 ms (started: 2021-07-16 18:04:59 +00:00)\n"
          ],
          "name": "stdout"
        }
      ]
    },
    {
      "cell_type": "code",
      "metadata": {
        "id": "F-bDJj-KSdcN",
        "colab": {
          "base_uri": "https://localhost:8080/"
        },
        "outputId": "7960156d-c456-47fd-b197-fe63be447257"
      },
      "source": [
        "files = ['experiments_pagerank.log', 'experiments_taxation.log', 'experiments_topic_pagerank.log']\n",
        "M = []\n",
        "\n",
        "for f in files: \n",
        "  file = open(f, 'r')\n",
        "  lines = file.read().splitlines()\n",
        "  file.close()\n",
        "  \n",
        "  x = []\n",
        "\n",
        "  for i in lines: \n",
        "    pos = i.find(\"Iterations: \")\n",
        "    if pos != -1: \n",
        "      x.append(float(i[pos + len(\"Iterations: \"):]))\n",
        "  M.append(x)\n",
        "\n",
        "mean = [[0 for x in range(n)] for y in range(len(files))] \n",
        "\n",
        "for i in range(len(files)):\n",
        "  for j in range(len(M[i])):  \n",
        "    mean[i][j%n] += M[i][j]\n",
        "    \n",
        "\n",
        "mean = np.array(mean)\n",
        "\n",
        "for i in range(len(files)):\n",
        "  mean[i] = mean [i] / n \n",
        "\n",
        "print(f'Mean iterations: \\n {mean}')\n"
      ],
      "execution_count": 74,
      "outputs": [
        {
          "output_type": "stream",
          "text": [
            "Mean iterations: \n",
            " [[  1.    1.    1.   86.2 150. ]\n",
            " [  1.    1.    1.   35.4 150. ]\n",
            " [150.  150.  150.  150.  150. ]]\n",
            "time: 18.5 ms (started: 2021-07-16 18:05:03 +00:00)\n"
          ],
          "name": "stdout"
        }
      ]
    },
    {
      "cell_type": "code",
      "metadata": {
        "id": "0JDKS7AVinfM",
        "colab": {
          "base_uri": "https://localhost:8080/",
          "height": 352
        },
        "outputId": "8302d261-61d6-4204-ba95-bd294bd62bb5"
      },
      "source": [
        "plt.figure(figsize=[10, 5])\n",
        "s_rate = ['0.00001', '0.0001', '0.001', '0.01', '0.1']\n",
        "\n",
        "X = np.arange(len(s_rate))\n",
        "plt.bar(X, mean[0], color = 'r', edgecolor = 'black', width = 0.18)\n",
        "plt.bar(X + 0.20, mean[1], color = 'g', edgecolor = 'black', width = 0.18)\n",
        "plt.bar(X + 2 * 0.20, mean[2], color = 'b', edgecolor = 'black', width = 0.18)\n",
        "\n",
        "plt.xticks([i + 0.20 for i in range(n)], s_rate)\n",
        "plt.yscale('log')\n",
        "\n",
        "plt.ylabel('Iterations')\n",
        "plt.xlabel('Sampling Rate')\n",
        "\n",
        "plt.legend(['PageRank', 'PageRank with Taxation','Topic Sensitive'])\n",
        "plt.savefig('iter_algorithms3.png')\n",
        "plt.show()"
      ],
      "execution_count": 68,
      "outputs": [
        {
          "output_type": "display_data",
          "data": {
            "image/png": "[encoded data removed]",
            "text/plain": [
              "<Figure size 720x360 with 1 Axes>"
            ]
          },
          "metadata": {
            "tags": [],
            "needs_background": "light"
          }
        },
        {
          "output_type": "stream",
          "text": [
            "time: 572 ms (started: 2021-07-16 18:03:35 +00:00)\n"
          ],
          "name": "stdout"
        }
      ]
    },
    {
      "cell_type": "code",
      "metadata": {
        "id": "C_mskDLs3Yaj",
        "colab": {
          "base_uri": "https://localhost:8080/"
        },
        "outputId": "826985f6-3a9a-4ea4-cca2-2e384c8d620f"
      },
      "source": [
        "file = open('experiments_trust_rank.log', 'r')\n",
        "lines = file.read().splitlines()\n",
        "file.close()\n",
        "  \n",
        "x = []\n",
        "for i in lines: \n",
        "  pos = i.find(\"Iterations: \")\n",
        "  if pos != -1: \n",
        "    x.append(float(i[pos + len(\"Iterations: \"):]))\n",
        "\n",
        "mean_pr = np.zeros(n)\n",
        "mean_topic = np.zeros(n)\n",
        "\n",
        "j = 0\n",
        "k = 0\n",
        "\n",
        "for i in range(len(x)):\n",
        "  if i%2 == 0:   \n",
        "    mean_pr[j%n] += x[i]\n",
        "    j+=1\n",
        "    \n",
        "  else: \n",
        "    mean_topic[k%n] += x[i] \n",
        "    k +=1\n",
        "\n",
        "mean_pr /= n\n",
        "mean_topic /= n\n",
        "print(f'Mean iterations 1st-TrustRank using PageRank: {mean_pr}')\n",
        "print(f'Mean iterations 1st-TrustRank using Topic Sensitive: {mean_topic}')\n"
      ],
      "execution_count": 75,
      "outputs": [
        {
          "output_type": "stream",
          "text": [
            "Mean iterations 1st-TrustRank using PageRank: [  1.    1.    1.   43.8 150. ]\n",
            "Mean iterations 1st-TrustRank using Topic Sensitive: [  1.  120.2 150.  150.  150. ]\n",
            "time: 15.4 ms (started: 2021-07-16 18:05:11 +00:00)\n"
          ],
          "name": "stdout"
        }
      ]
    },
    {
      "cell_type": "code",
      "metadata": {
        "id": "y2f34Q96l_S0",
        "colab": {
          "base_uri": "https://localhost:8080/",
          "height": 352
        },
        "outputId": "5dd56de1-101a-4ec5-b7de-2cfed6ea5d1e"
      },
      "source": [
        "plt.figure(figsize=[10, 5])\n",
        "s_rate = ['0.00001', '0.0001', '0.001', '0.01', '0.1']\n",
        "\n",
        "X = np.arange(len(s_rate))\n",
        "plt.bar(X, mean_pr, color = 'yellow', edgecolor = 'black', width = 0.25)\n",
        "plt.bar(X + 0.22, mean_topic, color = 'purple', edgecolor = 'black', width = 0.25)\n",
        "\n",
        "plt.xticks([i + 0.10 for i in range(n)], s_rate)\n",
        "plt.yscale('log')\n",
        "\n",
        "plt.ylabel('Iterations')\n",
        "plt.xlabel('Sampling Rate')\n",
        "\n",
        "plt.legend(['TrustRank1 - PageRank', 'TrustRank1 - Topic Sensitive'])\n",
        "plt.savefig('iter_algorithms_tr1.png')\n",
        "plt.show()"
      ],
      "execution_count": 76,
      "outputs": [
        {
          "output_type": "display_data",
          "data": {
            "image/png": "[encoded data removed]",
            "text/plain": [
              "<Figure size 720x360 with 1 Axes>"
            ]
          },
          "metadata": {
            "tags": [],
            "needs_background": "light"
          }
        },
        {
          "output_type": "stream",
          "text": [
            "time: 527 ms (started: 2021-07-16 18:05:15 +00:00)\n"
          ],
          "name": "stdout"
        }
      ]
    },
    {
      "cell_type": "code",
      "metadata": {
        "id": "lhAmg1ttm8W3",
        "colab": {
          "base_uri": "https://localhost:8080/"
        },
        "outputId": "3acac405-a54b-4653-fe8f-1d7fc2b1109d"
      },
      "source": [
        "file = open('experiments_trust_rank_2.log', 'r')\n",
        "lines = file.read().splitlines()\n",
        "file.close()\n",
        "  \n",
        "x = []\n",
        "\n",
        "for i in lines: \n",
        "  pos = i.find(\"Iterations: \")\n",
        "  if pos != -1: \n",
        "    x.append(float(i[pos + len(\"Iterations: \"):]))\n",
        "\n",
        "mean_pr = np.zeros(n)\n",
        "mean_topic = np.zeros(n)\n",
        "\n",
        "j = 0\n",
        "k = 0\n",
        "\n",
        "for i in range(len(x)):\n",
        "  if i%2 == 0:   \n",
        "    mean_pr[j%n] += x[i]\n",
        "    j+=1\n",
        "    \n",
        "  else: \n",
        "    mean_topic[k%n] += x[i] \n",
        "    k +=1\n",
        "\n",
        "mean_pr /= n\n",
        "mean_topic /= n\n",
        "print(f'Mean iterations 2nd-TrustRank using PageRank: {mean_pr}')\n",
        "print(f'Mean iterations 2dn-TrustRank using Topic Sensitive: {mean_topic}')"
      ],
      "execution_count": 77,
      "outputs": [
        {
          "output_type": "stream",
          "text": [
            "Mean iterations 2nd-TrustRank using PageRank: [  1.    1.    1.   36.8 150. ]\n",
            "Mean iterations 2dn-TrustRank using Topic Sensitive: [150. 150. 150. 150. 150.]\n",
            "time: 18.6 ms (started: 2021-07-16 18:05:43 +00:00)\n"
          ],
          "name": "stdout"
        }
      ]
    },
    {
      "cell_type": "code",
      "metadata": {
        "id": "Lb6S3UsAnVTJ",
        "colab": {
          "base_uri": "https://localhost:8080/",
          "height": 352
        },
        "outputId": "81ba75d6-4497-4ada-b213-9d57f0057249"
      },
      "source": [
        "plt.figure(figsize=[10, 5])\n",
        "s_rate = ['0.00001', '0.0001', '0.001', '0.01', '0.1']\n",
        "\n",
        "X = np.arange(len(s_rate))\n",
        "plt.bar(X, mean_pr, color = 'b', edgecolor = 'black', width = 0.25)\n",
        "plt.bar(X + 0.22, mean_topic, color = 'orange', edgecolor = 'black', width = 0.25)\n",
        "\n",
        "plt.xticks([i + 0.10 for i in range(n)], s_rate)\n",
        "plt.yscale('log')\n",
        "\n",
        "plt.ylabel('Iterations')\n",
        "plt.xlabel('Sampling Rate')\n",
        "\n",
        "plt.legend(['TrustRank2 - PageRank', 'TrustRank2 - Topic Sensitive'])\n",
        "plt.savefig('iter_algorithms_tr2.png')\n",
        "plt.show()"
      ],
      "execution_count": 78,
      "outputs": [
        {
          "output_type": "display_data",
          "data": {
            "image/png": "[encoded data removed]",
            "text/plain": [
              "<Figure size 720x360 with 1 Axes>"
            ]
          },
          "metadata": {
            "tags": [],
            "needs_background": "light"
          }
        },
        {
          "output_type": "stream",
          "text": [
            "time: 536 ms (started: 2021-07-16 18:05:46 +00:00)\n"
          ],
          "name": "stdout"
        }
      ]
    }
  ]
}