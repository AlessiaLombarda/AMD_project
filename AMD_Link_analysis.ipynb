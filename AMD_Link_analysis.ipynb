{
  "nbformat": 4,
  "nbformat_minor": 0,
  "metadata": {
    "colab": {
      "name": "AMD_Link_analysis.ipynb",
      "provenance": [],
      "collapsed_sections": [
        "YJM3599TsgHc",
        "UU3XZhMHUsF2",
        "ONVq7Mv4SK1U",
        "h-A8QXBEU8ZF",
        "e4lxi3WuaSy2",
        "HFj5Wao0xnY3",
        "zGe3PcWQVlg_",
        "iJiGESBdUhSn"
      ],
      "include_colab_link": true
    },
    "kernelspec": {
      "display_name": "Python 3",
      "name": "python3"
    },
    "language_info": {
      "name": "python"
    }
  },
  "cells": [
    {
      "cell_type": "markdown",
      "metadata": {
        "id": "view-in-github",
        "colab_type": "text"
      },
      "source": [
        "<a href=\"https://colab.research.google.com/github/AlessiaLombarda/AMD_project/blob/main/AMD_Link_analysis.ipynb\" target=\"_parent\"><img src=\"https://colab.research.google.com/assets/colab-badge.svg\" alt=\"Open In Colab\"/></a>"
      ]
    },
    {
      "cell_type": "markdown",
      "metadata": {
        "id": "YJM3599TsgHc"
      },
      "source": [
        "# **Link Analysis on IMDb Dataset**"
      ]
    },
    {
      "cell_type": "markdown",
      "metadata": {
        "id": "UU3XZhMHUsF2"
      },
      "source": [
        "# Environnment setup"
      ]
    },
    {
      "cell_type": "code",
      "metadata": {
        "id": "J3poLbjy0sNR"
      },
      "source": [
        "import os\n",
        "import time\n",
        "from google.colab import files\n",
        "import pandas as pd\n",
        "from pandas.core.common import flatten\n",
        "import numpy as np\n",
        "import networkx as nx\n",
        "import matplotlib.pyplot as plt\n",
        "import itertools\n",
        "import logging"
      ],
      "execution_count": null,
      "outputs": []
    },
    {
      "cell_type": "markdown",
      "metadata": {
        "id": "hwq5tEqPi9Yx"
      },
      "source": [
        "Removing *.log* files from the previous session"
      ]
    },
    {
      "cell_type": "code",
      "metadata": {
        "id": "V0Dom21chncu"
      },
      "source": [
        "!rm *.log"
      ],
      "execution_count": null,
      "outputs": []
    },
    {
      "cell_type": "code",
      "metadata": {
        "id": "71ByVL8RE0D5",
        "colab": {
          "base_uri": "https://localhost:8080/"
        },
        "outputId": "9058aa34-5665-4da4-e0d2-a3f8fe709256"
      },
      "source": [
        "!pip install ipython-autotime\n",
        "\n",
        "%load_ext autotime"
      ],
      "execution_count": null,
      "outputs": [
        {
          "output_type": "stream",
          "text": [
            "Collecting ipython-autotime\n",
            "  Downloading ipython_autotime-0.3.1-py2.py3-none-any.whl (6.8 kB)\n",
            "Requirement already satisfied: ipython in /usr/local/lib/python3.7/dist-packages (from ipython-autotime) (5.5.0)\n",
            "Requirement already satisfied: pexpect in /usr/local/lib/python3.7/dist-packages (from ipython->ipython-autotime) (4.8.0)\n",
            "Requirement already satisfied: pygments in /usr/local/lib/python3.7/dist-packages (from ipython->ipython-autotime) (2.6.1)\n",
            "Requirement already satisfied: pickleshare in /usr/local/lib/python3.7/dist-packages (from ipython->ipython-autotime) (0.7.5)\n",
            "Requirement already satisfied: prompt-toolkit<2.0.0,>=1.0.4 in /usr/local/lib/python3.7/dist-packages (from ipython->ipython-autotime) (1.0.18)\n",
            "Requirement already satisfied: setuptools>=18.5 in /usr/local/lib/python3.7/dist-packages (from ipython->ipython-autotime) (57.2.0)\n",
            "Requirement already satisfied: decorator in /usr/local/lib/python3.7/dist-packages (from ipython->ipython-autotime) (4.4.2)\n",
            "Requirement already satisfied: simplegeneric>0.8 in /usr/local/lib/python3.7/dist-packages (from ipython->ipython-autotime) (0.8.1)\n",
            "Requirement already satisfied: traitlets>=4.2 in /usr/local/lib/python3.7/dist-packages (from ipython->ipython-autotime) (5.0.5)\n",
            "Requirement already satisfied: wcwidth in /usr/local/lib/python3.7/dist-packages (from prompt-toolkit<2.0.0,>=1.0.4->ipython->ipython-autotime) (0.2.5)\n",
            "Requirement already satisfied: six>=1.9.0 in /usr/local/lib/python3.7/dist-packages (from prompt-toolkit<2.0.0,>=1.0.4->ipython->ipython-autotime) (1.15.0)\n",
            "Requirement already satisfied: ipython-genutils in /usr/local/lib/python3.7/dist-packages (from traitlets>=4.2->ipython->ipython-autotime) (0.2.0)\n",
            "Requirement already satisfied: ptyprocess>=0.5 in /usr/local/lib/python3.7/dist-packages (from pexpect->ipython->ipython-autotime) (0.7.0)\n",
            "Installing collected packages: ipython-autotime\n",
            "Successfully installed ipython-autotime-0.3.1\n",
            "time: 154 µs (started: 2021-07-28 08:06:47 +00:00)\n"
          ],
          "name": "stdout"
        }
      ]
    },
    {
      "cell_type": "code",
      "metadata": {
        "id": "pijRpHJi4wRx",
        "colab": {
          "base_uri": "https://localhost:8080/"
        },
        "outputId": "8cd3725d-2c0c-4e2c-bf27-24f07583605b"
      },
      "source": [
        "!apt-get install openjdk-8-jdk-headless -qq > /dev/null\n",
        "!wget -q http://www-eu.apache.org/dist/spark/spark-2.4.8/spark-2.4.8-bin-hadoop2.7.tgz\n",
        "!tar xf spark-2.4.8-bin-hadoop2.7.tgz\n",
        "!pip install -q findspark"
      ],
      "execution_count": null,
      "outputs": [
        {
          "output_type": "stream",
          "text": [
            "time: 28.7 s (started: 2021-07-28 08:06:47 +00:00)\n"
          ],
          "name": "stdout"
        }
      ]
    },
    {
      "cell_type": "code",
      "metadata": {
        "id": "t7DV8dkRbqY6",
        "colab": {
          "base_uri": "https://localhost:8080/"
        },
        "outputId": "fc32d71d-7a6b-4746-d4bc-2a35f5e11a43"
      },
      "source": [
        "os.environ[\"JAVA_HOME\"] = \"/usr/lib/jvm/java-8-openjdk-amd64\"\n",
        "os.environ[\"SPARK_HOME\"] = \"/content/spark-2.4.8-bin-hadoop2.7\""
      ],
      "execution_count": null,
      "outputs": [
        {
          "output_type": "stream",
          "text": [
            "time: 1.54 ms (started: 2021-07-28 08:07:16 +00:00)\n"
          ],
          "name": "stdout"
        }
      ]
    },
    {
      "cell_type": "code",
      "metadata": {
        "id": "hnKPXOI2btsA",
        "colab": {
          "base_uri": "https://localhost:8080/"
        },
        "outputId": "56f8e52d-1e8e-4abb-b52e-c753f36e171a"
      },
      "source": [
        "import findspark\n",
        "findspark.init(\"spark-2.4.8-bin-hadoop2.7\")# SPARK_HOME\n",
        "from pyspark.sql import SparkSession\n",
        "spark = SparkSession.builder.master(\"local[*]\").getOrCreate()\n",
        "\n",
        "sc = spark.sparkContext"
      ],
      "execution_count": null,
      "outputs": [
        {
          "output_type": "stream",
          "text": [
            "time: 4.58 s (started: 2021-07-28 08:07:16 +00:00)\n"
          ],
          "name": "stdout"
        }
      ]
    },
    {
      "cell_type": "markdown",
      "metadata": {
        "id": "ONVq7Mv4SK1U"
      },
      "source": [
        "# Loading data"
      ]
    },
    {
      "cell_type": "code",
      "metadata": {
        "colab": {
          "resources": {
            "http://localhost:8080/nbextensions/google.colab/files.js": {
              "data": "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",
              "ok": true,
              "headers": [
                [
                  "content-type",
                  "application/javascript"
                ]
              ],
              "status": 200,
              "status_text": ""
            }
          },
          "base_uri": "https://localhost:8080/",
          "height": 89
        },
        "id": "jewrHlS94Jy-",
        "outputId": "1877035c-a5ab-462f-d522-e6650737571d"
      },
      "source": [
        "files.upload()\n",
        "os.environ['KAGGLE_CONFIG_DIR'] = '/content'"
      ],
      "execution_count": null,
      "outputs": [
        {
          "output_type": "display_data",
          "data": {
            "text/html": [
              "\n",
              "     <input type=\"file\" id=\"files-6dcb0363-57d1-4a23-b322-7407301c9ab7\" name=\"files[]\" multiple disabled\n",
              "        style=\"border:none\" />\n",
              "     <output id=\"result-6dcb0363-57d1-4a23-b322-7407301c9ab7\">\n",
              "      Upload widget is only available when the cell has been executed in the\n",
              "      current browser session. Please rerun this cell to enable.\n",
              "      </output>\n",
              "      <script src=\"/nbextensions/google.colab/files.js\"></script> "
            ],
            "text/plain": [
              "<IPython.core.display.HTML object>"
            ]
          },
          "metadata": {
            "tags": []
          }
        },
        {
          "output_type": "stream",
          "text": [
            "Saving kaggle.json to kaggle.json\n",
            "time: 34.1 s (started: 2021-07-28 08:07:20 +00:00)\n"
          ],
          "name": "stdout"
        }
      ]
    },
    {
      "cell_type": "code",
      "metadata": {
        "colab": {
          "base_uri": "https://localhost:8080/"
        },
        "id": "Gk7esr562QAf",
        "outputId": "09d6ccc1-349e-46e8-9324-60c3a0fe543a"
      },
      "source": [
        "!kaggle datasets download -d ashirwadsangwan/imdb-dataset\n",
        "!unzip ./imdb-dataset.zip && rm ./imdb-dataset.zip"
      ],
      "execution_count": null,
      "outputs": [
        {
          "output_type": "stream",
          "text": [
            "Warning: Your Kaggle API key is readable by other users on this system! To fix this, you can run 'chmod 600 /content/kaggle.json'\n",
            "Downloading imdb-dataset.zip to /content\n",
            " 99% 1.43G/1.44G [00:16<00:00, 110MB/s] \n",
            "100% 1.44G/1.44G [00:16<00:00, 95.9MB/s]\n",
            "Archive:  ./imdb-dataset.zip\n",
            "  inflating: name.basics.tsv.gz      \n",
            "  inflating: name.basics.tsv/name.basics.tsv  \n",
            "  inflating: title.akas.tsv.gz       \n",
            "  inflating: title.akas.tsv/title.akas.tsv  \n",
            "  inflating: title.basics.tsv.gz     \n",
            "  inflating: title.basics.tsv/title.basics.tsv  \n",
            "  inflating: title.principals.tsv.gz  \n",
            "  inflating: title.principals.tsv/title.principals.tsv  \n",
            "  inflating: title.ratings.tsv.gz    \n",
            "  inflating: title.ratings.tsv/title.ratings.tsv  \n",
            "time: 2min 2s (started: 2021-07-28 08:07:54 +00:00)\n"
          ],
          "name": "stdout"
        }
      ]
    },
    {
      "cell_type": "code",
      "metadata": {
        "id": "FmnddA444dJm",
        "colab": {
          "base_uri": "https://localhost:8080/",
          "height": 221
        },
        "outputId": "27bf71ef-a0fd-46d5-a4d0-b65de3c54165"
      },
      "source": [
        "df_principals = pd.read_csv('./title.principals.tsv/title.principals.tsv',  \n",
        "                        usecols= ['tconst','nconst','category'], \n",
        "                        sep='\\t',\n",
        "                        na_values = ['\\\\N']).sort_values(by=['tconst'])\n",
        "df_principals.head()"
      ],
      "execution_count": null,
      "outputs": [
        {
          "output_type": "execute_result",
          "data": {
            "text/html": [
              "<div>\n",
              "<style scoped>\n",
              "    .dataframe tbody tr th:only-of-type {\n",
              "        vertical-align: middle;\n",
              "    }\n",
              "\n",
              "    .dataframe tbody tr th {\n",
              "        vertical-align: top;\n",
              "    }\n",
              "\n",
              "    .dataframe thead th {\n",
              "        text-align: right;\n",
              "    }\n",
              "</style>\n",
              "<table border=\"1\" class=\"dataframe\">\n",
              "  <thead>\n",
              "    <tr style=\"text-align: right;\">\n",
              "      <th></th>\n",
              "      <th>tconst</th>\n",
              "      <th>nconst</th>\n",
              "      <th>category</th>\n",
              "    </tr>\n",
              "  </thead>\n",
              "  <tbody>\n",
              "    <tr>\n",
              "      <th>0</th>\n",
              "      <td>tt0000001</td>\n",
              "      <td>nm1588970</td>\n",
              "      <td>self</td>\n",
              "    </tr>\n",
              "    <tr>\n",
              "      <th>1</th>\n",
              "      <td>tt0000001</td>\n",
              "      <td>nm0005690</td>\n",
              "      <td>director</td>\n",
              "    </tr>\n",
              "    <tr>\n",
              "      <th>2</th>\n",
              "      <td>tt0000001</td>\n",
              "      <td>nm0374658</td>\n",
              "      <td>cinematographer</td>\n",
              "    </tr>\n",
              "    <tr>\n",
              "      <th>3</th>\n",
              "      <td>tt0000002</td>\n",
              "      <td>nm0721526</td>\n",
              "      <td>director</td>\n",
              "    </tr>\n",
              "    <tr>\n",
              "      <th>4</th>\n",
              "      <td>tt0000002</td>\n",
              "      <td>nm1335271</td>\n",
              "      <td>composer</td>\n",
              "    </tr>\n",
              "  </tbody>\n",
              "</table>\n",
              "</div>"
            ],
            "text/plain": [
              "      tconst     nconst         category\n",
              "0  tt0000001  nm1588970             self\n",
              "1  tt0000001  nm0005690         director\n",
              "2  tt0000001  nm0374658  cinematographer\n",
              "3  tt0000002  nm0721526         director\n",
              "4  tt0000002  nm1335271         composer"
            ]
          },
          "metadata": {
            "tags": []
          },
          "execution_count": 22
        },
        {
          "output_type": "stream",
          "text": [
            "time: 1min 5s (started: 2021-07-28 08:09:57 +00:00)\n"
          ],
          "name": "stdout"
        }
      ]
    },
    {
      "cell_type": "code",
      "metadata": {
        "id": "M2Udvo2VKWkW",
        "colab": {
          "base_uri": "https://localhost:8080/",
          "height": 221
        },
        "outputId": "6c7c77a0-f2ab-4876-e9e1-52d01aa5a4f7"
      },
      "source": [
        "df_title_basics = pd.read_csv('./title.basics.tsv/title.basics.tsv',  \n",
        "                        usecols= ['tconst', 'genres'], \n",
        "                        sep='\\t',\n",
        "                        na_values = ['\\\\N']).sort_values(by=['tconst'])\n",
        "\n",
        "df_title_basics.head()                 "
      ],
      "execution_count": null,
      "outputs": [
        {
          "output_type": "execute_result",
          "data": {
            "text/html": [
              "<div>\n",
              "<style scoped>\n",
              "    .dataframe tbody tr th:only-of-type {\n",
              "        vertical-align: middle;\n",
              "    }\n",
              "\n",
              "    .dataframe tbody tr th {\n",
              "        vertical-align: top;\n",
              "    }\n",
              "\n",
              "    .dataframe thead th {\n",
              "        text-align: right;\n",
              "    }\n",
              "</style>\n",
              "<table border=\"1\" class=\"dataframe\">\n",
              "  <thead>\n",
              "    <tr style=\"text-align: right;\">\n",
              "      <th></th>\n",
              "      <th>tconst</th>\n",
              "      <th>genres</th>\n",
              "    </tr>\n",
              "  </thead>\n",
              "  <tbody>\n",
              "    <tr>\n",
              "      <th>0</th>\n",
              "      <td>tt0000001</td>\n",
              "      <td>Documentary,Short</td>\n",
              "    </tr>\n",
              "    <tr>\n",
              "      <th>1</th>\n",
              "      <td>tt0000002</td>\n",
              "      <td>Animation,Short</td>\n",
              "    </tr>\n",
              "    <tr>\n",
              "      <th>2</th>\n",
              "      <td>tt0000003</td>\n",
              "      <td>Animation,Comedy,Romance</td>\n",
              "    </tr>\n",
              "    <tr>\n",
              "      <th>3</th>\n",
              "      <td>tt0000004</td>\n",
              "      <td>Animation,Short</td>\n",
              "    </tr>\n",
              "    <tr>\n",
              "      <th>4</th>\n",
              "      <td>tt0000005</td>\n",
              "      <td>Comedy,Short</td>\n",
              "    </tr>\n",
              "  </tbody>\n",
              "</table>\n",
              "</div>"
            ],
            "text/plain": [
              "      tconst                    genres\n",
              "0  tt0000001         Documentary,Short\n",
              "1  tt0000002           Animation,Short\n",
              "2  tt0000003  Animation,Comedy,Romance\n",
              "3  tt0000004           Animation,Short\n",
              "4  tt0000005              Comedy,Short"
            ]
          },
          "metadata": {
            "tags": []
          },
          "execution_count": 23
        },
        {
          "output_type": "stream",
          "text": [
            "time: 20.1 s (started: 2021-07-28 08:11:03 +00:00)\n"
          ],
          "name": "stdout"
        }
      ]
    },
    {
      "cell_type": "code",
      "metadata": {
        "id": "ZPlYBDd06FvZ",
        "colab": {
          "base_uri": "https://localhost:8080/",
          "height": 221
        },
        "outputId": "43850fb5-97dc-49a7-f0a1-ceed4e1eaac8"
      },
      "source": [
        "df_name_basics= pd.read_csv('./name.basics.tsv/name.basics.tsv',  \n",
        "                        usecols= ['nconst','primaryName'],\n",
        "                        sep='\\t',\n",
        "                        na_values = ['\\\\N']).sort_values(by=['nconst'])\n",
        "df_name_basics.head()"
      ],
      "execution_count": null,
      "outputs": [
        {
          "output_type": "execute_result",
          "data": {
            "text/html": [
              "<div>\n",
              "<style scoped>\n",
              "    .dataframe tbody tr th:only-of-type {\n",
              "        vertical-align: middle;\n",
              "    }\n",
              "\n",
              "    .dataframe tbody tr th {\n",
              "        vertical-align: top;\n",
              "    }\n",
              "\n",
              "    .dataframe thead th {\n",
              "        text-align: right;\n",
              "    }\n",
              "</style>\n",
              "<table border=\"1\" class=\"dataframe\">\n",
              "  <thead>\n",
              "    <tr style=\"text-align: right;\">\n",
              "      <th></th>\n",
              "      <th>nconst</th>\n",
              "      <th>primaryName</th>\n",
              "    </tr>\n",
              "  </thead>\n",
              "  <tbody>\n",
              "    <tr>\n",
              "      <th>0</th>\n",
              "      <td>nm0000001</td>\n",
              "      <td>Fred Astaire</td>\n",
              "    </tr>\n",
              "    <tr>\n",
              "      <th>1</th>\n",
              "      <td>nm0000002</td>\n",
              "      <td>Lauren Bacall</td>\n",
              "    </tr>\n",
              "    <tr>\n",
              "      <th>2</th>\n",
              "      <td>nm0000003</td>\n",
              "      <td>Brigitte Bardot</td>\n",
              "    </tr>\n",
              "    <tr>\n",
              "      <th>3</th>\n",
              "      <td>nm0000004</td>\n",
              "      <td>John Belushi</td>\n",
              "    </tr>\n",
              "    <tr>\n",
              "      <th>4</th>\n",
              "      <td>nm0000005</td>\n",
              "      <td>Ingmar Bergman</td>\n",
              "    </tr>\n",
              "  </tbody>\n",
              "</table>\n",
              "</div>"
            ],
            "text/plain": [
              "      nconst      primaryName\n",
              "0  nm0000001     Fred Astaire\n",
              "1  nm0000002    Lauren Bacall\n",
              "2  nm0000003  Brigitte Bardot\n",
              "3  nm0000004     John Belushi\n",
              "4  nm0000005   Ingmar Bergman"
            ]
          },
          "metadata": {
            "tags": []
          },
          "execution_count": 24
        },
        {
          "output_type": "stream",
          "text": [
            "time: 28.7 s (started: 2021-07-28 08:11:23 +00:00)\n"
          ],
          "name": "stdout"
        }
      ]
    },
    {
      "cell_type": "code",
      "metadata": {
        "id": "r6i3byq6Nm7o",
        "colab": {
          "base_uri": "https://localhost:8080/",
          "height": 221
        },
        "outputId": "6fb66f0b-8739-466d-8436-ed40a6ef9514"
      },
      "source": [
        "df_ratings = pd.read_csv('./title.ratings.tsv/title.ratings.tsv',\n",
        "                        sep='\\t',\n",
        "                        usecols = ['tconst', 'averageRating'],\n",
        "                        na_values = ['\\\\N']).sort_values(by=['tconst'])\n",
        "df_ratings.head()"
      ],
      "execution_count": null,
      "outputs": [
        {
          "output_type": "execute_result",
          "data": {
            "text/html": [
              "<div>\n",
              "<style scoped>\n",
              "    .dataframe tbody tr th:only-of-type {\n",
              "        vertical-align: middle;\n",
              "    }\n",
              "\n",
              "    .dataframe tbody tr th {\n",
              "        vertical-align: top;\n",
              "    }\n",
              "\n",
              "    .dataframe thead th {\n",
              "        text-align: right;\n",
              "    }\n",
              "</style>\n",
              "<table border=\"1\" class=\"dataframe\">\n",
              "  <thead>\n",
              "    <tr style=\"text-align: right;\">\n",
              "      <th></th>\n",
              "      <th>tconst</th>\n",
              "      <th>averageRating</th>\n",
              "    </tr>\n",
              "  </thead>\n",
              "  <tbody>\n",
              "    <tr>\n",
              "      <th>0</th>\n",
              "      <td>tt0000001</td>\n",
              "      <td>5.6</td>\n",
              "    </tr>\n",
              "    <tr>\n",
              "      <th>1</th>\n",
              "      <td>tt0000002</td>\n",
              "      <td>6.1</td>\n",
              "    </tr>\n",
              "    <tr>\n",
              "      <th>2</th>\n",
              "      <td>tt0000003</td>\n",
              "      <td>6.5</td>\n",
              "    </tr>\n",
              "    <tr>\n",
              "      <th>3</th>\n",
              "      <td>tt0000004</td>\n",
              "      <td>6.2</td>\n",
              "    </tr>\n",
              "    <tr>\n",
              "      <th>4</th>\n",
              "      <td>tt0000005</td>\n",
              "      <td>6.1</td>\n",
              "    </tr>\n",
              "  </tbody>\n",
              "</table>\n",
              "</div>"
            ],
            "text/plain": [
              "      tconst  averageRating\n",
              "0  tt0000001            5.6\n",
              "1  tt0000002            6.1\n",
              "2  tt0000003            6.5\n",
              "3  tt0000004            6.2\n",
              "4  tt0000005            6.1"
            ]
          },
          "metadata": {
            "tags": []
          },
          "execution_count": 25
        },
        {
          "output_type": "stream",
          "text": [
            "time: 1.3 s (started: 2021-07-28 08:11:51 +00:00)\n"
          ],
          "name": "stdout"
        }
      ]
    },
    {
      "cell_type": "code",
      "metadata": {
        "id": "tftM9rNg95kz",
        "colab": {
          "base_uri": "https://localhost:8080/"
        },
        "outputId": "f645b1ad-4314-4ff8-dd18-fbfa68a37e62"
      },
      "source": [
        "print(f'Rows in df_principals: {len(df_principals)} \\n\\\n",
        "Rows in df_title_basics: {len(df_title_basics)} \\n\\\n",
        "Rows in df_name_basics: {len(df_name_basics)} \\n\\\n",
        "Rows in df_ratings: {len(df_ratings)}')"
      ],
      "execution_count": null,
      "outputs": [
        {
          "output_type": "stream",
          "text": [
            "Rows in df_principals: 36468817 \n",
            "Rows in df_title_basics: 6321302 \n",
            "Rows in df_name_basics: 9706922 \n",
            "Rows in df_ratings: 993153\n",
            "time: 2.63 ms (started: 2021-07-28 08:11:53 +00:00)\n"
          ],
          "name": "stdout"
        }
      ]
    },
    {
      "cell_type": "markdown",
      "metadata": {
        "id": "5uMgQd4X-Iby"
      },
      "source": [
        "We now copy the variables in which the dataset is stored. In the first part of the notebook we will show how the dataset is preprocessed. Later, this process is then automated. The copies allow us to avoid to download again the dataset."
      ]
    },
    {
      "cell_type": "code",
      "metadata": {
        "id": "tlGXi2he9qhO",
        "colab": {
          "base_uri": "https://localhost:8080/"
        },
        "outputId": "0e7553f9-cf16-4938-af97-dda55458327b"
      },
      "source": [
        "df_principals_copy = df_principals\n",
        "df_title_basics_copy = df_title_basics\n",
        "df_name_basics_copy = df_name_basics\n",
        "df_ratings_copy = df_ratings"
      ],
      "execution_count": null,
      "outputs": [
        {
          "output_type": "stream",
          "text": [
            "time: 2.45 ms (started: 2021-07-28 08:11:53 +00:00)\n"
          ],
          "name": "stdout"
        }
      ]
    },
    {
      "cell_type": "markdown",
      "metadata": {
        "id": "h-A8QXBEU8ZF"
      },
      "source": [
        "# Data preprocessing"
      ]
    },
    {
      "cell_type": "markdown",
      "metadata": {
        "id": "nahEfs4X199b"
      },
      "source": [
        "List of possible roles of people in the dataset"
      ]
    },
    {
      "cell_type": "code",
      "metadata": {
        "id": "CZ3RoLU8_F0B",
        "colab": {
          "base_uri": "https://localhost:8080/"
        },
        "outputId": "2cb63be9-d16a-47b4-f582-c31bf976a674"
      },
      "source": [
        "print(f'Possible roles: \\n{df_principals[\"category\"].unique()}')"
      ],
      "execution_count": null,
      "outputs": [
        {
          "output_type": "stream",
          "text": [
            "Possible roles: \n",
            "['self' 'director' 'cinematographer' 'composer' 'editor' 'producer'\n",
            " 'actor' 'actress' 'writer' 'production_designer' 'archive_footage'\n",
            " 'archive_sound']\n",
            "time: 2.08 s (started: 2021-07-28 08:11:53 +00:00)\n"
          ],
          "name": "stdout"
        }
      ]
    },
    {
      "cell_type": "markdown",
      "metadata": {
        "id": "aP7EjpO61gx3"
      },
      "source": [
        "Elimination of NaN values (NaN in IMDb are intended as \"\\N\")"
      ]
    },
    {
      "cell_type": "code",
      "metadata": {
        "id": "ED762YV-dAe6",
        "colab": {
          "base_uri": "https://localhost:8080/"
        },
        "outputId": "7bc6970d-dc91-4062-a11c-5bd6c9f8f4f6"
      },
      "source": [
        "print(f'Length of df_title_basics before dropna: {len(df_title_basics)}')\n",
        "df_title_basics.dropna(subset=[\"genres\"], inplace=True)\n",
        "print(f'Length of df_title_basics after dropna: {len(df_title_basics)}')"
      ],
      "execution_count": null,
      "outputs": [
        {
          "output_type": "stream",
          "text": [
            "Length of df_title_basics before dropna: 6321302\n",
            "Length of df_title_basics after dropna: 5819979\n",
            "time: 591 ms (started: 2021-07-28 08:11:55 +00:00)\n"
          ],
          "name": "stdout"
        }
      ]
    },
    {
      "cell_type": "markdown",
      "metadata": {
        "id": "bSVqDwZW2DKd"
      },
      "source": [
        "List of all possible genres in the dataset. \n"
      ]
    },
    {
      "cell_type": "code",
      "metadata": {
        "id": "bTjRzR_TsMay",
        "colab": {
          "base_uri": "https://localhost:8080/"
        },
        "outputId": "e4fc11f0-f581-4f97-83db-fcdece26ab1d"
      },
      "source": [
        "genres = []\n",
        "for el in df_title_basics[\"genres\"]:\n",
        "  genres.append(el.split(\",\"))\n",
        "\n",
        "genres = list(set(flatten(genres))) #we flatten and then convert it to set to avoid duplicates\n",
        "print(f'Possible genres: \\n{genres}')\n"
      ],
      "execution_count": null,
      "outputs": [
        {
          "output_type": "stream",
          "text": [
            "Possible genres: \n",
            "['Sport', 'Game-Show', 'Family', 'Sci-Fi', 'Reality-TV', 'Crime', 'Comedy', 'Adult', 'Western', 'Horror', 'Biography', 'Mystery', 'Romance', 'Drama', 'Adventure', 'News', 'Musical', 'Documentary', 'Fantasy', 'Talk-Show', 'Thriller', 'Film-Noir', 'Animation', 'Short', 'Music', 'War', 'Action', 'History']\n",
            "time: 22.6 s (started: 2021-07-28 08:11:56 +00:00)\n"
          ],
          "name": "stdout"
        }
      ]
    },
    {
      "cell_type": "markdown",
      "metadata": {
        "id": "JKNhMP5qjQ39"
      },
      "source": [
        "We then apply a filter to maintain only actors/actresses. "
      ]
    },
    {
      "cell_type": "code",
      "metadata": {
        "id": "rL0rVbl6_PSD",
        "colab": {
          "base_uri": "https://localhost:8080/",
          "height": 221
        },
        "outputId": "cb995ebb-8d88-40cd-d200-e0750080a3aa"
      },
      "source": [
        "df_principals = df_principals[df_principals[\"category\"].isin([\"actor\", \"actress\"])]\n",
        "df_principals = df_principals[[\"tconst\", \"nconst\"]]\n",
        "df_principals.head()"
      ],
      "execution_count": null,
      "outputs": [
        {
          "output_type": "execute_result",
          "data": {
            "text/html": [
              "<div>\n",
              "<style scoped>\n",
              "    .dataframe tbody tr th:only-of-type {\n",
              "        vertical-align: middle;\n",
              "    }\n",
              "\n",
              "    .dataframe tbody tr th {\n",
              "        vertical-align: top;\n",
              "    }\n",
              "\n",
              "    .dataframe thead th {\n",
              "        text-align: right;\n",
              "    }\n",
              "</style>\n",
              "<table border=\"1\" class=\"dataframe\">\n",
              "  <thead>\n",
              "    <tr style=\"text-align: right;\">\n",
              "      <th></th>\n",
              "      <th>tconst</th>\n",
              "      <th>nconst</th>\n",
              "    </tr>\n",
              "  </thead>\n",
              "  <tbody>\n",
              "    <tr>\n",
              "      <th>11</th>\n",
              "      <td>tt0000005</td>\n",
              "      <td>nm0443482</td>\n",
              "    </tr>\n",
              "    <tr>\n",
              "      <th>12</th>\n",
              "      <td>tt0000005</td>\n",
              "      <td>nm0653042</td>\n",
              "    </tr>\n",
              "    <tr>\n",
              "      <th>17</th>\n",
              "      <td>tt0000007</td>\n",
              "      <td>nm0183947</td>\n",
              "    </tr>\n",
              "    <tr>\n",
              "      <th>16</th>\n",
              "      <td>tt0000007</td>\n",
              "      <td>nm0179163</td>\n",
              "    </tr>\n",
              "    <tr>\n",
              "      <th>21</th>\n",
              "      <td>tt0000008</td>\n",
              "      <td>nm0653028</td>\n",
              "    </tr>\n",
              "  </tbody>\n",
              "</table>\n",
              "</div>"
            ],
            "text/plain": [
              "       tconst     nconst\n",
              "11  tt0000005  nm0443482\n",
              "12  tt0000005  nm0653042\n",
              "17  tt0000007  nm0183947\n",
              "16  tt0000007  nm0179163\n",
              "21  tt0000008  nm0653028"
            ]
          },
          "metadata": {
            "tags": []
          },
          "execution_count": 31
        },
        {
          "output_type": "stream",
          "text": [
            "time: 2.36 s (started: 2021-07-28 08:12:18 +00:00)\n"
          ],
          "name": "stdout"
        }
      ]
    },
    {
      "cell_type": "markdown",
      "metadata": {
        "id": "CsPlLWmA2le9"
      },
      "source": [
        "Inner join between the dataframes to obtain a compact dataset (we use the inner join to keep only tuples with common key values)"
      ]
    },
    {
      "cell_type": "code",
      "metadata": {
        "id": "T-8iPo23DEJi",
        "colab": {
          "base_uri": "https://localhost:8080/",
          "height": 221
        },
        "outputId": "dd7ee264-4906-4cce-97b1-2249c7ad947f"
      },
      "source": [
        "df_join = df_principals.merge(df_name_basics, on=\"nconst\")\n",
        "df_join = df_join.merge(df_title_basics, on=\"tconst\")\n",
        "df_join = df_join.merge(df_ratings, on=\"tconst\")\n",
        "df_join.head()"
      ],
      "execution_count": null,
      "outputs": [
        {
          "output_type": "execute_result",
          "data": {
            "text/html": [
              "<div>\n",
              "<style scoped>\n",
              "    .dataframe tbody tr th:only-of-type {\n",
              "        vertical-align: middle;\n",
              "    }\n",
              "\n",
              "    .dataframe tbody tr th {\n",
              "        vertical-align: top;\n",
              "    }\n",
              "\n",
              "    .dataframe thead th {\n",
              "        text-align: right;\n",
              "    }\n",
              "</style>\n",
              "<table border=\"1\" class=\"dataframe\">\n",
              "  <thead>\n",
              "    <tr style=\"text-align: right;\">\n",
              "      <th></th>\n",
              "      <th>tconst</th>\n",
              "      <th>nconst</th>\n",
              "      <th>primaryName</th>\n",
              "      <th>genres</th>\n",
              "      <th>averageRating</th>\n",
              "    </tr>\n",
              "  </thead>\n",
              "  <tbody>\n",
              "    <tr>\n",
              "      <th>0</th>\n",
              "      <td>tt0000005</td>\n",
              "      <td>nm0443482</td>\n",
              "      <td>Charles Kayser</td>\n",
              "      <td>Comedy,Short</td>\n",
              "      <td>6.1</td>\n",
              "    </tr>\n",
              "    <tr>\n",
              "      <th>1</th>\n",
              "      <td>tt0000005</td>\n",
              "      <td>nm0653042</td>\n",
              "      <td>John Ott</td>\n",
              "      <td>Comedy,Short</td>\n",
              "      <td>6.1</td>\n",
              "    </tr>\n",
              "    <tr>\n",
              "      <th>2</th>\n",
              "      <td>tt0000007</td>\n",
              "      <td>nm0183947</td>\n",
              "      <td>Peter Courtney</td>\n",
              "      <td>Short,Sport</td>\n",
              "      <td>5.5</td>\n",
              "    </tr>\n",
              "    <tr>\n",
              "      <th>3</th>\n",
              "      <td>tt0000007</td>\n",
              "      <td>nm0179163</td>\n",
              "      <td>James J. Corbett</td>\n",
              "      <td>Short,Sport</td>\n",
              "      <td>5.5</td>\n",
              "    </tr>\n",
              "    <tr>\n",
              "      <th>4</th>\n",
              "      <td>tt0011603</td>\n",
              "      <td>nm0179163</td>\n",
              "      <td>James J. Corbett</td>\n",
              "      <td>Drama</td>\n",
              "      <td>3.0</td>\n",
              "    </tr>\n",
              "  </tbody>\n",
              "</table>\n",
              "</div>"
            ],
            "text/plain": [
              "      tconst     nconst       primaryName        genres  averageRating\n",
              "0  tt0000005  nm0443482    Charles Kayser  Comedy,Short            6.1\n",
              "1  tt0000005  nm0653042          John Ott  Comedy,Short            6.1\n",
              "2  tt0000007  nm0183947    Peter Courtney   Short,Sport            5.5\n",
              "3  tt0000007  nm0179163  James J. Corbett   Short,Sport            5.5\n",
              "4  tt0011603  nm0179163  James J. Corbett         Drama            3.0"
            ]
          },
          "metadata": {
            "tags": []
          },
          "execution_count": 32
        },
        {
          "output_type": "stream",
          "text": [
            "time: 53 s (started: 2021-07-28 08:12:20 +00:00)\n"
          ],
          "name": "stdout"
        }
      ]
    },
    {
      "cell_type": "markdown",
      "metadata": {
        "id": "Fx97QbwO2daR"
      },
      "source": [
        "Dataset uniform sampling: the default value for the sampling rate is 0.1"
      ]
    },
    {
      "cell_type": "code",
      "metadata": {
        "id": "g-CO-GE9V-14",
        "colab": {
          "base_uri": "https://localhost:8080/",
          "height": 221
        },
        "outputId": "39fd4aa8-e093-476e-95c5-983d16623bf7"
      },
      "source": [
        "sampling_rate = 0.1\n",
        "df_sample = df_join.sample(frac = sampling_rate).reset_index(drop=True)\n",
        "df_sample.head()"
      ],
      "execution_count": null,
      "outputs": [
        {
          "output_type": "execute_result",
          "data": {
            "text/html": [
              "<div>\n",
              "<style scoped>\n",
              "    .dataframe tbody tr th:only-of-type {\n",
              "        vertical-align: middle;\n",
              "    }\n",
              "\n",
              "    .dataframe tbody tr th {\n",
              "        vertical-align: top;\n",
              "    }\n",
              "\n",
              "    .dataframe thead th {\n",
              "        text-align: right;\n",
              "    }\n",
              "</style>\n",
              "<table border=\"1\" class=\"dataframe\">\n",
              "  <thead>\n",
              "    <tr style=\"text-align: right;\">\n",
              "      <th></th>\n",
              "      <th>tconst</th>\n",
              "      <th>nconst</th>\n",
              "      <th>primaryName</th>\n",
              "      <th>genres</th>\n",
              "      <th>averageRating</th>\n",
              "    </tr>\n",
              "  </thead>\n",
              "  <tbody>\n",
              "    <tr>\n",
              "      <th>0</th>\n",
              "      <td>tt0698287</td>\n",
              "      <td>nm0799736</td>\n",
              "      <td>Dick Simmons</td>\n",
              "      <td>Action,Western</td>\n",
              "      <td>7.0</td>\n",
              "    </tr>\n",
              "    <tr>\n",
              "      <th>1</th>\n",
              "      <td>tt0393050</td>\n",
              "      <td>nm0137770</td>\n",
              "      <td>Luciano B. Carlos</td>\n",
              "      <td>Drama</td>\n",
              "      <td>6.1</td>\n",
              "    </tr>\n",
              "    <tr>\n",
              "      <th>2</th>\n",
              "      <td>tt0074190</td>\n",
              "      <td>nm0786891</td>\n",
              "      <td>Delphine Seyrig</td>\n",
              "      <td>Drama,Music,Mystery</td>\n",
              "      <td>6.6</td>\n",
              "    </tr>\n",
              "    <tr>\n",
              "      <th>3</th>\n",
              "      <td>tt1411937</td>\n",
              "      <td>nm1262844</td>\n",
              "      <td>Jennifer Love</td>\n",
              "      <td>Adult</td>\n",
              "      <td>7.5</td>\n",
              "    </tr>\n",
              "    <tr>\n",
              "      <th>4</th>\n",
              "      <td>tt1430096</td>\n",
              "      <td>nm2151543</td>\n",
              "      <td>Kamalinee Mukherjee</td>\n",
              "      <td>Drama</td>\n",
              "      <td>7.0</td>\n",
              "    </tr>\n",
              "  </tbody>\n",
              "</table>\n",
              "</div>"
            ],
            "text/plain": [
              "      tconst     nconst  ...               genres averageRating\n",
              "0  tt0698287  nm0799736  ...       Action,Western           7.0\n",
              "1  tt0393050  nm0137770  ...                Drama           6.1\n",
              "2  tt0074190  nm0786891  ...  Drama,Music,Mystery           6.6\n",
              "3  tt1411937  nm1262844  ...                Adult           7.5\n",
              "4  tt1430096  nm2151543  ...                Drama           7.0\n",
              "\n",
              "[5 rows x 5 columns]"
            ]
          },
          "metadata": {
            "tags": []
          },
          "execution_count": 33
        },
        {
          "output_type": "stream",
          "text": [
            "time: 1.19 s (started: 2021-07-28 08:13:13 +00:00)\n"
          ],
          "name": "stdout"
        }
      ]
    },
    {
      "cell_type": "code",
      "metadata": {
        "id": "STbP1UELXJ1y",
        "colab": {
          "base_uri": "https://localhost:8080/"
        },
        "outputId": "91995c04-ec6d-42c5-acf4-cb8802ab76f2"
      },
      "source": [
        "print(f'Length of the original dataset: {len(df_join)} \\n\\\n",
        "Length of the sampled dataset: {len(df_sample)}')"
      ],
      "execution_count": null,
      "outputs": [
        {
          "output_type": "stream",
          "text": [
            "Length of the original dataset: 3404433 \n",
            "Length of the sampling dataset: 340443\n",
            "time: 3.25 ms (started: 2021-07-28 08:13:15 +00:00)\n"
          ],
          "name": "stdout"
        }
      ]
    },
    {
      "cell_type": "markdown",
      "metadata": {
        "id": "kf3G7ymf25ZZ"
      },
      "source": [
        "We group all the operations done before in a function, *preprocess_dataset*"
      ]
    },
    {
      "cell_type": "code",
      "metadata": {
        "id": "A0DANXD0LMHe",
        "colab": {
          "base_uri": "https://localhost:8080/"
        },
        "outputId": "023f9b11-0d2e-44fe-dc71-16d0be3751cb"
      },
      "source": [
        "def preprocess_dataset(df_title_basics, df_principals, df_name_basics, df_ratings, sampling_rate = 0.1):\n",
        "  \"\"\"\n",
        "  This function preprocess the dataset dropping NaN values, merging the different dataframes and sampling it\n",
        "  \n",
        "  Args:\n",
        "    df_title_basics : the dataset containing movies/Tv series/...\n",
        "    df_principals : the dataset containing the association between actors and movies\n",
        "    df_name_basics: the dataset containing the association between actors id and names \n",
        "    df_ratings: the dataset containing the ratings\n",
        "    sampling_rate : the sampling rate, default = 0.1\n",
        "\n",
        "  Returns:\n",
        "    The preprocessed and sampled version of the dataset\n",
        "\n",
        "  \"\"\"\n",
        "  \n",
        "  df_title_basics.dropna(subset=[\"genres\"], inplace=True)\n",
        "\n",
        "  #select actors only\n",
        "  df_principals = df_principals[df_principals[\"category\"].isin([\"actor\", \"actress\"])]\n",
        "  df_principals = df_principals[[\"tconst\", \"nconst\"]]\n",
        "  \n",
        "  #join\n",
        "  df_join = df_principals.merge(df_name_basics, on=\"nconst\")\n",
        "  df_join = df_join.merge(df_title_basics, on=\"tconst\")\n",
        "  df_join = df_join.merge(df_ratings, on=\"tconst\")\n",
        "  \n",
        "  #sampling\n",
        "  df_sample = df_join.sample(frac = sampling_rate).reset_index(drop=True)\n",
        "  print(f'Sample size: {len(df_sample)}')\n",
        "  \n",
        "  return df_sample"
      ],
      "execution_count": null,
      "outputs": [
        {
          "output_type": "stream",
          "text": [
            "time: 14.5 ms (started: 2021-07-28 08:13:15 +00:00)\n"
          ],
          "name": "stdout"
        }
      ]
    },
    {
      "cell_type": "markdown",
      "metadata": {
        "id": "crwh6tjO3KAm"
      },
      "source": [
        "Creation of dictionaries to keep track of actors acting in a given movie and movies in which an actor has performed.\n",
        "All these operations are then synthetized in functions, to easily run the algorithms"
      ]
    },
    {
      "cell_type": "code",
      "metadata": {
        "id": "NJnTnXHSNYOs",
        "colab": {
          "base_uri": "https://localhost:8080/"
        },
        "outputId": "56868dc8-68d8-4532-d0cc-a51e9c786393"
      },
      "source": [
        " actors_enum = df_sample[\"nconst\"].unique()\n",
        " movies_dict = {movie : [] for movie in df_sample[\"tconst\"].unique()}\n",
        " actors_dict = {actor : [[], i] for actor, i in zip(actors_enum, range(len(actors_enum)))} #the value is composed by the list of movies and the id of the actor\n",
        "\n",
        "for i in range(len(df_sample[\"tconst\"])) :\n",
        "   movies_dict[df_sample[\"tconst\"][i]].append(df_sample[\"nconst\"][i])\n",
        "   actors_dict[df_sample[\"nconst\"][i]][0].append(df_sample[\"tconst\"][i])"
      ],
      "execution_count": null,
      "outputs": [
        {
          "output_type": "stream",
          "text": [
            "time: 10.5 s (started: 2021-07-28 08:13:15 +00:00)\n"
          ],
          "name": "stdout"
        }
      ]
    },
    {
      "cell_type": "code",
      "metadata": {
        "id": "SLoExKR7QSrQ",
        "colab": {
          "base_uri": "https://localhost:8080/"
        },
        "outputId": "1e8cbc93-ad30-4d42-cc6b-e5ca88e85d1b"
      },
      "source": [
        "print(f'Example from movies_dict: {next(iter(movies_dict.values()))}')"
      ],
      "execution_count": null,
      "outputs": [
        {
          "output_type": "stream",
          "text": [
            "Example from movies_dict: ['nm0799736']\n",
            "time: 2.28 ms (started: 2021-07-28 08:13:25 +00:00)\n"
          ],
          "name": "stdout"
        }
      ]
    },
    {
      "cell_type": "code",
      "metadata": {
        "id": "NaAy8AE5QmoM",
        "colab": {
          "base_uri": "https://localhost:8080/"
        },
        "outputId": "29f30741-addb-48f5-e436-011ae5ed7170"
      },
      "source": [
        "print(f'Example from actors_dict: {next(iter(actors_dict.values()))}')"
      ],
      "execution_count": null,
      "outputs": [
        {
          "output_type": "stream",
          "text": [
            "Example from actors_dict: [['tt0698287', 'tt0698245', 'tt0852883', 'tt0698270', 'tt0698264', 'tt0698259', 'tt0852885'], 0]\n",
            "time: 2.22 ms (started: 2021-07-28 08:13:25 +00:00)\n"
          ],
          "name": "stdout"
        }
      ]
    },
    {
      "cell_type": "markdown",
      "metadata": {
        "id": "6d3pm4fT3uui"
      },
      "source": [
        "Creation of a dictionary to keep track of the correspondance between genres and actors"
      ]
    },
    {
      "cell_type": "code",
      "metadata": {
        "id": "fjjd3nkXS3ly",
        "colab": {
          "base_uri": "https://localhost:8080/"
        },
        "outputId": "6e999988-ce8b-4e5a-8305-2369c107bf2f"
      },
      "source": [
        "genres_dict = {genre : [] for genre in genres}\n",
        "\n",
        "for _, row in df_sample.iterrows():\n",
        "  for el in row[\"genres\"].split(\",\"): \n",
        "    genres_dict [el].append(row[\"nconst\"])\n",
        "\n",
        "for el in genres_dict: \n",
        "  genres_dict [el] = list(set(genres_dict [el]))"
      ],
      "execution_count": null,
      "outputs": [
        {
          "output_type": "stream",
          "text": [
            "time: 32.1 s (started: 2021-07-28 08:13:25 +00:00)\n"
          ],
          "name": "stdout"
        }
      ]
    },
    {
      "cell_type": "code",
      "metadata": {
        "id": "noICRZZlZq8e",
        "colab": {
          "base_uri": "https://localhost:8080/"
        },
        "outputId": "7148b1b4-69dc-4dcf-b6f2-2924a2dc8664"
      },
      "source": [
        "print(f'Example from genres_dict: {next(iter(genres_dict.values()))[:10]}')"
      ],
      "execution_count": null,
      "outputs": [
        {
          "output_type": "stream",
          "text": [
            "Example from genres_dict: ['nm0514517', 'nm2529463', 'nm5008318', 'nm8250743', 'nm1191244', 'nm0479471', 'nm9482126', 'nm4918405', 'nm7933891', 'nm0428838']\n",
            "time: 2.18 ms (started: 2021-07-28 08:13:57 +00:00)\n"
          ],
          "name": "stdout"
        }
      ]
    },
    {
      "cell_type": "markdown",
      "metadata": {
        "id": "vR4zTb1R66MY"
      },
      "source": [
        "Creation of a dictionary that links actors that performed in the same project"
      ]
    },
    {
      "cell_type": "code",
      "metadata": {
        "id": "E1C0M1ywT_Vo",
        "colab": {
          "base_uri": "https://localhost:8080/"
        },
        "outputId": "e17bbdf4-edc4-4c1a-d2b8-ef090c92a595"
      },
      "source": [
        "links = {actor : [] for actor in actors_enum}\n",
        "\n",
        "for actor in actors_enum:\n",
        "  for movie in actors_dict[actor][0] :\n",
        "    links[actor].append(movies_dict[movie])\n",
        "  links[actor] = list(set(flatten(links[actor]))) "
      ],
      "execution_count": null,
      "outputs": [
        {
          "output_type": "stream",
          "text": [
            "time: 2.05 s (started: 2021-07-28 08:13:57 +00:00)\n"
          ],
          "name": "stdout"
        }
      ]
    },
    {
      "cell_type": "code",
      "metadata": {
        "id": "kcWjNrNNVwh-",
        "colab": {
          "base_uri": "https://localhost:8080/"
        },
        "outputId": "1f8dd260-787d-47cd-ce43-17d7522e2ad2"
      },
      "source": [
        "print(f'Example from links: {next(iter(links.values()))}')"
      ],
      "execution_count": null,
      "outputs": [
        {
          "output_type": "stream",
          "text": [
            "Example from links: ['nm0799736', 'nm0376415', 'nm0211402']\n",
            "time: 2.37 ms (started: 2021-07-28 08:13:59 +00:00)\n"
          ],
          "name": "stdout"
        }
      ]
    },
    {
      "cell_type": "code",
      "metadata": {
        "id": "IY30hI-iaBeA",
        "colab": {
          "base_uri": "https://localhost:8080/"
        },
        "outputId": "7ce3271e-33b7-44cb-9ea3-f1cfe08ba8b2"
      },
      "source": [
        "print(f'Total number of actors: {len(df_sample[\"nconst\"].unique())}')"
      ],
      "execution_count": null,
      "outputs": [
        {
          "output_type": "stream",
          "text": [
            "Total number of actors: 153337\n",
            "time: 208 ms (started: 2021-07-28 08:13:59 +00:00)\n"
          ],
          "name": "stdout"
        }
      ]
    },
    {
      "cell_type": "markdown",
      "metadata": {
        "id": "KTRWBmjJ7GdC"
      },
      "source": [
        "Creation of a dictionary that associates to each actor the average rating obtained by the movies in which he performed"
      ]
    },
    {
      "cell_type": "code",
      "metadata": {
        "id": "1nZT6CJvZ2tw",
        "colab": {
          "base_uri": "https://localhost:8080/"
        },
        "outputId": "54db1992-0bf6-40a4-fce8-a3a3588947c5"
      },
      "source": [
        "avg_ratings = {actor : 0 for actor in actors_enum}\n",
        "\n",
        "for i in range(len(df_sample)):\n",
        "  avg_ratings[df_sample[\"nconst\"][i]] += df_sample[\"averageRating\"][i]\n",
        "\n",
        "for el in avg_ratings:\n",
        "  avg_ratings[el] /= 10 * len(actors_dict[el][0])\n"
      ],
      "execution_count": null,
      "outputs": [
        {
          "output_type": "stream",
          "text": [
            "time: 5.43 s (started: 2021-07-28 08:14:00 +00:00)\n"
          ],
          "name": "stdout"
        }
      ]
    },
    {
      "cell_type": "code",
      "metadata": {
        "id": "kaGFhwaSbULP",
        "colab": {
          "base_uri": "https://localhost:8080/"
        },
        "outputId": "fe659c52-c51a-4d4e-f1d6-81a90083d7f0"
      },
      "source": [
        "print(f'Example from avg_ratings: {next(iter(avg_ratings.values())):.2f}')"
      ],
      "execution_count": null,
      "outputs": [
        {
          "output_type": "stream",
          "text": [
            "Example from avg_ratings: 0.73\n",
            "time: 2.51 ms (started: 2021-07-28 08:14:05 +00:00)\n"
          ],
          "name": "stdout"
        }
      ]
    },
    {
      "cell_type": "markdown",
      "metadata": {
        "id": "a1HE52zX7utA"
      },
      "source": [
        "The following is a toy example that show a subgraph obtained by the original dataset"
      ]
    },
    {
      "cell_type": "code",
      "metadata": {
        "id": "dfvsSRQ21CtY",
        "colab": {
          "base_uri": "https://localhost:8080/"
        },
        "outputId": "f2a11309-d4bc-4f3d-89fb-86a284506f60"
      },
      "source": [
        "def get_subgraph(df_sample, links, out_degree):\n",
        "  \"\"\"\n",
        "    This function create and visualize a subgraph extracted from the sampled version of the merged dataset\n",
        "    \n",
        "    Args:\n",
        "      df_sample : the considered dataset\n",
        "      links : the dictionary that keeps the correspondance between each actor and the actors he/she worked with\n",
        "      out_degree : the minimum numer of outer links a node might have in order to be chosen \n",
        "      \n",
        "    Returns:\n",
        "      the visualization of the subgraph \n",
        "  \"\"\"\n",
        "\n",
        "  plt.rcParams[\"figure.figsize\"] = (10,10)\n",
        "  g = nx.DiGraph()\n",
        "\n",
        "  for actor in links:\n",
        "    if len(links[actor])>=out_degree:\n",
        "      first_actor = actor\n",
        "\n",
        "  for actor in links[first_actor]:\n",
        "    g.add_node(actor)\n",
        "\n",
        "  for actor in links[first_actor]:\n",
        "    if (first_actor != actor) :\n",
        "      g.add_edge(first_actor, actor)\n",
        "\n",
        "  for actor in g.nodes:\n",
        "    if(first_actor != actor):\n",
        "      for actor2 in links[actor]:\n",
        "        if actor2 in g.nodes:\n",
        "          g.add_edge(actor, actor2)\n",
        "\n",
        "  name_dict = {actor : \"\" for actor in g.nodes}\n",
        "  for actor in name_dict:\n",
        "    name_dict[actor] = df_sample[df_sample[\"nconst\"] == actor][\"primaryName\"].unique()[0]\n",
        "\n",
        "  opts = {'node_size': 1800, \n",
        "        'font_color': 'black',\n",
        "        'font_size': 15,\n",
        "        'font_weight': 'bold',\n",
        "        'edge_color':'b',\n",
        "        'arrowsize': 20}\n",
        "\n",
        "  nx.draw(g, node_color='#AAAAEE', with_labels=True, labels=name_dict, **opts)\n",
        "  \n",
        "  plt.show()"
      ],
      "execution_count": null,
      "outputs": [
        {
          "output_type": "stream",
          "text": [
            "time: 60.3 ms (started: 2021-07-28 08:14:05 +00:00)\n"
          ],
          "name": "stdout"
        }
      ]
    },
    {
      "cell_type": "code",
      "metadata": {
        "id": "GphohoyX6PAH",
        "colab": {
          "base_uri": "https://localhost:8080/",
          "height": 768
        },
        "outputId": "1cc32fcb-11cb-44c0-b748-12f353dccdde"
      },
      "source": [
        "get_subgraph(df_sample, links, 9)"
      ],
      "execution_count": null,
      "outputs": [
        {
          "output_type": "display_data",
          "data": {
            "image/png": "[encoded data removed]",
            "text/plain": [
              "<Figure size 720x720 with 1 Axes>"
            ]
          },
          "metadata": {
            "tags": []
          }
        },
        {
          "output_type": "stream",
          "text": [
            "time: 1.73 s (started: 2021-07-28 08:14:05 +00:00)\n"
          ],
          "name": "stdout"
        }
      ]
    },
    {
      "cell_type": "markdown",
      "metadata": {
        "id": "e4lxi3WuaSy2"
      },
      "source": [
        "# PageRank"
      ]
    },
    {
      "cell_type": "markdown",
      "metadata": {
        "id": "HFj5Wao0xnY3"
      },
      "source": [
        "##Functions"
      ]
    },
    {
      "cell_type": "code",
      "metadata": {
        "id": "eI5JN3hBLEIt",
        "colab": {
          "base_uri": "https://localhost:8080/"
        },
        "outputId": "f142152a-7e02-4f88-c728-2ecfddb2aed6"
      },
      "source": [
        "def get_genres(df_title_basics):\n",
        "  \"\"\"\n",
        "    This function extracts all possible genres from the IMDb movies dataset\n",
        "\n",
        "    Args:\n",
        "      df_title_basics : the dataset from which we want to extract the genres\n",
        "    \n",
        "    Returns:\n",
        "      the list of all possible genres of the products in the dataset\n",
        "  \"\"\"\n",
        "  \n",
        "  genres = []\n",
        "  for el in df_title_basics[\"genres\"]:\n",
        "    genres.append(el.split(\",\"))\n",
        "\n",
        "  genres = list(set(flatten(genres)))\n",
        "  return genres\n",
        "\n",
        "def get_actors(df_sample):\n",
        "  \"\"\"\n",
        "    This function extracts all possible actors from the IMDb movies dataset\n",
        "\n",
        "    Args:\n",
        "      df_sample : the dataset from which we want to extract the actors\n",
        "    \n",
        "    Returns:\n",
        "      the list of all the actors in the dataset\n",
        "  \"\"\"\n",
        "\n",
        "  return  df_sample[\"nconst\"].unique()"
      ],
      "execution_count": null,
      "outputs": [
        {
          "output_type": "stream",
          "text": [
            "time: 9.81 ms (started: 2021-07-28 08:14:07 +00:00)\n"
          ],
          "name": "stdout"
        }
      ]
    },
    {
      "cell_type": "code",
      "metadata": {
        "id": "IoiAnXR2LdmH",
        "colab": {
          "base_uri": "https://localhost:8080/"
        },
        "outputId": "636ed303-4279-49c1-cca0-61f3eab17652"
      },
      "source": [
        "def create_dicts(df_sample, actors_enum):\n",
        "  \"\"\"\n",
        "    This function creates two dictionaries that associate each actor to the movies he/she performed in and each product with the cast that worked in it\n",
        "\n",
        "    Args:\n",
        "      df_sample : the dataset we want to extract informations from\n",
        "      actors_enum : the list of all considered actors\n",
        "\n",
        "    Returns:\n",
        "      a dictionary containing for each product the cast that performed in it, a dictionary containing for each actor the movies in which he/she performed and an ID to univoquely identify him/her\n",
        "  \"\"\"\n",
        "\n",
        "  movies_dict = {movie : [] for movie in df_sample[\"tconst\"].unique()}\n",
        "  actors_dict = {actor : [[], i] for actor, i in zip(actors_enum, range(len(actors_enum)))}\n",
        "\n",
        "  for i in range(len(df_sample[\"tconst\"])) :\n",
        "    movies_dict[df_sample[\"tconst\"][i]].append(df_sample[\"nconst\"][i])\n",
        "    actors_dict[df_sample[\"nconst\"][i]][0].append(df_sample[\"tconst\"][i])\n",
        "\n",
        "  return movies_dict, actors_dict\n",
        "\n",
        "def create_genres_dict(df_sample, genres):\n",
        "  \"\"\"\n",
        "    This function creates a dictionary that associate each genre to the actors related to it\n",
        "\n",
        "    Args:\n",
        "      df_sample : the dataset we want to extract informations from\n",
        "      genres : the list of all possible genres in the dataset\n",
        "\n",
        "    Returns:\n",
        "      a dictionary containing for each genre the actors related to it\n",
        "  \"\"\"\n",
        "\n",
        "  genres_dict = {genre : [] for genre in genres}\n",
        "\n",
        "  for _, row in df_sample.iterrows():\n",
        "    for el in row[\"genres\"].split(\",\"): \n",
        "      genres_dict [el].append(row[\"nconst\"])\n",
        "\n",
        "  for el in genres_dict: \n",
        "    genres_dict [el] = list(set(genres_dict[el]))\n",
        "\n",
        "  return genres_dict\n",
        "\n",
        "def create_ratings_dict(df_sample, actors_enum, actors_dict):\n",
        "  \"\"\"\n",
        "    This function creates a dictionary that associate each actor to the average rating of the movies he/she performed in\n",
        "\n",
        "    Args:\n",
        "      df_sample : the dataset we want to extract informations from\n",
        "      actors_enum : the list of all considered actors\n",
        "      actors_dict : a dictionary containing for each actor the movies in which he/she performed and an ID to univocally identify him/her\n",
        "\n",
        "    Returns:\n",
        "      a dictionary containing for each actor the average rating of the movies he/she performed in\n",
        "  \"\"\"\n",
        "\n",
        "  avg_ratings = {actor : 0 for actor in actors_enum}\n",
        "  \n",
        "  for i in range(len(df_sample)):\n",
        "    avg_ratings[df_sample[\"nconst\"][i]] += df_sample[\"averageRating\"][i]\n",
        "\n",
        "  for el in avg_ratings:\n",
        "    avg_ratings[el] /= 10 * len(actors_dict[el][0])\n",
        "\n",
        "  return avg_ratings  \n",
        "\n",
        "def get_links(actors_enum, movies_dict, actors_dict):\n",
        "  \"\"\"\n",
        "    This function creates a dictionary that associate each actor to the actors he/she performed with\n",
        "\n",
        "    Args:\n",
        "      df_sample : the dataset we want to extract informations from\n",
        "      actors_enum : the list of all considered actors\n",
        "      movies_dict : a dictionary containing for each product the cast that performed in it\n",
        "      actors_dict : a dictionary containing for each actor the movies in which he/she performed and an ID to univoquely identify him/her\n",
        "\n",
        "    Returns:\n",
        "      a dictionary containing for each actor the actors he/she performed with\n",
        "  \"\"\"\n",
        "  \n",
        "  links = {actor : [] for actor in actors_enum}\n",
        "\n",
        "  for actor in actors_enum:\n",
        "    for movie in actors_dict[actor][0] :\n",
        "      links[actor].append(movies_dict[movie])\n",
        "    links[actor] = list(set(flatten(links[actor]))) \n",
        "\n",
        "  return links"
      ],
      "execution_count": null,
      "outputs": [
        {
          "output_type": "stream",
          "text": [
            "time: 51.6 ms (started: 2021-07-28 08:14:07 +00:00)\n"
          ],
          "name": "stdout"
        }
      ]
    },
    {
      "cell_type": "code",
      "metadata": {
        "id": "_LdlEy12xylV",
        "colab": {
          "base_uri": "https://localhost:8080/"
        },
        "outputId": "f4cc7986-efd9-4f8a-9f92-e1e89394a9b1"
      },
      "source": [
        "def create_connection_matrix(links):\n",
        "    \"\"\"\n",
        "      This function creates the connection matrix\n",
        "\n",
        "      Args:\n",
        "        links : a dictionary containing for each actor the actors he/she performed with\n",
        "\n",
        "      Returns:\n",
        "        a connection matrix  whose entries are in the form (act2, act1, 1/num_outer_links_act1)\n",
        "    \"\"\"\n",
        "\n",
        "    connection_matrix = []\n",
        "    for a in links:\n",
        "      for b in links[a]:\n",
        "        connection_matrix.append((b, a, 1./len(links[a])))\n",
        "    \n",
        "    return connection_matrix"
      ],
      "execution_count": null,
      "outputs": [
        {
          "output_type": "stream",
          "text": [
            "time: 5.31 ms (started: 2021-07-28 08:14:07 +00:00)\n"
          ],
          "name": "stdout"
        }
      ]
    },
    {
      "cell_type": "code",
      "metadata": {
        "id": "EuJqFStjzKsW",
        "colab": {
          "base_uri": "https://localhost:8080/"
        },
        "outputId": "298cd375-7011-47c5-aa6e-dbc20ca7c441"
      },
      "source": [
        "def get_page_rank(actors_enum, links, actors_dict, logger, beta=0.8,\n",
        "                  max_iterations=400, tolerance=1.e-5, verbose=False):\n",
        "    \"\"\"\n",
        "      Page Rank algorithm\n",
        "      \n",
        "      Args:\n",
        "        actors_enum : list of all possible actors\n",
        "        links : the association between actors that worked in the same project\n",
        "        actors_dict : the association between actors and projects in which they took part\n",
        "        logger : the logger used to write to the correspondent log file\n",
        "        beta : the parameter regulating teleporting, if equals 1 it leads to the basic version of pagerank without taxation (default = 0.8)\n",
        "        max_iterations : the maximum number of iteration allowed (default = 400)\n",
        "        tolerance : the minimum difference between actual and old page rank (default = 1.e-5)\n",
        "        verbose : boolean, if True at each iteration print computed pagerank \n",
        "\n",
        "      Returns: \n",
        "        the computed page rank for each actor\n",
        "    \"\"\"\n",
        "\n",
        "    connection_matrix = create_connection_matrix(links)\n",
        "    rdd = sc.parallelize(connection_matrix).cache()\n",
        "\n",
        "    n = len(actors_enum)\n",
        "    page_rank = np.ones(n)/n\n",
        "    old_page_rank = np.ones(n)\n",
        "    \n",
        "    iteration = 0\n",
        "    while np.linalg.norm(old_page_rank - page_rank) >= tolerance and iteration < max_iterations:\n",
        "        old_page_rank = page_rank\n",
        "        page_rank_values = (rdd.map(lambda t: (actors_dict[t[0]][1], t[2]*page_rank[actors_dict[t[1]][1]]))\n",
        "                            .reduceByKey(lambda a, b: a+b)\n",
        "                            .sortByKey()\n",
        "                            .collect()\n",
        "                           )\n",
        "        page_rank = np.array([beta*c + (1-beta)/n\n",
        "                              for (i, c) in page_rank_values])\n",
        "            \n",
        "        if verbose:\n",
        "            print(page_rank)\n",
        "\n",
        "        iteration += 1\n",
        "        \n",
        "    print('{} iterations'.format(iteration))\n",
        "    logger.info(f'Iterations: {iteration}')\n",
        "    \n",
        "    return page_rank"
      ],
      "execution_count": null,
      "outputs": [
        {
          "output_type": "stream",
          "text": [
            "time: 26.6 ms (started: 2021-07-28 08:14:07 +00:00)\n"
          ],
          "name": "stdout"
        }
      ]
    },
    {
      "cell_type": "code",
      "metadata": {
        "id": "1ehJX04UiX8r",
        "colab": {
          "base_uri": "https://localhost:8080/"
        },
        "outputId": "84a11464-9c2d-417e-87f1-7c60a6819608"
      },
      "source": [
        "def get_topic_page_rank(actors_enum, links, actors_dict, topics, genres_dict, logger, trustrank = False, beta=0.8,\n",
        "                  max_iterations=400, tolerance=1.e-5, verbose=False):\n",
        "  \n",
        "    \"\"\"\n",
        "      Topic Sensitive Page Rank algorithm\n",
        "\n",
        "      Args:\n",
        "        actors_enum : list of all possible actors\n",
        "        links : the association between actors that worked in the same project\n",
        "        actors_dict : the association between actors and projects in which they took part\n",
        "        topics : the list of preferred topics (or the trusted pages if trustrank = True)\n",
        "        genres_dict : a dictionary containing for each genre the products related to it\n",
        "        logger : the logger used to write to the correspondent log file\n",
        "        trustrank : if True we're computing the Trustrank variant of the algorithm\n",
        "        beta : the parameter regulating teleporting, if equals 1 it leads to the basic version of pagerank without taxation (default = 0.8)\n",
        "        max_iterations : the maximum number of iteration allowed (default = 400)\n",
        "        tolerance : the minimum difference between actual and old page rank (default = 1.e-5)\n",
        "        verbose : boolean, if True at each iteration print computed pagerank \n",
        "\n",
        "      Returns: \n",
        "        the computed page rank for each actor\n",
        "    \"\"\"\n",
        "\n",
        "    connection_matrix = create_connection_matrix(links)\n",
        "    rdd = sc.parallelize(connection_matrix).cache()\n",
        "\n",
        "    n = len(actors_enum)\n",
        "    page_rank = np.ones(n)/n\n",
        "    old_page_rank = np.ones(n)\n",
        "\n",
        "    if (not trustrank):\n",
        "      s = 0\n",
        "      for el in topics: \n",
        "        s += len(genres_dict[el])\n",
        "      if s == 0:  # There are not any movies about these topics in the sample\n",
        "        logger.info('Number of movies about these topics in the sample = 0')    \n",
        "        beta = 1    # Therefore, we are performing a Topic Sensitive PageRank without taxation (beta = 1)\n",
        "        s = 1     # In order to avoid problems by dividing by zero\n",
        "    else:\n",
        "      s = np.sum(topics)\n",
        "\n",
        "    iteration = 0\n",
        "    while np.linalg.norm(old_page_rank - page_rank) >= tolerance and iteration < max_iterations:\n",
        "        old_page_rank = page_rank\n",
        "        page_rank_values = (rdd.map(lambda t: (actors_dict[t[0]][1], t[2]*page_rank[actors_dict[t[1]][1]]))\n",
        "                            .reduceByKey(lambda a, b: a+b)\n",
        "                            .sortByKey()\n",
        "                            .collect()\n",
        "                           )\n",
        "        page_rank = np.array([beta*c + (1-beta)/s\n",
        "                              for (i, c) in page_rank_values])\n",
        "            \n",
        "        if verbose:\n",
        "            print(page_rank)\n",
        "\n",
        "        iteration += 1\n",
        "        \n",
        "    print('{} iterations'.format(iteration))\n",
        "    logger.info(f'Iterations: {iteration}')\n",
        "    \n",
        "    return page_rank"
      ],
      "execution_count": null,
      "outputs": [
        {
          "output_type": "stream",
          "text": [
            "time: 39 ms (started: 2021-07-28 08:14:07 +00:00)\n"
          ],
          "name": "stdout"
        }
      ]
    },
    {
      "cell_type": "code",
      "metadata": {
        "id": "fOSOWldLlG8J",
        "colab": {
          "base_uri": "https://localhost:8080/"
        },
        "outputId": "dbcb23c8-3568-4a90-a248-bd3e21bfd28b"
      },
      "source": [
        "def get_spam_mass(actors_enum, links, actors_dict, logger, beta=0.8,\n",
        "                  max_iterations=400, tolerance=1.e-5, verbose=False):\n",
        "  \"\"\"\n",
        "    Trust Rank algorithm\n",
        "    The Trust Rank is obtained as the ratio between the number of projects in which the actor took part divided by the maximum number of projects in which an actor took part\n",
        "    TrustRank is like Topic-sensitive PageRank, where the “topic” is a set of nodes believed to be trustworthy (not spam)\n",
        "    \n",
        "    Args:\n",
        "      actors_enum: list of all possible actors\n",
        "      links: the association between actors that worked in the same project\n",
        "      actors_dict: the association between actors and projects in which they took part\n",
        "      logger : the logger used to write to the correspondent log file\n",
        "      beta: the parameter regulating teleporting, if equals 1 it leads to the basic version of pagerank without taxation (default = 0.8)\n",
        "      max_iterations: the maximum number of iteration allowed (default = 400)\n",
        "      tolerance: the minimum difference between actual and old page rank (default = 1.e-5)\n",
        "      verbose: boolean, if True at each iteration print computed pagerank \n",
        "    \n",
        "    Returns:\n",
        "      the computed spam mass for each actor; the spam mass is obtained as the ratio between the difference of Page Rank and Trust Rank and the Trust Rank itself\n",
        "  \"\"\"\n",
        "    \n",
        "  page_rank = get_page_rank(actors_enum, links, actors_dict, logger, beta, max_iterations, tolerance, verbose)\n",
        "\n",
        "  mean = np.mean(np.array([len(actors_dict[actor][0]) for actor in actors_enum]))\n",
        "\n",
        "  trust_topics = np.array([1 if len(actors_dict[actor][0]) >= mean else 0 for actor in actors_enum])\n",
        "  trust_rank = get_topic_page_rank(actors_enum, links, actors_dict, trust_topics, _, logger, trustrank=True, max_iterations=max_iterations) \n",
        "\n",
        "  spam_mass = (page_rank - trust_rank)/trust_rank\n",
        "\n",
        "  return spam_mass"
      ],
      "execution_count": null,
      "outputs": [
        {
          "output_type": "stream",
          "text": [
            "time: 14.8 ms (started: 2021-07-28 08:14:07 +00:00)\n"
          ],
          "name": "stdout"
        }
      ]
    },
    {
      "cell_type": "code",
      "metadata": {
        "id": "5SJsvKoVYdv2",
        "colab": {
          "base_uri": "https://localhost:8080/"
        },
        "outputId": "25af8745-1cdb-4ba6-ec23-9d38df57e49c"
      },
      "source": [
        "def get_spam_mass_ratings(actors_enum, links, actors_dict, avg_ratings, logger, beta=0.8,\n",
        "                  max_iterations=400, tolerance=1.e-5, verbose=False):\n",
        "  \"\"\"\n",
        "    Trust Rank algorithm\n",
        "    The Trust Rank is obtained as the the average rating given to the products in which an actor took part\n",
        "    \n",
        "    Args:\n",
        "      actors_enum : list of all possible actors\n",
        "      links : the association between actors that worked in the same project\n",
        "      actors_dict : the association between actors and projects in which they took part\n",
        "      avg_ratings : the association between actors and their average rating on projects in which they have taken part\n",
        "      logger : the logger used to write to the correspondent log file\n",
        "      beta : the parameter regulating teleporting, if equals 1 it leads to the basic version of pagerank without taxation (default = 0.8)\n",
        "      max_iterations : the maximum number of iteration allowed (default = 400)\n",
        "      tolerance : the minimum difference between actual and old page rank (default = 1.e-5)\n",
        "      verbose : boolean, if True at each iteration print computed pagerank \n",
        "    \n",
        "    Returns: \n",
        "      the computed spam mass for each actor; the spam mass is obtained as the ratio between the difference of Page Rank and Trust Rank and the Trust Rank itself\n",
        "  \"\"\"\n",
        "    \n",
        "  page_rank = get_page_rank(actors_enum, links, actors_dict, logger, beta, max_iterations, tolerance, verbose)\n",
        "\n",
        "  mean = np.mean(np.array([avg_ratings[actor] for actor in avg_ratings]))\n",
        "  trust_topics = np.array([1 if avg_ratings[actor] >= mean else 0 for actor in avg_ratings])\n",
        "\n",
        "  trust_rank = get_topic_page_rank(actors_enum, links, actors_dict, trust_topics, _, logger, trustrank= True, max_iterations=max_iterations) \n",
        "\n",
        "  spam_mass = (page_rank - trust_rank)/trust_rank\n",
        "\n",
        "  return spam_mass"
      ],
      "execution_count": null,
      "outputs": [
        {
          "output_type": "stream",
          "text": [
            "time: 12.6 ms (started: 2021-07-28 08:14:07 +00:00)\n"
          ],
          "name": "stdout"
        }
      ]
    },
    {
      "cell_type": "code",
      "metadata": {
        "id": "IvI46OVJZoGl",
        "colab": {
          "base_uri": "https://localhost:8080/"
        },
        "outputId": "504a95d7-70b2-46e6-abc9-b91167fd4c5b"
      },
      "source": [
        "def setup_logger(name, log_file, level=logging.INFO):\n",
        "    \"\"\"\n",
        "      To setup as many loggers as needed\n",
        "      \n",
        "      Args:\n",
        "        name : name of the logger\n",
        "        log_file : name of the correspondent log fileprint computed pagerank \n",
        "        level : level of the log (info, warning, ...)\n",
        "\n",
        "      Returns: \n",
        "        the created logger\n",
        "      \"\"\"    \n",
        "\n",
        "    formatter = logging.Formatter('%(asctime)s - %(message)s', datefmt='%d-%b-%y %H:%M:%S')\n",
        "    handler = logging.FileHandler(log_file)        \n",
        "    handler.setFormatter(formatter)\n",
        "\n",
        "    logger = logging.getLogger(name)\n",
        "    logger.setLevel(level)\n",
        "    logger.addHandler(handler)\n",
        "\n",
        "    return logger"
      ],
      "execution_count": null,
      "outputs": [
        {
          "output_type": "stream",
          "text": [
            "time: 14.6 ms (started: 2021-07-28 08:14:07 +00:00)\n"
          ],
          "name": "stdout"
        }
      ]
    },
    {
      "cell_type": "markdown",
      "metadata": {
        "id": "zGe3PcWQVlg_"
      },
      "source": [
        "## Basic implementation"
      ]
    },
    {
      "cell_type": "markdown",
      "metadata": {
        "id": "Ng3wgkXB8YAt"
      },
      "source": [
        "*n* is the number of times you want to repeat the experiment"
      ]
    },
    {
      "cell_type": "code",
      "metadata": {
        "id": "e21MtnU3B_Xj",
        "colab": {
          "base_uri": "https://localhost:8080/"
        },
        "outputId": "a9b41353-5f0b-419e-efb4-91141466ce4f"
      },
      "source": [
        "n = 5\n",
        "\n",
        "logger_pagerank = setup_logger('experiments_pagerank', 'experiments_pagerank.log')\n",
        "for iter in range(n):\n",
        "  logger_pagerank.info('This experiment implements PageRank')\n",
        "\n",
        "  s_rates = [0.00001, 0.0001, 0.001, 0.01, 0.1]\n",
        "  time_basic = np.zeros(len(s_rates))\n",
        "\n",
        "  for i in range(len(s_rates)):\n",
        "    df_sample = preprocess_dataset(df_title_basics_copy, df_principals_copy, df_name_basics_copy, df_ratings_copy, sampling_rate = s_rates[i])\n",
        "    actors_enum = get_actors(df_sample)\n",
        "  \n",
        "    movies_dict, actors_dict = create_dicts(df_sample, actors_enum)\n",
        "    links = get_links(actors_enum, movies_dict, actors_dict)\n",
        "\n",
        "    tic = time.time()\n",
        "    get_page_rank(actors_enum, links, actors_dict, logger_pagerank, beta=1, max_iterations = 150)\n",
        "    toc = time.time()\n",
        "    time_basic[i] = toc-tic\n",
        "    logger_pagerank.info(f'Sampling: {s_rates[i]}, Time: {time_basic[i]}')\n",
        "    print(time_basic[i]) "
      ],
      "execution_count": null,
      "outputs": [
        {
          "output_type": "stream",
          "text": [
            "Sample size: 34\n",
            "1 iterations\n",
            "2.92781925201416\n",
            "Sample size: 340\n",
            "1 iterations\n",
            "0.5964717864990234\n",
            "Sample size: 3404\n",
            "1 iterations\n",
            "0.7191576957702637\n",
            "Sample size: 34044\n",
            "3 iterations\n",
            "6.947958946228027\n",
            "Sample size: 340443\n",
            "9 iterations\n",
            "93.59589648246765\n",
            "time: 6min 35s (started: 2021-07-28 08:14:07 +00:00)\n"
          ],
          "name": "stdout"
        }
      ]
    },
    {
      "cell_type": "code",
      "metadata": {
        "id": "mY2U5KvmrTSY",
        "colab": {
          "base_uri": "https://localhost:8080/",
          "height": 51
        },
        "outputId": "f808696a-d7e9-45af-b246-8cf129ee155c"
      },
      "source": [
        "files.download('experiments_pagerank.log')"
      ],
      "execution_count": null,
      "outputs": [
        {
          "output_type": "display_data",
          "data": {
            "application/javascript": [
              "\n",
              "    async function download(id, filename, size) {\n",
              "      if (!google.colab.kernel.accessAllowed) {\n",
              "        return;\n",
              "      }\n",
              "      const div = document.createElement('div');\n",
              "      const label = document.createElement('label');\n",
              "      label.textContent = `Downloading \"${filename}\": `;\n",
              "      div.appendChild(label);\n",
              "      const progress = document.createElement('progress');\n",
              "      progress.max = size;\n",
              "      div.appendChild(progress);\n",
              "      document.body.appendChild(div);\n",
              "\n",
              "      const buffers = [];\n",
              "      let downloaded = 0;\n",
              "\n",
              "      const channel = await google.colab.kernel.comms.open(id);\n",
              "      // Send a message to notify the kernel that we're ready.\n",
              "      channel.send({})\n",
              "\n",
              "      for await (const message of channel.messages) {\n",
              "        // Send a message to notify the kernel that we're ready.\n",
              "        channel.send({})\n",
              "        if (message.buffers) {\n",
              "          for (const buffer of message.buffers) {\n",
              "            buffers.push(buffer);\n",
              "            downloaded += buffer.byteLength;\n",
              "            progress.value = downloaded;\n",
              "          }\n",
              "        }\n",
              "      }\n",
              "      const blob = new Blob(buffers, {type: 'application/binary'});\n",
              "      const a = document.createElement('a');\n",
              "      a.href = window.URL.createObjectURL(blob);\n",
              "      a.download = filename;\n",
              "      div.appendChild(a);\n",
              "      a.click();\n",
              "      div.remove();\n",
              "    }\n",
              "  "
            ],
            "text/plain": [
              "<IPython.core.display.Javascript object>"
            ]
          },
          "metadata": {
            "tags": []
          }
        },
        {
          "output_type": "display_data",
          "data": {
            "application/javascript": [
              "download(\"download_dcb65639-f75f-43a1-99ab-1cf92d670adf\", \"experiments_pagerank.log\", 541)"
            ],
            "text/plain": [
              "<IPython.core.display.Javascript object>"
            ]
          },
          "metadata": {
            "tags": []
          }
        },
        {
          "output_type": "stream",
          "text": [
            "time: 10 ms (started: 2021-07-28 08:20:43 +00:00)\n"
          ],
          "name": "stdout"
        }
      ]
    },
    {
      "cell_type": "markdown",
      "metadata": {
        "id": "-SLNCklWVZmc"
      },
      "source": [
        "## Pagerank with taxation"
      ]
    },
    {
      "cell_type": "code",
      "metadata": {
        "id": "EYBX8AoBOXWx",
        "colab": {
          "base_uri": "https://localhost:8080/"
        },
        "outputId": "67d2721c-b50a-4009-a233-6f6a546d9f23"
      },
      "source": [
        "n = 5\n",
        "\n",
        "logger_taxation = setup_logger('experiments_taxation', 'experiments_taxation.log')\n",
        "for iter in range(n):\n",
        "  logger_taxation.info('This experiment implements PageRank with taxation')\n",
        "\n",
        "  s_rates = [0.00001, 0.0001, 0.001, 0.01, 0.1]\n",
        "  time_taxation =  np.zeros(len(s_rates))\n",
        "\n",
        "  for i in range(len(s_rates)):\n",
        "    df_sample = preprocess_dataset(df_title_basics_copy, df_principals_copy, df_name_basics_copy, df_ratings_copy, sampling_rate = s_rates[i])\n",
        "    actors_enum = get_actors(df_sample)\n",
        "  \n",
        "    movies_dict, actors_dict = create_dicts(df_sample, actors_enum)\n",
        "    links = get_links(actors_enum, movies_dict, actors_dict)\n",
        "\n",
        "    tic = time.time()\n",
        "    get_page_rank(actors_enum, links, actors_dict, logger_taxation, max_iterations = 150)\n",
        "    toc = time.time()\n",
        "    time_taxation[i] = toc-tic\n",
        "    logger_taxation.info(f'Sampling: {s_rates[i]}, Time: {time_taxation[i]}')\n",
        "    print(time_taxation[i]) "
      ],
      "execution_count": null,
      "outputs": [
        {
          "output_type": "stream",
          "text": [
            "Sample size: 34\n",
            "1 iterations\n",
            "0.4020657539367676\n",
            "Sample size: 340\n",
            "1 iterations\n",
            "0.4243457317352295\n",
            "Sample size: 3404\n",
            "1 iterations\n",
            "0.5778684616088867\n",
            "Sample size: 34044\n",
            "2 iterations\n",
            "3.560685873031616\n",
            "Sample size: 340443\n",
            "5 iterations\n",
            "50.08156967163086\n",
            "time: 6min (started: 2021-07-28 08:20:43 +00:00)\n"
          ],
          "name": "stdout"
        }
      ]
    },
    {
      "cell_type": "code",
      "metadata": {
        "id": "ctktfadxUHmT",
        "colab": {
          "base_uri": "https://localhost:8080/",
          "height": 51
        },
        "outputId": "eb009f75-098c-424e-b4ba-b08559ece559"
      },
      "source": [
        "files.download('experiments_taxation.log')"
      ],
      "execution_count": null,
      "outputs": [
        {
          "output_type": "display_data",
          "data": {
            "application/javascript": [
              "\n",
              "    async function download(id, filename, size) {\n",
              "      if (!google.colab.kernel.accessAllowed) {\n",
              "        return;\n",
              "      }\n",
              "      const div = document.createElement('div');\n",
              "      const label = document.createElement('label');\n",
              "      label.textContent = `Downloading \"${filename}\": `;\n",
              "      div.appendChild(label);\n",
              "      const progress = document.createElement('progress');\n",
              "      progress.max = size;\n",
              "      div.appendChild(progress);\n",
              "      document.body.appendChild(div);\n",
              "\n",
              "      const buffers = [];\n",
              "      let downloaded = 0;\n",
              "\n",
              "      const channel = await google.colab.kernel.comms.open(id);\n",
              "      // Send a message to notify the kernel that we're ready.\n",
              "      channel.send({})\n",
              "\n",
              "      for await (const message of channel.messages) {\n",
              "        // Send a message to notify the kernel that we're ready.\n",
              "        channel.send({})\n",
              "        if (message.buffers) {\n",
              "          for (const buffer of message.buffers) {\n",
              "            buffers.push(buffer);\n",
              "            downloaded += buffer.byteLength;\n",
              "            progress.value = downloaded;\n",
              "          }\n",
              "        }\n",
              "      }\n",
              "      const blob = new Blob(buffers, {type: 'application/binary'});\n",
              "      const a = document.createElement('a');\n",
              "      a.href = window.URL.createObjectURL(blob);\n",
              "      a.download = filename;\n",
              "      div.appendChild(a);\n",
              "      a.click();\n",
              "      div.remove();\n",
              "    }\n",
              "  "
            ],
            "text/plain": [
              "<IPython.core.display.Javascript object>"
            ]
          },
          "metadata": {
            "tags": []
          }
        },
        {
          "output_type": "display_data",
          "data": {
            "application/javascript": [
              "download(\"download_541c6ef4-c4b6-411b-8f8e-6ef818a4f1d8\", \"experiments_taxation.log\", 557)"
            ],
            "text/plain": [
              "<IPython.core.display.Javascript object>"
            ]
          },
          "metadata": {
            "tags": []
          }
        },
        {
          "output_type": "stream",
          "text": [
            "time: 10 ms (started: 2021-07-28 08:26:44 +00:00)\n"
          ],
          "name": "stdout"
        }
      ]
    },
    {
      "cell_type": "markdown",
      "metadata": {
        "id": "teW_bhJLJuus"
      },
      "source": [
        "## Topic-sensitive pagerank"
      ]
    },
    {
      "cell_type": "code",
      "metadata": {
        "id": "M9iOzVuHJ6AB",
        "colab": {
          "base_uri": "https://localhost:8080/"
        },
        "outputId": "397d9c11-96d1-4511-ad57-1fb75b47631b"
      },
      "source": [
        "n = 5\n",
        "\n",
        "logger_topic_pagerank = setup_logger('experiments_topic_pagerank', 'experiments_topic_pagerank.log')\n",
        "\n",
        "for iter in range(n):\n",
        "  logger_topic_pagerank.info('This experiment implements Topic-Sensitive PageRank')\n",
        "\n",
        "  s_rates = [0.00001, 0.0001, 0.001, 0.01, 0.1]\n",
        "  time_topic = np.zeros(len(s_rates))\n",
        "\n",
        "  for i in range(len(s_rates)):\n",
        "    df_sample = preprocess_dataset(df_title_basics_copy, df_principals_copy, df_name_basics_copy, df_ratings_copy, sampling_rate = s_rates[i])\n",
        "    actors_enum = get_actors(df_sample)\n",
        "    genres = get_genres(df_title_basics_copy)\n",
        "  \n",
        "    movies_dict, actors_dict = create_dicts(df_sample, actors_enum)\n",
        "    genres_dict = create_genres_dict(df_sample, genres)\n",
        "    links = get_links(actors_enum, movies_dict, actors_dict)\n",
        "\n",
        "    tic = time.time()\n",
        "    get_topic_page_rank(actors_enum, links, actors_dict, ['Western', 'Fantasy', 'Horror'], genres_dict, logger_topic_pagerank, max_iterations = 150)\n",
        "    toc = time.time()\n",
        "    time_topic[i] = toc-tic\n",
        "    logger_topic_pagerank.info(f'Sampling: {s_rates[i]}, Time: {time_topic[i]}')\n",
        "    print(time_topic[i]) "
      ],
      "execution_count": null,
      "outputs": [
        {
          "output_type": "stream",
          "text": [
            "Sample size: 34\n",
            "43 iterations\n",
            "13.903594732284546\n",
            "Sample size: 340\n",
            "41 iterations\n",
            "11.300460577011108\n",
            "Sample size: 3404\n",
            "37 iterations\n",
            "15.99254059791565\n",
            "Sample size: 34044\n",
            "32 iterations\n",
            "48.879093647003174\n",
            "Sample size: 340443\n",
            "26 iterations\n",
            "244.44883942604065\n",
            "time: 12min 59s (started: 2021-07-28 08:26:44 +00:00)\n"
          ],
          "name": "stdout"
        }
      ]
    },
    {
      "cell_type": "code",
      "metadata": {
        "id": "av6LwFp1UNnu",
        "colab": {
          "base_uri": "https://localhost:8080/",
          "height": 51
        },
        "outputId": "865f1c5b-2b4e-4693-8d76-3ae99f9fe1e0"
      },
      "source": [
        "files.download('experiments_topic_pagerank.log')"
      ],
      "execution_count": null,
      "outputs": [
        {
          "output_type": "display_data",
          "data": {
            "application/javascript": [
              "\n",
              "    async function download(id, filename, size) {\n",
              "      if (!google.colab.kernel.accessAllowed) {\n",
              "        return;\n",
              "      }\n",
              "      const div = document.createElement('div');\n",
              "      const label = document.createElement('label');\n",
              "      label.textContent = `Downloading \"${filename}\": `;\n",
              "      div.appendChild(label);\n",
              "      const progress = document.createElement('progress');\n",
              "      progress.max = size;\n",
              "      div.appendChild(progress);\n",
              "      document.body.appendChild(div);\n",
              "\n",
              "      const buffers = [];\n",
              "      let downloaded = 0;\n",
              "\n",
              "      const channel = await google.colab.kernel.comms.open(id);\n",
              "      // Send a message to notify the kernel that we're ready.\n",
              "      channel.send({})\n",
              "\n",
              "      for await (const message of channel.messages) {\n",
              "        // Send a message to notify the kernel that we're ready.\n",
              "        channel.send({})\n",
              "        if (message.buffers) {\n",
              "          for (const buffer of message.buffers) {\n",
              "            buffers.push(buffer);\n",
              "            downloaded += buffer.byteLength;\n",
              "            progress.value = downloaded;\n",
              "          }\n",
              "        }\n",
              "      }\n",
              "      const blob = new Blob(buffers, {type: 'application/binary'});\n",
              "      const a = document.createElement('a');\n",
              "      a.href = window.URL.createObjectURL(blob);\n",
              "      a.download = filename;\n",
              "      div.appendChild(a);\n",
              "      a.click();\n",
              "      div.remove();\n",
              "    }\n",
              "  "
            ],
            "text/plain": [
              "<IPython.core.display.Javascript object>"
            ]
          },
          "metadata": {
            "tags": []
          }
        },
        {
          "output_type": "display_data",
          "data": {
            "application/javascript": [
              "download(\"download_39db17a0-d9f8-429a-98a4-49decff52f94\", \"experiments_topic_pagerank.log\", 565)"
            ],
            "text/plain": [
              "<IPython.core.display.Javascript object>"
            ]
          },
          "metadata": {
            "tags": []
          }
        },
        {
          "output_type": "stream",
          "text": [
            "time: 7.68 ms (started: 2021-07-28 08:39:43 +00:00)\n"
          ],
          "name": "stdout"
        }
      ]
    },
    {
      "cell_type": "markdown",
      "metadata": {
        "id": "5EREjDvjJ6nq"
      },
      "source": [
        "##Trust-rank variants\n"
      ]
    },
    {
      "cell_type": "code",
      "metadata": {
        "id": "-oO6GiFMKDtA",
        "colab": {
          "base_uri": "https://localhost:8080/"
        },
        "outputId": "c35433cd-f7eb-4361-bd05-22641d655ca2"
      },
      "source": [
        "n = 5\n",
        "\n",
        "logger_trust_rank = setup_logger('experiments_trust_rank', 'experiments_trust_rank.log')\n",
        "\n",
        "for iter in range(n):\n",
        "  logger_trust_rank.info('This experiment implements TrustRank variant with numbers of movies')\n",
        "\n",
        "  s_rates = [0.00001, 0.0001, 0.001, 0.01, 0.1]\n",
        "  time_trust =  np.zeros(len(s_rates))\n",
        "\n",
        "  for i in range(len(s_rates)):\n",
        "    df_sample = preprocess_dataset(df_title_basics_copy, df_principals_copy, df_name_basics_copy, df_ratings_copy, sampling_rate = s_rates[i])\n",
        "    actors_enum = get_actors(df_sample)\n",
        "  \n",
        "    movies_dict, actors_dict = create_dicts(df_sample, actors_enum)\n",
        "    links = get_links(actors_enum, movies_dict, actors_dict)\n",
        "\n",
        "    tic = time.time()\n",
        "    get_spam_mass(actors_enum, links, actors_dict, logger_trust_rank, max_iterations = 150)\n",
        "    toc = time.time()\n",
        "    time_trust[i] = toc-tic\n",
        "    logger_trust_rank.info(f'Sampling: {s_rates[i]}, Time: {time_trust[i]}')\n",
        "    print(time_trust[i])"
      ],
      "execution_count": null,
      "outputs": [
        {
          "output_type": "stream",
          "text": [
            "Sample size: 34\n",
            "1 iterations\n",
            "1 iterations\n",
            "0.457714319229126\n",
            "Sample size: 340\n",
            "1 iterations\n",
            "56 iterations\n",
            "13.972788572311401\n",
            "Sample size: 3404\n",
            "1 iterations\n",
            "43 iterations\n",
            "18.113204956054688\n",
            "Sample size: 34044\n",
            "2 iterations\n",
            "30 iterations\n",
            "53.10697650909424\n",
            "Sample size: 340443\n",
            "5 iterations\n",
            "26 iterations\n",
            "311.6343643665314\n",
            "time: 11min 13s (started: 2021-07-28 08:39:43 +00:00)\n"
          ],
          "name": "stdout"
        }
      ]
    },
    {
      "cell_type": "code",
      "metadata": {
        "id": "buxABv5eUS1q",
        "colab": {
          "base_uri": "https://localhost:8080/",
          "height": 51
        },
        "outputId": "8421ab6a-c0ee-4b1f-aa8c-1c77e4d4ff7a"
      },
      "source": [
        "files.download('experiments_trust_rank.log')"
      ],
      "execution_count": null,
      "outputs": [
        {
          "output_type": "display_data",
          "data": {
            "application/javascript": [
              "\n",
              "    async function download(id, filename, size) {\n",
              "      if (!google.colab.kernel.accessAllowed) {\n",
              "        return;\n",
              "      }\n",
              "      const div = document.createElement('div');\n",
              "      const label = document.createElement('label');\n",
              "      label.textContent = `Downloading \"${filename}\": `;\n",
              "      div.appendChild(label);\n",
              "      const progress = document.createElement('progress');\n",
              "      progress.max = size;\n",
              "      div.appendChild(progress);\n",
              "      document.body.appendChild(div);\n",
              "\n",
              "      const buffers = [];\n",
              "      let downloaded = 0;\n",
              "\n",
              "      const channel = await google.colab.kernel.comms.open(id);\n",
              "      // Send a message to notify the kernel that we're ready.\n",
              "      channel.send({})\n",
              "\n",
              "      for await (const message of channel.messages) {\n",
              "        // Send a message to notify the kernel that we're ready.\n",
              "        channel.send({})\n",
              "        if (message.buffers) {\n",
              "          for (const buffer of message.buffers) {\n",
              "            buffers.push(buffer);\n",
              "            downloaded += buffer.byteLength;\n",
              "            progress.value = downloaded;\n",
              "          }\n",
              "        }\n",
              "      }\n",
              "      const blob = new Blob(buffers, {type: 'application/binary'});\n",
              "      const a = document.createElement('a');\n",
              "      a.href = window.URL.createObjectURL(blob);\n",
              "      a.download = filename;\n",
              "      div.appendChild(a);\n",
              "      a.click();\n",
              "      div.remove();\n",
              "    }\n",
              "  "
            ],
            "text/plain": [
              "<IPython.core.display.Javascript object>"
            ]
          },
          "metadata": {
            "tags": []
          }
        },
        {
          "output_type": "display_data",
          "data": {
            "application/javascript": [
              "download(\"download_e9e9bd8a-57cc-4d6c-ac78-ce1818c4455f\", \"experiments_trust_rank.log\", 753)"
            ],
            "text/plain": [
              "<IPython.core.display.Javascript object>"
            ]
          },
          "metadata": {
            "tags": []
          }
        },
        {
          "output_type": "stream",
          "text": [
            "time: 11.2 ms (started: 2021-07-28 08:50:56 +00:00)\n"
          ],
          "name": "stdout"
        }
      ]
    },
    {
      "cell_type": "code",
      "metadata": {
        "id": "5R5bsx7SCwHb",
        "colab": {
          "base_uri": "https://localhost:8080/"
        },
        "outputId": "21d7a716-83ec-4721-bfcb-bd9276b02108"
      },
      "source": [
        "n = 5\n",
        "\n",
        "logger_trust_rank_2 = setup_logger('experiments_trust_rank_2', 'experiments_trust_rank_2.log')\n",
        "\n",
        "for iter in range(n):\n",
        "  logger_trust_rank_2.info('This experiment implements TrustRank variant with ratings')\n",
        "\n",
        "  s_rates = [0.00001, 0.0001, 0.001, 0.01, 0.1]\n",
        "  time_trust =  np.zeros(len(s_rates))\n",
        "\n",
        "  for i in range(len(s_rates)):\n",
        "    df_sample = preprocess_dataset(df_title_basics_copy, df_principals_copy, df_name_basics_copy, df_ratings_copy, sampling_rate = s_rates[i])\n",
        "    actors_enum = get_actors(df_sample)\n",
        "  \n",
        "    movies_dict, actors_dict = create_dicts(df_sample, actors_enum)\n",
        "    avg_ratings = create_ratings_dict(df_sample, actors_enum, actors_dict)\n",
        "    links = get_links(actors_enum, movies_dict, actors_dict)\n",
        "\n",
        "    tic = time.time()\n",
        "    get_spam_mass_ratings(actors_enum, links, actors_dict, avg_ratings, logger_trust_rank_2, max_iterations = 150)\n",
        "    toc = time.time()\n",
        "    time_trust[i] = toc-tic\n",
        "    logger_trust_rank_2.info(f'Sampling: {s_rates[i]}, Time: {time_trust[i]}')\n",
        "    print(time_trust[i])"
      ],
      "execution_count": null,
      "outputs": [
        {
          "output_type": "stream",
          "text": [
            "Sample size: 34\n",
            "1 iterations\n",
            "36 iterations\n",
            "10.75549030303955\n",
            "Sample size: 340\n",
            "1 iterations\n",
            "32 iterations\n",
            "8.028670072555542\n",
            "Sample size: 3404\n",
            "1 iterations\n",
            "27 iterations\n",
            "11.452237129211426\n",
            "Sample size: 34044\n",
            "3 iterations\n",
            "22 iterations\n",
            "41.136189460754395\n",
            "Sample size: 340443\n",
            "5 iterations\n",
            "18 iterations\n",
            "234.96531558036804\n",
            "time: 10min 11s (started: 2021-07-28 09:06:28 +00:00)\n"
          ],
          "name": "stdout"
        }
      ]
    },
    {
      "cell_type": "code",
      "metadata": {
        "id": "i0UOc-M0UWNf",
        "colab": {
          "base_uri": "https://localhost:8080/",
          "height": 34
        },
        "outputId": "4368fdec-dbf9-4263-a586-4673383df5d1"
      },
      "source": [
        "files.download('experiments_trust_rank_2.log')"
      ],
      "execution_count": null,
      "outputs": [
        {
          "output_type": "display_data",
          "data": {
            "application/javascript": [
              "\n",
              "    async function download(id, filename, size) {\n",
              "      if (!google.colab.kernel.accessAllowed) {\n",
              "        return;\n",
              "      }\n",
              "      const div = document.createElement('div');\n",
              "      const label = document.createElement('label');\n",
              "      label.textContent = `Downloading \"${filename}\": `;\n",
              "      div.appendChild(label);\n",
              "      const progress = document.createElement('progress');\n",
              "      progress.max = size;\n",
              "      div.appendChild(progress);\n",
              "      document.body.appendChild(div);\n",
              "\n",
              "      const buffers = [];\n",
              "      let downloaded = 0;\n",
              "\n",
              "      const channel = await google.colab.kernel.comms.open(id);\n",
              "      // Send a message to notify the kernel that we're ready.\n",
              "      channel.send({})\n",
              "\n",
              "      for await (const message of channel.messages) {\n",
              "        // Send a message to notify the kernel that we're ready.\n",
              "        channel.send({})\n",
              "        if (message.buffers) {\n",
              "          for (const buffer of message.buffers) {\n",
              "            buffers.push(buffer);\n",
              "            downloaded += buffer.byteLength;\n",
              "            progress.value = downloaded;\n",
              "          }\n",
              "        }\n",
              "      }\n",
              "      const blob = new Blob(buffers, {type: 'application/binary'});\n",
              "      const a = document.createElement('a');\n",
              "      a.href = window.URL.createObjectURL(blob);\n",
              "      a.download = filename;\n",
              "      div.appendChild(a);\n",
              "      a.click();\n",
              "      div.remove();\n",
              "    }\n",
              "  "
            ],
            "text/plain": [
              "<IPython.core.display.Javascript object>"
            ]
          },
          "metadata": {
            "tags": []
          }
        },
        {
          "output_type": "display_data",
          "data": {
            "application/javascript": [
              "download(\"download_fabc8bde-b388-41db-bb70-de0069b53cb9\", \"experiments_trust_rank_2.log\", 2751)"
            ],
            "text/plain": [
              "<IPython.core.display.Javascript object>"
            ]
          },
          "metadata": {
            "tags": []
          }
        },
        {
          "output_type": "stream",
          "text": [
            "time: 12 ms (started: 2021-07-28 09:16:40 +00:00)\n"
          ],
          "name": "stdout"
        }
      ]
    },
    {
      "cell_type": "markdown",
      "metadata": {
        "id": "iJiGESBdUhSn"
      },
      "source": [
        "# Results "
      ]
    },
    {
      "cell_type": "code",
      "metadata": {
        "id": "uaWyI4HBSRpV",
        "colab": {
          "base_uri": "https://localhost:8080/"
        },
        "outputId": "be48ad06-2500-4546-eef2-0a39104cfe75"
      },
      "source": [
        "files = ['experiments_pagerank.log', 'experiments_taxation.log', 'experiments_topic_pagerank.log',\n",
        "         'experiments_trust_rank.log', 'experiments_trust_rank_2.log']\n",
        "M = []\n",
        "\n",
        "for f in files: \n",
        "  file = open(f, 'r')\n",
        "  lines = file.read().splitlines()\n",
        "  file.close()\n",
        "  \n",
        "  x = []\n",
        "\n",
        "  for i in lines: \n",
        "    pos = i.find(\"Time: \")\n",
        "    if pos != -1: \n",
        "      x.append(float(i[pos + len(\"Time: \"):]))\n",
        "  M.append(x)\n",
        "\n",
        "mean = [[0 for x in range(n)] for y in range(len(files))] \n",
        "\n",
        "for i in range(len(files)):\n",
        "  for j in range(len(M[i])):  \n",
        "    mean[i][j%n] += M[i][j]\n",
        "\n",
        "mean = np.array(mean)\n",
        "print(mean)\n",
        "for i in range(len(files)): \n",
        "  mean[i] = mean [i] / n \n",
        "\n",
        "print(f'Time mean: \\n {mean}')  "
      ],
      "execution_count": null,
      "outputs": [
        {
          "output_type": "stream",
          "text": [
            "[[   5.63526082    2.03787136    4.31851244   21.55176067  441.57020879]\n",
            " [   2.37413907    2.09371567    2.58505917   16.62187123  248.39453101]\n",
            " [  68.6030817    56.9819026    74.00988674  245.68523312 1253.66059279]\n",
            " [   4.13595462   72.79008508   89.82586932  264.59408641 1548.9165976 ]\n",
            " [  44.19122648   40.21201086   55.07872534  196.08585811 1135.9462769 ]]\n",
            "Time mean: \n",
            " [[  1.12705216   0.40757427   0.86370249   4.31035213  88.31404176]\n",
            " [  0.47482781   0.41874313   0.51701183   3.32437425  49.6789062 ]\n",
            " [ 13.72061634  11.39638052  14.80197735  49.13704662 250.73211856]\n",
            " [  0.82719092  14.55801702  17.96517386  52.91881728 309.78331952]\n",
            " [  8.8382453    8.04240217  11.01574507  39.21717162 227.18925538]]\n"
          ],
          "name": "stdout"
        }
      ]
    },
    {
      "cell_type": "code",
      "metadata": {
        "id": "okbj1oTYSbAw",
        "colab": {
          "base_uri": "https://localhost:8080/",
          "height": 334
        },
        "outputId": "4e7bb967-9d78-4f7d-8db2-7e74b17526ba"
      },
      "source": [
        "plt.figure(figsize=[10, 5])\n",
        "s_rate = ['0.00001', '0.0001', '0.001', '0.01', '0.1']\n",
        "\n",
        "X = np.arange(len(s_rate))\n",
        "plt.bar(X, mean[0], color = 'r', edgecolor = 'black', width = 0.13)\n",
        "plt.bar(X + 0.15, mean[1], color = 'g', edgecolor = 'black', width = 0.13)\n",
        "plt.bar(X + 2 * 0.15, mean[2], color = 'b', edgecolor = 'black', width = 0.13)\n",
        "plt.bar(X + 3 * 0.15, mean[3], color = 'yellow',edgecolor = 'black', width = 0.13)\n",
        "plt.bar(X + 4 * 0.15, mean[4], color = 'purple', edgecolor = 'black', width = 0.13)\n",
        "\n",
        "plt.xticks([i + 0.35 for i in range(n)], s_rate)\n",
        "plt.yscale('log')\n",
        "\n",
        "plt.ylabel('Time (s)')\n",
        "plt.xlabel('Sampling Rate')\n",
        "\n",
        "plt.legend(['PageRank', 'PageRank with Taxation','Topic Sensitive', 'TrustRank1', 'TrustRank2'])\n",
        "plt.savefig('time_algorithms.png')\n",
        "plt.show()"
      ],
      "execution_count": null,
      "outputs": [
        {
          "output_type": "display_data",
          "data": {
            "image/png": "[encoded data removed]",
            "text/plain": [
              "<Figure size 720x360 with 1 Axes>"
            ]
          },
          "metadata": {
            "tags": [],
            "needs_background": "light"
          }
        }
      ]
    },
    {
      "cell_type": "code",
      "metadata": {
        "id": "F-bDJj-KSdcN",
        "colab": {
          "base_uri": "https://localhost:8080/"
        },
        "outputId": "5805b3fc-2315-47cf-dc60-8635c1d13eda"
      },
      "source": [
        "files = ['experiments_pagerank.log', 'experiments_taxation.log', 'experiments_topic_pagerank.log']\n",
        "M = []\n",
        "\n",
        "for f in files: \n",
        "  file = open(f, 'r')\n",
        "  lines = file.read().splitlines()\n",
        "  file.close()\n",
        "  \n",
        "  x = []\n",
        "\n",
        "  for i in lines: \n",
        "    pos = i.find(\"Iterations: \")\n",
        "    if pos != -1: \n",
        "      x.append(float(i[pos + len(\"Iterations: \"):]))\n",
        "  M.append(x)\n",
        "\n",
        "mean = [[0 for x in range(n)] for y in range(len(files))] \n",
        "\n",
        "for i in range(len(files)):\n",
        "  for j in range(len(M[i])):  \n",
        "    mean[i][j%n] += M[i][j]\n",
        "    \n",
        "\n",
        "mean = np.array(mean)\n",
        "\n",
        "for i in range(len(files)):\n",
        "  mean[i] = mean [i] / n \n",
        "\n",
        "print(f'Mean iterations: \\n {mean}')\n"
      ],
      "execution_count": null,
      "outputs": [
        {
          "output_type": "stream",
          "text": [
            "Mean iterations: \n",
            " [[ 1.   1.   1.4  2.4  9. ]\n",
            " [ 1.   1.   1.   2.   5. ]\n",
            " [48.2 41.4 36.8 31.6 26. ]]\n"
          ],
          "name": "stdout"
        }
      ]
    },
    {
      "cell_type": "code",
      "metadata": {
        "id": "0JDKS7AVinfM",
        "colab": {
          "base_uri": "https://localhost:8080/",
          "height": 334
        },
        "outputId": "f807ac7f-4018-4cda-8d95-6c1773313fb5"
      },
      "source": [
        "plt.figure(figsize=[10, 5])\n",
        "s_rate = ['0.00001', '0.0001', '0.001', '0.01', '0.1']\n",
        "\n",
        "X = np.arange(len(s_rate))\n",
        "plt.bar(X, mean[0], color = 'r', edgecolor = 'black', width = 0.18)\n",
        "plt.bar(X + 0.20, mean[1], color = 'g', edgecolor = 'black', width = 0.18)\n",
        "plt.bar(X + 2 * 0.20, mean[2], color = 'b', edgecolor = 'black', width = 0.18)\n",
        "\n",
        "plt.xticks([i + 0.20 for i in range(n)], s_rate)\n",
        "plt.yscale('log')\n",
        "\n",
        "plt.ylabel('Iterations')\n",
        "plt.xlabel('Sampling Rate')\n",
        "\n",
        "plt.legend(['PageRank', 'PageRank with Taxation','Topic Sensitive'])\n",
        "plt.savefig('iter_algorithms3.png')\n",
        "plt.show()"
      ],
      "execution_count": null,
      "outputs": [
        {
          "output_type": "display_data",
          "data": {
            "image/png": "[encoded data removed]",
            "text/plain": [
              "<Figure size 720x360 with 1 Axes>"
            ]
          },
          "metadata": {
            "tags": [],
            "needs_background": "light"
          }
        }
      ]
    },
    {
      "cell_type": "code",
      "metadata": {
        "id": "C_mskDLs3Yaj",
        "colab": {
          "base_uri": "https://localhost:8080/"
        },
        "outputId": "3392b368-80cf-475f-fbd9-42d6ec596c17"
      },
      "source": [
        "file = open('experiments_trust_rank.log', 'r')\n",
        "lines = file.read().splitlines()\n",
        "file.close()\n",
        "  \n",
        "x = []\n",
        "for i in lines: \n",
        "  pos = i.find(\"Iterations: \")\n",
        "  if pos != -1: \n",
        "    x.append(float(i[pos + len(\"Iterations: \"):]))\n",
        "\n",
        "mean_pr = np.zeros(n)\n",
        "mean_topic = np.zeros(n)\n",
        "\n",
        "j = 0\n",
        "k = 0\n",
        "\n",
        "for i in range(len(x)):\n",
        "  if i%2 == 0:   \n",
        "    mean_pr[j%n] += x[i]\n",
        "    j+=1\n",
        "    \n",
        "  else: \n",
        "    mean_topic[k%n] += x[i] \n",
        "    k +=1\n",
        "\n",
        "mean_pr /= n\n",
        "mean_topic /= n\n",
        "print(f'Mean iterations 1st-TrustRank using PageRank: {mean_pr}')\n",
        "print(f'Mean iterations 1st-TrustRank using Topic Sensitive: {mean_topic}')\n"
      ],
      "execution_count": null,
      "outputs": [
        {
          "output_type": "stream",
          "text": [
            "Mean iterations 1st-TrustRank using PageRank: [1. 1. 1. 2. 5.]\n",
            "Mean iterations 1st-TrustRank using Topic Sensitive: [ 1.  57.  42.8 30.2 26. ]\n"
          ],
          "name": "stdout"
        }
      ]
    },
    {
      "cell_type": "code",
      "metadata": {
        "id": "y2f34Q96l_S0",
        "colab": {
          "base_uri": "https://localhost:8080/",
          "height": 334
        },
        "outputId": "953045f9-f96e-48db-f4f2-b63bf8fc9738"
      },
      "source": [
        "plt.figure(figsize=[10, 5])\n",
        "s_rate = ['0.00001', '0.0001', '0.001', '0.01', '0.1']\n",
        "\n",
        "X = np.arange(len(s_rate))\n",
        "plt.bar(X, mean_pr, color = 'yellow', edgecolor = 'black', width = 0.25)\n",
        "plt.bar(X + 0.22, mean_topic, color = 'purple', edgecolor = 'black', width = 0.25)\n",
        "\n",
        "plt.xticks([i + 0.10 for i in range(n)], s_rate)\n",
        "plt.yscale('log')\n",
        "\n",
        "plt.ylabel('Iterations')\n",
        "plt.xlabel('Sampling Rate')\n",
        "\n",
        "plt.legend(['TrustRank1 - PageRank', 'TrustRank1 - Topic Sensitive'])\n",
        "plt.savefig('iter_algorithms_tr1.png')\n",
        "plt.show()"
      ],
      "execution_count": null,
      "outputs": [
        {
          "output_type": "display_data",
          "data": {
            "image/png": "[encoded data removed]",
            "text/plain": [
              "<Figure size 720x360 with 1 Axes>"
            ]
          },
          "metadata": {
            "tags": [],
            "needs_background": "light"
          }
        }
      ]
    },
    {
      "cell_type": "code",
      "metadata": {
        "id": "lhAmg1ttm8W3",
        "colab": {
          "base_uri": "https://localhost:8080/"
        },
        "outputId": "96420306-8d4b-4653-fea6-f23b89e34021"
      },
      "source": [
        "file = open('experiments_trust_rank_2.log', 'r')\n",
        "lines = file.read().splitlines()\n",
        "file.close()\n",
        "  \n",
        "x = []\n",
        "\n",
        "for i in lines: \n",
        "  pos = i.find(\"Iterations: \")\n",
        "  if pos != -1: \n",
        "    x.append(float(i[pos + len(\"Iterations: \"):]))\n",
        "\n",
        "mean_pr = np.zeros(n)\n",
        "mean_topic = np.zeros(n)\n",
        "\n",
        "j = 0\n",
        "k = 0\n",
        "\n",
        "for i in range(len(x)):\n",
        "  if i%2 == 0:   \n",
        "    mean_pr[j%n] += x[i]\n",
        "    j+=1\n",
        "    \n",
        "  else: \n",
        "    mean_topic[k%n] += x[i] \n",
        "    k +=1\n",
        "\n",
        "mean_pr /= n\n",
        "mean_topic /= n\n",
        "print(f'Mean iterations 2nd-TrustRank using PageRank: {mean_pr}')\n",
        "print(f'Mean iterations 2dn-TrustRank using Topic Sensitive: {mean_topic}')"
      ],
      "execution_count": null,
      "outputs": [
        {
          "output_type": "stream",
          "text": [
            "Mean iterations 2nd-TrustRank using PageRank: [1.  1.  1.  2.2 5. ]\n",
            "Mean iterations 2dn-TrustRank using Topic Sensitive: [37.2 31.8 26.8 22.  18. ]\n"
          ],
          "name": "stdout"
        }
      ]
    },
    {
      "cell_type": "code",
      "metadata": {
        "id": "Lb6S3UsAnVTJ",
        "colab": {
          "base_uri": "https://localhost:8080/",
          "height": 334
        },
        "outputId": "124af882-5c4b-465f-d26d-290355777414"
      },
      "source": [
        "plt.figure(figsize=[10, 5])\n",
        "s_rate = ['0.00001', '0.0001', '0.001', '0.01', '0.1']\n",
        "\n",
        "X = np.arange(len(s_rate))\n",
        "plt.bar(X, mean_pr, color = 'b', edgecolor = 'black', width = 0.25)\n",
        "plt.bar(X + 0.22, mean_topic, color = 'orange', edgecolor = 'black', width = 0.25)\n",
        "\n",
        "plt.xticks([i + 0.10 for i in range(n)], s_rate)\n",
        "plt.yscale('log')\n",
        "\n",
        "plt.ylabel('Iterations')\n",
        "plt.xlabel('Sampling Rate')\n",
        "\n",
        "plt.legend(['TrustRank2 - PageRank', 'TrustRank2 - Topic Sensitive'])\n",
        "plt.savefig('iter_algorithms_tr2.png')\n",
        "plt.show()"
      ],
      "execution_count": null,
      "outputs": [
        {
          "output_type": "display_data",
          "data": {
            "image/png": "[encoded data removed]",
            "text/plain": [
              "<Figure size 720x360 with 1 Axes>"
            ]
          },
          "metadata": {
            "tags": [],
            "needs_background": "light"
          }
        }
      ]
    }
  ]
}