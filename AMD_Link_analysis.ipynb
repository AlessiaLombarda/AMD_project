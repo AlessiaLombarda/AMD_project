{
  "nbformat": 4,
  "nbformat_minor": 0,
  "metadata": {
    "colab": {
      "name": "AMD_Link_analysis.ipynb",
      "provenance": [],
      "collapsed_sections": [
        "UU3XZhMHUsF2",
        "ONVq7Mv4SK1U",
        "h-A8QXBEU8ZF",
        "-SLNCklWVZmc"
      ],
      "include_colab_link": true
    },
    "kernelspec": {
      "display_name": "Python 3",
      "name": "python3"
    },
    "language_info": {
      "name": "python"
    }
  },
  "cells": [
    {
      "cell_type": "markdown",
      "metadata": {
        "id": "view-in-github",
        "colab_type": "text"
      },
      "source": [
        "<a href=\"https://colab.research.google.com/github/AlessiaLombarda/AMD_project/blob/main/AMD_Link_analysis.ipynb\" target=\"_parent\"><img src=\"https://colab.research.google.com/assets/colab-badge.svg\" alt=\"Open In Colab\"/></a>"
      ]
    },
    {
      "cell_type": "markdown",
      "metadata": {
        "id": "YJM3599TsgHc"
      },
      "source": [
        "# **Link Analysis on IMDb Dataset**"
      ]
    },
    {
      "cell_type": "markdown",
      "metadata": {
        "id": "UU3XZhMHUsF2"
      },
      "source": [
        "# Environnment setup"
      ]
    },
    {
      "cell_type": "code",
      "metadata": {
        "id": "J3poLbjy0sNR"
      },
      "source": [
        "import os\n",
        "import time\n",
        "from google.colab import files\n",
        "import pandas as pd\n",
        "from pandas.core.common import flatten\n",
        "import numpy as np\n",
        "import networkx as nx\n",
        "import matplotlib.pyplot as plt\n",
        "import itertools\n",
        "import logging"
      ],
      "execution_count": 2,
      "outputs": []
    },
    {
      "cell_type": "code",
      "metadata": {
        "id": "71ByVL8RE0D5",
        "colab": {
          "base_uri": "https://localhost:8080/"
        },
        "outputId": "dbb3c025-8194-4550-f4ba-1581f4791e5f"
      },
      "source": [
        "!pip install ipython-autotime\n",
        "\n",
        "%load_ext autotime"
      ],
      "execution_count": null,
      "outputs": [
        {
          "output_type": "stream",
          "text": [
            "Requirement already satisfied: ipython-autotime in /usr/local/lib/python3.7/dist-packages (0.3.1)\n",
            "Requirement already satisfied: ipython in /usr/local/lib/python3.7/dist-packages (from ipython-autotime) (5.5.0)\n",
            "Requirement already satisfied: pygments in /usr/local/lib/python3.7/dist-packages (from ipython->ipython-autotime) (2.6.1)\n",
            "Requirement already satisfied: setuptools>=18.5 in /usr/local/lib/python3.7/dist-packages (from ipython->ipython-autotime) (57.0.0)\n",
            "Requirement already satisfied: simplegeneric>0.8 in /usr/local/lib/python3.7/dist-packages (from ipython->ipython-autotime) (0.8.1)\n",
            "Requirement already satisfied: traitlets>=4.2 in /usr/local/lib/python3.7/dist-packages (from ipython->ipython-autotime) (5.0.5)\n",
            "Requirement already satisfied: pexpect; sys_platform != \"win32\" in /usr/local/lib/python3.7/dist-packages (from ipython->ipython-autotime) (4.8.0)\n",
            "Requirement already satisfied: decorator in /usr/local/lib/python3.7/dist-packages (from ipython->ipython-autotime) (4.4.2)\n",
            "Requirement already satisfied: prompt-toolkit<2.0.0,>=1.0.4 in /usr/local/lib/python3.7/dist-packages (from ipython->ipython-autotime) (1.0.18)\n",
            "Requirement already satisfied: pickleshare in /usr/local/lib/python3.7/dist-packages (from ipython->ipython-autotime) (0.7.5)\n",
            "Requirement already satisfied: ipython-genutils in /usr/local/lib/python3.7/dist-packages (from traitlets>=4.2->ipython->ipython-autotime) (0.2.0)\n",
            "Requirement already satisfied: ptyprocess>=0.5 in /usr/local/lib/python3.7/dist-packages (from pexpect; sys_platform != \"win32\"->ipython->ipython-autotime) (0.7.0)\n",
            "Requirement already satisfied: wcwidth in /usr/local/lib/python3.7/dist-packages (from prompt-toolkit<2.0.0,>=1.0.4->ipython->ipython-autotime) (0.2.5)\n",
            "Requirement already satisfied: six>=1.9.0 in /usr/local/lib/python3.7/dist-packages (from prompt-toolkit<2.0.0,>=1.0.4->ipython->ipython-autotime) (1.15.0)\n",
            "time: 170 µs (started: 2021-07-16 18:16:45 +00:00)\n"
          ],
          "name": "stdout"
        }
      ]
    },
    {
      "cell_type": "code",
      "metadata": {
        "id": "pijRpHJi4wRx",
        "colab": {
          "base_uri": "https://localhost:8080/"
        },
        "outputId": "08682bf9-343f-414a-93b4-59fa09c621df"
      },
      "source": [
        "!apt-get install openjdk-8-jdk-headless -qq > /dev/null\n",
        "!wget -q http://www-eu.apache.org/dist/spark/spark-2.4.8/spark-2.4.8-bin-hadoop2.7.tgz\n",
        "!tar xf spark-2.4.8-bin-hadoop2.7.tgz\n",
        "!pip install -q findspark"
      ],
      "execution_count": null,
      "outputs": [
        {
          "output_type": "stream",
          "text": [
            "time: 24.5 s (started: 2021-07-16 18:16:45 +00:00)\n"
          ],
          "name": "stdout"
        }
      ]
    },
    {
      "cell_type": "code",
      "metadata": {
        "id": "t7DV8dkRbqY6",
        "colab": {
          "base_uri": "https://localhost:8080/"
        },
        "outputId": "63582374-8fdc-4beb-f5d0-b7488b8e0568"
      },
      "source": [
        "os.environ[\"JAVA_HOME\"] = \"/usr/lib/jvm/java-8-openjdk-amd64\"\n",
        "os.environ[\"SPARK_HOME\"] = \"/content/spark-2.4.8-bin-hadoop2.7\""
      ],
      "execution_count": null,
      "outputs": [
        {
          "output_type": "stream",
          "text": [
            "time: 2.29 ms (started: 2021-07-16 18:17:09 +00:00)\n"
          ],
          "name": "stdout"
        }
      ]
    },
    {
      "cell_type": "code",
      "metadata": {
        "id": "hnKPXOI2btsA",
        "colab": {
          "base_uri": "https://localhost:8080/"
        },
        "outputId": "759ad639-ed52-4284-f7a5-5a5960fb75f5"
      },
      "source": [
        "import findspark\n",
        "findspark.init(\"spark-2.4.8-bin-hadoop2.7\")# SPARK_HOME\n",
        "from pyspark.sql import SparkSession\n",
        "spark = SparkSession.builder.master(\"local[*]\").getOrCreate()\n",
        "\n",
        "sc = spark.sparkContext"
      ],
      "execution_count": null,
      "outputs": [
        {
          "output_type": "stream",
          "text": [
            "time: 5.25 s (started: 2021-07-16 18:17:09 +00:00)\n"
          ],
          "name": "stdout"
        }
      ]
    },
    {
      "cell_type": "markdown",
      "metadata": {
        "id": "ONVq7Mv4SK1U"
      },
      "source": [
        "# Loading data"
      ]
    },
    {
      "cell_type": "code",
      "metadata": {
        "colab": {
          "resources": {
            "http://localhost:8080/nbextensions/google.colab/files.js": {
              "data": "Ly8gQ29weXJpZ2h0IDIwMTcgR29vZ2xlIExMQwovLwovLyBMaWNlbnNlZCB1bmRlciB0aGUgQXBhY2hlIExpY2Vuc2UsIFZlcnNpb24gMi4wICh0aGUgIkxpY2Vuc2UiKTsKLy8geW91IG1heSBub3QgdXNlIHRoaXMgZmlsZSBleGNlcHQgaW4gY29tcGxpYW5jZSB3aXRoIHRoZSBMaWNlbnNlLgovLyBZb3UgbWF5IG9idGFpbiBhIGNvcHkgb2YgdGhlIExpY2Vuc2UgYXQKLy8KLy8gICAgICBodHRwOi8vd3d3LmFwYWNoZS5vcmcvbGljZW5zZXMvTElDRU5TRS0yLjAKLy8KLy8gVW5sZXNzIHJlcXVpcmVkIGJ5IGFwcGxpY2FibGUgbGF3IG9yIGFncmVlZCB0byBpbiB3cml0aW5nLCBzb2Z0d2FyZQovLyBkaXN0cmlidXRlZCB1bmRlciB0aGUgTGljZW5zZSBpcyBkaXN0cmlidXRlZCBvbiBhbiAiQVMgSVMiIEJBU0lTLAovLyBXSVRIT1VUIFdBUlJBTlRJRVMgT1IgQ09ORElUSU9OUyBPRiBBTlkgS0lORCwgZWl0aGVyIGV4cHJlc3Mgb3IgaW1wbGllZC4KLy8gU2VlIHRoZSBMaWNlbnNlIGZvciB0aGUgc3BlY2lmaWMgbGFuZ3VhZ2UgZ292ZXJuaW5nIHBlcm1pc3Npb25zIGFuZAovLyBsaW1pdGF0aW9ucyB1bmRlciB0aGUgTGljZW5zZS4KCi8qKgogKiBAZmlsZW92ZXJ2aWV3IEhlbHBlcnMgZm9yIGdvb2dsZS5jb2xhYiBQeXRob24gbW9kdWxlLgogKi8KKGZ1bmN0aW9uKHNjb3BlKSB7CmZ1bmN0aW9uIHNwYW4odGV4dCwgc3R5bGVBdHRyaWJ1dGVzID0ge30pIHsKICBjb25zdCBlbGVtZW50ID0gZG9jdW1lbnQuY3JlYXRlRWxlbWVudCgnc3BhbicpOwogIGVsZW1lbnQudGV4dENvbnRlbnQgPSB0ZXh0OwogIGZvciAoY29uc3Qga2V5IG9mIE9iamVjdC5rZXlzKHN0eWxlQXR0cmlidXRlcykpIHsKICAgIGVsZW1lbnQuc3R5bGVba2V5XSA9IHN0eWxlQXR0cmlidXRlc1trZXldOwogIH0KICByZXR1cm4gZWxlbWVudDsKfQoKLy8gTWF4IG51bWJlciBvZiBieXRlcyB3aGljaCB3aWxsIGJlIHVwbG9hZGVkIGF0IGEgdGltZS4KY29uc3QgTUFYX1BBWUxPQURfU0laRSA9IDEwMCAqIDEwMjQ7CgpmdW5jdGlvbiBfdXBsb2FkRmlsZXMoaW5wdXRJZCwgb3V0cHV0SWQpIHsKICBjb25zdCBzdGVwcyA9IHVwbG9hZEZpbGVzU3RlcChpbnB1dElkLCBvdXRwdXRJZCk7CiAgY29uc3Qgb3V0cHV0RWxlbWVudCA9IGRvY3VtZW50LmdldEVsZW1lbnRCeUlkKG91dHB1dElkKTsKICAvLyBDYWNoZSBzdGVwcyBvbiB0aGUgb3V0cHV0RWxlbWVudCB0byBtYWtlIGl0IGF2YWlsYWJsZSBmb3IgdGhlIG5leHQgY2FsbAogIC8vIHRvIHVwbG9hZEZpbGVzQ29udGludWUgZnJvbSBQeXRob24uCiAgb3V0cHV0RWxlbWVudC5zdGVwcyA9IHN0ZXBzOwoKICByZXR1cm4gX3VwbG9hZEZpbGVzQ29udGludWUob3V0cHV0SWQpOwp9CgovLyBUaGlzIGlzIHJvdWdobHkgYW4gYXN5bmMgZ2VuZXJhdG9yIChub3Qgc3VwcG9ydGVkIGluIHRoZSBicm93c2VyIHlldCksCi8vIHdoZXJlIHRoZXJlIGFyZSBtdWx0aXBsZSBhc3luY2hyb25vdXMgc3RlcHMgYW5kIHRoZSBQeXRob24gc2lkZSBpcyBnb2luZwovLyB0byBwb2xsIGZvciBjb21wbGV0aW9uIG9mIGVhY2ggc3RlcC4KLy8gVGhpcyB1c2VzIGEgUHJvbWlzZSB0byBibG9jayB0aGUgcHl0aG9uIHNpZGUgb24gY29tcGxldGlvbiBvZiBlYWNoIHN0ZXAsCi8vIHRoZW4gcGFzc2VzIHRoZSByZXN1bHQgb2YgdGhlIHByZXZpb3VzIHN0ZXAgYXMgdGhlIGlucHV0IHRvIHRoZSBuZXh0IHN0ZXAuCmZ1bmN0aW9uIF91cGxvYWRGaWxlc0NvbnRpbnVlKG91dHB1dElkKSB7CiAgY29uc3Qgb3V0cHV0RWxlbWVudCA9IGRvY3VtZW50LmdldEVsZW1lbnRCeUlkKG91dHB1dElkKTsKICBjb25zdCBzdGVwcyA9IG91dHB1dEVsZW1lbnQuc3RlcHM7CgogIGNvbnN0IG5leHQgPSBzdGVwcy5uZXh0KG91dHB1dEVsZW1lbnQubGFzdFByb21pc2VWYWx1ZSk7CiAgcmV0dXJuIFByb21pc2UucmVzb2x2ZShuZXh0LnZhbHVlLnByb21pc2UpLnRoZW4oKHZhbHVlKSA9PiB7CiAgICAvLyBDYWNoZSB0aGUgbGFzdCBwcm9taXNlIHZhbHVlIHRvIG1ha2UgaXQgYXZhaWxhYmxlIHRvIHRoZSBuZXh0CiAgICAvLyBzdGVwIG9mIHRoZSBnZW5lcmF0b3IuCiAgICBvdXRwdXRFbGVtZW50Lmxhc3RQcm9taXNlVmFsdWUgPSB2YWx1ZTsKICAgIHJldHVybiBuZXh0LnZhbHVlLnJlc3BvbnNlOwogIH0pOwp9CgovKioKICogR2VuZXJhdG9yIGZ1bmN0aW9uIHdoaWNoIGlzIGNhbGxlZCBiZXR3ZWVuIGVhY2ggYXN5bmMgc3RlcCBvZiB0aGUgdXBsb2FkCiAqIHByb2Nlc3MuCiAqIEBwYXJhbSB7c3RyaW5nfSBpbnB1dElkIEVsZW1lbnQgSUQgb2YgdGhlIGlucHV0IGZpbGUgcGlja2VyIGVsZW1lbnQuCiAqIEBwYXJhbSB7c3RyaW5nfSBvdXRwdXRJZCBFbGVtZW50IElEIG9mIHRoZSBvdXRwdXQgZGlzcGxheS4KICogQHJldHVybiB7IUl0ZXJhYmxlPCFPYmplY3Q+fSBJdGVyYWJsZSBvZiBuZXh0IHN0ZXBzLgogKi8KZnVuY3Rpb24qIHVwbG9hZEZpbGVzU3RlcChpbnB1dElkLCBvdXRwdXRJZCkgewogIGNvbnN0IGlucHV0RWxlbWVudCA9IGRvY3VtZW50LmdldEVsZW1lbnRCeUlkKGlucHV0SWQpOwogIGlucHV0RWxlbWVudC5kaXNhYmxlZCA9IGZhbHNlOwoKICBjb25zdCBvdXRwdXRFbGVtZW50ID0gZG9jdW1lbnQuZ2V0RWxlbWVudEJ5SWQob3V0cHV0SWQpOwogIG91dHB1dEVsZW1lbnQuaW5uZXJIVE1MID0gJyc7CgogIGNvbnN0IHBpY2tlZFByb21pc2UgPSBuZXcgUHJvbWlzZSgocmVzb2x2ZSkgPT4gewogICAgaW5wdXRFbGVtZW50LmFkZEV2ZW50TGlzdGVuZXIoJ2NoYW5nZScsIChlKSA9PiB7CiAgICAgIHJlc29sdmUoZS50YXJnZXQuZmlsZXMpOwogICAgfSk7CiAgfSk7CgogIGNvbnN0IGNhbmNlbCA9IGRvY3VtZW50LmNyZWF0ZUVsZW1lbnQoJ2J1dHRvbicpOwogIGlucHV0RWxlbWVudC5wYXJlbnRFbGVtZW50LmFwcGVuZENoaWxkKGNhbmNlbCk7CiAgY2FuY2VsLnRleHRDb250ZW50ID0gJ0NhbmNlbCB1cGxvYWQnOwogIGNvbnN0IGNhbmNlbFByb21pc2UgPSBuZXcgUHJvbWlzZSgocmVzb2x2ZSkgPT4gewogICAgY2FuY2VsLm9uY2xpY2sgPSAoKSA9PiB7CiAgICAgIHJlc29sdmUobnVsbCk7CiAgICB9OwogIH0pOwoKICAvLyBXYWl0IGZvciB0aGUgdXNlciB0byBwaWNrIHRoZSBmaWxlcy4KICBjb25zdCBmaWxlcyA9IHlpZWxkIHsKICAgIHByb21pc2U6IFByb21pc2UucmFjZShbcGlja2VkUHJvbWlzZSwgY2FuY2VsUHJvbWlzZV0pLAogICAgcmVzcG9uc2U6IHsKICAgICAgYWN0aW9uOiAnc3RhcnRpbmcnLAogICAgfQogIH07CgogIGNhbmNlbC5yZW1vdmUoKTsKCiAgLy8gRGlzYWJsZSB0aGUgaW5wdXQgZWxlbWVudCBzaW5jZSBmdXJ0aGVyIHBpY2tzIGFyZSBub3QgYWxsb3dlZC4KICBpbnB1dEVsZW1lbnQuZGlzYWJsZWQgPSB0cnVlOwoKICBpZiAoIWZpbGVzKSB7CiAgICByZXR1cm4gewogICAgICByZXNwb25zZTogewogICAgICAgIGFjdGlvbjogJ2NvbXBsZXRlJywKICAgICAgfQogICAgfTsKICB9CgogIGZvciAoY29uc3QgZmlsZSBvZiBmaWxlcykgewogICAgY29uc3QgbGkgPSBkb2N1bWVudC5jcmVhdGVFbGVtZW50KCdsaScpOwogICAgbGkuYXBwZW5kKHNwYW4oZmlsZS5uYW1lLCB7Zm9udFdlaWdodDogJ2JvbGQnfSkpOwogICAgbGkuYXBwZW5kKHNwYW4oCiAgICAgICAgYCgke2ZpbGUudHlwZSB8fCAnbi9hJ30pIC0gJHtmaWxlLnNpemV9IGJ5dGVzLCBgICsKICAgICAgICBgbGFzdCBtb2RpZmllZDogJHsKICAgICAgICAgICAgZmlsZS5sYXN0TW9kaWZpZWREYXRlID8gZmlsZS5sYXN0TW9kaWZpZWREYXRlLnRvTG9jYWxlRGF0ZVN0cmluZygpIDoKICAgICAgICAgICAgICAgICAgICAgICAgICAgICAgICAgICAgJ24vYSd9IC0gYCkpOwogICAgY29uc3QgcGVyY2VudCA9IHNwYW4oJzAlIGRvbmUnKTsKICAgIGxpLmFwcGVuZENoaWxkKHBlcmNlbnQpOwoKICAgIG91dHB1dEVsZW1lbnQuYXBwZW5kQ2hpbGQobGkpOwoKICAgIGNvbnN0IGZpbGVEYXRhUHJvbWlzZSA9IG5ldyBQcm9taXNlKChyZXNvbHZlKSA9PiB7CiAgICAgIGNvbnN0IHJlYWRlciA9IG5ldyBGaWxlUmVhZGVyKCk7CiAgICAgIHJlYWRlci5vbmxvYWQgPSAoZSkgPT4gewogICAgICAgIHJlc29sdmUoZS50YXJnZXQucmVzdWx0KTsKICAgICAgfTsKICAgICAgcmVhZGVyLnJlYWRBc0FycmF5QnVmZmVyKGZpbGUpOwogICAgfSk7CiAgICAvLyBXYWl0IGZvciB0aGUgZGF0YSB0byBiZSByZWFkeS4KICAgIGxldCBmaWxlRGF0YSA9IHlpZWxkIHsKICAgICAgcHJvbWlzZTogZmlsZURhdGFQcm9taXNlLAogICAgICByZXNwb25zZTogewogICAgICAgIGFjdGlvbjogJ2NvbnRpbnVlJywKICAgICAgfQogICAgfTsKCiAgICAvLyBVc2UgYSBjaHVua2VkIHNlbmRpbmcgdG8gYXZvaWQgbWVzc2FnZSBzaXplIGxpbWl0cy4gU2VlIGIvNjIxMTU2NjAuCiAgICBsZXQgcG9zaXRpb24gPSAwOwogICAgZG8gewogICAgICBjb25zdCBsZW5ndGggPSBNYXRoLm1pbihmaWxlRGF0YS5ieXRlTGVuZ3RoIC0gcG9zaXRpb24sIE1BWF9QQVlMT0FEX1NJWkUpOwogICAgICBjb25zdCBjaHVuayA9IG5ldyBVaW50OEFycmF5KGZpbGVEYXRhLCBwb3NpdGlvbiwgbGVuZ3RoKTsKICAgICAgcG9zaXRpb24gKz0gbGVuZ3RoOwoKICAgICAgY29uc3QgYmFzZTY0ID0gYnRvYShTdHJpbmcuZnJvbUNoYXJDb2RlLmFwcGx5KG51bGwsIGNodW5rKSk7CiAgICAgIHlpZWxkIHsKICAgICAgICByZXNwb25zZTogewogICAgICAgICAgYWN0aW9uOiAnYXBwZW5kJywKICAgICAgICAgIGZpbGU6IGZpbGUubmFtZSwKICAgICAgICAgIGRhdGE6IGJhc2U2NCwKICAgICAgICB9LAogICAgICB9OwoKICAgICAgbGV0IHBlcmNlbnREb25lID0gZmlsZURhdGEuYnl0ZUxlbmd0aCA9PT0gMCA/CiAgICAgICAgICAxMDAgOgogICAgICAgICAgTWF0aC5yb3VuZCgocG9zaXRpb24gLyBmaWxlRGF0YS5ieXRlTGVuZ3RoKSAqIDEwMCk7CiAgICAgIHBlcmNlbnQudGV4dENvbnRlbnQgPSBgJHtwZXJjZW50RG9uZX0lIGRvbmVgOwoKICAgIH0gd2hpbGUgKHBvc2l0aW9uIDwgZmlsZURhdGEuYnl0ZUxlbmd0aCk7CiAgfQoKICAvLyBBbGwgZG9uZS4KICB5aWVsZCB7CiAgICByZXNwb25zZTogewogICAgICBhY3Rpb246ICdjb21wbGV0ZScsCiAgICB9CiAgfTsKfQoKc2NvcGUuZ29vZ2xlID0gc2NvcGUuZ29vZ2xlIHx8IHt9OwpzY29wZS5nb29nbGUuY29sYWIgPSBzY29wZS5nb29nbGUuY29sYWIgfHwge307CnNjb3BlLmdvb2dsZS5jb2xhYi5fZmlsZXMgPSB7CiAgX3VwbG9hZEZpbGVzLAogIF91cGxvYWRGaWxlc0NvbnRpbnVlLAp9Owp9KShzZWxmKTsK",
              "ok": true,
              "headers": [
                [
                  "content-type",
                  "application/javascript"
                ]
              ],
              "status": 200,
              "status_text": ""
            }
          },
          "base_uri": "https://localhost:8080/",
          "height": 91
        },
        "id": "jewrHlS94Jy-",
        "outputId": "a839391a-80b4-4faf-c367-7d5481b7e689"
      },
      "source": [
        "files.upload()\n",
        "os.environ['KAGGLE_CONFIG_DIR'] = '/content'"
      ],
      "execution_count": null,
      "outputs": [
        {
          "output_type": "display_data",
          "data": {
            "text/html": [
              "\n",
              "     <input type=\"file\" id=\"files-37333fb3-2dad-4920-9f52-ce461f11f08e\" name=\"files[]\" multiple disabled\n",
              "        style=\"border:none\" />\n",
              "     <output id=\"result-37333fb3-2dad-4920-9f52-ce461f11f08e\">\n",
              "      Upload widget is only available when the cell has been executed in the\n",
              "      current browser session. Please rerun this cell to enable.\n",
              "      </output>\n",
              "      <script src=\"/nbextensions/google.colab/files.js\"></script> "
            ],
            "text/plain": [
              "<IPython.core.display.HTML object>"
            ]
          },
          "metadata": {
            "tags": []
          }
        },
        {
          "output_type": "stream",
          "text": [
            "Saving kaggle.json to kaggle (4).json\n",
            "time: 19.5 s (started: 2021-07-16 18:17:15 +00:00)\n"
          ],
          "name": "stdout"
        }
      ]
    },
    {
      "cell_type": "code",
      "metadata": {
        "colab": {
          "base_uri": "https://localhost:8080/"
        },
        "id": "Gk7esr562QAf",
        "outputId": "d7a8287e-ab6e-4f84-db8c-6cbc8502c23c"
      },
      "source": [
        "!kaggle datasets download -d ashirwadsangwan/imdb-dataset\n",
        "!unzip ./imdb-dataset.zip && rm ./imdb-dataset.zip"
      ],
      "execution_count": null,
      "outputs": [
        {
          "output_type": "stream",
          "text": [
            "Warning: Your Kaggle API key is readable by other users on this system! To fix this, you can run 'chmod 600 /content/kaggle.json'\n",
            "imdb-dataset.zip: Skipping, found more recently modified local copy (use --force to force download)\n",
            "Archive:  ./imdb-dataset.zip\n",
            "  End-of-central-directory signature not found.  Either this file is not\n",
            "  a zipfile, or it constitutes one disk of a multi-part archive.  In the\n",
            "  latter case the central directory and zipfile comment will be found on\n",
            "  the last disk(s) of this archive.\n",
            "unzip:  cannot find zipfile directory in one of ./imdb-dataset.zip or\n",
            "        ./imdb-dataset.zip.zip, and cannot find ./imdb-dataset.zip.ZIP, period.\n",
            "time: 1.25 s (started: 2021-07-16 18:17:34 +00:00)\n"
          ],
          "name": "stdout"
        }
      ]
    },
    {
      "cell_type": "code",
      "metadata": {
        "id": "FmnddA444dJm",
        "colab": {
          "base_uri": "https://localhost:8080/",
          "height": 221
        },
        "outputId": "76206e3d-6a8d-4db4-9f4d-d1ea69c1b4a2"
      },
      "source": [
        "df_principals = pd.read_csv('./title.principals.tsv/title.principals.tsv',  \n",
        "                        usecols= ['tconst','nconst','category'], \n",
        "                        sep='\\t',\n",
        "                        na_values = ['\\\\N']).sort_values(by=['tconst'])\n",
        "df_principals.head()"
      ],
      "execution_count": null,
      "outputs": [
        {
          "output_type": "execute_result",
          "data": {
            "text/html": [
              "<div>\n",
              "<style scoped>\n",
              "    .dataframe tbody tr th:only-of-type {\n",
              "        vertical-align: middle;\n",
              "    }\n",
              "\n",
              "    .dataframe tbody tr th {\n",
              "        vertical-align: top;\n",
              "    }\n",
              "\n",
              "    .dataframe thead th {\n",
              "        text-align: right;\n",
              "    }\n",
              "</style>\n",
              "<table border=\"1\" class=\"dataframe\">\n",
              "  <thead>\n",
              "    <tr style=\"text-align: right;\">\n",
              "      <th></th>\n",
              "      <th>tconst</th>\n",
              "      <th>nconst</th>\n",
              "      <th>category</th>\n",
              "    </tr>\n",
              "  </thead>\n",
              "  <tbody>\n",
              "    <tr>\n",
              "      <th>0</th>\n",
              "      <td>tt0000001</td>\n",
              "      <td>nm1588970</td>\n",
              "      <td>self</td>\n",
              "    </tr>\n",
              "    <tr>\n",
              "      <th>1</th>\n",
              "      <td>tt0000001</td>\n",
              "      <td>nm0005690</td>\n",
              "      <td>director</td>\n",
              "    </tr>\n",
              "    <tr>\n",
              "      <th>2</th>\n",
              "      <td>tt0000001</td>\n",
              "      <td>nm0374658</td>\n",
              "      <td>cinematographer</td>\n",
              "    </tr>\n",
              "    <tr>\n",
              "      <th>3</th>\n",
              "      <td>tt0000002</td>\n",
              "      <td>nm0721526</td>\n",
              "      <td>director</td>\n",
              "    </tr>\n",
              "    <tr>\n",
              "      <th>4</th>\n",
              "      <td>tt0000002</td>\n",
              "      <td>nm1335271</td>\n",
              "      <td>composer</td>\n",
              "    </tr>\n",
              "  </tbody>\n",
              "</table>\n",
              "</div>"
            ],
            "text/plain": [
              "      tconst     nconst         category\n",
              "0  tt0000001  nm1588970             self\n",
              "1  tt0000001  nm0005690         director\n",
              "2  tt0000001  nm0374658  cinematographer\n",
              "3  tt0000002  nm0721526         director\n",
              "4  tt0000002  nm1335271         composer"
            ]
          },
          "metadata": {
            "tags": []
          },
          "execution_count": 8
        },
        {
          "output_type": "stream",
          "text": [
            "time: 1min 9s (started: 2021-07-16 18:17:36 +00:00)\n"
          ],
          "name": "stdout"
        }
      ]
    },
    {
      "cell_type": "code",
      "metadata": {
        "id": "M2Udvo2VKWkW",
        "colab": {
          "base_uri": "https://localhost:8080/",
          "height": 221
        },
        "outputId": "673ebfb1-81a3-4a05-df75-ba242d9bf827"
      },
      "source": [
        "df_title_basics = pd.read_csv('./title.basics.tsv/title.basics.tsv',  \n",
        "                        usecols= ['tconst', 'genres'], \n",
        "                        sep='\\t',\n",
        "                        na_values = ['\\\\N']).sort_values(by=['tconst'])\n",
        "\n",
        "df_title_basics.head()                 "
      ],
      "execution_count": null,
      "outputs": [
        {
          "output_type": "execute_result",
          "data": {
            "text/html": [
              "<div>\n",
              "<style scoped>\n",
              "    .dataframe tbody tr th:only-of-type {\n",
              "        vertical-align: middle;\n",
              "    }\n",
              "\n",
              "    .dataframe tbody tr th {\n",
              "        vertical-align: top;\n",
              "    }\n",
              "\n",
              "    .dataframe thead th {\n",
              "        text-align: right;\n",
              "    }\n",
              "</style>\n",
              "<table border=\"1\" class=\"dataframe\">\n",
              "  <thead>\n",
              "    <tr style=\"text-align: right;\">\n",
              "      <th></th>\n",
              "      <th>tconst</th>\n",
              "      <th>genres</th>\n",
              "    </tr>\n",
              "  </thead>\n",
              "  <tbody>\n",
              "    <tr>\n",
              "      <th>0</th>\n",
              "      <td>tt0000001</td>\n",
              "      <td>Documentary,Short</td>\n",
              "    </tr>\n",
              "    <tr>\n",
              "      <th>1</th>\n",
              "      <td>tt0000002</td>\n",
              "      <td>Animation,Short</td>\n",
              "    </tr>\n",
              "    <tr>\n",
              "      <th>2</th>\n",
              "      <td>tt0000003</td>\n",
              "      <td>Animation,Comedy,Romance</td>\n",
              "    </tr>\n",
              "    <tr>\n",
              "      <th>3</th>\n",
              "      <td>tt0000004</td>\n",
              "      <td>Animation,Short</td>\n",
              "    </tr>\n",
              "    <tr>\n",
              "      <th>4</th>\n",
              "      <td>tt0000005</td>\n",
              "      <td>Comedy,Short</td>\n",
              "    </tr>\n",
              "  </tbody>\n",
              "</table>\n",
              "</div>"
            ],
            "text/plain": [
              "      tconst                    genres\n",
              "0  tt0000001         Documentary,Short\n",
              "1  tt0000002           Animation,Short\n",
              "2  tt0000003  Animation,Comedy,Romance\n",
              "3  tt0000004           Animation,Short\n",
              "4  tt0000005              Comedy,Short"
            ]
          },
          "metadata": {
            "tags": []
          },
          "execution_count": 9
        },
        {
          "output_type": "stream",
          "text": [
            "time: 15.3 s (started: 2021-07-16 18:18:45 +00:00)\n"
          ],
          "name": "stdout"
        }
      ]
    },
    {
      "cell_type": "code",
      "metadata": {
        "id": "ZPlYBDd06FvZ",
        "colab": {
          "base_uri": "https://localhost:8080/",
          "height": 221
        },
        "outputId": "a4578fbb-cbd4-4393-b8ed-9fd55a510354"
      },
      "source": [
        "df_name_basics= pd.read_csv('./name.basics.tsv/name.basics.tsv',  \n",
        "                        usecols= ['nconst','primaryName'],\n",
        "                        sep='\\t',\n",
        "                        na_values = ['\\\\N']).sort_values(by=['nconst'])\n",
        "df_name_basics.head()"
      ],
      "execution_count": null,
      "outputs": [
        {
          "output_type": "execute_result",
          "data": {
            "text/html": [
              "<div>\n",
              "<style scoped>\n",
              "    .dataframe tbody tr th:only-of-type {\n",
              "        vertical-align: middle;\n",
              "    }\n",
              "\n",
              "    .dataframe tbody tr th {\n",
              "        vertical-align: top;\n",
              "    }\n",
              "\n",
              "    .dataframe thead th {\n",
              "        text-align: right;\n",
              "    }\n",
              "</style>\n",
              "<table border=\"1\" class=\"dataframe\">\n",
              "  <thead>\n",
              "    <tr style=\"text-align: right;\">\n",
              "      <th></th>\n",
              "      <th>nconst</th>\n",
              "      <th>primaryName</th>\n",
              "    </tr>\n",
              "  </thead>\n",
              "  <tbody>\n",
              "    <tr>\n",
              "      <th>0</th>\n",
              "      <td>nm0000001</td>\n",
              "      <td>Fred Astaire</td>\n",
              "    </tr>\n",
              "    <tr>\n",
              "      <th>1</th>\n",
              "      <td>nm0000002</td>\n",
              "      <td>Lauren Bacall</td>\n",
              "    </tr>\n",
              "    <tr>\n",
              "      <th>2</th>\n",
              "      <td>nm0000003</td>\n",
              "      <td>Brigitte Bardot</td>\n",
              "    </tr>\n",
              "    <tr>\n",
              "      <th>3</th>\n",
              "      <td>nm0000004</td>\n",
              "      <td>John Belushi</td>\n",
              "    </tr>\n",
              "    <tr>\n",
              "      <th>4</th>\n",
              "      <td>nm0000005</td>\n",
              "      <td>Ingmar Bergman</td>\n",
              "    </tr>\n",
              "  </tbody>\n",
              "</table>\n",
              "</div>"
            ],
            "text/plain": [
              "      nconst      primaryName\n",
              "0  nm0000001     Fred Astaire\n",
              "1  nm0000002    Lauren Bacall\n",
              "2  nm0000003  Brigitte Bardot\n",
              "3  nm0000004     John Belushi\n",
              "4  nm0000005   Ingmar Bergman"
            ]
          },
          "metadata": {
            "tags": []
          },
          "execution_count": 10
        },
        {
          "output_type": "stream",
          "text": [
            "time: 25.3 s (started: 2021-07-16 18:19:01 +00:00)\n"
          ],
          "name": "stdout"
        }
      ]
    },
    {
      "cell_type": "code",
      "metadata": {
        "id": "r6i3byq6Nm7o",
        "colab": {
          "base_uri": "https://localhost:8080/",
          "height": 221
        },
        "outputId": "b4e2964c-3047-48f2-96cf-3bd089bbf854"
      },
      "source": [
        "df_ratings = pd.read_csv('./title.ratings.tsv/title.ratings.tsv',\n",
        "                        sep='\\t',\n",
        "                        usecols = ['tconst', 'averageRating'],\n",
        "                        na_values = ['\\\\N']).sort_values(by=['tconst'])\n",
        "df_ratings.head()"
      ],
      "execution_count": null,
      "outputs": [
        {
          "output_type": "execute_result",
          "data": {
            "text/html": [
              "<div>\n",
              "<style scoped>\n",
              "    .dataframe tbody tr th:only-of-type {\n",
              "        vertical-align: middle;\n",
              "    }\n",
              "\n",
              "    .dataframe tbody tr th {\n",
              "        vertical-align: top;\n",
              "    }\n",
              "\n",
              "    .dataframe thead th {\n",
              "        text-align: right;\n",
              "    }\n",
              "</style>\n",
              "<table border=\"1\" class=\"dataframe\">\n",
              "  <thead>\n",
              "    <tr style=\"text-align: right;\">\n",
              "      <th></th>\n",
              "      <th>tconst</th>\n",
              "      <th>averageRating</th>\n",
              "    </tr>\n",
              "  </thead>\n",
              "  <tbody>\n",
              "    <tr>\n",
              "      <th>0</th>\n",
              "      <td>tt0000001</td>\n",
              "      <td>5.6</td>\n",
              "    </tr>\n",
              "    <tr>\n",
              "      <th>1</th>\n",
              "      <td>tt0000002</td>\n",
              "      <td>6.1</td>\n",
              "    </tr>\n",
              "    <tr>\n",
              "      <th>2</th>\n",
              "      <td>tt0000003</td>\n",
              "      <td>6.5</td>\n",
              "    </tr>\n",
              "    <tr>\n",
              "      <th>3</th>\n",
              "      <td>tt0000004</td>\n",
              "      <td>6.2</td>\n",
              "    </tr>\n",
              "    <tr>\n",
              "      <th>4</th>\n",
              "      <td>tt0000005</td>\n",
              "      <td>6.1</td>\n",
              "    </tr>\n",
              "  </tbody>\n",
              "</table>\n",
              "</div>"
            ],
            "text/plain": [
              "      tconst  averageRating\n",
              "0  tt0000001            5.6\n",
              "1  tt0000002            6.1\n",
              "2  tt0000003            6.5\n",
              "3  tt0000004            6.2\n",
              "4  tt0000005            6.1"
            ]
          },
          "metadata": {
            "tags": []
          },
          "execution_count": 11
        },
        {
          "output_type": "stream",
          "text": [
            "time: 1.23 s (started: 2021-07-16 18:19:26 +00:00)\n"
          ],
          "name": "stdout"
        }
      ]
    },
    {
      "cell_type": "code",
      "metadata": {
        "id": "tftM9rNg95kz",
        "colab": {
          "base_uri": "https://localhost:8080/"
        },
        "outputId": "90c2fd42-6795-49a3-8861-a5dc2a27cab5"
      },
      "source": [
        "print(f'Rows in df_principals: {len(df_principals)} \\n\\\n",
        "Rows in df_title_basics: {len(df_title_basics)} \\n\\\n",
        "Rows in df_name_basics: {len(df_name_basics)} \\n\\\n",
        "Rows in df_ratings: {len(df_ratings)}')"
      ],
      "execution_count": null,
      "outputs": [
        {
          "output_type": "stream",
          "text": [
            "Rows in df_principals: 36468817 \n",
            "Rows in df_title_basics: 6321302 \n",
            "Rows in df_name_basics: 9706922 \n",
            "Rows in df_ratings: 993153\n",
            "time: 4.22 ms (started: 2021-07-16 18:19:27 +00:00)\n"
          ],
          "name": "stdout"
        }
      ]
    },
    {
      "cell_type": "markdown",
      "metadata": {
        "id": "5uMgQd4X-Iby"
      },
      "source": [
        "We now copy the variables in which the dataset is stored. In the first part of the notebook we will show how the dataset is preprocessed. Later, this process is then automated. The copies allow us to avoid to download again the dataset."
      ]
    },
    {
      "cell_type": "code",
      "metadata": {
        "id": "tlGXi2he9qhO",
        "colab": {
          "base_uri": "https://localhost:8080/"
        },
        "outputId": "e97784f6-afae-4663-8346-37281fe45180"
      },
      "source": [
        "df_principals_copy = df_principals\n",
        "df_title_basics_copy = df_title_basics\n",
        "df_name_basics_copy = df_name_basics\n",
        "df_ratings_copy = df_ratings\n"
      ],
      "execution_count": null,
      "outputs": [
        {
          "output_type": "stream",
          "text": [
            "time: 2.6 ms (started: 2021-07-16 18:19:27 +00:00)\n"
          ],
          "name": "stdout"
        }
      ]
    },
    {
      "cell_type": "markdown",
      "metadata": {
        "id": "h-A8QXBEU8ZF"
      },
      "source": [
        "# Data preprocessing"
      ]
    },
    {
      "cell_type": "markdown",
      "metadata": {
        "id": "nahEfs4X199b"
      },
      "source": [
        "List of possible roles of people in the dataset"
      ]
    },
    {
      "cell_type": "code",
      "metadata": {
        "id": "CZ3RoLU8_F0B",
        "colab": {
          "base_uri": "https://localhost:8080/"
        },
        "outputId": "50b85aca-e8b6-41f4-d985-2954f892cf1f"
      },
      "source": [
        "print(f'Possible roles: \\n{df_principals[\"category\"].unique()}')"
      ],
      "execution_count": null,
      "outputs": [
        {
          "output_type": "stream",
          "text": [
            "Possible roles: \n",
            "['self' 'director' 'cinematographer' 'composer' 'editor' 'producer'\n",
            " 'actor' 'actress' 'writer' 'production_designer' 'archive_footage'\n",
            " 'archive_sound']\n",
            "time: 1.99 s (started: 2021-07-16 18:19:27 +00:00)\n"
          ],
          "name": "stdout"
        }
      ]
    },
    {
      "cell_type": "markdown",
      "metadata": {
        "id": "aP7EjpO61gx3"
      },
      "source": [
        "Elimination of NaN values (NaN in IMDb are intended as \"\\N\")"
      ]
    },
    {
      "cell_type": "code",
      "metadata": {
        "id": "ED762YV-dAe6",
        "colab": {
          "base_uri": "https://localhost:8080/"
        },
        "outputId": "ebddc23e-bfc4-4fd6-e25d-5d122b0d7c60"
      },
      "source": [
        "print(f'Length of df_title_basics before dropna: {len(df_title_basics)}')\n",
        "df_title_basics.dropna(subset=[\"genres\"], inplace=True)\n",
        "print(f'Length of df_title_basics after dropna: {len(df_title_basics)}')"
      ],
      "execution_count": null,
      "outputs": [
        {
          "output_type": "stream",
          "text": [
            "Length of df_title_basics before dropna: 6321302\n",
            "Length of df_title_basics after dropna: 5819979\n",
            "time: 619 ms (started: 2021-07-16 18:19:29 +00:00)\n"
          ],
          "name": "stdout"
        }
      ]
    },
    {
      "cell_type": "markdown",
      "metadata": {
        "id": "bSVqDwZW2DKd"
      },
      "source": [
        "In the first cell: list of all possible genres in the dataset. \n",
        "In the second cell, we apply a filter to maintain only actors/actresses. "
      ]
    },
    {
      "cell_type": "code",
      "metadata": {
        "id": "bTjRzR_TsMay",
        "colab": {
          "base_uri": "https://localhost:8080/"
        },
        "outputId": "2cd42f46-5878-4501-f63e-ad7bd9200dc7"
      },
      "source": [
        "genres = []\n",
        "for el in df_title_basics[\"genres\"]:\n",
        "  genres.append(el.split(\",\"))\n",
        "\n",
        "genres = list(set(flatten(genres))) #we flatten and then convert it to set to avoid duplicates\n",
        "print(f'Possible genres: \\n{genres}')\n"
      ],
      "execution_count": null,
      "outputs": [
        {
          "output_type": "stream",
          "text": [
            "Possible genres: \n",
            "['Sport', 'Horror', 'Adult', 'Fantasy', 'Reality-TV', 'History', 'News', 'Family', 'Short', 'Comedy', 'Drama', 'Crime', 'Animation', 'Action', 'Talk-Show', 'Musical', 'Game-Show', 'Music', 'Western', 'Adventure', 'Film-Noir', 'Sci-Fi', 'Thriller', 'Mystery', 'Documentary', 'Biography', 'War', 'Romance']\n",
            "time: 22.1 s (started: 2021-07-16 18:19:30 +00:00)\n"
          ],
          "name": "stdout"
        }
      ]
    },
    {
      "cell_type": "code",
      "metadata": {
        "id": "rL0rVbl6_PSD",
        "colab": {
          "base_uri": "https://localhost:8080/",
          "height": 221
        },
        "outputId": "21f3198d-8ea3-4886-bb6b-d8c132149413"
      },
      "source": [
        "df_principals = df_principals[df_principals[\"category\"].isin([\"actor\", \"actress\"])]\n",
        "df_principals = df_principals[[\"tconst\", \"nconst\"]]\n",
        "df_principals.head()"
      ],
      "execution_count": null,
      "outputs": [
        {
          "output_type": "execute_result",
          "data": {
            "text/html": [
              "<div>\n",
              "<style scoped>\n",
              "    .dataframe tbody tr th:only-of-type {\n",
              "        vertical-align: middle;\n",
              "    }\n",
              "\n",
              "    .dataframe tbody tr th {\n",
              "        vertical-align: top;\n",
              "    }\n",
              "\n",
              "    .dataframe thead th {\n",
              "        text-align: right;\n",
              "    }\n",
              "</style>\n",
              "<table border=\"1\" class=\"dataframe\">\n",
              "  <thead>\n",
              "    <tr style=\"text-align: right;\">\n",
              "      <th></th>\n",
              "      <th>tconst</th>\n",
              "      <th>nconst</th>\n",
              "    </tr>\n",
              "  </thead>\n",
              "  <tbody>\n",
              "    <tr>\n",
              "      <th>11</th>\n",
              "      <td>tt0000005</td>\n",
              "      <td>nm0443482</td>\n",
              "    </tr>\n",
              "    <tr>\n",
              "      <th>12</th>\n",
              "      <td>tt0000005</td>\n",
              "      <td>nm0653042</td>\n",
              "    </tr>\n",
              "    <tr>\n",
              "      <th>17</th>\n",
              "      <td>tt0000007</td>\n",
              "      <td>nm0183947</td>\n",
              "    </tr>\n",
              "    <tr>\n",
              "      <th>16</th>\n",
              "      <td>tt0000007</td>\n",
              "      <td>nm0179163</td>\n",
              "    </tr>\n",
              "    <tr>\n",
              "      <th>21</th>\n",
              "      <td>tt0000008</td>\n",
              "      <td>nm0653028</td>\n",
              "    </tr>\n",
              "  </tbody>\n",
              "</table>\n",
              "</div>"
            ],
            "text/plain": [
              "       tconst     nconst\n",
              "11  tt0000005  nm0443482\n",
              "12  tt0000005  nm0653042\n",
              "17  tt0000007  nm0183947\n",
              "16  tt0000007  nm0179163\n",
              "21  tt0000008  nm0653028"
            ]
          },
          "metadata": {
            "tags": []
          },
          "execution_count": 17
        },
        {
          "output_type": "stream",
          "text": [
            "time: 2.85 s (started: 2021-07-16 18:19:52 +00:00)\n"
          ],
          "name": "stdout"
        }
      ]
    },
    {
      "cell_type": "markdown",
      "metadata": {
        "id": "CsPlLWmA2le9"
      },
      "source": [
        "Inner join between the dataframes to obtain a compact dataset (we use the inner join to keep only tuples with common key values)"
      ]
    },
    {
      "cell_type": "code",
      "metadata": {
        "id": "T-8iPo23DEJi",
        "colab": {
          "base_uri": "https://localhost:8080/",
          "height": 221
        },
        "outputId": "5ffd055d-c07a-4ec1-8589-e30ef870d651"
      },
      "source": [
        "df_join = df_principals.merge(df_name_basics, on=\"nconst\")\n",
        "df_join = df_join.merge(df_title_basics, on=\"tconst\")\n",
        "df_join = df_join.merge(df_ratings, on=\"tconst\")\n",
        "df_join.head()"
      ],
      "execution_count": null,
      "outputs": [
        {
          "output_type": "execute_result",
          "data": {
            "text/html": [
              "<div>\n",
              "<style scoped>\n",
              "    .dataframe tbody tr th:only-of-type {\n",
              "        vertical-align: middle;\n",
              "    }\n",
              "\n",
              "    .dataframe tbody tr th {\n",
              "        vertical-align: top;\n",
              "    }\n",
              "\n",
              "    .dataframe thead th {\n",
              "        text-align: right;\n",
              "    }\n",
              "</style>\n",
              "<table border=\"1\" class=\"dataframe\">\n",
              "  <thead>\n",
              "    <tr style=\"text-align: right;\">\n",
              "      <th></th>\n",
              "      <th>tconst</th>\n",
              "      <th>nconst</th>\n",
              "      <th>primaryName</th>\n",
              "      <th>genres</th>\n",
              "      <th>averageRating</th>\n",
              "    </tr>\n",
              "  </thead>\n",
              "  <tbody>\n",
              "    <tr>\n",
              "      <th>0</th>\n",
              "      <td>tt0000005</td>\n",
              "      <td>nm0443482</td>\n",
              "      <td>Charles Kayser</td>\n",
              "      <td>Comedy,Short</td>\n",
              "      <td>6.1</td>\n",
              "    </tr>\n",
              "    <tr>\n",
              "      <th>1</th>\n",
              "      <td>tt0000005</td>\n",
              "      <td>nm0653042</td>\n",
              "      <td>John Ott</td>\n",
              "      <td>Comedy,Short</td>\n",
              "      <td>6.1</td>\n",
              "    </tr>\n",
              "    <tr>\n",
              "      <th>2</th>\n",
              "      <td>tt0000007</td>\n",
              "      <td>nm0183947</td>\n",
              "      <td>Peter Courtney</td>\n",
              "      <td>Short,Sport</td>\n",
              "      <td>5.5</td>\n",
              "    </tr>\n",
              "    <tr>\n",
              "      <th>3</th>\n",
              "      <td>tt0000007</td>\n",
              "      <td>nm0179163</td>\n",
              "      <td>James J. Corbett</td>\n",
              "      <td>Short,Sport</td>\n",
              "      <td>5.5</td>\n",
              "    </tr>\n",
              "    <tr>\n",
              "      <th>4</th>\n",
              "      <td>tt0011603</td>\n",
              "      <td>nm0179163</td>\n",
              "      <td>James J. Corbett</td>\n",
              "      <td>Drama</td>\n",
              "      <td>3.0</td>\n",
              "    </tr>\n",
              "  </tbody>\n",
              "</table>\n",
              "</div>"
            ],
            "text/plain": [
              "      tconst     nconst       primaryName        genres  averageRating\n",
              "0  tt0000005  nm0443482    Charles Kayser  Comedy,Short            6.1\n",
              "1  tt0000005  nm0653042          John Ott  Comedy,Short            6.1\n",
              "2  tt0000007  nm0183947    Peter Courtney   Short,Sport            5.5\n",
              "3  tt0000007  nm0179163  James J. Corbett   Short,Sport            5.5\n",
              "4  tt0011603  nm0179163  James J. Corbett         Drama            3.0"
            ]
          },
          "metadata": {
            "tags": []
          },
          "execution_count": 18
        },
        {
          "output_type": "stream",
          "text": [
            "time: 54.5 s (started: 2021-07-16 18:19:55 +00:00)\n"
          ],
          "name": "stdout"
        }
      ]
    },
    {
      "cell_type": "markdown",
      "metadata": {
        "id": "Fx97QbwO2daR"
      },
      "source": [
        "Dataset uniform sampling: the default value is 0.1"
      ]
    },
    {
      "cell_type": "code",
      "metadata": {
        "id": "g-CO-GE9V-14",
        "colab": {
          "base_uri": "https://localhost:8080/",
          "height": 221
        },
        "outputId": "39b5b66b-b9bc-405e-a45d-e898dfa6f639"
      },
      "source": [
        "sampling_rate = 0.1\n",
        "df_sample = df_join.sample(frac = sampling_rate).reset_index(drop=True)\n",
        "df_sample.head()"
      ],
      "execution_count": null,
      "outputs": [
        {
          "output_type": "execute_result",
          "data": {
            "text/html": [
              "<div>\n",
              "<style scoped>\n",
              "    .dataframe tbody tr th:only-of-type {\n",
              "        vertical-align: middle;\n",
              "    }\n",
              "\n",
              "    .dataframe tbody tr th {\n",
              "        vertical-align: top;\n",
              "    }\n",
              "\n",
              "    .dataframe thead th {\n",
              "        text-align: right;\n",
              "    }\n",
              "</style>\n",
              "<table border=\"1\" class=\"dataframe\">\n",
              "  <thead>\n",
              "    <tr style=\"text-align: right;\">\n",
              "      <th></th>\n",
              "      <th>tconst</th>\n",
              "      <th>nconst</th>\n",
              "      <th>primaryName</th>\n",
              "      <th>genres</th>\n",
              "      <th>averageRating</th>\n",
              "    </tr>\n",
              "  </thead>\n",
              "  <tbody>\n",
              "    <tr>\n",
              "      <th>0</th>\n",
              "      <td>tt0248867</td>\n",
              "      <td>nm0743285</td>\n",
              "      <td>Bud Ross</td>\n",
              "      <td>Comedy,Short</td>\n",
              "      <td>5.1</td>\n",
              "    </tr>\n",
              "    <tr>\n",
              "      <th>1</th>\n",
              "      <td>tt0872391</td>\n",
              "      <td>nm0211767</td>\n",
              "      <td>Edward de Souza</td>\n",
              "      <td>Comedy</td>\n",
              "      <td>7.6</td>\n",
              "    </tr>\n",
              "    <tr>\n",
              "      <th>2</th>\n",
              "      <td>tt1457253</td>\n",
              "      <td>nm1415323</td>\n",
              "      <td>Miley Cyrus</td>\n",
              "      <td>Comedy,Family,Music</td>\n",
              "      <td>6.5</td>\n",
              "    </tr>\n",
              "    <tr>\n",
              "      <th>3</th>\n",
              "      <td>tt1774613</td>\n",
              "      <td>nm1394603</td>\n",
              "      <td>Kom Chauncheun</td>\n",
              "      <td>Comedy</td>\n",
              "      <td>5.1</td>\n",
              "    </tr>\n",
              "    <tr>\n",
              "      <th>4</th>\n",
              "      <td>tt0594173</td>\n",
              "      <td>nm0001181</td>\n",
              "      <td>Jack Elam</td>\n",
              "      <td>Western</td>\n",
              "      <td>8.2</td>\n",
              "    </tr>\n",
              "  </tbody>\n",
              "</table>\n",
              "</div>"
            ],
            "text/plain": [
              "      tconst     nconst      primaryName               genres  averageRating\n",
              "0  tt0248867  nm0743285         Bud Ross         Comedy,Short            5.1\n",
              "1  tt0872391  nm0211767  Edward de Souza               Comedy            7.6\n",
              "2  tt1457253  nm1415323      Miley Cyrus  Comedy,Family,Music            6.5\n",
              "3  tt1774613  nm1394603   Kom Chauncheun               Comedy            5.1\n",
              "4  tt0594173  nm0001181        Jack Elam              Western            8.2"
            ]
          },
          "metadata": {
            "tags": []
          },
          "execution_count": 19
        },
        {
          "output_type": "stream",
          "text": [
            "time: 1.24 s (started: 2021-07-16 18:20:49 +00:00)\n"
          ],
          "name": "stdout"
        }
      ]
    },
    {
      "cell_type": "code",
      "metadata": {
        "id": "STbP1UELXJ1y",
        "colab": {
          "base_uri": "https://localhost:8080/"
        },
        "outputId": "75b4ce92-b9ed-40bd-ca2f-a0965bafd2ca"
      },
      "source": [
        "print(f'Length of the original dataset: {len(df_join)} \\n\\\n",
        "Length of the sampling dataset: {len(df_sample)}')"
      ],
      "execution_count": null,
      "outputs": [
        {
          "output_type": "stream",
          "text": [
            "Length of the original dataset: 3404433 \n",
            "Length of the sampling dataset: 340443\n",
            "time: 2.95 ms (started: 2021-07-16 18:20:51 +00:00)\n"
          ],
          "name": "stdout"
        }
      ]
    },
    {
      "cell_type": "markdown",
      "metadata": {
        "id": "kf3G7ymf25ZZ"
      },
      "source": [
        "We put together all the operations done before in a function, *preprocess_dataset*"
      ]
    },
    {
      "cell_type": "code",
      "metadata": {
        "id": "A0DANXD0LMHe",
        "colab": {
          "base_uri": "https://localhost:8080/"
        },
        "outputId": "d28d0b7e-ae5e-4799-9bdc-7fec21f5a48c"
      },
      "source": [
        "def preprocess_dataset(df_title_basics, df_principals, df_name_basics, df_ratings, sampling_rate = 0.1):\n",
        "  \"\"\"\n",
        "  This function preprocess the dataset dropping NaN values, merging the different dataframes and sampling it\n",
        "  \n",
        "  Args:\n",
        "    df_title_basics : the dataset containing movies/Tv series/...\n",
        "    df_principals : the dataset containing the association between actors and movies\n",
        "    df_name_basics: the dataset containing the association between actors id and names \n",
        "    df_ratings: the dataset containing the ratings\n",
        "    sampling_rate : the sampling rate, default = 0.1\n",
        "\n",
        "  Returns:\n",
        "    The preprocessed and sampled version of the dataset\n",
        "\n",
        "  \"\"\"\n",
        "  \n",
        "  df_title_basics.dropna(subset=[\"genres\"], inplace=True)\n",
        "  #select only actors\n",
        "  df_principals = df_principals[df_principals[\"category\"].isin([\"actor\", \"actress\"])]\n",
        "  df_principals = df_principals[[\"tconst\", \"nconst\"]]\n",
        "  #join\n",
        "  df_join = df_principals.merge(df_name_basics, on=\"nconst\")\n",
        "  df_join = df_join.merge(df_title_basics, on=\"tconst\")\n",
        "  df_join = df_join.merge(df_ratings, on=\"tconst\")\n",
        "  #sampling\n",
        "  df_sample = df_join.sample(frac = sampling_rate).reset_index(drop=True)\n",
        "  print(f'Sample size: {len(df_sample)}')\n",
        "  return df_sample"
      ],
      "execution_count": null,
      "outputs": [
        {
          "output_type": "stream",
          "text": [
            "time: 14.5 ms (started: 2021-07-16 18:20:51 +00:00)\n"
          ],
          "name": "stdout"
        }
      ]
    },
    {
      "cell_type": "markdown",
      "metadata": {
        "id": "crwh6tjO3KAm"
      },
      "source": [
        "Creation of dictionaries to keep track of actors acting in a given movie and movies in which an actor has performed.\n",
        "All these operations are then synthetized in functions, to easily run the algorithms"
      ]
    },
    {
      "cell_type": "code",
      "metadata": {
        "id": "NJnTnXHSNYOs",
        "colab": {
          "base_uri": "https://localhost:8080/"
        },
        "outputId": "c88bfb00-71c7-4419-8d1b-c72a9b3ef3b1"
      },
      "source": [
        " actors_enum = df_sample[\"nconst\"].unique()\n",
        " movies_dict = {movie : [] for movie in df_sample[\"tconst\"].unique()}\n",
        " actors_dict = {actor : [[], i] for actor, i in zip(actors_enum, range(len(actors_enum)))} #the value is composed by the list of movies and the id of the actor\n",
        "\n",
        "for i in range(len(df_sample[\"tconst\"])) :\n",
        "   movies_dict[df_sample[\"tconst\"][i]].append(df_sample[\"nconst\"][i])\n",
        "   actors_dict[df_sample[\"nconst\"][i]][0].append(df_sample[\"tconst\"][i])"
      ],
      "execution_count": null,
      "outputs": [
        {
          "output_type": "stream",
          "text": [
            "time: 10.5 s (started: 2021-07-16 18:20:51 +00:00)\n"
          ],
          "name": "stdout"
        }
      ]
    },
    {
      "cell_type": "code",
      "metadata": {
        "id": "SLoExKR7QSrQ",
        "colab": {
          "base_uri": "https://localhost:8080/"
        },
        "outputId": "1eec192f-bd77-4f6c-ad5e-08f30e1b0e4f"
      },
      "source": [
        "print(f'Example from movies_dict: {next(iter(movies_dict.values()))}')"
      ],
      "execution_count": null,
      "outputs": [
        {
          "output_type": "stream",
          "text": [
            "Example from movies_dict: ['nm0743285']\n",
            "time: 2.62 ms (started: 2021-07-16 18:21:01 +00:00)\n"
          ],
          "name": "stdout"
        }
      ]
    },
    {
      "cell_type": "code",
      "metadata": {
        "id": "NaAy8AE5QmoM",
        "colab": {
          "base_uri": "https://localhost:8080/"
        },
        "outputId": "6dcf0521-f08f-4d2a-e36e-ad010e315c96"
      },
      "source": [
        "print(f'Example from actors_dict: {next(iter(actors_dict.values()))}')"
      ],
      "execution_count": null,
      "outputs": [
        {
          "output_type": "stream",
          "text": [
            "Example from actors_dict: [['tt0248867', 'tt0011999', 'tt0248981'], 0]\n",
            "time: 2.42 ms (started: 2021-07-16 18:21:01 +00:00)\n"
          ],
          "name": "stdout"
        }
      ]
    },
    {
      "cell_type": "markdown",
      "metadata": {
        "id": "6d3pm4fT3uui"
      },
      "source": [
        "Creation of a dictionary to keep track of the correspondance between movies and actors"
      ]
    },
    {
      "cell_type": "code",
      "metadata": {
        "id": "fjjd3nkXS3ly",
        "colab": {
          "base_uri": "https://localhost:8080/"
        },
        "outputId": "ba00a68b-64f1-4c25-9953-88fb08f0355b"
      },
      "source": [
        "genres_dict = {genre : [] for genre in genres}\n",
        "\n",
        "for _, row in df_sample.iterrows():\n",
        "  for el in row[\"genres\"].split(\",\"): \n",
        "    genres_dict [el].append(row[\"nconst\"])\n",
        "\n",
        "for el in genres_dict: \n",
        "  genres_dict [el] = list(set(genres_dict [el]))"
      ],
      "execution_count": null,
      "outputs": [
        {
          "output_type": "stream",
          "text": [
            "time: 31.5 s (started: 2021-07-16 18:21:01 +00:00)\n"
          ],
          "name": "stdout"
        }
      ]
    },
    {
      "cell_type": "code",
      "metadata": {
        "id": "noICRZZlZq8e",
        "colab": {
          "base_uri": "https://localhost:8080/"
        },
        "outputId": "4ddad183-780b-4d7c-ea2f-e4842562b69f"
      },
      "source": [
        "print(f'Example from genres_dict: {next(iter(genres_dict.values()))[:10]}')"
      ],
      "execution_count": null,
      "outputs": [
        {
          "output_type": "stream",
          "text": [
            "Example from genres_dict: ['nm1501624', 'nm0028923', 'nm3786086', 'nm0037375', 'nm0871548', 'nm2979408', 'nm0269771', 'nm7526898', 'nm0072240', 'nm0905268']\n",
            "time: 2.22 ms (started: 2021-07-16 18:28:47 +00:00)\n"
          ],
          "name": "stdout"
        }
      ]
    },
    {
      "cell_type": "code",
      "metadata": {
        "colab": {
          "base_uri": "https://localhost:8080/"
        },
        "id": "jsr2nbVckvhE",
        "outputId": "1bb908a2-7b97-44b4-ae6c-4bacc6e67acb"
      },
      "source": [
        "next(iter(genres_dict.values()))[:10]"
      ],
      "execution_count": null,
      "outputs": [
        {
          "output_type": "execute_result",
          "data": {
            "text/plain": [
              "['nm1501624',\n",
              " 'nm0028923',\n",
              " 'nm3786086',\n",
              " 'nm0037375',\n",
              " 'nm0871548',\n",
              " 'nm2979408',\n",
              " 'nm0269771',\n",
              " 'nm7526898',\n",
              " 'nm0072240',\n",
              " 'nm0905268']"
            ]
          },
          "metadata": {
            "tags": []
          },
          "execution_count": 41
        },
        {
          "output_type": "stream",
          "text": [
            "time: 4.32 ms (started: 2021-07-16 18:28:07 +00:00)\n"
          ],
          "name": "stdout"
        }
      ]
    },
    {
      "cell_type": "markdown",
      "metadata": {
        "id": "vR4zTb1R66MY"
      },
      "source": [
        "Creation of a dictionary that links actors that performed in the same project"
      ]
    },
    {
      "cell_type": "code",
      "metadata": {
        "id": "E1C0M1ywT_Vo",
        "colab": {
          "base_uri": "https://localhost:8080/"
        },
        "outputId": "07cb9d1b-a179-44a8-cbec-cf89c005c7c7"
      },
      "source": [
        "links = {actor : [] for actor in actors_enum}\n",
        "\n",
        "for actor in actors_enum:\n",
        "  for movie in actors_dict[actor][0] :\n",
        "    links[actor].append(movies_dict[movie])\n",
        "  links[actor] = list(set(flatten(links[actor]))) "
      ],
      "execution_count": null,
      "outputs": [
        {
          "output_type": "stream",
          "text": [
            "time: 1.78 s (started: 2021-07-16 18:21:33 +00:00)\n"
          ],
          "name": "stdout"
        }
      ]
    },
    {
      "cell_type": "code",
      "metadata": {
        "id": "kcWjNrNNVwh-",
        "colab": {
          "base_uri": "https://localhost:8080/"
        },
        "outputId": "38d20d75-ea85-4a4d-9b74-08ceb4a0af8f"
      },
      "source": [
        "print(f'Example from links: {next(iter(links.values()))}')"
      ],
      "execution_count": null,
      "outputs": [
        {
          "output_type": "stream",
          "text": [
            "Example from links: ['nm0925118', 'nm0743285', 'nm0267638']\n",
            "time: 2.22 ms (started: 2021-07-16 18:21:35 +00:00)\n"
          ],
          "name": "stdout"
        }
      ]
    },
    {
      "cell_type": "code",
      "metadata": {
        "id": "IY30hI-iaBeA",
        "colab": {
          "base_uri": "https://localhost:8080/"
        },
        "outputId": "4aaa2e83-15ca-465d-8a87-a763db197b40"
      },
      "source": [
        "print(f'Total number of actors: {len(df_sample[\"nconst\"].unique())}')"
      ],
      "execution_count": null,
      "outputs": [
        {
          "output_type": "stream",
          "text": [
            "Total number of actors: 153237\n",
            "time: 198 ms (started: 2021-07-16 18:21:35 +00:00)\n"
          ],
          "name": "stdout"
        }
      ]
    },
    {
      "cell_type": "markdown",
      "metadata": {
        "id": "KTRWBmjJ7GdC"
      },
      "source": [
        "Creation of a dictionary that associates to each actor the average rating obtained by the movies in which he performed"
      ]
    },
    {
      "cell_type": "code",
      "metadata": {
        "id": "1nZT6CJvZ2tw",
        "colab": {
          "base_uri": "https://localhost:8080/"
        },
        "outputId": "2b52cc20-d236-4c48-aa55-789eaf95a87a"
      },
      "source": [
        "avg_ratings = {actor : 0 for actor in actors_enum}\n",
        "\n",
        "for i in range(len(df_sample)):\n",
        "  avg_ratings[df_sample[\"nconst\"][i]] += df_sample[\"averageRating\"][i]\n",
        "\n",
        "for el in avg_ratings:\n",
        "  avg_ratings[el] /= 10 * len(actors_dict[el][0])\n"
      ],
      "execution_count": null,
      "outputs": [
        {
          "output_type": "stream",
          "text": [
            "time: 5.52 s (started: 2021-07-16 18:21:35 +00:00)\n"
          ],
          "name": "stdout"
        }
      ]
    },
    {
      "cell_type": "code",
      "metadata": {
        "id": "kaGFhwaSbULP",
        "colab": {
          "base_uri": "https://localhost:8080/"
        },
        "outputId": "f7bad1b5-d2fd-4fc0-a7c5-73210e5e002e"
      },
      "source": [
        "print(f'Example from avg_ratings: {next(iter(avg_ratings.values())):.2f}')"
      ],
      "execution_count": null,
      "outputs": [
        {
          "output_type": "stream",
          "text": [
            "Example from avg_ratings: 0.58\n",
            "time: 2.35 ms (started: 2021-07-16 18:21:40 +00:00)\n"
          ],
          "name": "stdout"
        }
      ]
    },
    {
      "cell_type": "markdown",
      "metadata": {
        "id": "a1HE52zX7utA"
      },
      "source": [
        "The following is a toy example that show a subgraph obtained by the original dataset"
      ]
    },
    {
      "cell_type": "code",
      "metadata": {
        "id": "dfvsSRQ21CtY",
        "colab": {
          "base_uri": "https://localhost:8080/"
        },
        "outputId": "1aa4cc63-66fb-4906-fc5e-20f238abdff1"
      },
      "source": [
        "def get_subgraph(df_sample, links, out_degree):\n",
        "  \"\"\"\n",
        "    This function create and visualize a subgraph extracted from the sampled version of the merged dataset\n",
        "    \n",
        "    Args:\n",
        "      df_sample : the considered dataset\n",
        "      links : the dictionary that keeps the correspondance between each actor and the actors he/she worked with\n",
        "      out_degree : the minimum numer of outer links a node has to have to be chosen \n",
        "      \n",
        "    Returns:\n",
        "      the visualization of the subgraph \n",
        "  \"\"\"\n",
        "  plt.rcParams[\"figure.figsize\"] = (10,10)\n",
        "  g = nx.DiGraph()\n",
        "\n",
        "  for actor in links:\n",
        "    if len(links[actor])>=out_degree:\n",
        "      first_actor = actor\n",
        "\n",
        "  for actor in links[first_actor]:\n",
        "    g.add_node(actor)\n",
        "\n",
        "  for actor in links[first_actor]:\n",
        "    if (first_actor != actor) :\n",
        "      g.add_edge(first_actor, actor)\n",
        "\n",
        "  for actor in g.nodes:\n",
        "    if(first_actor != actor):\n",
        "      for actor2 in links[actor]:\n",
        "        if actor2 in g.nodes:\n",
        "          g.add_edge(actor, actor2)\n",
        "\n",
        "  name_dict = {actor : \"\" for actor in g.nodes}\n",
        "  for actor in name_dict:\n",
        "    name_dict[actor] = df_sample[df_sample[\"nconst\"] == actor][\"primaryName\"].unique()[0]\n",
        "\n",
        "  opts = {'node_size': 1800, \n",
        "        'font_color': 'black',\n",
        "        'font_size': 15,\n",
        "        'font_weight': 'bold',\n",
        "        'edge_color':'b',\n",
        "        'arrowsize': 20}\n",
        "\n",
        "\n",
        "  nx.draw(g, node_color='#AAAAEE', with_labels=True, labels=name_dict, **opts)\n",
        "  \n",
        "  plt.show()"
      ],
      "execution_count": null,
      "outputs": [
        {
          "output_type": "stream",
          "text": [
            "time: 26.5 ms (started: 2021-07-16 18:21:40 +00:00)\n"
          ],
          "name": "stdout"
        }
      ]
    },
    {
      "cell_type": "code",
      "metadata": {
        "id": "GphohoyX6PAH",
        "colab": {
          "base_uri": "https://localhost:8080/",
          "height": 769
        },
        "outputId": "16c82141-f1c6-40c7-ec42-96794708cb10"
      },
      "source": [
        "get_subgraph(df_sample, links, 9)"
      ],
      "execution_count": null,
      "outputs": [
        {
          "output_type": "display_data",
          "data": {
            "image/png": "[encoded data removed]",
            "text/plain": [
              "<Figure size 720x720 with 1 Axes>"
            ]
          },
          "metadata": {
            "tags": []
          }
        },
        {
          "output_type": "stream",
          "text": [
            "time: 1.81 s (started: 2021-07-16 18:21:40 +00:00)\n"
          ],
          "name": "stdout"
        }
      ]
    },
    {
      "cell_type": "markdown",
      "metadata": {
        "id": "e4lxi3WuaSy2"
      },
      "source": [
        "# PageRank"
      ]
    },
    {
      "cell_type": "markdown",
      "metadata": {
        "id": "HFj5Wao0xnY3"
      },
      "source": [
        "##Functions"
      ]
    },
    {
      "cell_type": "code",
      "metadata": {
        "id": "eI5JN3hBLEIt",
        "colab": {
          "base_uri": "https://localhost:8080/"
        },
        "outputId": "af46fb1c-e209-4a7b-c37a-8e99d5e4f003"
      },
      "source": [
        "def get_genres(df_title_basics):\n",
        "  \"\"\"\n",
        "    This function extracts all possible genres from the IMDb movies dataset\n",
        "\n",
        "    Args:\n",
        "      df_title_basics : the dataset from which we want to extract the genres\n",
        "    \n",
        "    Returns:\n",
        "      the list of all possible genres of the products in the dataset\n",
        "  \"\"\"\n",
        "  genres = []\n",
        "  for el in df_title_basics[\"genres\"]:\n",
        "    genres.append(el.split(\",\"))\n",
        "\n",
        "  genres = list(set(flatten(genres)))\n",
        "  return genres\n",
        "\n",
        "def get_actors(df_sample):\n",
        "  \"\"\"\n",
        "    This function extracts all possible actors from the IMDb movies dataset\n",
        "\n",
        "    Args:\n",
        "      df_sample : the dataset from which we want to extract the actors\n",
        "    \n",
        "    Returns:\n",
        "      the list of all the actors in the dataset\n",
        "  \"\"\"\n",
        "  return  df_sample[\"nconst\"].unique()"
      ],
      "execution_count": null,
      "outputs": [
        {
          "output_type": "stream",
          "text": [
            "time: 7.84 ms (started: 2021-07-16 13:47:44 +00:00)\n"
          ],
          "name": "stdout"
        }
      ]
    },
    {
      "cell_type": "code",
      "metadata": {
        "id": "IoiAnXR2LdmH",
        "colab": {
          "base_uri": "https://localhost:8080/"
        },
        "outputId": "84de2f50-e52a-4696-dcfb-39081948b86e"
      },
      "source": [
        "def create_dicts(df_sample, actors_enum):\n",
        "  \"\"\"\n",
        "    This function creates two dictionaries that associate each actor to the movies he/she performed in and each product with the cast that worked in it\n",
        "\n",
        "    Args:\n",
        "      df_sample : the dataset we want to extract informations from\n",
        "      actors_enum : the list of all considered actors\n",
        "\n",
        "    Returns:\n",
        "      a dictionary containing for each product the cast that performed in it, dictionary containing for each actor the movies in which he/she performed and an ID to univoquely identify him/her\n",
        "  \"\"\"\n",
        "  movies_dict = {movie : [] for movie in df_sample[\"tconst\"].unique()}\n",
        "  actors_dict = {actor : [[], i] for actor, i in zip(actors_enum, range(len(actors_enum)))}\n",
        "\n",
        "  for i in range(len(df_sample[\"tconst\"])) :\n",
        "    movies_dict[df_sample[\"tconst\"][i]].append(df_sample[\"nconst\"][i])\n",
        "    actors_dict[df_sample[\"nconst\"][i]][0].append(df_sample[\"tconst\"][i])\n",
        "\n",
        "  return movies_dict, actors_dict\n",
        "\n",
        "def create_genres_dict(df_sample, genres):\n",
        "  \"\"\"\n",
        "    This function creates a dictionary that associate each genre to the actors related to it\n",
        "\n",
        "    Args:\n",
        "      df_sample : the dataset we want to extract informations from\n",
        "      genres : the list of all possible genres in the dataset\n",
        "\n",
        "    Returns:\n",
        "      a dictionary containing for each genre the actors related to it\n",
        "  \"\"\"\n",
        "  genres_dict = {genre : [] for genre in genres}\n",
        "\n",
        "  for _, row in df_sample.iterrows():\n",
        "    for el in row[\"genres\"].split(\",\"): \n",
        "      genres_dict [el].append(row[\"nconst\"])\n",
        "\n",
        "  for el in genres_dict: \n",
        "    genres_dict [el] = list(set(genres_dict[el]))\n",
        "\n",
        "  return genres_dict\n",
        "\n",
        "def create_ratings_dict(df_sample, actors_enum, actors_dict):\n",
        "  \"\"\"\n",
        "    This function creates a dictionary that associate each actor to the average rating of the movies he/she performed in\n",
        "\n",
        "    Args:\n",
        "      df_sample : the dataset we want to extract informations from\n",
        "      actors_enum : the list of all considered actors\n",
        "      actors_dict : a dictionary containing for each actor the movies in which he/she performed and an ID to univocally identify him/her\n",
        "\n",
        "    Returns:\n",
        "      a dictionary containing for each actor the average rating of the movies he/she performed in\n",
        "  \"\"\"\n",
        "  avg_ratings = {actor : 0 for actor in actors_enum}\n",
        "  \n",
        "  for i in range(len(df_sample)):\n",
        "    avg_ratings[df_sample[\"nconst\"][i]] += df_sample[\"averageRating\"][i]\n",
        "\n",
        "  for el in avg_ratings:\n",
        "    avg_ratings[el] /= 10 * len(actors_dict[el][0])\n",
        "\n",
        "  return avg_ratings  \n",
        "\n",
        "def get_links(actors_enum, movies_dict, actors_dict):\n",
        "  \"\"\"\n",
        "    This function creates a dictionary that associate each actor to the actors he/she performed with\n",
        "\n",
        "    Args:\n",
        "      df_sample : the dataset we want to extract informations from\n",
        "      actors_enum : the list of all considered actors\n",
        "      movies_dict : a dictionary containing for each product the cast that performed in it\n",
        "      actors_dict : a dictionary containing for each actor the movies in which he/she performed and an ID to univoquely identify him/her\n",
        "\n",
        "    Returns:\n",
        "      a dictionary containing for each actor the actors he/she performed with\n",
        "  \"\"\"\n",
        "  links = {actor : [] for actor in actors_enum}\n",
        "\n",
        "  for actor in actors_enum:\n",
        "    for movie in actors_dict[actor][0] :\n",
        "      links[actor].append(movies_dict[movie])\n",
        "    links[actor] = list(set(flatten(links[actor]))) \n",
        "\n",
        "  return links"
      ],
      "execution_count": null,
      "outputs": [
        {
          "output_type": "stream",
          "text": [
            "time: 47.8 ms (started: 2021-07-16 13:47:44 +00:00)\n"
          ],
          "name": "stdout"
        }
      ]
    },
    {
      "cell_type": "code",
      "metadata": {
        "id": "_LdlEy12xylV",
        "colab": {
          "base_uri": "https://localhost:8080/"
        },
        "outputId": "fb1107a8-af88-4324-b6e6-8414e03c23c6"
      },
      "source": [
        "def create_connection_matrix(links):\n",
        "    \"\"\"\n",
        "    This function creates the connection matrix\n",
        "\n",
        "    Args:\n",
        "      links : a dictionary containing for each actor the actors he/she performed with\n",
        "\n",
        "    Returns:\n",
        "      a connection matrix  whose entries are in the form (act2, act1, 1/num_outerlinks_act1)\n",
        "    \"\"\"\n",
        "    connection_matrix = []\n",
        "    for a in links:\n",
        "      for b in links[a]:\n",
        "        connection_matrix.append((b, a, 1./len(links[a])))\n",
        "    \n",
        "    return connection_matrix"
      ],
      "execution_count": null,
      "outputs": [
        {
          "output_type": "stream",
          "text": [
            "time: 4.4 ms (started: 2021-07-16 13:47:44 +00:00)\n"
          ],
          "name": "stdout"
        }
      ]
    },
    {
      "cell_type": "code",
      "metadata": {
        "id": "EuJqFStjzKsW"
      },
      "source": [
        "def get_page_rank(actors_enum, links, actors_dict, logger, beta=0.8,\n",
        "                  max_iterations=400, tolerance=1.e-5, verbose=False):\n",
        "    \"\"\"\n",
        "      Page Rank algorithm\n",
        "      \n",
        "      Args:\n",
        "        actors_enum : list of all possible actors\n",
        "        links : the association between actors that worked in the same project\n",
        "        actors_dict : the association between actors and projects in which they took part\n",
        "        logger : the logger used to write to the correspondent log file\n",
        "        beta : the parameter regulating teleporting, if equals 1 it leads to the basic version of pagerank without taxation (default = 0.8)\n",
        "        max_iterations : the maximum number of iteration allowed (default = 400)\n",
        "        tolerance : the minimum difference between actual and old page rank (default = 1.e-5)\n",
        "        verbose : boolean, if True at each iteration print computed pagerank \n",
        "\n",
        "      Returns: \n",
        "        the computed page rank for each actor\n",
        "    \"\"\"\n",
        "\n",
        "    connection_matrix = create_connection_matrix(links)\n",
        "    rdd = sc.parallelize(connection_matrix).cache()\n",
        "\n",
        "    n = len(actors_enum)\n",
        "    page_rank = np.ones(n)/n\n",
        "    old_page_rank = np.ones(n)\n",
        "    \n",
        "    iteration = 0\n",
        "    while np.linalg.norm(old_page_rank - page_rank) > tolerance and iteration < max_iterations:\n",
        "        old_page_rank = page_rank\n",
        "        page_rank_values = (rdd.map(lambda t: (actors_dict[t[0]][1], t[2]*page_rank[actors_dict[t[1]][1]]))\n",
        "                            .reduceByKey(lambda a, b: a+b)\n",
        "                            .sortByKey()\n",
        "                            .collect()\n",
        "                           )\n",
        "        page_rank = np.array([beta*c + (1-beta)/n\n",
        "                              for (i, c) in page_rank_values])\n",
        "            \n",
        "        if verbose:\n",
        "            print(page_rank)\n",
        "\n",
        "        iteration += 1\n",
        "        \n",
        "    print('{} iterations'.format(iteration))\n",
        "    logger.info(f'Iterations: {iteration}')\n",
        "    \n",
        "    return page_rank"
      ],
      "execution_count": 3,
      "outputs": []
    },
    {
      "cell_type": "code",
      "metadata": {
        "id": "1ehJX04UiX8r"
      },
      "source": [
        "def get_topic_page_rank(actors_enum, links, actors_dict, topics, genres_dict, logger, trustrank = False, beta=0.8,\n",
        "                  max_iterations=400, tolerance=1.e-5, verbose=False):\n",
        "  \n",
        "    \"\"\"\n",
        "      Topic Sensitive Page Rank algorithm\n",
        "\n",
        "      Args:\n",
        "        actors_enum : list of all possible actors\n",
        "        links : the association between actors that worked in the same project\n",
        "        actors_dict : the association between actors and projects in which they took part\n",
        "        topics : the list of preferred topics (or the trusted pages if trustrank = True)\n",
        "        genres_dict : a dictionary containing for each genre the products related to it\n",
        "        logger : the logger used to write to the correspondent log file\n",
        "        trustrank : if True we're computing the Trustrank variant of the algorithm\n",
        "        beta : the parameter regulating teleporting, if equals 1 it leads to the basic version of pagerank without taxation (default = 0.8)\n",
        "        max_iterations : the maximum number of iteration allowed (default = 400)\n",
        "        tolerance : the minimum difference between actual and old page rank (default = 1.e-5)\n",
        "        verbose : boolean, if True at each iteration print computed pagerank \n",
        "\n",
        "      Returns: \n",
        "        the computed page rank for each actor\n",
        "    \"\"\"\n",
        "\n",
        "    connection_matrix = create_connection_matrix(links)\n",
        "    rdd = sc.parallelize(connection_matrix).cache()\n",
        "\n",
        "    n = len(actors_enum)\n",
        "    page_rank = np.ones(n)/n\n",
        "    old_page_rank = np.ones(n)\n",
        "\n",
        "    if (not trustrank):\n",
        "      s = 0\n",
        "      for el in topics: \n",
        "        s += len(genres_dict[el])\n",
        "    else:\n",
        "      s = np.sum(topics)\n",
        "\n",
        "    iteration = 0\n",
        "    while np.linalg.norm(old_page_rank - page_rank) > tolerance and iteration < max_iterations:\n",
        "        old_page_rank = page_rank\n",
        "        page_rank_values = (rdd.map(lambda t: (actors_dict[t[0]][1], t[2]*page_rank[actors_dict[t[1]][1]]))\n",
        "                            .reduceByKey(lambda a, b: a+b)\n",
        "                            .sortByKey()\n",
        "                            .collect()\n",
        "                           )\n",
        "        page_rank = np.array([beta*c + (1-beta)/s\n",
        "                              for (i, c) in page_rank_values])\n",
        "            \n",
        "        if verbose:\n",
        "            print(page_rank)\n",
        "\n",
        "        iteration += 1\n",
        "        \n",
        "    print('{} iterations'.format(iteration))\n",
        "    logger.info(f'Iterations: {iteration}')\n",
        "    \n",
        "    return page_rank"
      ],
      "execution_count": 4,
      "outputs": []
    },
    {
      "cell_type": "code",
      "metadata": {
        "id": "fOSOWldLlG8J",
        "colab": {
          "base_uri": "https://localhost:8080/"
        },
        "outputId": "496acef1-f238-4094-e757-21bb495f1ed9"
      },
      "source": [
        "def get_spam_mass(actors_enum, links, actors_dict, logger, beta=0.8,\n",
        "                  max_iterations=400, tolerance=1.e-5, verbose=False):\n",
        "  \"\"\"\n",
        "    Trust Rank algorithm\n",
        "    The Trust Rank is obtained as the ratio between the number of projects in which the actor took part divided by the maximum number of projects in which an actor took part\n",
        "    TrustRank is like topic-sensitive PageRank, where the “topic” is a set of nodes believed to be trustworthy (not spam)\n",
        "    \n",
        "    Input:\n",
        "    actors_enum: list of all possible actors\n",
        "    links: the association between actors that worked in the same project\n",
        "    actors_dict: the association between actors and projects in which they took part\n",
        "    logger : the logger used to write to the correspondent log file\n",
        "    beta: the parameter regulating teleporting, if equals 1 it leads to the basic version of pagerank without taxation (default = 0.8)\n",
        "    max_iterations: the maximum number of iteration allowed (default = 400)\n",
        "    tolerance: the minimum difference between actual and old page rank (default = 1.e-5)\n",
        "    verbose: boolean, if True at each iteration print computed pagerank \n",
        "    \n",
        "    Returns:\n",
        "      the computed spam mass for each actor; the spam mass is obtained as the ratio between the difference of Page Rank and Trust Rank and the Trust Rank itself\n",
        "  \"\"\"\n",
        "    \n",
        "  page_rank = get_page_rank(actors_enum, links, actors_dict, logger, beta, max_iterations, tolerance, verbose)\n",
        "\n",
        "  mean = np.mean(np.array([len(actors_dict[actor][0]) for actor in actors_enum]))\n",
        "\n",
        "  trust_topics = np.array([1 if len(actors_dict[actor][0]) >= mean else 0 for actor in actors_enum])\n",
        "  trust_rank = get_topic_page_rank(actors_enum, links, actors_dict, trust_topics, _, logger, trustrank=True, max_iterations=max_iterations) \n",
        "\n",
        "  spam_mass = (page_rank - trust_rank)/trust_rank\n",
        "\n",
        "  return spam_mass"
      ],
      "execution_count": null,
      "outputs": [
        {
          "output_type": "stream",
          "text": [
            "time: 13.3 ms (started: 2021-07-16 13:47:44 +00:00)\n"
          ],
          "name": "stdout"
        }
      ]
    },
    {
      "cell_type": "code",
      "metadata": {
        "id": "5SJsvKoVYdv2",
        "colab": {
          "base_uri": "https://localhost:8080/"
        },
        "outputId": "7c655759-36cd-41c6-a0a1-6a6383817ad8"
      },
      "source": [
        "def get_spam_mass_ratings(actors_enum, links, actors_dict, avg_ratings, logger, beta=0.8,\n",
        "                  max_iterations=400, tolerance=1.e-5, verbose=False):\n",
        "  '''\n",
        "    Trust Rank algorithm\n",
        "    The Trust Rank is obtained as the the average rating given to the products in which an actor took part\n",
        "    \n",
        "    Args:\n",
        "      actors_enum : list of all possible actors\n",
        "      links : the association between actors that worked in the same project\n",
        "      actors_dict : the association between actors and projects in which they took part\n",
        "      avg_ratings : the association between actors and their average rating on projects in which they have taken part\n",
        "      logger : the logger used to write to the correspondent log file\n",
        "      beta : the parameter regulating teleporting, if equals 1 it leads to the basic version of pagerank without taxation (default = 0.8)\n",
        "      max_iterations : the maximum number of iteration allowed (default = 400)\n",
        "      tolerance : the minimum difference between actual and old page rank (default = 1.e-5)\n",
        "      verbose : boolean, if True at each iteration print computed pagerank \n",
        "    \n",
        "    Returns: \n",
        "      the computed spam mass for each actor; the spam mass is obtained as the ratio between the difference of Page Rank and Trust Rank and the Trust Rank itself\n",
        "  '''\n",
        "    \n",
        "  page_rank = get_page_rank(actors_enum, links, actors_dict, logger, beta, max_iterations, tolerance, verbose)\n",
        "\n",
        "  mean = np.mean(np.array([avg_ratings[actor] for actor in avg_ratings]))\n",
        "  trust_topics = np.array([1 if avg_ratings[actor] >= mean else 0 for actor in avg_ratings])\n",
        "\n",
        "  trust_rank = get_topic_page_rank(actors_enum, links, actors_dict, trust_topics, _, logger, trustrank= True, max_iterations=max_iterations) \n",
        "\n",
        "  spam_mass = (page_rank - trust_rank)/trust_rank\n",
        "\n",
        "  return spam_mass"
      ],
      "execution_count": null,
      "outputs": [
        {
          "output_type": "stream",
          "text": [
            "time: 16.9 ms (started: 2021-07-16 13:47:44 +00:00)\n"
          ],
          "name": "stdout"
        }
      ]
    },
    {
      "cell_type": "code",
      "metadata": {
        "id": "IvI46OVJZoGl",
        "colab": {
          "base_uri": "https://localhost:8080/"
        },
        "outputId": "f642bad6-8e70-4940-cdab-3cac7c29cef1"
      },
      "source": [
        "def setup_logger(name, log_file, level=logging.INFO):\n",
        "    '''\n",
        "      To setup as many loggers as you want\n",
        "      Args:\n",
        "      name : name of the logger\n",
        "      log_file : name of the correspondent log fileprint computed pagerank \n",
        "      level = level of the log (info, warning, ...)\n",
        "\n",
        "    Returns: \n",
        "      the created logger\n",
        "    '''    \n",
        "\n",
        "    formatter = logging.Formatter('%(asctime)s - %(message)s', datefmt='%d-%b-%y %H:%M:%S')\n",
        "    handler = logging.FileHandler(log_file)        \n",
        "    handler.setFormatter(formatter)\n",
        "\n",
        "    logger = logging.getLogger(name)\n",
        "    logger.setLevel(level)\n",
        "    logger.addHandler(handler)\n",
        "\n",
        "    return logger"
      ],
      "execution_count": null,
      "outputs": [
        {
          "output_type": "stream",
          "text": [
            "time: 8.29 ms (started: 2021-07-16 13:47:44 +00:00)\n"
          ],
          "name": "stdout"
        }
      ]
    },
    {
      "cell_type": "markdown",
      "metadata": {
        "id": "zGe3PcWQVlg_"
      },
      "source": [
        "## Basic implementation"
      ]
    },
    {
      "cell_type": "markdown",
      "metadata": {
        "id": "Ng3wgkXB8YAt"
      },
      "source": [
        "*n* is the number of times you want to repeat the experiment"
      ]
    },
    {
      "cell_type": "code",
      "metadata": {
        "id": "e21MtnU3B_Xj",
        "colab": {
          "base_uri": "https://localhost:8080/"
        },
        "outputId": "ff9912f5-815d-496b-b0c1-edf39c58df2f"
      },
      "source": [
        "n = 5\n",
        "\n",
        "logger_pagerank = setup_logger('experiments_pagerank', 'experiments_pagerank.log')\n",
        "for iter in range(n):\n",
        "  logger_pagerank.info('This experiment implements PageRank')\n",
        "\n",
        "  s_rates = [0.00001, 0.0001, 0.001, 0.01, 0.1]\n",
        "  time_basic = np.zeros(len(s_rates))\n",
        "\n",
        "  for i in range(len(s_rates)):\n",
        "    df_sample = preprocess_dataset(df_title_basics_copy, df_principals_copy, df_name_basics_copy, df_ratings_copy, sampling_rate = s_rates[i])\n",
        "    actors_enum = get_actors(df_sample)\n",
        "  \n",
        "    movies_dict, actors_dict = create_dicts(df_sample, actors_enum)\n",
        "    links = get_links(actors_enum, movies_dict, actors_dict)\n",
        "\n",
        "    tic = time.time()\n",
        "    get_page_rank(actors_enum, links, actors_dict, logger_pagerank, beta=1, max_iterations = 150)\n",
        "    toc = time.time()\n",
        "    time_basic[i] = toc-tic\n",
        "    logger_pagerank.info(f'Sampling: {s_rates[i]}, Time: {time_basic[i]}')\n",
        "    print(time_basic[i]) "
      ],
      "execution_count": null,
      "outputs": [
        {
          "output_type": "stream",
          "text": [
            "Sample size: 34\n",
            "1 iterations\n",
            "3.544386625289917\n",
            "Sample size: 340\n",
            "1 iterations\n",
            "0.5794167518615723\n",
            "Sample size: 3404\n",
            "1 iterations\n",
            "0.8892350196838379\n",
            "Sample size: 34044\n",
            "120 iterations\n",
            "202.59213423728943\n",
            "Sample size: 340443\n",
            "150 iterations\n",
            "1453.2743821144104\n",
            "time: 32min 58s (started: 2021-07-16 13:47:44 +00:00)\n"
          ],
          "name": "stdout"
        }
      ]
    },
    {
      "cell_type": "code",
      "metadata": {
        "id": "mY2U5KvmrTSY",
        "colab": {
          "base_uri": "https://localhost:8080/"
        },
        "outputId": "f448e6b1-10e6-4979-e505-d1d21da21c48"
      },
      "source": [
        "files.download('experiments_pagerank.log')\n",
        "file = open('experiments_pagerank.log', 'r')\n",
        "experiments_pagerank = file.read().splitlines()\n",
        "file.close()"
      ],
      "execution_count": null,
      "outputs": [
        {
          "output_type": "display_data",
          "data": {
            "application/javascript": [
              "\n",
              "    async function download(id, filename, size) {\n",
              "      if (!google.colab.kernel.accessAllowed) {\n",
              "        return;\n",
              "      }\n",
              "      const div = document.createElement('div');\n",
              "      const label = document.createElement('label');\n",
              "      label.textContent = `Downloading \"${filename}\": `;\n",
              "      div.appendChild(label);\n",
              "      const progress = document.createElement('progress');\n",
              "      progress.max = size;\n",
              "      div.appendChild(progress);\n",
              "      document.body.appendChild(div);\n",
              "\n",
              "      const buffers = [];\n",
              "      let downloaded = 0;\n",
              "\n",
              "      const channel = await google.colab.kernel.comms.open(id);\n",
              "      // Send a message to notify the kernel that we're ready.\n",
              "      channel.send({})\n",
              "\n",
              "      for await (const message of channel.messages) {\n",
              "        // Send a message to notify the kernel that we're ready.\n",
              "        channel.send({})\n",
              "        if (message.buffers) {\n",
              "          for (const buffer of message.buffers) {\n",
              "            buffers.push(buffer);\n",
              "            downloaded += buffer.byteLength;\n",
              "            progress.value = downloaded;\n",
              "          }\n",
              "        }\n",
              "      }\n",
              "      const blob = new Blob(buffers, {type: 'application/binary'});\n",
              "      const a = document.createElement('a');\n",
              "      a.href = window.URL.createObjectURL(blob);\n",
              "      a.download = filename;\n",
              "      div.appendChild(a);\n",
              "      a.click();\n",
              "      div.remove();\n",
              "    }\n",
              "  "
            ],
            "text/plain": [
              "<IPython.core.display.Javascript object>"
            ]
          },
          "metadata": {
            "tags": []
          }
        },
        {
          "output_type": "display_data",
          "data": {
            "application/javascript": [
              "download(\"download_e4bb0d82-a98f-426c-882a-6cab6fc3930c\", \"experiments_pagerank.log\", 548)"
            ],
            "text/plain": [
              "<IPython.core.display.Javascript object>"
            ]
          },
          "metadata": {
            "tags": []
          }
        },
        {
          "output_type": "stream",
          "text": [
            "time: 11.2 ms (started: 2021-07-16 14:20:42 +00:00)\n"
          ],
          "name": "stdout"
        }
      ]
    },
    {
      "cell_type": "markdown",
      "metadata": {
        "id": "-SLNCklWVZmc"
      },
      "source": [
        "## Pagerank with taxation"
      ]
    },
    {
      "cell_type": "code",
      "metadata": {
        "colab": {
          "base_uri": "https://localhost:8080/"
        },
        "id": "EYBX8AoBOXWx",
        "outputId": "233f8bd8-1b5c-423a-88b2-96e474f9fd18"
      },
      "source": [
        "n = 1\n",
        "\n",
        "logger_taxation = setup_logger('experiments_taxation', 'experiments_taxation.log')\n",
        "for iter in range(n):\n",
        "  logger_taxation.info('This experiment implements PageRank with taxation')\n",
        "\n",
        "  s_rates = [0.00001, 0.0001, 0.001, 0.01, 0.1]\n",
        "  time_taxation =  np.zeros(len(s_rates))\n",
        "\n",
        "  for i in range(len(s_rates)):\n",
        "    df_sample = preprocess_dataset(df_title_basics_copy, df_principals_copy, df_name_basics_copy, df_ratings_copy, sampling_rate = s_rates[i])\n",
        "    actors_enum = get_actors(df_sample)\n",
        "  \n",
        "    movies_dict, actors_dict = create_dicts(df_sample, actors_enum)\n",
        "    links = get_links(actors_enum, movies_dict, actors_dict)\n",
        "\n",
        "    tic = time.time()\n",
        "    get_page_rank(actors_enum, links, actors_dict, logger_taxation, max_iterations = 150)\n",
        "    toc = time.time()\n",
        "    time_taxation[i] = toc-tic\n",
        "    logger_taxation.info(f'Sampling: {s_rates[i]}, Time: {time_taxation[i]}')\n",
        "    print(time_taxation[i]) "
      ],
      "execution_count": null,
      "outputs": [
        {
          "output_type": "stream",
          "text": [
            "Sample size: 34\n",
            "1 iterations\n",
            "0.2586073875427246\n",
            "Sample size: 340\n",
            "1 iterations\n",
            "0.3037548065185547\n",
            "Sample size: 3404\n",
            "1 iterations\n",
            "0.43696165084838867\n",
            "Sample size: 34044\n",
            "24 iterations\n",
            "38.032129764556885\n",
            "Sample size: 340443\n",
            "150 iterations\n",
            "1427.7856419086456\n",
            "time: 29min 34s (started: 2021-07-16 14:26:39 +00:00)\n"
          ],
          "name": "stdout"
        }
      ]
    },
    {
      "cell_type": "code",
      "metadata": {
        "id": "ctktfadxUHmT",
        "colab": {
          "base_uri": "https://localhost:8080/"
        },
        "outputId": "f84bad26-2cb8-45b5-b964-17aa35393e55"
      },
      "source": [
        "files.download('experiments_taxation.log')\n",
        "file = open('experiments_taxation.log', 'r')\n",
        "experiments_taxation = file.read().splitlines()\n",
        "file.close()"
      ],
      "execution_count": null,
      "outputs": [
        {
          "output_type": "display_data",
          "data": {
            "application/javascript": [
              "\n",
              "    async function download(id, filename, size) {\n",
              "      if (!google.colab.kernel.accessAllowed) {\n",
              "        return;\n",
              "      }\n",
              "      const div = document.createElement('div');\n",
              "      const label = document.createElement('label');\n",
              "      label.textContent = `Downloading \"${filename}\": `;\n",
              "      div.appendChild(label);\n",
              "      const progress = document.createElement('progress');\n",
              "      progress.max = size;\n",
              "      div.appendChild(progress);\n",
              "      document.body.appendChild(div);\n",
              "\n",
              "      const buffers = [];\n",
              "      let downloaded = 0;\n",
              "\n",
              "      const channel = await google.colab.kernel.comms.open(id);\n",
              "      // Send a message to notify the kernel that we're ready.\n",
              "      channel.send({})\n",
              "\n",
              "      for await (const message of channel.messages) {\n",
              "        // Send a message to notify the kernel that we're ready.\n",
              "        channel.send({})\n",
              "        if (message.buffers) {\n",
              "          for (const buffer of message.buffers) {\n",
              "            buffers.push(buffer);\n",
              "            downloaded += buffer.byteLength;\n",
              "            progress.value = downloaded;\n",
              "          }\n",
              "        }\n",
              "      }\n",
              "      const blob = new Blob(buffers, {type: 'application/binary'});\n",
              "      const a = document.createElement('a');\n",
              "      a.href = window.URL.createObjectURL(blob);\n",
              "      a.download = filename;\n",
              "      div.appendChild(a);\n",
              "      a.click();\n",
              "      div.remove();\n",
              "    }\n",
              "  "
            ],
            "text/plain": [
              "<IPython.core.display.Javascript object>"
            ]
          },
          "metadata": {
            "tags": []
          }
        },
        {
          "output_type": "display_data",
          "data": {
            "application/javascript": [
              "download(\"download_ce695359-636a-4f4f-ab81-0d0979d57e4d\", \"experiments_taxation.log\", 563)"
            ],
            "text/plain": [
              "<IPython.core.display.Javascript object>"
            ]
          },
          "metadata": {
            "tags": []
          }
        },
        {
          "output_type": "stream",
          "text": [
            "time: 15.1 ms (started: 2021-07-16 14:56:14 +00:00)\n"
          ],
          "name": "stdout"
        }
      ]
    },
    {
      "cell_type": "markdown",
      "metadata": {
        "id": "teW_bhJLJuus"
      },
      "source": [
        "## Topic-sensitive pagerank"
      ]
    },
    {
      "cell_type": "code",
      "metadata": {
        "id": "M9iOzVuHJ6AB",
        "colab": {
          "base_uri": "https://localhost:8080/"
        },
        "outputId": "2a99e014-c392-42ed-a711-10b80ef7b3c4"
      },
      "source": [
        "n = 5\n",
        "\n",
        "logger_topic_pagerank = setup_logger('experiments_topic_pagerank', 'experiments_topic_pagerank.log')\n",
        "\n",
        "for iter in range(n):\n",
        "  logger_topic_pagerank.info('This experiment implements Topic-Sensitive PageRank')\n",
        "\n",
        "  s_rates = [0.00001, 0.0001, 0.001, 0.01, 0.1]\n",
        "  time_topic = np.zeros(len(s_rates))\n",
        "\n",
        "  for i in range(len(s_rates)):\n",
        "    df_sample = preprocess_dataset(df_title_basics_copy, df_principals_copy, df_name_basics_copy, df_ratings_copy, sampling_rate = s_rates[i])\n",
        "    actors_enum = get_actors(df_sample)\n",
        "    genres = get_genres(df_title_basics_copy)\n",
        "  \n",
        "    movies_dict, actors_dict = create_dicts(df_sample, actors_enum)\n",
        "    genres_dict = create_genres_dict(df_sample, genres)\n",
        "    links = get_links(actors_enum, movies_dict, actors_dict)\n",
        "\n",
        "    tic = time.time()\n",
        "    get_topic_page_rank(actors_enum, links, actors_dict, ['Western', 'Fantasy', 'Horror'], genres_dict, logger_topic_pagerank, max_iterations = 150)\n",
        "    toc = time.time()\n",
        "    time_topic[i] = toc-tic\n",
        "    logger_topic_pagerank.info(f'Sampling: {s_rates[i]}, Time: {time_topic[i]}')\n",
        "    print(time_topic[i]) "
      ],
      "execution_count": null,
      "outputs": [
        {
          "output_type": "stream",
          "text": [
            "Sample size: 34\n",
            "150 iterations\n",
            "41.778738021850586\n",
            "Sample size: 340\n",
            "150 iterations\n",
            "36.48508310317993\n",
            "Sample size: 3404\n",
            "150 iterations\n",
            "58.38608455657959\n",
            "Sample size: 34044\n",
            "150 iterations\n",
            "228.97546768188477\n",
            "Sample size: 340443\n",
            "150 iterations\n",
            "1421.1763916015625\n",
            "time: 37min 9s (started: 2021-07-16 14:56:14 +00:00)\n"
          ],
          "name": "stdout"
        }
      ]
    },
    {
      "cell_type": "code",
      "metadata": {
        "id": "av6LwFp1UNnu",
        "colab": {
          "base_uri": "https://localhost:8080/"
        },
        "outputId": "bf131cef-ba46-404b-cea8-24841ea54d37"
      },
      "source": [
        "files.download('experiments_topic_pagerank.log')\n",
        "file = open('experiments_topic_pagerank.log', 'r')\n",
        "experiments_topic_pagerank = file.read().splitlines()\n",
        "file.close()"
      ],
      "execution_count": null,
      "outputs": [
        {
          "output_type": "display_data",
          "data": {
            "application/javascript": [
              "\n",
              "    async function download(id, filename, size) {\n",
              "      if (!google.colab.kernel.accessAllowed) {\n",
              "        return;\n",
              "      }\n",
              "      const div = document.createElement('div');\n",
              "      const label = document.createElement('label');\n",
              "      label.textContent = `Downloading \"${filename}\": `;\n",
              "      div.appendChild(label);\n",
              "      const progress = document.createElement('progress');\n",
              "      progress.max = size;\n",
              "      div.appendChild(progress);\n",
              "      document.body.appendChild(div);\n",
              "\n",
              "      const buffers = [];\n",
              "      let downloaded = 0;\n",
              "\n",
              "      const channel = await google.colab.kernel.comms.open(id);\n",
              "      // Send a message to notify the kernel that we're ready.\n",
              "      channel.send({})\n",
              "\n",
              "      for await (const message of channel.messages) {\n",
              "        // Send a message to notify the kernel that we're ready.\n",
              "        channel.send({})\n",
              "        if (message.buffers) {\n",
              "          for (const buffer of message.buffers) {\n",
              "            buffers.push(buffer);\n",
              "            downloaded += buffer.byteLength;\n",
              "            progress.value = downloaded;\n",
              "          }\n",
              "        }\n",
              "      }\n",
              "      const blob = new Blob(buffers, {type: 'application/binary'});\n",
              "      const a = document.createElement('a');\n",
              "      a.href = window.URL.createObjectURL(blob);\n",
              "      a.download = filename;\n",
              "      div.appendChild(a);\n",
              "      a.click();\n",
              "      div.remove();\n",
              "    }\n",
              "  "
            ],
            "text/plain": [
              "<IPython.core.display.Javascript object>"
            ]
          },
          "metadata": {
            "tags": []
          }
        },
        {
          "output_type": "display_data",
          "data": {
            "application/javascript": [
              "download(\"download_2182f908-f027-4309-8fd4-9f7c09befece\", \"experiments_topic_pagerank.log\", 569)"
            ],
            "text/plain": [
              "<IPython.core.display.Javascript object>"
            ]
          },
          "metadata": {
            "tags": []
          }
        },
        {
          "output_type": "stream",
          "text": [
            "time: 15.2 ms (started: 2021-07-16 15:33:23 +00:00)\n"
          ],
          "name": "stdout"
        }
      ]
    },
    {
      "cell_type": "markdown",
      "metadata": {
        "id": "5EREjDvjJ6nq"
      },
      "source": [
        "##Trust-rank variant "
      ]
    },
    {
      "cell_type": "code",
      "metadata": {
        "id": "-oO6GiFMKDtA",
        "colab": {
          "base_uri": "https://localhost:8080/"
        },
        "outputId": "4043a20f-6c37-48b3-fa6d-899a51c15f0e"
      },
      "source": [
        "n = 5\n",
        "\n",
        "logger_trust_rank = setup_logger('experiments_trust_rank', 'experiments_trust_rank.log')\n",
        "\n",
        "for iter in range(n):\n",
        "  logger_trust_rank.info('This experiment implements TrustRank variant with numbers of movies')\n",
        "\n",
        "  s_rates = [0.00001, 0.0001, 0.001, 0.01, 0.1]\n",
        "  time_trust =  np.zeros(len(s_rates))\n",
        "\n",
        "  for i in range(len(s_rates)):\n",
        "    df_sample = preprocess_dataset(df_title_basics_copy, df_principals_copy, df_name_basics_copy, df_ratings_copy, sampling_rate = s_rates[i])\n",
        "    actors_enum = get_actors(df_sample)\n",
        "  \n",
        "    movies_dict, actors_dict = create_dicts(df_sample, actors_enum)\n",
        "    links = get_links(actors_enum, movies_dict, actors_dict)\n",
        "\n",
        "    tic = time.time()\n",
        "    get_spam_mass(actors_enum, links, actors_dict, logger_trust_rank, max_iterations = 150)\n",
        "    toc = time.time()\n",
        "    time_trust[i] = toc-tic\n",
        "    logger_trust_rank.info(f'Sampling: {s_rates[i]}, Time: {time_trust[i]}')\n",
        "    print(time_trust[i])"
      ],
      "execution_count": null,
      "outputs": [
        {
          "output_type": "stream",
          "text": [
            "Sample size: 34\n",
            "1 iterations\n",
            "1 iterations\n",
            "0.5374817848205566\n",
            "Sample size: 340\n",
            "1 iterations\n",
            "1 iterations\n",
            "0.4767024517059326\n",
            "Sample size: 3404\n",
            "2 iterations\n",
            "150 iterations\n",
            "61.05098295211792\n",
            "Sample size: 34044\n",
            "19 iterations\n",
            "150 iterations\n",
            "272.870867729187\n",
            "Sample size: 340443\n",
            "150 iterations\n",
            "150 iterations\n",
            "2897.5121533870697\n",
            "time: 58min 40s (started: 2021-07-16 15:33:23 +00:00)\n"
          ],
          "name": "stdout"
        }
      ]
    },
    {
      "cell_type": "code",
      "metadata": {
        "id": "buxABv5eUS1q",
        "colab": {
          "base_uri": "https://localhost:8080/"
        },
        "outputId": "b8222e97-667e-4296-8a77-60701bec7665"
      },
      "source": [
        "files.download('experiments_trust_rank.log')\n",
        "file = open('experiments_trust_rank.log', 'r')\n",
        "experiments_trust_rank = file.read().splitlines()\n",
        "file.close()"
      ],
      "execution_count": null,
      "outputs": [
        {
          "output_type": "display_data",
          "data": {
            "application/javascript": [
              "\n",
              "    async function download(id, filename, size) {\n",
              "      if (!google.colab.kernel.accessAllowed) {\n",
              "        return;\n",
              "      }\n",
              "      const div = document.createElement('div');\n",
              "      const label = document.createElement('label');\n",
              "      label.textContent = `Downloading \"${filename}\": `;\n",
              "      div.appendChild(label);\n",
              "      const progress = document.createElement('progress');\n",
              "      progress.max = size;\n",
              "      div.appendChild(progress);\n",
              "      document.body.appendChild(div);\n",
              "\n",
              "      const buffers = [];\n",
              "      let downloaded = 0;\n",
              "\n",
              "      const channel = await google.colab.kernel.comms.open(id);\n",
              "      // Send a message to notify the kernel that we're ready.\n",
              "      channel.send({})\n",
              "\n",
              "      for await (const message of channel.messages) {\n",
              "        // Send a message to notify the kernel that we're ready.\n",
              "        channel.send({})\n",
              "        if (message.buffers) {\n",
              "          for (const buffer of message.buffers) {\n",
              "            buffers.push(buffer);\n",
              "            downloaded += buffer.byteLength;\n",
              "            progress.value = downloaded;\n",
              "          }\n",
              "        }\n",
              "      }\n",
              "      const blob = new Blob(buffers, {type: 'application/binary'});\n",
              "      const a = document.createElement('a');\n",
              "      a.href = window.URL.createObjectURL(blob);\n",
              "      a.download = filename;\n",
              "      div.appendChild(a);\n",
              "      a.click();\n",
              "      div.remove();\n",
              "    }\n",
              "  "
            ],
            "text/plain": [
              "<IPython.core.display.Javascript object>"
            ]
          },
          "metadata": {
            "tags": []
          }
        },
        {
          "output_type": "display_data",
          "data": {
            "application/javascript": [
              "download(\"download_49097a67-bd7b-430f-9734-c3e005191689\", \"experiments_trust_rank.log\", 758)"
            ],
            "text/plain": [
              "<IPython.core.display.Javascript object>"
            ]
          },
          "metadata": {
            "tags": []
          }
        },
        {
          "output_type": "stream",
          "text": [
            "time: 11.6 ms (started: 2021-07-16 16:32:04 +00:00)\n"
          ],
          "name": "stdout"
        }
      ]
    },
    {
      "cell_type": "code",
      "metadata": {
        "id": "5R5bsx7SCwHb",
        "colab": {
          "base_uri": "https://localhost:8080/"
        },
        "outputId": "26161398-da9e-4b4c-c93a-7b19428de8a2"
      },
      "source": [
        "n = 5\n",
        "\n",
        "logger_trust_rank_2 = setup_logger('experiments_trust_rank_2', 'experiments_trust_rank_2'.log')\n",
        "\n",
        "for iter in range(n):\n",
        "  logger_trust_rank_2.info('This experiment implements TrustRank variant with ratings')\n",
        "\n",
        "  s_rates = [0.00001, 0.0001, 0.001, 0.01, 0.1]\n",
        "  time_trust =  np.zeros(len(s_rates))\n",
        "\n",
        "  for i in range(len(s_rates)):\n",
        "    df_sample = preprocess_dataset(df_title_basics_copy, df_principals_copy, df_name_basics_copy, df_ratings_copy, sampling_rate = s_rates[i])\n",
        "    actors_enum = get_actors(df_sample)\n",
        "  \n",
        "    movies_dict, actors_dict = create_dicts(df_sample, actors_enum)\n",
        "    avg_ratings = create_ratings_dict(df_sample, actors_enum, actors_dict)\n",
        "    links = get_links(actors_enum, movies_dict, actors_dict)\n",
        "\n",
        "    tic = time.time()\n",
        "    get_spam_mass_ratings(actors_enum, links, actors_dict, avg_ratings, logger_trust_rank_2, max_iterations = 150)\n",
        "    toc = time.time()\n",
        "    time_trust[i] = toc-tic\n",
        "    logger_trust_rank_2.info(f'Sampling: {s_rates[i]}, Time: {time_trust[i]}')\n",
        "    print(time_trust[i])"
      ],
      "execution_count": null,
      "outputs": [
        {
          "output_type": "stream",
          "text": [
            "Sample size: 34\n",
            "1 iterations\n",
            "150 iterations\n",
            "33.35688352584839\n",
            "Sample size: 340\n",
            "1 iterations\n",
            "150 iterations\n",
            "35.787102699279785\n",
            "Sample size: 3404\n",
            "1 iterations\n",
            "150 iterations\n",
            "60.60299468040466\n",
            "Sample size: 34044\n",
            "67 iterations\n",
            "150 iterations\n",
            "348.9218249320984\n",
            "Sample size: 340443\n",
            "150 iterations\n",
            "150 iterations\n",
            "2905.7422235012054\n",
            "time: 1h 1min 30s (started: 2021-07-16 16:32:04 +00:00)\n"
          ],
          "name": "stdout"
        }
      ]
    },
    {
      "cell_type": "code",
      "metadata": {
        "id": "i0UOc-M0UWNf",
        "colab": {
          "base_uri": "https://localhost:8080/",
          "height": 35
        },
        "outputId": "bdec067d-f63f-45c5-9488-5db13ebd9061"
      },
      "source": [
        "files.download('experiments_trust_rank_2.log')\n",
        "file = open('experiments_trust_rank_2.log', 'r')\n",
        "experiments_trust_rank_2 = file.read().splitlines()\n",
        "file.close()"
      ],
      "execution_count": null,
      "outputs": [
        {
          "output_type": "display_data",
          "data": {
            "application/javascript": [
              "\n",
              "    async function download(id, filename, size) {\n",
              "      if (!google.colab.kernel.accessAllowed) {\n",
              "        return;\n",
              "      }\n",
              "      const div = document.createElement('div');\n",
              "      const label = document.createElement('label');\n",
              "      label.textContent = `Downloading \"${filename}\": `;\n",
              "      div.appendChild(label);\n",
              "      const progress = document.createElement('progress');\n",
              "      progress.max = size;\n",
              "      div.appendChild(progress);\n",
              "      document.body.appendChild(div);\n",
              "\n",
              "      const buffers = [];\n",
              "      let downloaded = 0;\n",
              "\n",
              "      const channel = await google.colab.kernel.comms.open(id);\n",
              "      // Send a message to notify the kernel that we're ready.\n",
              "      channel.send({})\n",
              "\n",
              "      for await (const message of channel.messages) {\n",
              "        // Send a message to notify the kernel that we're ready.\n",
              "        channel.send({})\n",
              "        if (message.buffers) {\n",
              "          for (const buffer of message.buffers) {\n",
              "            buffers.push(buffer);\n",
              "            downloaded += buffer.byteLength;\n",
              "            progress.value = downloaded;\n",
              "          }\n",
              "        }\n",
              "      }\n",
              "      const blob = new Blob(buffers, {type: 'application/binary'});\n",
              "      const a = document.createElement('a');\n",
              "      a.href = window.URL.createObjectURL(blob);\n",
              "      a.download = filename;\n",
              "      div.appendChild(a);\n",
              "      a.click();\n",
              "      div.remove();\n",
              "    }\n",
              "  "
            ],
            "text/plain": [
              "<IPython.core.display.Javascript object>"
            ]
          },
          "metadata": {
            "tags": []
          }
        },
        {
          "output_type": "display_data",
          "data": {
            "application/javascript": [
              "download(\"download_d4e55a9b-3060-4741-96e2-c40d76ac9d0a\", \"experiments_trust_rank_2.log\", 389)"
            ],
            "text/plain": [
              "<IPython.core.display.Javascript object>"
            ]
          },
          "metadata": {
            "tags": []
          }
        },
        {
          "output_type": "stream",
          "text": [
            "time: 13.1 ms (started: 2021-07-16 17:55:33 +00:00)\n"
          ],
          "name": "stdout"
        }
      ]
    },
    {
      "cell_type": "markdown",
      "metadata": {
        "id": "iJiGESBdUhSn"
      },
      "source": [
        "# Results "
      ]
    },
    {
      "cell_type": "code",
      "metadata": {
        "id": "uaWyI4HBSRpV",
        "colab": {
          "base_uri": "https://localhost:8080/"
        },
        "outputId": "d2637ff7-19fc-4c9a-dbf6-a30e2c42e278"
      },
      "source": [
        "files = ['experiments_pagerank.log', 'experiments_taxation.log', 'experiments_topic_pagerank.log',\n",
        "         'experiments_trust_rank.log', 'experiments_trust_rank_2.log']\n",
        "M = []\n",
        "\n",
        "for f in files: \n",
        "  file = open(f, 'r')\n",
        "  lines = file.read().splitlines()\n",
        "  file.close()\n",
        "  \n",
        "  x = []\n",
        "\n",
        "  for i in lines: \n",
        "    pos = i.find(\"Time: \")\n",
        "    if pos != -1: \n",
        "      x.append(float(i[pos + len(\"Time: \"):]))\n",
        "  M.append(x)\n",
        "\n",
        "mean = [[0 for x in range(n)] for y in range(len(files))] \n",
        "\n",
        "for i in range(len(files)):\n",
        "  for j in range(len(M[i])):  \n",
        "    mean[i][j%n] += M[i][j]\n",
        "\n",
        "mean = np.array(mean)\n",
        "print(mean)\n",
        "for i in range(len(files)): \n",
        "  mean[i] = mean [i] / n \n",
        "\n",
        "print(f'Time mean: \\n {mean}')  "
      ],
      "execution_count": null,
      "outputs": [
        {
          "output_type": "stream",
          "text": [
            "[[5.87679362e+00 1.72592854e+00 2.71197486e+00 6.90478453e+02\n",
            "  7.36327846e+03]\n",
            " [4.15929413e+00 1.62421370e+00 2.21398211e+00 2.64899388e+02\n",
            "  6.81985996e+03]\n",
            " [2.19534711e+02 1.96238854e+02 3.00257056e+02 1.17651176e+03\n",
            "  7.38011095e+03]\n",
            " [1.06206720e+01 1.64101323e+02 3.21964872e+02 1.58148103e+03\n",
            "  1.49443037e+04]\n",
            " [1.95041986e+02 1.84438994e+02 3.02105934e+02 1.47593964e+03\n",
            "  1.52714151e+04]]\n",
            "Time mean: \n",
            " [[1.17535872e+00 3.45185709e-01 5.42394972e-01 1.38095691e+02\n",
            "  1.47265569e+03]\n",
            " [8.31858826e-01 3.24842739e-01 4.42796421e-01 5.29798777e+01\n",
            "  1.36397199e+03]\n",
            " [4.39069422e+01 3.92477707e+01 6.00514112e+01 2.35302352e+02\n",
            "  1.47602219e+03]\n",
            " [2.12413440e+00 3.28202645e+01 6.43929744e+01 3.16296207e+02\n",
            "  2.98886073e+03]\n",
            " [3.90083972e+01 3.68877988e+01 6.04211869e+01 2.95187928e+02\n",
            "  3.05428301e+03]]\n",
            "time: 25.5 ms (started: 2021-07-16 18:04:52 +00:00)\n"
          ],
          "name": "stdout"
        }
      ]
    },
    {
      "cell_type": "code",
      "metadata": {
        "id": "okbj1oTYSbAw",
        "colab": {
          "base_uri": "https://localhost:8080/",
          "height": 352
        },
        "outputId": "41b4261f-4e44-4f35-d65d-8f731a891307"
      },
      "source": [
        "plt.figure(figsize=[10, 5])\n",
        "s_rate = ['0.00001', '0.0001', '0.001', '0.01', '0.1']\n",
        "\n",
        "X = np.arange(len(s_rate))\n",
        "plt.bar(X, mean[0], color = 'r', edgecolor = 'black', width = 0.13)\n",
        "plt.bar(X + 0.15, mean[1], color = 'g', edgecolor = 'black', width = 0.13)\n",
        "plt.bar(X + 2 * 0.15, mean[2], color = 'b', edgecolor = 'black', width = 0.13)\n",
        "plt.bar(X + 3 * 0.15, mean[3], color = 'yellow',edgecolor = 'black', width = 0.13)\n",
        "plt.bar(X + 4 * 0.15, mean[4], color = 'purple', edgecolor = 'black', width = 0.13)\n",
        "\n",
        "plt.xticks([i + 0.35 for i in range(n)], s_rate)\n",
        "plt.yscale('log')\n",
        "\n",
        "plt.ylabel('Time (s)')\n",
        "plt.xlabel('Sampling Rate')\n",
        "\n",
        "plt.legend(['PageRank', 'PageRank with Taxation','Topic Sensitive', 'TrustRank', 'TrustRank2'])\n",
        "plt.savefig('time_algorithms.png')\n",
        "plt.show()"
      ],
      "execution_count": null,
      "outputs": [
        {
          "output_type": "display_data",
          "data": {
            "image/png": "[encoded data removed]",
            "text/plain": [
              "<Figure size 720x360 with 1 Axes>"
            ]
          },
          "metadata": {
            "tags": [],
            "needs_background": "light"
          }
        },
        {
          "output_type": "stream",
          "text": [
            "time: 686 ms (started: 2021-07-16 18:04:59 +00:00)\n"
          ],
          "name": "stdout"
        }
      ]
    },
    {
      "cell_type": "code",
      "metadata": {
        "id": "F-bDJj-KSdcN",
        "colab": {
          "base_uri": "https://localhost:8080/"
        },
        "outputId": "7960156d-c456-47fd-b197-fe63be447257"
      },
      "source": [
        "files = ['experiments_pagerank.log', 'experiments_taxation.log', 'experiments_topic_pagerank.log']\n",
        "M = []\n",
        "\n",
        "for f in files: \n",
        "  file = open(f, 'r')\n",
        "  lines = file.read().splitlines()\n",
        "  file.close()\n",
        "  \n",
        "  x = []\n",
        "\n",
        "  for i in lines: \n",
        "    pos = i.find(\"Iterations: \")\n",
        "    if pos != -1: \n",
        "      x.append(float(i[pos + len(\"Iterations: \"):]))\n",
        "  M.append(x)\n",
        "\n",
        "mean = [[0 for x in range(n)] for y in range(len(files))] \n",
        "\n",
        "for i in range(len(files)):\n",
        "  for j in range(len(M[i])):  \n",
        "    mean[i][j%n] += M[i][j]\n",
        "    \n",
        "\n",
        "mean = np.array(mean)\n",
        "\n",
        "for i in range(len(files)):\n",
        "  mean[i] = mean [i] / n \n",
        "\n",
        "print(f'Mean iterations: \\n {mean}')\n"
      ],
      "execution_count": null,
      "outputs": [
        {
          "output_type": "stream",
          "text": [
            "Mean iterations: \n",
            " [[  1.    1.    1.   86.2 150. ]\n",
            " [  1.    1.    1.   35.4 150. ]\n",
            " [150.  150.  150.  150.  150. ]]\n",
            "time: 18.5 ms (started: 2021-07-16 18:05:03 +00:00)\n"
          ],
          "name": "stdout"
        }
      ]
    },
    {
      "cell_type": "code",
      "metadata": {
        "id": "0JDKS7AVinfM",
        "colab": {
          "base_uri": "https://localhost:8080/",
          "height": 352
        },
        "outputId": "8302d261-61d6-4204-ba95-bd294bd62bb5"
      },
      "source": [
        "plt.figure(figsize=[10, 5])\n",
        "s_rate = ['0.00001', '0.0001', '0.001', '0.01', '0.1']\n",
        "\n",
        "X = np.arange(len(s_rate))\n",
        "plt.bar(X, mean[0], color = 'r', edgecolor = 'black', width = 0.18)\n",
        "plt.bar(X + 0.20, mean[1], color = 'g', edgecolor = 'black', width = 0.18)\n",
        "plt.bar(X + 2 * 0.20, mean[2], color = 'b', edgecolor = 'black', width = 0.18)\n",
        "\n",
        "plt.xticks([i + 0.20 for i in range(n)], s_rate)\n",
        "plt.yscale('log')\n",
        "\n",
        "plt.ylabel('Iterations')\n",
        "plt.xlabel('Sampling Rate')\n",
        "\n",
        "plt.legend(['PageRank', 'PageRank with Taxation','Topic Sensitive'])\n",
        "plt.savefig('iter_algorithms3.png')\n",
        "plt.show()"
      ],
      "execution_count": null,
      "outputs": [
        {
          "output_type": "display_data",
          "data": {
            "image/png": "[encoded data removed]",
            "text/plain": [
              "<Figure size 720x360 with 1 Axes>"
            ]
          },
          "metadata": {
            "tags": [],
            "needs_background": "light"
          }
        },
        {
          "output_type": "stream",
          "text": [
            "time: 572 ms (started: 2021-07-16 18:03:35 +00:00)\n"
          ],
          "name": "stdout"
        }
      ]
    },
    {
      "cell_type": "code",
      "metadata": {
        "id": "C_mskDLs3Yaj",
        "colab": {
          "base_uri": "https://localhost:8080/"
        },
        "outputId": "826985f6-3a9a-4ea4-cca2-2e384c8d620f"
      },
      "source": [
        "file = open('experiments_trust_rank.log', 'r')\n",
        "lines = file.read().splitlines()\n",
        "file.close()\n",
        "  \n",
        "x = []\n",
        "for i in lines: \n",
        "  pos = i.find(\"Iterations: \")\n",
        "  if pos != -1: \n",
        "    x.append(float(i[pos + len(\"Iterations: \"):]))\n",
        "\n",
        "mean_pr = np.zeros(n)\n",
        "mean_topic = np.zeros(n)\n",
        "\n",
        "j = 0\n",
        "k = 0\n",
        "\n",
        "for i in range(len(x)):\n",
        "  if i%2 == 0:   \n",
        "    mean_pr[j%n] += x[i]\n",
        "    j+=1\n",
        "    \n",
        "  else: \n",
        "    mean_topic[k%n] += x[i] \n",
        "    k +=1\n",
        "\n",
        "mean_pr /= n\n",
        "mean_topic /= n\n",
        "print(f'Mean iterations 1st-TrustRank using PageRank: {mean_pr}')\n",
        "print(f'Mean iterations 1st-TrustRank using Topic Sensitive: {mean_topic}')\n"
      ],
      "execution_count": null,
      "outputs": [
        {
          "output_type": "stream",
          "text": [
            "Mean iterations 1st-TrustRank using PageRank: [  1.    1.    1.   43.8 150. ]\n",
            "Mean iterations 1st-TrustRank using Topic Sensitive: [  1.  120.2 150.  150.  150. ]\n",
            "time: 15.4 ms (started: 2021-07-16 18:05:11 +00:00)\n"
          ],
          "name": "stdout"
        }
      ]
    },
    {
      "cell_type": "code",
      "metadata": {
        "id": "y2f34Q96l_S0",
        "colab": {
          "base_uri": "https://localhost:8080/",
          "height": 352
        },
        "outputId": "5dd56de1-101a-4ec5-b7de-2cfed6ea5d1e"
      },
      "source": [
        "plt.figure(figsize=[10, 5])\n",
        "s_rate = ['0.00001', '0.0001', '0.001', '0.01', '0.1']\n",
        "\n",
        "X = np.arange(len(s_rate))\n",
        "plt.bar(X, mean_pr, color = 'yellow', edgecolor = 'black', width = 0.25)\n",
        "plt.bar(X + 0.22, mean_topic, color = 'purple', edgecolor = 'black', width = 0.25)\n",
        "\n",
        "plt.xticks([i + 0.10 for i in range(n)], s_rate)\n",
        "plt.yscale('log')\n",
        "\n",
        "plt.ylabel('Iterations')\n",
        "plt.xlabel('Sampling Rate')\n",
        "\n",
        "plt.legend(['TrustRank1 - PageRank', 'TrustRank1 - Topic Sensitive'])\n",
        "plt.savefig('iter_algorithms_tr1.png')\n",
        "plt.show()"
      ],
      "execution_count": null,
      "outputs": [
        {
          "output_type": "display_data",
          "data": {
            "image/png": "[encoded data removed]",
            "text/plain": [
              "<Figure size 720x360 with 1 Axes>"
            ]
          },
          "metadata": {
            "tags": [],
            "needs_background": "light"
          }
        },
        {
          "output_type": "stream",
          "text": [
            "time: 527 ms (started: 2021-07-16 18:05:15 +00:00)\n"
          ],
          "name": "stdout"
        }
      ]
    },
    {
      "cell_type": "code",
      "metadata": {
        "id": "lhAmg1ttm8W3",
        "colab": {
          "base_uri": "https://localhost:8080/"
        },
        "outputId": "3acac405-a54b-4653-fe8f-1d7fc2b1109d"
      },
      "source": [
        "file = open('experiments_trust_rank_2.log', 'r')\n",
        "lines = file.read().splitlines()\n",
        "file.close()\n",
        "  \n",
        "x = []\n",
        "\n",
        "for i in lines: \n",
        "  pos = i.find(\"Iterations: \")\n",
        "  if pos != -1: \n",
        "    x.append(float(i[pos + len(\"Iterations: \"):]))\n",
        "\n",
        "mean_pr = np.zeros(n)\n",
        "mean_topic = np.zeros(n)\n",
        "\n",
        "j = 0\n",
        "k = 0\n",
        "\n",
        "for i in range(len(x)):\n",
        "  if i%2 == 0:   \n",
        "    mean_pr[j%n] += x[i]\n",
        "    j+=1\n",
        "    \n",
        "  else: \n",
        "    mean_topic[k%n] += x[i] \n",
        "    k +=1\n",
        "\n",
        "mean_pr /= n\n",
        "mean_topic /= n\n",
        "print(f'Mean iterations 2nd-TrustRank using PageRank: {mean_pr}')\n",
        "print(f'Mean iterations 2dn-TrustRank using Topic Sensitive: {mean_topic}')"
      ],
      "execution_count": null,
      "outputs": [
        {
          "output_type": "stream",
          "text": [
            "Mean iterations 2nd-TrustRank using PageRank: [  1.    1.    1.   36.8 150. ]\n",
            "Mean iterations 2dn-TrustRank using Topic Sensitive: [150. 150. 150. 150. 150.]\n",
            "time: 18.6 ms (started: 2021-07-16 18:05:43 +00:00)\n"
          ],
          "name": "stdout"
        }
      ]
    },
    {
      "cell_type": "code",
      "metadata": {
        "id": "Lb6S3UsAnVTJ",
        "colab": {
          "base_uri": "https://localhost:8080/",
          "height": 352
        },
        "outputId": "81ba75d6-4497-4ada-b213-9d57f0057249"
      },
      "source": [
        "plt.figure(figsize=[10, 5])\n",
        "s_rate = ['0.00001', '0.0001', '0.001', '0.01', '0.1']\n",
        "\n",
        "X = np.arange(len(s_rate))\n",
        "plt.bar(X, mean_pr, color = 'b', edgecolor = 'black', width = 0.25)\n",
        "plt.bar(X + 0.22, mean_topic, color = 'orange', edgecolor = 'black', width = 0.25)\n",
        "\n",
        "plt.xticks([i + 0.10 for i in range(n)], s_rate)\n",
        "plt.yscale('log')\n",
        "\n",
        "plt.ylabel('Iterations')\n",
        "plt.xlabel('Sampling Rate')\n",
        "\n",
        "plt.legend(['TrustRank2 - PageRank', 'TrustRank2 - Topic Sensitive'])\n",
        "plt.savefig('iter_algorithms_tr2.png')\n",
        "plt.show()"
      ],
      "execution_count": null,
      "outputs": [
        {
          "output_type": "display_data",
          "data": {
            "image/png": "[encoded data removed]",
            "text/plain": [
              "<Figure size 720x360 with 1 Axes>"
            ]
          },
          "metadata": {
            "tags": [],
            "needs_background": "light"
          }
        },
        {
          "output_type": "stream",
          "text": [
            "time: 536 ms (started: 2021-07-16 18:05:46 +00:00)\n"
          ],
          "name": "stdout"
        }
      ]
    }
  ]
}